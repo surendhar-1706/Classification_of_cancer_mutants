{
 "cells": [
  {
   "cell_type": "code",
   "execution_count": 1,
   "metadata": {},
   "outputs": [],
   "source": [
    "import pandas as pd"
   ]
  },
  {
   "cell_type": "code",
   "execution_count": 2,
   "metadata": {},
   "outputs": [],
   "source": [
    "import numpy as np"
   ]
  },
  {
   "cell_type": "code",
   "execution_count": 3,
   "metadata": {},
   "outputs": [],
   "source": [
    "import seaborn as sns"
   ]
  },
  {
   "cell_type": "code",
   "execution_count": 4,
   "metadata": {},
   "outputs": [],
   "source": [
    "import seaborn as sns"
   ]
  },
  {
   "cell_type": "code",
   "execution_count": 5,
   "metadata": {},
   "outputs": [],
   "source": [
    "sns.set()"
   ]
  },
  {
   "cell_type": "code",
   "execution_count": 6,
   "metadata": {},
   "outputs": [],
   "source": [
    "import matplotlib.pyplot as plt\n"
   ]
  },
  {
   "cell_type": "code",
   "execution_count": 7,
   "metadata": {},
   "outputs": [],
   "source": [
    "import os"
   ]
  },
  {
   "cell_type": "code",
   "execution_count": 8,
   "metadata": {},
   "outputs": [
    {
     "name": "stderr",
     "output_type": "stream",
     "text": [
      "Using TensorFlow backend.\n",
      "c:\\users\\shyla\\appdata\\local\\programs\\python\\python37\\lib\\site-packages\\tensorflow\\python\\framework\\dtypes.py:516: FutureWarning: Passing (type, 1) or '1type' as a synonym of type is deprecated; in a future version of numpy, it will be understood as (type, (1,)) / '(1,)type'.\n",
      "  _np_qint8 = np.dtype([(\"qint8\", np.int8, 1)])\n",
      "c:\\users\\shyla\\appdata\\local\\programs\\python\\python37\\lib\\site-packages\\tensorflow\\python\\framework\\dtypes.py:517: FutureWarning: Passing (type, 1) or '1type' as a synonym of type is deprecated; in a future version of numpy, it will be understood as (type, (1,)) / '(1,)type'.\n",
      "  _np_quint8 = np.dtype([(\"quint8\", np.uint8, 1)])\n",
      "c:\\users\\shyla\\appdata\\local\\programs\\python\\python37\\lib\\site-packages\\tensorflow\\python\\framework\\dtypes.py:518: FutureWarning: Passing (type, 1) or '1type' as a synonym of type is deprecated; in a future version of numpy, it will be understood as (type, (1,)) / '(1,)type'.\n",
      "  _np_qint16 = np.dtype([(\"qint16\", np.int16, 1)])\n",
      "c:\\users\\shyla\\appdata\\local\\programs\\python\\python37\\lib\\site-packages\\tensorflow\\python\\framework\\dtypes.py:519: FutureWarning: Passing (type, 1) or '1type' as a synonym of type is deprecated; in a future version of numpy, it will be understood as (type, (1,)) / '(1,)type'.\n",
      "  _np_quint16 = np.dtype([(\"quint16\", np.uint16, 1)])\n",
      "c:\\users\\shyla\\appdata\\local\\programs\\python\\python37\\lib\\site-packages\\tensorflow\\python\\framework\\dtypes.py:520: FutureWarning: Passing (type, 1) or '1type' as a synonym of type is deprecated; in a future version of numpy, it will be understood as (type, (1,)) / '(1,)type'.\n",
      "  _np_qint32 = np.dtype([(\"qint32\", np.int32, 1)])\n",
      "c:\\users\\shyla\\appdata\\local\\programs\\python\\python37\\lib\\site-packages\\tensorflow\\python\\framework\\dtypes.py:525: FutureWarning: Passing (type, 1) or '1type' as a synonym of type is deprecated; in a future version of numpy, it will be understood as (type, (1,)) / '(1,)type'.\n",
      "  np_resource = np.dtype([(\"resource\", np.ubyte, 1)])\n",
      "c:\\users\\shyla\\appdata\\local\\programs\\python\\python37\\lib\\site-packages\\tensorboard\\compat\\tensorflow_stub\\dtypes.py:541: FutureWarning: Passing (type, 1) or '1type' as a synonym of type is deprecated; in a future version of numpy, it will be understood as (type, (1,)) / '(1,)type'.\n",
      "  _np_qint8 = np.dtype([(\"qint8\", np.int8, 1)])\n",
      "c:\\users\\shyla\\appdata\\local\\programs\\python\\python37\\lib\\site-packages\\tensorboard\\compat\\tensorflow_stub\\dtypes.py:542: FutureWarning: Passing (type, 1) or '1type' as a synonym of type is deprecated; in a future version of numpy, it will be understood as (type, (1,)) / '(1,)type'.\n",
      "  _np_quint8 = np.dtype([(\"quint8\", np.uint8, 1)])\n",
      "c:\\users\\shyla\\appdata\\local\\programs\\python\\python37\\lib\\site-packages\\tensorboard\\compat\\tensorflow_stub\\dtypes.py:543: FutureWarning: Passing (type, 1) or '1type' as a synonym of type is deprecated; in a future version of numpy, it will be understood as (type, (1,)) / '(1,)type'.\n",
      "  _np_qint16 = np.dtype([(\"qint16\", np.int16, 1)])\n",
      "c:\\users\\shyla\\appdata\\local\\programs\\python\\python37\\lib\\site-packages\\tensorboard\\compat\\tensorflow_stub\\dtypes.py:544: FutureWarning: Passing (type, 1) or '1type' as a synonym of type is deprecated; in a future version of numpy, it will be understood as (type, (1,)) / '(1,)type'.\n",
      "  _np_quint16 = np.dtype([(\"quint16\", np.uint16, 1)])\n",
      "c:\\users\\shyla\\appdata\\local\\programs\\python\\python37\\lib\\site-packages\\tensorboard\\compat\\tensorflow_stub\\dtypes.py:545: FutureWarning: Passing (type, 1) or '1type' as a synonym of type is deprecated; in a future version of numpy, it will be understood as (type, (1,)) / '(1,)type'.\n",
      "  _np_qint32 = np.dtype([(\"qint32\", np.int32, 1)])\n",
      "c:\\users\\shyla\\appdata\\local\\programs\\python\\python37\\lib\\site-packages\\tensorboard\\compat\\tensorflow_stub\\dtypes.py:550: FutureWarning: Passing (type, 1) or '1type' as a synonym of type is deprecated; in a future version of numpy, it will be understood as (type, (1,)) / '(1,)type'.\n",
      "  np_resource = np.dtype([(\"resource\", np.ubyte, 1)])\n"
     ]
    }
   ],
   "source": [
    "from keras.preprocessing.text import Tokenizer\n",
    "from keras.preprocessing.sequence import pad_sequences\n",
    "from keras.models import Sequential\n",
    "from keras.layers import Dense\n",
    "from keras.utils.np_utils import to_categorical\n",
    "from keras.optimizers import Adam"
   ]
  },
  {
   "cell_type": "code",
   "execution_count": 9,
   "metadata": {},
   "outputs": [],
   "source": [
    "\n",
    "import warnings\n",
    "warnings.filterwarnings(\"ignore\")"
   ]
  },
  {
   "cell_type": "code",
   "execution_count": 10,
   "metadata": {},
   "outputs": [],
   "source": [
    "path= '/Users/shyla/Desktop/Dataset/'"
   ]
  },
  {
   "cell_type": "code",
   "execution_count": 11,
   "metadata": {},
   "outputs": [],
   "source": [
    "train_text =  pd.read_csv(path+'training_text', sep='\\|\\|', header=None, skiprows = 1, names=[\"ID\", \"Text\"])"
   ]
  },
  {
   "cell_type": "code",
   "execution_count": 12,
   "metadata": {},
   "outputs": [],
   "source": [
    "train_text =  pd.read_csv(path+'training_text', sep='\\|\\|', header=None, skiprows = 1, names=[\"ID\", \"Text\"])\n",
    "train_variants =  pd.read_csv(path+'training_variants')"
   ]
  },
  {
   "cell_type": "code",
   "execution_count": 13,
   "metadata": {},
   "outputs": [
    {
     "data": {
      "text/plain": [
       "(3321, 2)"
      ]
     },
     "execution_count": 13,
     "metadata": {},
     "output_type": "execute_result"
    }
   ],
   "source": [
    "train_text.shape"
   ]
  },
  {
   "cell_type": "code",
   "execution_count": 14,
   "metadata": {},
   "outputs": [
    {
     "data": {
      "text/plain": [
       "(3321, 4)"
      ]
     },
     "execution_count": 14,
     "metadata": {},
     "output_type": "execute_result"
    }
   ],
   "source": [
    "train_variants.shape"
   ]
  },
  {
   "cell_type": "code",
   "execution_count": 15,
   "metadata": {},
   "outputs": [],
   "source": [
    "#merging text with train datas\n",
    "train = pd.merge(train_variants,train_text, how='left',on='ID')\n",
    "#left join based on its id"
   ]
  },
  {
   "cell_type": "code",
   "execution_count": 16,
   "metadata": {},
   "outputs": [
    {
     "data": {
      "text/plain": [
       "ID           0\n",
       "Gene         0\n",
       "Variation    0\n",
       "Class        0\n",
       "Text         5\n",
       "dtype: int64"
      ]
     },
     "execution_count": 16,
     "metadata": {},
     "output_type": "execute_result"
    }
   ],
   "source": [
    "train.isnull().sum()\n",
    "#print sum of missing values"
   ]
  },
  {
   "cell_type": "code",
   "execution_count": 17,
   "metadata": {},
   "outputs": [
    {
     "data": {
      "text/plain": [
       "(3316, 5)"
      ]
     },
     "execution_count": 17,
     "metadata": {},
     "output_type": "execute_result"
    }
   ],
   "source": [
    "#remove missing values such as null in dataset and copies to dataframe train\n",
    "df_train = train.dropna(axis=0).copy()\n",
    "#array dimension \n",
    "df_train.shape"
   ]
  },
  {
   "cell_type": "code",
   "execution_count": 18,
   "metadata": {},
   "outputs": [
    {
     "data": {
      "text/html": [
       "<div>\n",
       "<style scoped>\n",
       "    .dataframe tbody tr th:only-of-type {\n",
       "        vertical-align: middle;\n",
       "    }\n",
       "\n",
       "    .dataframe tbody tr th {\n",
       "        vertical-align: top;\n",
       "    }\n",
       "\n",
       "    .dataframe thead th {\n",
       "        text-align: right;\n",
       "    }\n",
       "</style>\n",
       "<table border=\"1\" class=\"dataframe\">\n",
       "  <thead>\n",
       "    <tr style=\"text-align: right;\">\n",
       "      <th></th>\n",
       "      <th>ID</th>\n",
       "      <th>Gene</th>\n",
       "      <th>Variation</th>\n",
       "      <th>Class</th>\n",
       "      <th>Text</th>\n",
       "    </tr>\n",
       "  </thead>\n",
       "  <tbody>\n",
       "    <tr>\n",
       "      <th>0</th>\n",
       "      <td>0</td>\n",
       "      <td>FAM58A</td>\n",
       "      <td>Truncating Mutations</td>\n",
       "      <td>1</td>\n",
       "      <td>Cyclin-dependent kinases (CDKs) regulate a var...</td>\n",
       "    </tr>\n",
       "    <tr>\n",
       "      <th>1</th>\n",
       "      <td>1</td>\n",
       "      <td>CBL</td>\n",
       "      <td>W802*</td>\n",
       "      <td>2</td>\n",
       "      <td>Abstract Background  Non-small cell lung canc...</td>\n",
       "    </tr>\n",
       "    <tr>\n",
       "      <th>2</th>\n",
       "      <td>2</td>\n",
       "      <td>CBL</td>\n",
       "      <td>Q249E</td>\n",
       "      <td>2</td>\n",
       "      <td>Abstract Background  Non-small cell lung canc...</td>\n",
       "    </tr>\n",
       "    <tr>\n",
       "      <th>3</th>\n",
       "      <td>3</td>\n",
       "      <td>CBL</td>\n",
       "      <td>N454D</td>\n",
       "      <td>3</td>\n",
       "      <td>Recent evidence has demonstrated that acquired...</td>\n",
       "    </tr>\n",
       "    <tr>\n",
       "      <th>4</th>\n",
       "      <td>4</td>\n",
       "      <td>CBL</td>\n",
       "      <td>L399V</td>\n",
       "      <td>4</td>\n",
       "      <td>Oncogenic mutations in the monomeric Casitas B...</td>\n",
       "    </tr>\n",
       "  </tbody>\n",
       "</table>\n",
       "</div>"
      ],
      "text/plain": [
       "   ID    Gene             Variation  Class  \\\n",
       "0   0  FAM58A  Truncating Mutations      1   \n",
       "1   1     CBL                 W802*      2   \n",
       "2   2     CBL                 Q249E      2   \n",
       "3   3     CBL                 N454D      3   \n",
       "4   4     CBL                 L399V      4   \n",
       "\n",
       "                                                Text  \n",
       "0  Cyclin-dependent kinases (CDKs) regulate a var...  \n",
       "1   Abstract Background  Non-small cell lung canc...  \n",
       "2   Abstract Background  Non-small cell lung canc...  \n",
       "3  Recent evidence has demonstrated that acquired...  \n",
       "4  Oncogenic mutations in the monomeric Casitas B...  "
      ]
     },
     "execution_count": 18,
     "metadata": {},
     "output_type": "execute_result"
    }
   ],
   "source": [
    "df_train.head()\n",
    "#gives top 5 rows ->head"
   ]
  },
  {
   "cell_type": "code",
   "execution_count": 19,
   "metadata": {},
   "outputs": [
    {
     "data": {
      "text/html": [
       "<div>\n",
       "<style scoped>\n",
       "    .dataframe tbody tr th:only-of-type {\n",
       "        vertical-align: middle;\n",
       "    }\n",
       "\n",
       "    .dataframe tbody tr th {\n",
       "        vertical-align: top;\n",
       "    }\n",
       "\n",
       "    .dataframe thead th {\n",
       "        text-align: right;\n",
       "    }\n",
       "</style>\n",
       "<table border=\"1\" class=\"dataframe\">\n",
       "  <thead>\n",
       "    <tr style=\"text-align: right;\">\n",
       "      <th></th>\n",
       "      <th>ID</th>\n",
       "      <th>Gene</th>\n",
       "      <th>Variation</th>\n",
       "      <th>Class</th>\n",
       "      <th>Text</th>\n",
       "    </tr>\n",
       "  </thead>\n",
       "  <tbody>\n",
       "    <tr>\n",
       "      <th>0</th>\n",
       "      <td>0</td>\n",
       "      <td>FAM58A</td>\n",
       "      <td>Truncating Mutations</td>\n",
       "      <td>1</td>\n",
       "      <td>Cyclin-dependent kinases (CDKs) regulate a var...</td>\n",
       "    </tr>\n",
       "    <tr>\n",
       "      <th>1</th>\n",
       "      <td>1</td>\n",
       "      <td>CBL</td>\n",
       "      <td>W802*</td>\n",
       "      <td>2</td>\n",
       "      <td>Abstract Background  Non-small cell lung canc...</td>\n",
       "    </tr>\n",
       "    <tr>\n",
       "      <th>2</th>\n",
       "      <td>2</td>\n",
       "      <td>CBL</td>\n",
       "      <td>Q249E</td>\n",
       "      <td>2</td>\n",
       "      <td>Abstract Background  Non-small cell lung canc...</td>\n",
       "    </tr>\n",
       "    <tr>\n",
       "      <th>3</th>\n",
       "      <td>3</td>\n",
       "      <td>CBL</td>\n",
       "      <td>N454D</td>\n",
       "      <td>3</td>\n",
       "      <td>Recent evidence has demonstrated that acquired...</td>\n",
       "    </tr>\n",
       "    <tr>\n",
       "      <th>4</th>\n",
       "      <td>4</td>\n",
       "      <td>CBL</td>\n",
       "      <td>L399V</td>\n",
       "      <td>4</td>\n",
       "      <td>Oncogenic mutations in the monomeric Casitas B...</td>\n",
       "    </tr>\n",
       "    <tr>\n",
       "      <th>...</th>\n",
       "      <td>...</td>\n",
       "      <td>...</td>\n",
       "      <td>...</td>\n",
       "      <td>...</td>\n",
       "      <td>...</td>\n",
       "    </tr>\n",
       "    <tr>\n",
       "      <th>3316</th>\n",
       "      <td>3316</td>\n",
       "      <td>RUNX1</td>\n",
       "      <td>D171N</td>\n",
       "      <td>4</td>\n",
       "      <td>Introduction  Myelodysplastic syndromes (MDS) ...</td>\n",
       "    </tr>\n",
       "    <tr>\n",
       "      <th>3317</th>\n",
       "      <td>3317</td>\n",
       "      <td>RUNX1</td>\n",
       "      <td>A122*</td>\n",
       "      <td>1</td>\n",
       "      <td>Introduction  Myelodysplastic syndromes (MDS) ...</td>\n",
       "    </tr>\n",
       "    <tr>\n",
       "      <th>3318</th>\n",
       "      <td>3318</td>\n",
       "      <td>RUNX1</td>\n",
       "      <td>Fusions</td>\n",
       "      <td>1</td>\n",
       "      <td>The Runt-related transcription factor 1 gene (...</td>\n",
       "    </tr>\n",
       "    <tr>\n",
       "      <th>3319</th>\n",
       "      <td>3319</td>\n",
       "      <td>RUNX1</td>\n",
       "      <td>R80C</td>\n",
       "      <td>4</td>\n",
       "      <td>The RUNX1/AML1 gene is the most frequent targe...</td>\n",
       "    </tr>\n",
       "    <tr>\n",
       "      <th>3320</th>\n",
       "      <td>3320</td>\n",
       "      <td>RUNX1</td>\n",
       "      <td>K83E</td>\n",
       "      <td>4</td>\n",
       "      <td>The most frequent mutations associated with le...</td>\n",
       "    </tr>\n",
       "  </tbody>\n",
       "</table>\n",
       "<p>3316 rows × 5 columns</p>\n",
       "</div>"
      ],
      "text/plain": [
       "        ID    Gene             Variation  Class  \\\n",
       "0        0  FAM58A  Truncating Mutations      1   \n",
       "1        1     CBL                 W802*      2   \n",
       "2        2     CBL                 Q249E      2   \n",
       "3        3     CBL                 N454D      3   \n",
       "4        4     CBL                 L399V      4   \n",
       "...    ...     ...                   ...    ...   \n",
       "3316  3316   RUNX1                 D171N      4   \n",
       "3317  3317   RUNX1                 A122*      1   \n",
       "3318  3318   RUNX1               Fusions      1   \n",
       "3319  3319   RUNX1                  R80C      4   \n",
       "3320  3320   RUNX1                  K83E      4   \n",
       "\n",
       "                                                   Text  \n",
       "0     Cyclin-dependent kinases (CDKs) regulate a var...  \n",
       "1      Abstract Background  Non-small cell lung canc...  \n",
       "2      Abstract Background  Non-small cell lung canc...  \n",
       "3     Recent evidence has demonstrated that acquired...  \n",
       "4     Oncogenic mutations in the monomeric Casitas B...  \n",
       "...                                                 ...  \n",
       "3316  Introduction  Myelodysplastic syndromes (MDS) ...  \n",
       "3317  Introduction  Myelodysplastic syndromes (MDS) ...  \n",
       "3318  The Runt-related transcription factor 1 gene (...  \n",
       "3319  The RUNX1/AML1 gene is the most frequent targe...  \n",
       "3320  The most frequent mutations associated with le...  \n",
       "\n",
       "[3316 rows x 5 columns]"
      ]
     },
     "execution_count": 19,
     "metadata": {},
     "output_type": "execute_result"
    }
   ],
   "source": [
    "df_train"
   ]
  },
  {
   "cell_type": "code",
   "execution_count": 20,
   "metadata": {},
   "outputs": [
    {
     "data": {
      "image/png": "[encoded data removed]",
      "text/plain": [
       "<Figure size 432x288 with 1 Axes>"
      ]
     },
     "metadata": {},
     "output_type": "display_data"
    }
   ],
   "source": [
    "df_train.Class.value_counts().plot(kind=\"bar\",title='Classes Distribution')\n",
    "plt.xlabel('Classes')\n",
    "plt.ylabel('Counts')\n",
    "plt.show()\n",
    "#shows count for classes 1-9"
   ]
  },
  {
   "cell_type": "code",
   "execution_count": 21,
   "metadata": {},
   "outputs": [
    {
     "name": "stderr",
     "output_type": "stream",
     "text": [
      "[nltk_data] Downloading package stopwords to\n",
      "[nltk_data]     C:\\Users\\shyla\\AppData\\Roaming\\nltk_data...\n",
      "[nltk_data]   Package stopwords is already up-to-date!\n"
     ]
    },
    {
     "data": {
      "text/plain": [
       "True"
      ]
     },
     "execution_count": 21,
     "metadata": {},
     "output_type": "execute_result"
    }
   ],
   "source": [
    "import re, string\n",
    "from nltk.corpus import stopwords\n",
    "import nltk\n",
    "nltk.download('stopwords')"
   ]
  },
  {
   "cell_type": "code",
   "execution_count": 22,
   "metadata": {},
   "outputs": [],
   "source": [
    "#getting english stopwords from nltk \n",
    "sw_list = stopwords.words('english')\n"
   ]
  },
  {
   "cell_type": "code",
   "execution_count": 23,
   "metadata": {},
   "outputs": [
    {
     "data": {
      "text/plain": [
       "['i',\n",
       " 'me',\n",
       " 'my',\n",
       " 'myself',\n",
       " 'we',\n",
       " 'our',\n",
       " 'ours',\n",
       " 'ourselves',\n",
       " 'you',\n",
       " \"you're\",\n",
       " \"you've\",\n",
       " \"you'll\",\n",
       " \"you'd\",\n",
       " 'your',\n",
       " 'yours',\n",
       " 'yourself',\n",
       " 'yourselves',\n",
       " 'he',\n",
       " 'him',\n",
       " 'his',\n",
       " 'himself',\n",
       " 'she',\n",
       " \"she's\",\n",
       " 'her',\n",
       " 'hers',\n",
       " 'herself',\n",
       " 'it',\n",
       " \"it's\",\n",
       " 'its',\n",
       " 'itself',\n",
       " 'they',\n",
       " 'them',\n",
       " 'their',\n",
       " 'theirs',\n",
       " 'themselves',\n",
       " 'what',\n",
       " 'which',\n",
       " 'who',\n",
       " 'whom',\n",
       " 'this',\n",
       " 'that',\n",
       " \"that'll\",\n",
       " 'these',\n",
       " 'those',\n",
       " 'am',\n",
       " 'is',\n",
       " 'are',\n",
       " 'was',\n",
       " 'were',\n",
       " 'be',\n",
       " 'been',\n",
       " 'being',\n",
       " 'have',\n",
       " 'has',\n",
       " 'had',\n",
       " 'having',\n",
       " 'do',\n",
       " 'does',\n",
       " 'did',\n",
       " 'doing',\n",
       " 'a',\n",
       " 'an',\n",
       " 'the',\n",
       " 'and',\n",
       " 'but',\n",
       " 'if',\n",
       " 'or',\n",
       " 'because',\n",
       " 'as',\n",
       " 'until',\n",
       " 'while',\n",
       " 'of',\n",
       " 'at',\n",
       " 'by',\n",
       " 'for',\n",
       " 'with',\n",
       " 'about',\n",
       " 'against',\n",
       " 'between',\n",
       " 'into',\n",
       " 'through',\n",
       " 'during',\n",
       " 'before',\n",
       " 'after',\n",
       " 'above',\n",
       " 'below',\n",
       " 'to',\n",
       " 'from',\n",
       " 'up',\n",
       " 'down',\n",
       " 'in',\n",
       " 'out',\n",
       " 'on',\n",
       " 'off',\n",
       " 'over',\n",
       " 'under',\n",
       " 'again',\n",
       " 'further',\n",
       " 'then',\n",
       " 'once',\n",
       " 'here',\n",
       " 'there',\n",
       " 'when',\n",
       " 'where',\n",
       " 'why',\n",
       " 'how',\n",
       " 'all',\n",
       " 'any',\n",
       " 'both',\n",
       " 'each',\n",
       " 'few',\n",
       " 'more',\n",
       " 'most',\n",
       " 'other',\n",
       " 'some',\n",
       " 'such',\n",
       " 'no',\n",
       " 'nor',\n",
       " 'not',\n",
       " 'only',\n",
       " 'own',\n",
       " 'same',\n",
       " 'so',\n",
       " 'than',\n",
       " 'too',\n",
       " 'very',\n",
       " 's',\n",
       " 't',\n",
       " 'can',\n",
       " 'will',\n",
       " 'just',\n",
       " 'don',\n",
       " \"don't\",\n",
       " 'should',\n",
       " \"should've\",\n",
       " 'now',\n",
       " 'd',\n",
       " 'll',\n",
       " 'm',\n",
       " 'o',\n",
       " 're',\n",
       " 've',\n",
       " 'y',\n",
       " 'ain',\n",
       " 'aren',\n",
       " \"aren't\",\n",
       " 'couldn',\n",
       " \"couldn't\",\n",
       " 'didn',\n",
       " \"didn't\",\n",
       " 'doesn',\n",
       " \"doesn't\",\n",
       " 'hadn',\n",
       " \"hadn't\",\n",
       " 'hasn',\n",
       " \"hasn't\",\n",
       " 'haven',\n",
       " \"haven't\",\n",
       " 'isn',\n",
       " \"isn't\",\n",
       " 'ma',\n",
       " 'mightn',\n",
       " \"mightn't\",\n",
       " 'mustn',\n",
       " \"mustn't\",\n",
       " 'needn',\n",
       " \"needn't\",\n",
       " 'shan',\n",
       " \"shan't\",\n",
       " 'shouldn',\n",
       " \"shouldn't\",\n",
       " 'wasn',\n",
       " \"wasn't\",\n",
       " 'weren',\n",
       " \"weren't\",\n",
       " 'won',\n",
       " \"won't\",\n",
       " 'wouldn',\n",
       " \"wouldn't\",\n",
       " '!',\n",
       " '\"',\n",
       " '#',\n",
       " '$',\n",
       " '%',\n",
       " '&',\n",
       " \"'\",\n",
       " '(',\n",
       " ')',\n",
       " '*',\n",
       " '+',\n",
       " ',',\n",
       " '-',\n",
       " '.',\n",
       " '/',\n",
       " ':',\n",
       " ';',\n",
       " '<',\n",
       " '=',\n",
       " '>',\n",
       " '?',\n",
       " '@',\n",
       " '[',\n",
       " '\\\\',\n",
       " ']',\n",
       " '^',\n",
       " '_',\n",
       " '`',\n",
       " '{',\n",
       " '|',\n",
       " '}',\n",
       " '~',\n",
       " \"''\",\n",
       " '\"\"',\n",
       " '...',\n",
       " '``',\n",
       " '’',\n",
       " '“',\n",
       " '’',\n",
       " '”',\n",
       " '‘',\n",
       " '‘',\n",
       " \"'\",\n",
       " '©',\n",
       " 'said',\n",
       " \"'s\",\n",
       " 'also',\n",
       " 'one',\n",
       " \"n't\",\n",
       " 'com',\n",
       " 'satirewire',\n",
       " '-',\n",
       " '–',\n",
       " 'et al',\n",
       " '—',\n",
       " '_',\n",
       " 'et al ',\n",
       " '/']"
      ]
     },
     "execution_count": 23,
     "metadata": {},
     "output_type": "execute_result"
    }
   ],
   "source": [
    "#add punctuation\n",
    "sw_list += list(string.punctuation)\n",
    "sw_list += [\"''\", '\"\"', '...', '``', '’', '“', '’', '”', '‘', '‘',\"'\", '©',\n",
    "'said',\"'s\", \"also\",'one',\"n't\",'com', 'satirewire', '-', '–', \"et al\",\n",
    "'—', '_','et al ',\"/\"]\n",
    "sw_list"
   ]
  },
  {
   "cell_type": "code",
   "execution_count": 24,
   "metadata": {},
   "outputs": [],
   "source": [
    "#eleminating duplicates by adding to set\n",
    "sw_set = set(sw_list)"
   ]
  },
  {
   "cell_type": "code",
   "execution_count": 25,
   "metadata": {},
   "outputs": [
    {
     "name": "stdout",
     "output_type": "stream",
     "text": [
      "{'of', \"hadn't\", 'off', ',', 'than', \"you're\", 'what', \"shan't\", 'up', 'there', 'same', 'for', 'now', 'shan', '–', \"should've\", 'hadn', 'aren', '!', 'yourself', 'weren', \"hasn't\", 'any', 'through', 'yours', 'me', '+', 'itself', 'had', '%', \"you've\", 'both', '_', 'on', 'was', 'into', ']', 'below', 'said', '>', 'et al ', 'all', 'his', 'very', 'against', 't', 've', 'too', 'he', \"wouldn't\", '‘', 'just', 'you', 'himself', '/', 'so', 'o', 'not', \"she's\", 'whom', 'at', 'those', 'needn', 'if', 'i', 'each', 'nor', 'hasn', 'such', '?', 'didn', 'these', \"couldn't\", '=', 'who', 'y', 'or', 'they', 'have', 'ain', 'com', 'its', 'having', 'only', 'them', '(', 'shouldn', 'wasn', '$', 'she', 'will', \"doesn't\", 'it', '#', \"isn't\", 'don', 'during', 'own', 'theirs', 'more', 're', 'can', '^', '``', 'am', 'by', 'll', 'haven', 'further', 'a', 'doing', 'be', 'm', 'does', '-', '”', 'were', \"wasn't\", 'mightn', \"aren't\", 'that', 'their', 'has', 'which', 'to', '’', 'but', '\"', '—', \"''\", 'themselves', 'few', '...', '\\\\', '©', 'before', 'because', 'ours', 'most', 'myself', 'herself', \"you'll\", '@', '[', 'hers', 'satirewire', 'other', 'd', '`', 'being', 'as', 'where', '\"\"', 's', \"mightn't\", 'yourselves', 'this', 'with', 'over', \"haven't\", 'one', 'my', 'ourselves', 'then', \"didn't\", 'did', 'above', 'isn', 'from', 'him', '*', 'are', 'et al', 'between', 'in', \"needn't\", 'doesn', 'is', \"it's\", 'should', 'the', ')', ':', 'ma', '~', '{', 'couldn', 'our', 'and', 'down', '<', 'why', 'here', '.', 'how', \"n't\", 'after', ';', \"won't\", 'won', 'we', '&', '}', \"'s\", 'out', 'when', 'your', 'once', 'no', \"mustn't\", 'also', 'her', 'some', \"don't\", \"shouldn't\", 'an', 'again', '“', 'until', 'wouldn', \"'\", 'been', \"weren't\", 'while', 'mustn', \"you'd\", \"that'll\", 'do', 'about', 'under', '|'}\n"
     ]
    }
   ],
   "source": [
    "print(sw_set)"
   ]
  },
  {
   "cell_type": "code",
   "execution_count": 26,
   "metadata": {},
   "outputs": [],
   "source": [
    "#tokenization using nltk\n",
    "#word tokenization is used here -> sentence breaks into words\n",
    "def process_review(review):\n",
    "    tokens = nltk.word_tokenize(review)\n",
    "    stopwords_removed = [token.lower() for token in tokens if token.lower() not in sw_set]\n",
    "    return stopwords_removed"
   ]
  },
  {
   "cell_type": "code",
   "execution_count": 27,
   "metadata": {},
   "outputs": [],
   "source": [
    "#stemming\n",
    "from nltk.stem import PorterStemmer\n",
    "ps = PorterStemmer()\n",
    "def stemming(review):\n",
    "    stemmed_review = []\n",
    "    for w in review:\n",
    "        stemmed_review.append(ps.stem(w))\n",
    "    return stemmed_review "
   ]
  },
  {
   "cell_type": "code",
   "execution_count": 28,
   "metadata": {},
   "outputs": [
    {
     "name": "stderr",
     "output_type": "stream",
     "text": [
      "[nltk_data] Downloading package wordnet to\n",
      "[nltk_data]     C:\\Users\\shyla\\AppData\\Roaming\\nltk_data...\n",
      "[nltk_data]   Package wordnet is already up-to-date!\n",
      "[nltk_data] Downloading package punkt to\n",
      "[nltk_data]     C:\\Users\\shyla\\AppData\\Roaming\\nltk_data...\n",
      "[nltk_data]   Package punkt is already up-to-date!\n"
     ]
    }
   ],
   "source": [
    "# import libraries\n",
    "from nltk.stem.wordnet import WordNetLemmatizer\n",
    "nltk.download('wordnet')\n",
    "nltk.download('punkt')\n",
    "lemmatizer = WordNetLemmatizer()"
   ]
  },
  {
   "cell_type": "code",
   "execution_count": 29,
   "metadata": {},
   "outputs": [],
   "source": [
    "#lemmatixation\n",
    "#pos = v is verb of that word\n",
    "def lemmatization(review):\n",
    "    lemma_list=[]\n",
    "    for word in review:\n",
    "        lemma_word=lemmatizer.lemmatize(word,pos='v') \n",
    "        lemma_list.append(lemma_word)\n",
    "    return lemma_list"
   ]
  },
  {
   "cell_type": "code",
   "execution_count": 30,
   "metadata": {},
   "outputs": [
    {
     "name": "stdout",
     "output_type": "stream",
     "text": [
      "Current Time = 2021-10-01 18:10:21.081309\n"
     ]
    }
   ],
   "source": [
    "from datetime import datetime\n",
    "\n",
    "now = datetime.now()\n",
    "\n",
    "print(\"Current Time =\", now)"
   ]
  },
  {
   "cell_type": "code",
   "execution_count": 31,
   "metadata": {},
   "outputs": [],
   "source": [
    "#obtaining cleaned text data\n",
    "def data_preprocessing(review):\n",
    "    #tokenization, stop words removal, punctuation marks removel\n",
    "    now = datetime.now();\n",
    "    t_starttime = now.strftime(\"%H:%M:%S\")\n",
    "    print(\"start Time tokenization=\", t_starttime)\n",
    "    processed_review=list(map(process_review,review))\n",
    "    now = datetime.now()\n",
    "    t_stoptime = now.strftime(\"%H:%M:%S\")\n",
    "    print(\"stop Time tokenization=\", t_stoptime)\n",
    "    # stemming\n",
    "    now = datetime.now()\n",
    "    l_starttime = now.strftime(\"%H:%M:%S\")\n",
    "    print(\"start Time stemming=\", l_starttime)\n",
    "    stemming_reviews=list(map(stemming,processed_review))\n",
    "    now = datetime.now()\n",
    "    l_stoptime = now.strftime(\"%H:%M:%S\")\n",
    "    print(\"stop Time stemming=\", l_stoptime)\n",
    "    # lemmatization\n",
    "    now = datetime.now()\n",
    "    s_starttime = now.strftime(\"%H:%M:%S\")\n",
    "    print(\"start Time lemmatization=\", s_starttime)\n",
    "    lemma_reviews=list(map(lemmatization,stemming_reviews))\n",
    "    now = datetime.now()\n",
    "    s_stoptime = now.strftime(\"%H:%M:%S\")\n",
    "    print(\"stop Time lemmatization=\", s_stoptime)\n",
    "    #print(lemma_reviews)\n",
    "    return lemma_reviews"
   ]
  },
  {
   "cell_type": "code",
   "execution_count": 32,
   "metadata": {},
   "outputs": [
    {
     "name": "stdout",
     "output_type": "stream",
     "text": [
      "start Time tokenization= 18:10:24\n",
      "stop Time tokenization= 18:14:14\n",
      "start Time stemming= 18:14:14\n",
      "stop Time stemming= 18:21:24\n",
      "start Time lemmatization= 18:21:24\n",
      "stop Time lemmatization= 18:22:40\n"
     ]
    }
   ],
   "source": [
    "cleaned_train_text=data_preprocessing(df_train['Text'])\n"
   ]
  },
  {
   "cell_type": "code",
   "execution_count": 33,
   "metadata": {},
   "outputs": [],
   "source": [
    "\n",
    "import pickle\n",
    "pickle_out1=open('cleaned_train_text', 'wb')\n",
    "pickle.dump(cleaned_train_text, pickle_out1)\n",
    "pickle_out1.close()"
   ]
  },
  {
   "cell_type": "code",
   "execution_count": 34,
   "metadata": {},
   "outputs": [],
   "source": [
    "import pickle\n",
    "pickle_in_train = open(\"cleaned_train_text\",\"rb\")\n",
    "cleaned_train_text = pickle.load(pickle_in_train)"
   ]
  },
  {
   "cell_type": "code",
   "execution_count": 35,
   "metadata": {},
   "outputs": [],
   "source": [
    "df_train['cleaned_text']=[\" \".join(i) for i in cleaned_train_text]"
   ]
  },
  {
   "cell_type": "code",
   "execution_count": 36,
   "metadata": {},
   "outputs": [
    {
     "data": {
      "text/html": [
       "<div>\n",
       "<style scoped>\n",
       "    .dataframe tbody tr th:only-of-type {\n",
       "        vertical-align: middle;\n",
       "    }\n",
       "\n",
       "    .dataframe tbody tr th {\n",
       "        vertical-align: top;\n",
       "    }\n",
       "\n",
       "    .dataframe thead th {\n",
       "        text-align: right;\n",
       "    }\n",
       "</style>\n",
       "<table border=\"1\" class=\"dataframe\">\n",
       "  <thead>\n",
       "    <tr style=\"text-align: right;\">\n",
       "      <th></th>\n",
       "      <th>ID</th>\n",
       "      <th>Gene</th>\n",
       "      <th>Variation</th>\n",
       "      <th>Class</th>\n",
       "      <th>Text</th>\n",
       "      <th>cleaned_text</th>\n",
       "    </tr>\n",
       "  </thead>\n",
       "  <tbody>\n",
       "    <tr>\n",
       "      <th>0</th>\n",
       "      <td>0</td>\n",
       "      <td>FAM58A</td>\n",
       "      <td>Truncating Mutations</td>\n",
       "      <td>1</td>\n",
       "      <td>Cyclin-dependent kinases (CDKs) regulate a var...</td>\n",
       "      <td>cyclin-depend kinas cdk regul varieti fundamen...</td>\n",
       "    </tr>\n",
       "    <tr>\n",
       "      <th>1</th>\n",
       "      <td>1</td>\n",
       "      <td>CBL</td>\n",
       "      <td>W802*</td>\n",
       "      <td>2</td>\n",
       "      <td>Abstract Background  Non-small cell lung canc...</td>\n",
       "      <td>abstract background non-smal cell lung cancer ...</td>\n",
       "    </tr>\n",
       "    <tr>\n",
       "      <th>2</th>\n",
       "      <td>2</td>\n",
       "      <td>CBL</td>\n",
       "      <td>Q249E</td>\n",
       "      <td>2</td>\n",
       "      <td>Abstract Background  Non-small cell lung canc...</td>\n",
       "      <td>abstract background non-smal cell lung cancer ...</td>\n",
       "    </tr>\n",
       "    <tr>\n",
       "      <th>3</th>\n",
       "      <td>3</td>\n",
       "      <td>CBL</td>\n",
       "      <td>N454D</td>\n",
       "      <td>3</td>\n",
       "      <td>Recent evidence has demonstrated that acquired...</td>\n",
       "      <td>recent evid demonstr acquir uniparent disomi a...</td>\n",
       "    </tr>\n",
       "    <tr>\n",
       "      <th>4</th>\n",
       "      <td>4</td>\n",
       "      <td>CBL</td>\n",
       "      <td>L399V</td>\n",
       "      <td>4</td>\n",
       "      <td>Oncogenic mutations in the monomeric Casitas B...</td>\n",
       "      <td>oncogen mutat monomer casita b-lineag lymphoma...</td>\n",
       "    </tr>\n",
       "    <tr>\n",
       "      <th>...</th>\n",
       "      <td>...</td>\n",
       "      <td>...</td>\n",
       "      <td>...</td>\n",
       "      <td>...</td>\n",
       "      <td>...</td>\n",
       "      <td>...</td>\n",
       "    </tr>\n",
       "    <tr>\n",
       "      <th>3316</th>\n",
       "      <td>3316</td>\n",
       "      <td>RUNX1</td>\n",
       "      <td>D171N</td>\n",
       "      <td>4</td>\n",
       "      <td>Introduction  Myelodysplastic syndromes (MDS) ...</td>\n",
       "      <td>introduct myelodysplast syndrom md heterogen g...</td>\n",
       "    </tr>\n",
       "    <tr>\n",
       "      <th>3317</th>\n",
       "      <td>3317</td>\n",
       "      <td>RUNX1</td>\n",
       "      <td>A122*</td>\n",
       "      <td>1</td>\n",
       "      <td>Introduction  Myelodysplastic syndromes (MDS) ...</td>\n",
       "      <td>introduct myelodysplast syndrom md heterogen g...</td>\n",
       "    </tr>\n",
       "    <tr>\n",
       "      <th>3318</th>\n",
       "      <td>3318</td>\n",
       "      <td>RUNX1</td>\n",
       "      <td>Fusions</td>\n",
       "      <td>1</td>\n",
       "      <td>The Runt-related transcription factor 1 gene (...</td>\n",
       "      <td>runt-rel transcript factor 1 gene runx1 alias ...</td>\n",
       "    </tr>\n",
       "    <tr>\n",
       "      <th>3319</th>\n",
       "      <td>3319</td>\n",
       "      <td>RUNX1</td>\n",
       "      <td>R80C</td>\n",
       "      <td>4</td>\n",
       "      <td>The RUNX1/AML1 gene is the most frequent targe...</td>\n",
       "      <td>runx1/aml1 gene frequent target chromosom tran...</td>\n",
       "    </tr>\n",
       "    <tr>\n",
       "      <th>3320</th>\n",
       "      <td>3320</td>\n",
       "      <td>RUNX1</td>\n",
       "      <td>K83E</td>\n",
       "      <td>4</td>\n",
       "      <td>The most frequent mutations associated with le...</td>\n",
       "      <td>frequent mutat associ leukemia recurr somat ch...</td>\n",
       "    </tr>\n",
       "  </tbody>\n",
       "</table>\n",
       "<p>3316 rows × 6 columns</p>\n",
       "</div>"
      ],
      "text/plain": [
       "        ID    Gene             Variation  Class  \\\n",
       "0        0  FAM58A  Truncating Mutations      1   \n",
       "1        1     CBL                 W802*      2   \n",
       "2        2     CBL                 Q249E      2   \n",
       "3        3     CBL                 N454D      3   \n",
       "4        4     CBL                 L399V      4   \n",
       "...    ...     ...                   ...    ...   \n",
       "3316  3316   RUNX1                 D171N      4   \n",
       "3317  3317   RUNX1                 A122*      1   \n",
       "3318  3318   RUNX1               Fusions      1   \n",
       "3319  3319   RUNX1                  R80C      4   \n",
       "3320  3320   RUNX1                  K83E      4   \n",
       "\n",
       "                                                   Text  \\\n",
       "0     Cyclin-dependent kinases (CDKs) regulate a var...   \n",
       "1      Abstract Background  Non-small cell lung canc...   \n",
       "2      Abstract Background  Non-small cell lung canc...   \n",
       "3     Recent evidence has demonstrated that acquired...   \n",
       "4     Oncogenic mutations in the monomeric Casitas B...   \n",
       "...                                                 ...   \n",
       "3316  Introduction  Myelodysplastic syndromes (MDS) ...   \n",
       "3317  Introduction  Myelodysplastic syndromes (MDS) ...   \n",
       "3318  The Runt-related transcription factor 1 gene (...   \n",
       "3319  The RUNX1/AML1 gene is the most frequent targe...   \n",
       "3320  The most frequent mutations associated with le...   \n",
       "\n",
       "                                           cleaned_text  \n",
       "0     cyclin-depend kinas cdk regul varieti fundamen...  \n",
       "1     abstract background non-smal cell lung cancer ...  \n",
       "2     abstract background non-smal cell lung cancer ...  \n",
       "3     recent evid demonstr acquir uniparent disomi a...  \n",
       "4     oncogen mutat monomer casita b-lineag lymphoma...  \n",
       "...                                                 ...  \n",
       "3316  introduct myelodysplast syndrom md heterogen g...  \n",
       "3317  introduct myelodysplast syndrom md heterogen g...  \n",
       "3318  runt-rel transcript factor 1 gene runx1 alias ...  \n",
       "3319  runx1/aml1 gene frequent target chromosom tran...  \n",
       "3320  frequent mutat associ leukemia recurr somat ch...  \n",
       "\n",
       "[3316 rows x 6 columns]"
      ]
     },
     "execution_count": 36,
     "metadata": {},
     "output_type": "execute_result"
    }
   ],
   "source": [
    "df_train"
   ]
  },
  {
   "cell_type": "code",
   "execution_count": 56,
   "metadata": {},
   "outputs": [],
   "source": [
    "#declare inputs and target\n",
    "inputs=df_train[['ID', 'Gene', 'Variation','Class','cleaned_text']]\n",
    "target=df_train.Class"
   ]
  },
  {
   "cell_type": "code",
   "execution_count": 57,
   "metadata": {},
   "outputs": [
    {
     "data": {
      "text/html": [
       "<div>\n",
       "<style scoped>\n",
       "    .dataframe tbody tr th:only-of-type {\n",
       "        vertical-align: middle;\n",
       "    }\n",
       "\n",
       "    .dataframe tbody tr th {\n",
       "        vertical-align: top;\n",
       "    }\n",
       "\n",
       "    .dataframe thead th {\n",
       "        text-align: right;\n",
       "    }\n",
       "</style>\n",
       "<table border=\"1\" class=\"dataframe\">\n",
       "  <thead>\n",
       "    <tr style=\"text-align: right;\">\n",
       "      <th></th>\n",
       "      <th>ID</th>\n",
       "      <th>Gene</th>\n",
       "      <th>Variation</th>\n",
       "      <th>Class</th>\n",
       "      <th>cleaned_text</th>\n",
       "    </tr>\n",
       "  </thead>\n",
       "  <tbody>\n",
       "    <tr>\n",
       "      <th>0</th>\n",
       "      <td>0</td>\n",
       "      <td>FAM58A</td>\n",
       "      <td>Truncating Mutations</td>\n",
       "      <td>1</td>\n",
       "      <td>cyclin-depend kinas cdk regul varieti fundamen...</td>\n",
       "    </tr>\n",
       "    <tr>\n",
       "      <th>1</th>\n",
       "      <td>1</td>\n",
       "      <td>CBL</td>\n",
       "      <td>W802*</td>\n",
       "      <td>2</td>\n",
       "      <td>abstract background non-smal cell lung cancer ...</td>\n",
       "    </tr>\n",
       "    <tr>\n",
       "      <th>2</th>\n",
       "      <td>2</td>\n",
       "      <td>CBL</td>\n",
       "      <td>Q249E</td>\n",
       "      <td>2</td>\n",
       "      <td>abstract background non-smal cell lung cancer ...</td>\n",
       "    </tr>\n",
       "    <tr>\n",
       "      <th>3</th>\n",
       "      <td>3</td>\n",
       "      <td>CBL</td>\n",
       "      <td>N454D</td>\n",
       "      <td>3</td>\n",
       "      <td>recent evid demonstr acquir uniparent disomi a...</td>\n",
       "    </tr>\n",
       "    <tr>\n",
       "      <th>4</th>\n",
       "      <td>4</td>\n",
       "      <td>CBL</td>\n",
       "      <td>L399V</td>\n",
       "      <td>4</td>\n",
       "      <td>oncogen mutat monomer casita b-lineag lymphoma...</td>\n",
       "    </tr>\n",
       "    <tr>\n",
       "      <th>...</th>\n",
       "      <td>...</td>\n",
       "      <td>...</td>\n",
       "      <td>...</td>\n",
       "      <td>...</td>\n",
       "      <td>...</td>\n",
       "    </tr>\n",
       "    <tr>\n",
       "      <th>3316</th>\n",
       "      <td>3316</td>\n",
       "      <td>RUNX1</td>\n",
       "      <td>D171N</td>\n",
       "      <td>4</td>\n",
       "      <td>introduct myelodysplast syndrom md heterogen g...</td>\n",
       "    </tr>\n",
       "    <tr>\n",
       "      <th>3317</th>\n",
       "      <td>3317</td>\n",
       "      <td>RUNX1</td>\n",
       "      <td>A122*</td>\n",
       "      <td>1</td>\n",
       "      <td>introduct myelodysplast syndrom md heterogen g...</td>\n",
       "    </tr>\n",
       "    <tr>\n",
       "      <th>3318</th>\n",
       "      <td>3318</td>\n",
       "      <td>RUNX1</td>\n",
       "      <td>Fusions</td>\n",
       "      <td>1</td>\n",
       "      <td>runt-rel transcript factor 1 gene runx1 alias ...</td>\n",
       "    </tr>\n",
       "    <tr>\n",
       "      <th>3319</th>\n",
       "      <td>3319</td>\n",
       "      <td>RUNX1</td>\n",
       "      <td>R80C</td>\n",
       "      <td>4</td>\n",
       "      <td>runx1/aml1 gene frequent target chromosom tran...</td>\n",
       "    </tr>\n",
       "    <tr>\n",
       "      <th>3320</th>\n",
       "      <td>3320</td>\n",
       "      <td>RUNX1</td>\n",
       "      <td>K83E</td>\n",
       "      <td>4</td>\n",
       "      <td>frequent mutat associ leukemia recurr somat ch...</td>\n",
       "    </tr>\n",
       "  </tbody>\n",
       "</table>\n",
       "<p>3316 rows × 5 columns</p>\n",
       "</div>"
      ],
      "text/plain": [
       "        ID    Gene             Variation  Class  \\\n",
       "0        0  FAM58A  Truncating Mutations      1   \n",
       "1        1     CBL                 W802*      2   \n",
       "2        2     CBL                 Q249E      2   \n",
       "3        3     CBL                 N454D      3   \n",
       "4        4     CBL                 L399V      4   \n",
       "...    ...     ...                   ...    ...   \n",
       "3316  3316   RUNX1                 D171N      4   \n",
       "3317  3317   RUNX1                 A122*      1   \n",
       "3318  3318   RUNX1               Fusions      1   \n",
       "3319  3319   RUNX1                  R80C      4   \n",
       "3320  3320   RUNX1                  K83E      4   \n",
       "\n",
       "                                           cleaned_text  \n",
       "0     cyclin-depend kinas cdk regul varieti fundamen...  \n",
       "1     abstract background non-smal cell lung cancer ...  \n",
       "2     abstract background non-smal cell lung cancer ...  \n",
       "3     recent evid demonstr acquir uniparent disomi a...  \n",
       "4     oncogen mutat monomer casita b-lineag lymphoma...  \n",
       "...                                                 ...  \n",
       "3316  introduct myelodysplast syndrom md heterogen g...  \n",
       "3317  introduct myelodysplast syndrom md heterogen g...  \n",
       "3318  runt-rel transcript factor 1 gene runx1 alias ...  \n",
       "3319  runx1/aml1 gene frequent target chromosom tran...  \n",
       "3320  frequent mutat associ leukemia recurr somat ch...  \n",
       "\n",
       "[3316 rows x 5 columns]"
      ]
     },
     "execution_count": 57,
     "metadata": {},
     "output_type": "execute_result"
    }
   ],
   "source": [
    "inputs"
   ]
  },
  {
   "cell_type": "code",
   "execution_count": 58,
   "metadata": {},
   "outputs": [
    {
     "data": {
      "text/plain": [
       "0       1\n",
       "1       2\n",
       "2       2\n",
       "3       3\n",
       "4       4\n",
       "       ..\n",
       "3316    4\n",
       "3317    1\n",
       "3318    1\n",
       "3319    4\n",
       "3320    4\n",
       "Name: Class, Length: 3316, dtype: int64"
      ]
     },
     "execution_count": 58,
     "metadata": {},
     "output_type": "execute_result"
    }
   ],
   "source": [
    "target\n"
   ]
  },
  {
   "cell_type": "code",
   "execution_count": 59,
   "metadata": {},
   "outputs": [],
   "source": [
    "#train test split dataset\n",
    "from sklearn.model_selection import train_test_split\n",
    "\n",
    "X_train, test_df, y_train, y_test = train_test_split(inputs, target, stratify=target, test_size=.2)"
   ]
  },
  {
   "cell_type": "code",
   "execution_count": 60,
   "metadata": {},
   "outputs": [],
   "source": [
    "train_df, cv_df, y_train, y_cv = train_test_split(X_train, y_train, stratify=y_train, test_size=0.2)"
   ]
  },
  {
   "cell_type": "code",
   "execution_count": 61,
   "metadata": {},
   "outputs": [
    {
     "name": "stdout",
     "output_type": "stream",
     "text": [
      "Number of data points in train data: 2121\n",
      "Number of data points in test data: 664\n",
      "Number of data points in cross validation data: 531\n"
     ]
    }
   ],
   "source": [
    "print('Number of data points in train data:', train_df.shape[0])\n",
    "print('Number of data points in test data:', test_df.shape[0])\n",
    "print('Number of data points in cross validation data:', cv_df.shape[0])"
   ]
  },
  {
   "cell_type": "code",
   "execution_count": 62,
   "metadata": {},
   "outputs": [],
   "source": [
    "#class count\n",
    "train_class_distribution = train_df['Class'].value_counts()"
   ]
  },
  {
   "cell_type": "code",
   "execution_count": 63,
   "metadata": {},
   "outputs": [
    {
     "data": {
      "text/plain": [
       "7    609\n",
       "4    439\n",
       "1    362\n",
       "2    289\n",
       "6    174\n",
       "5    155\n",
       "3     57\n",
       "9     24\n",
       "8     12\n",
       "Name: Class, dtype: int64"
      ]
     },
     "execution_count": 63,
     "metadata": {},
     "output_type": "execute_result"
    }
   ],
   "source": [
    "train_class_distribution"
   ]
  },
  {
   "cell_type": "code",
   "execution_count": 64,
   "metadata": {},
   "outputs": [],
   "source": [
    "train_class_distribution = train_df['Class'].value_counts().sort_index()\n",
    "test_class_distribution = test_df['Class'].value_counts().sort_index()\n",
    "cv_class_distribution = cv_df['Class'].value_counts().sort_index()"
   ]
  },
  {
   "cell_type": "code",
   "execution_count": 66,
   "metadata": {},
   "outputs": [
    {
     "data": {
      "text/plain": [
       "1    362\n",
       "2    289\n",
       "3     57\n",
       "4    439\n",
       "5    155\n",
       "6    174\n",
       "7    609\n",
       "8     12\n",
       "9     24\n",
       "Name: Class, dtype: int64"
      ]
     },
     "execution_count": 66,
     "metadata": {},
     "output_type": "execute_result"
    }
   ],
   "source": [
    "#sorted\n",
    "train_class_distribution"
   ]
  },
  {
   "cell_type": "code",
   "execution_count": 75,
   "metadata": {},
   "outputs": [
    {
     "data": {
      "image/png": "[encoded data removed]",
      "text/plain": [
       "<Figure size 432x288 with 1 Axes>"
      ]
     },
     "metadata": {},
     "output_type": "display_data"
    }
   ],
   "source": [
    "my_colors = 'rgbkymc'\n",
    "train_class_distribution.plot(kind='bar')\n",
    "plt.xlabel('Class')\n",
    "plt.ylabel('Data points per Class')\n",
    "plt.title('Distribution of yi in train data')\n",
    "plt.grid()\n",
    "plt.show()"
   ]
  },
  {
   "cell_type": "code",
   "execution_count": 77,
   "metadata": {},
   "outputs": [
    {
     "name": "stdout",
     "output_type": "stream",
     "text": [
      "Number of data points in class 7 : 609 ( 28.713 %)\n",
      "Number of data points in class 4 : 439 ( 20.698 %)\n",
      "Number of data points in class 1 : 362 ( 17.067 %)\n",
      "Number of data points in class 2 : 289 ( 13.626 %)\n",
      "Number of data points in class 6 : 174 ( 8.204 %)\n",
      "Number of data points in class 5 : 155 ( 7.308 %)\n",
      "Number of data points in class 3 : 57 ( 2.687 %)\n",
      "Number of data points in class 9 : 24 ( 1.132 %)\n",
      "Number of data points in class 8 : 12 ( 0.566 %)\n"
     ]
    }
   ],
   "source": [
    "# -(train_class_distribution.values): the minus sign will give us in decreasing order\n",
    "sorted_yi = np.argsort(-train_class_distribution.values)\n",
    "for i in sorted_yi:\n",
    "    print('Number of data points in class', i+1, ':',train_class_distribution.values[i], '(', np.round((train_class_distribution.values[i]/train_df.shape[0]*100), 3), '%)')"
   ]
  },
  {
   "cell_type": "code",
   "execution_count": 78,
   "metadata": {},
   "outputs": [
    {
     "name": "stdout",
     "output_type": "stream",
     "text": [
      "--------------------------------------------------------------------------------\n"
     ]
    },
    {
     "data": {
      "image/png": "[encoded data removed]",
      "text/plain": [
       "<Figure size 432x288 with 1 Axes>"
      ]
     },
     "metadata": {},
     "output_type": "display_data"
    }
   ],
   "source": [
    "print('-'*80)\n",
    "my_colors = 'rgbkymc'\n",
    "test_class_distribution.plot(kind='bar')\n",
    "plt.xlabel('Class')\n",
    "plt.ylabel('Data points per Class')\n",
    "plt.title('Distribution of yi in test data')\n",
    "plt.grid()\n",
    "plt.show()"
   ]
  },
  {
   "cell_type": "code",
   "execution_count": 79,
   "metadata": {},
   "outputs": [
    {
     "name": "stdout",
     "output_type": "stream",
     "text": [
      "Number of data points in class 7 : 191 ( 28.765 %)\n",
      "Number of data points in class 4 : 137 ( 20.633 %)\n",
      "Number of data points in class 1 : 113 ( 17.018 %)\n",
      "Number of data points in class 2 : 91 ( 13.705 %)\n",
      "Number of data points in class 6 : 55 ( 8.283 %)\n",
      "Number of data points in class 5 : 48 ( 7.229 %)\n",
      "Number of data points in class 3 : 18 ( 2.711 %)\n",
      "Number of data points in class 9 : 7 ( 1.054 %)\n",
      "Number of data points in class 8 : 4 ( 0.602 %)\n"
     ]
    }
   ],
   "source": [
    "# -(train_class_distribution.values): the minus sign will give us in decreasing order\n",
    "sorted_yi = np.argsort(-test_class_distribution.values)\n",
    "for i in sorted_yi:\n",
    "    print('Number of data points in class', i+1, ':',test_class_distribution.values[i], '(', np.round((test_class_distribution.values[i]/test_df.shape[0]*100), 3), '%)')"
   ]
  },
  {
   "cell_type": "code",
   "execution_count": 80,
   "metadata": {},
   "outputs": [
    {
     "name": "stdout",
     "output_type": "stream",
     "text": [
      "--------------------------------------------------------------------------------\n"
     ]
    },
    {
     "data": {
      "image/png": "[encoded data removed]",
      "text/plain": [
       "<Figure size 432x288 with 1 Axes>"
      ]
     },
     "metadata": {},
     "output_type": "display_data"
    },
    {
     "name": "stdout",
     "output_type": "stream",
     "text": [
      "Number of data points in class 7 : 152 ( 28.625 %)\n",
      "Number of data points in class 4 : 110 ( 20.716 %)\n",
      "Number of data points in class 1 : 91 ( 17.137 %)\n",
      "Number of data points in class 2 : 72 ( 13.559 %)\n",
      "Number of data points in class 6 : 44 ( 8.286 %)\n",
      "Number of data points in class 5 : 39 ( 7.345 %)\n",
      "Number of data points in class 3 : 14 ( 2.637 %)\n",
      "Number of data points in class 9 : 6 ( 1.13 %)\n",
      "Number of data points in class 8 : 3 ( 0.565 %)\n"
     ]
    }
   ],
   "source": [
    "print('-'*80)\n",
    "my_colors = 'rgbkymc'\n",
    "cv_class_distribution.plot(kind='bar')\n",
    "plt.xlabel('Class')\n",
    "plt.ylabel('Data points per Class')\n",
    "plt.title('Distribution of yi in cross validation data')\n",
    "plt.grid()\n",
    "plt.show()\n",
    "\n",
    "# -(train_class_distribution.values): the minus sign will give us in decreasing order\n",
    "sorted_yi = np.argsort(-train_class_distribution.values)\n",
    "for i in sorted_yi:\n",
    "    print('Number of data points in class', i+1, ':',cv_class_distribution.values[i], '(', np.round((cv_class_distribution.values[i]/cv_df.shape[0]*100), 3), '%)')"
   ]
  },
  {
   "cell_type": "code",
   "execution_count": 90,
   "metadata": {},
   "outputs": [],
   "source": [
    "def get_gv_fea_dict(alpha, feature, df):\n",
    "    # value_count: it contains a dict like\n",
    "    # print(train_df['Gene'].value_counts())\n",
    "    # output:\n",
    "    #        {BRCA1      174\n",
    "    #         TP53       106\n",
    "    #         EGFR        86\n",
    "    #         BRCA2       75\n",
    "    #         PTEN        69\n",
    "    #         KIT         61\n",
    "    #         BRAF        60\n",
    "    #         ERBB2       47\n",
    "    #         PDGFRA      46\n",
    "    #         ...}\n",
    "    # print(train_df['Variation'].value_counts())\n",
    "    # output:\n",
    "    # {\n",
    "    # Truncating_Mutations                     63\n",
    "    # Deletion                                 43\n",
    "    # Amplification                            43\n",
    "    # Fusions                                  22\n",
    "    # Overexpression                            3\n",
    "    # E17K                                      3\n",
    "    # Q61L                                      3\n",
    "    # S222D                                     2\n",
    "    # P130S                                     2\n",
    "    # ...\n",
    "    # }\n",
    "    value_count = train_df[feature].value_counts()\n",
    "    \n",
    "    # gv_dict : Gene Variation Dict, which contains the probability array for each gene/variation\n",
    "    gv_dict = dict()\n",
    "    \n",
    "    # denominator will contain the number of time that particular feature occured in whole data\n",
    "    for i, denominator in value_count.items():\n",
    "        # vec will contain (p(yi==1/Gi) probability of gene/variation belongs to perticular class\n",
    "        # vec is 9 diamensional vector\n",
    "        vec = []\n",
    "        for k in range(1,10):\n",
    "            # print(train_df.loc[(train_df['Class']==1) & (train_df['Gene']=='BRCA1')])\n",
    "            #         ID   Gene             Variation  Class  \n",
    "            # 2470  2470  BRCA1                S1715C      1   \n",
    "            # 2486  2486  BRCA1                S1841R      1   \n",
    "            # 2614  2614  BRCA1                   M1R      1   \n",
    "            # 2432  2432  BRCA1                L1657P      1   \n",
    "            # 2567  2567  BRCA1                T1685A      1   \n",
    "            # 2583  2583  BRCA1                E1660G      1   \n",
    "            # 2634  2634  BRCA1                W1718L      1   \n",
    "            # cls_cnt.shape[0] will return the number of rows\n",
    "\n",
    "            cls_cnt = train_df.loc[(train_df['Class']==k) & (train_df[feature]==i)]\n",
    "            \n",
    "            # cls_cnt.shape[0](numerator) will contain the number of time that particular feature occured in whole data\n",
    "            vec.append((cls_cnt.shape[0] + alpha*10)/ (denominator + 90*alpha))\n",
    "\n",
    "        # we are adding the gene/variation to the dict as key and vec as value\n",
    "        gv_dict[i]=vec\n",
    "    return gv_dict\n",
    "\n",
    "# Get Gene variation feature\n",
    "def get_gv_feature(alpha, feature, df):\n",
    "    # print(gv_dict)\n",
    "    #     {'BRCA1': [0.20075757575757575, 0.03787878787878788, 0.068181818181818177, 0.13636363636363635, 0.25, 0.19318181818181818, 0.03787878787878788, 0.03787878787878788, 0.03787878787878788], \n",
    "    #      'TP53': [0.32142857142857145, 0.061224489795918366, 0.061224489795918366, 0.27040816326530615, 0.061224489795918366, 0.066326530612244902, 0.051020408163265307, 0.051020408163265307, 0.056122448979591837], \n",
    "    #      'EGFR': [0.056818181818181816, 0.21590909090909091, 0.0625, 0.068181818181818177, 0.068181818181818177, 0.0625, 0.34659090909090912, 0.0625, 0.056818181818181816], \n",
    "    #      'BRCA2': [0.13333333333333333, 0.060606060606060608, 0.060606060606060608, 0.078787878787878782, 0.1393939393939394, 0.34545454545454546, 0.060606060606060608, 0.060606060606060608, 0.060606060606060608], \n",
    "    #      'PTEN': [0.069182389937106917, 0.062893081761006289, 0.069182389937106917, 0.46540880503144655, 0.075471698113207544, 0.062893081761006289, 0.069182389937106917, 0.062893081761006289, 0.062893081761006289], \n",
    "    #      'KIT': [0.066225165562913912, 0.25165562913907286, 0.072847682119205295, 0.072847682119205295, 0.066225165562913912, 0.066225165562913912, 0.27152317880794702, 0.066225165562913912, 0.066225165562913912], \n",
    "    #      'BRAF': [0.066666666666666666, 0.17999999999999999, 0.073333333333333334, 0.073333333333333334, 0.093333333333333338, 0.080000000000000002, 0.29999999999999999, 0.066666666666666666, 0.066666666666666666],\n",
    "    #      ...\n",
    "    #     }\n",
    "    gv_dict = get_gv_fea_dict(alpha, feature, df)\n",
    "    # value_count is similar in get_gv_fea_dict\n",
    "    value_count = train_df[feature].value_counts()\n",
    "    \n",
    "    # gv_fea: Gene_variation feature, it will contain the feature for each feature value in the data\n",
    "    gv_fea = []\n",
    "    # for every feature values in the given data frame we will check if it is there in the train data then we will add the feature to gv_fea\n",
    "    # if not we will add [1/9,1/9,1/9,1/9,1/9,1/9,1/9,1/9,1/9] to gv_fea\n",
    "    for index, row in df.iterrows():\n",
    "        if row[feature] in dict(value_count).keys():\n",
    "            gv_fea.append(gv_dict[row[feature]])\n",
    "        else:\n",
    "            gv_fea.append([1/9,1/9,1/9,1/9,1/9,1/9,1/9,1/9,1/9])\n",
    "#             gv_fea.append([-1,-1,-1,-1,-1,-1,-1,-1,-1])\n",
    "    return gv_fea"
   ]
  },
  {
   "cell_type": "code",
   "execution_count": 92,
   "metadata": {},
   "outputs": [
    {
     "name": "stdout",
     "output_type": "stream",
     "text": [
      "Number of Unique Genes : 243\n",
      "BRCA1     165\n",
      "TP53      102\n",
      "EGFR       86\n",
      "BRCA2      82\n",
      "PTEN       73\n",
      "KIT        66\n",
      "BRAF       57\n",
      "ERBB2      48\n",
      "ALK        42\n",
      "CDKN2A     38\n",
      "Name: Gene, dtype: int64\n"
     ]
    }
   ],
   "source": [
    "unique_genes = train_df['Gene'].value_counts()\n",
    "print('Number of Unique Genes :', unique_genes.shape[0])\n",
    "# the top 10 genes that occured most\n",
    "print(unique_genes.head(10))"
   ]
  },
  {
   "cell_type": "code",
   "execution_count": 95,
   "metadata": {},
   "outputs": [],
   "source": [
    "alpha = 1\n",
    "# train gene feature\n",
    "train_gene_feature_responseCoding = np.array(get_gv_feature(alpha, \"Gene\", train_df))\n",
    "# test gene feature\n",
    "test_gene_feature_responseCoding = np.array(get_gv_feature(alpha, \"Gene\", test_df))\n",
    "# cross validation gene feature\n",
    "cv_gene_feature_responseCoding = np.array(get_gv_feature(alpha, \"Gene\", cv_df))"
   ]
  },
  {
   "cell_type": "code",
   "execution_count": 96,
   "metadata": {},
   "outputs": [
    {
     "data": {
      "text/plain": [
       "(2121, 9)"
      ]
     },
     "execution_count": 96,
     "metadata": {},
     "output_type": "execute_result"
    }
   ],
   "source": [
    "train_gene_feature_responseCoding.shape"
   ]
  },
  {
   "cell_type": "code",
   "execution_count": 98,
   "metadata": {},
   "outputs": [],
   "source": [
    "# one-hot encoding of Gene feature.\n",
    "from sklearn.feature_extraction.text import CountVectorizer\n",
    "gene_vectorizer = CountVectorizer()\n",
    "train_gene_feature_onehotCoding = gene_vectorizer.fit_transform(train_df['Gene'])\n",
    "test_gene_feature_onehotCoding = gene_vectorizer.transform(test_df['Gene'])\n",
    "cv_gene_feature_onehotCoding = gene_vectorizer.transform(cv_df['Gene'])"
   ]
  },
  {
   "cell_type": "code",
   "execution_count": 100,
   "metadata": {},
   "outputs": [
    {
     "data": {
      "text/plain": [
       "346      CDH1\n",
       "1458    FGFR2\n",
       "2143    KEAP1\n",
       "2465    BRCA1\n",
       "2345     JAK2\n",
       "Name: Gene, dtype: object"
      ]
     },
     "execution_count": 100,
     "metadata": {},
     "output_type": "execute_result"
    }
   ],
   "source": [
    "train_df['Gene'].head()"
   ]
  },
  {
   "cell_type": "code",
   "execution_count": 101,
   "metadata": {},
   "outputs": [
    {
     "data": {
      "text/plain": [
       "['abl1',\n",
       " 'acvr1',\n",
       " 'ago2',\n",
       " 'akt1',\n",
       " 'akt2',\n",
       " 'akt3',\n",
       " 'alk',\n",
       " 'apc',\n",
       " 'ar',\n",
       " 'araf',\n",
       " 'arid1a',\n",
       " 'arid1b',\n",
       " 'arid2',\n",
       " 'asxl1',\n",
       " 'atm',\n",
       " 'atrx',\n",
       " 'aurka',\n",
       " 'aurkb',\n",
       " 'axin1',\n",
       " 'axl',\n",
       " 'b2m',\n",
       " 'bap1',\n",
       " 'bard1',\n",
       " 'bcl10',\n",
       " 'bcl2',\n",
       " 'bcl2l11',\n",
       " 'bcor',\n",
       " 'braf',\n",
       " 'brca1',\n",
       " 'brca2',\n",
       " 'brd4',\n",
       " 'brip1',\n",
       " 'btk',\n",
       " 'card11',\n",
       " 'carm1',\n",
       " 'casp8',\n",
       " 'cbl',\n",
       " 'ccnd1',\n",
       " 'ccnd2',\n",
       " 'ccnd3',\n",
       " 'ccne1',\n",
       " 'cdh1',\n",
       " 'cdk12',\n",
       " 'cdk4',\n",
       " 'cdk6',\n",
       " 'cdk8',\n",
       " 'cdkn1a',\n",
       " 'cdkn1b',\n",
       " 'cdkn2a',\n",
       " 'cdkn2b',\n",
       " 'cdkn2c',\n",
       " 'cebpa',\n",
       " 'chek2',\n",
       " 'cic',\n",
       " 'crebbp',\n",
       " 'ctcf',\n",
       " 'ctla4',\n",
       " 'ctnnb1',\n",
       " 'ddr2',\n",
       " 'dicer1',\n",
       " 'dnmt3a',\n",
       " 'dnmt3b',\n",
       " 'dusp4',\n",
       " 'egfr',\n",
       " 'eif1ax',\n",
       " 'elf3',\n",
       " 'ep300',\n",
       " 'epas1',\n",
       " 'erbb2',\n",
       " 'erbb3',\n",
       " 'erbb4',\n",
       " 'ercc2',\n",
       " 'ercc3',\n",
       " 'ercc4',\n",
       " 'erg',\n",
       " 'errfi1',\n",
       " 'esr1',\n",
       " 'etv1',\n",
       " 'etv6',\n",
       " 'ewsr1',\n",
       " 'ezh2',\n",
       " 'fam58a',\n",
       " 'fanca',\n",
       " 'fancc',\n",
       " 'fat1',\n",
       " 'fbxw7',\n",
       " 'fgf19',\n",
       " 'fgf3',\n",
       " 'fgf4',\n",
       " 'fgfr1',\n",
       " 'fgfr2',\n",
       " 'fgfr3',\n",
       " 'fgfr4',\n",
       " 'flt3',\n",
       " 'foxa1',\n",
       " 'foxl2',\n",
       " 'foxp1',\n",
       " 'gata3',\n",
       " 'gli1',\n",
       " 'gna11',\n",
       " 'gnas',\n",
       " 'h3f3a',\n",
       " 'hist1h1c',\n",
       " 'hla',\n",
       " 'hnf1a',\n",
       " 'hras',\n",
       " 'idh1',\n",
       " 'idh2',\n",
       " 'igf1r',\n",
       " 'ikzf1',\n",
       " 'il7r',\n",
       " 'inpp4b',\n",
       " 'jak1',\n",
       " 'jak2',\n",
       " 'jun',\n",
       " 'kdm5a',\n",
       " 'kdm5c',\n",
       " 'kdm6a',\n",
       " 'kdr',\n",
       " 'keap1',\n",
       " 'kit',\n",
       " 'klf4',\n",
       " 'kmt2a',\n",
       " 'kmt2b',\n",
       " 'kmt2c',\n",
       " 'kmt2d',\n",
       " 'knstrn',\n",
       " 'kras',\n",
       " 'lats1',\n",
       " 'map2k1',\n",
       " 'map2k2',\n",
       " 'map2k4',\n",
       " 'map3k1',\n",
       " 'mapk1',\n",
       " 'mdm2',\n",
       " 'mdm4',\n",
       " 'med12',\n",
       " 'mef2b',\n",
       " 'met',\n",
       " 'mga',\n",
       " 'mlh1',\n",
       " 'mpl',\n",
       " 'msh2',\n",
       " 'msh6',\n",
       " 'mtor',\n",
       " 'myc',\n",
       " 'mycn',\n",
       " 'myd88',\n",
       " 'myod1',\n",
       " 'ncor1',\n",
       " 'nf1',\n",
       " 'nf2',\n",
       " 'nfe2l2',\n",
       " 'nfkbia',\n",
       " 'nkx2',\n",
       " 'notch1',\n",
       " 'notch2',\n",
       " 'npm1',\n",
       " 'nras',\n",
       " 'nsd1',\n",
       " 'ntrk1',\n",
       " 'ntrk2',\n",
       " 'ntrk3',\n",
       " 'nup93',\n",
       " 'pak1',\n",
       " 'pax8',\n",
       " 'pbrm1',\n",
       " 'pdgfra',\n",
       " 'pdgfrb',\n",
       " 'pik3ca',\n",
       " 'pik3cb',\n",
       " 'pik3cd',\n",
       " 'pik3r1',\n",
       " 'pik3r2',\n",
       " 'pik3r3',\n",
       " 'pim1',\n",
       " 'pms2',\n",
       " 'pole',\n",
       " 'ppp2r1a',\n",
       " 'ppp6c',\n",
       " 'prdm1',\n",
       " 'ptch1',\n",
       " 'pten',\n",
       " 'ptpn11',\n",
       " 'ptprd',\n",
       " 'ptprt',\n",
       " 'rab35',\n",
       " 'rac1',\n",
       " 'rad21',\n",
       " 'rad50',\n",
       " 'rad51b',\n",
       " 'rad51c',\n",
       " 'rad51d',\n",
       " 'rad54l',\n",
       " 'raf1',\n",
       " 'rasa1',\n",
       " 'rb1',\n",
       " 'rbm10',\n",
       " 'ret',\n",
       " 'rheb',\n",
       " 'rhoa',\n",
       " 'rictor',\n",
       " 'rit1',\n",
       " 'rnf43',\n",
       " 'ros1',\n",
       " 'runx1',\n",
       " 'rxra',\n",
       " 'rybp',\n",
       " 'sdhb',\n",
       " 'sdhc',\n",
       " 'setd2',\n",
       " 'sf3b1',\n",
       " 'shoc2',\n",
       " 'smad2',\n",
       " 'smad3',\n",
       " 'smad4',\n",
       " 'smarca4',\n",
       " 'smarcb1',\n",
       " 'smo',\n",
       " 'sos1',\n",
       " 'sox9',\n",
       " 'spop',\n",
       " 'src',\n",
       " 'srsf2',\n",
       " 'stag2',\n",
       " 'stat3',\n",
       " 'stk11',\n",
       " 'tert',\n",
       " 'tet1',\n",
       " 'tet2',\n",
       " 'tgfbr1',\n",
       " 'tgfbr2',\n",
       " 'tmprss2',\n",
       " 'tp53',\n",
       " 'tp53bp1',\n",
       " 'tsc1',\n",
       " 'tsc2',\n",
       " 'u2af1',\n",
       " 'vegfa',\n",
       " 'vhl',\n",
       " 'whsc1',\n",
       " 'xpo1',\n",
       " 'yap1']"
      ]
     },
     "execution_count": 101,
     "metadata": {},
     "output_type": "execute_result"
    }
   ],
   "source": [
    "gene_vectorizer.get_feature_names()"
   ]
  },
  {
   "cell_type": "code",
   "execution_count": 103,
   "metadata": {},
   "outputs": [
    {
     "data": {
      "text/plain": [
       "(2121, 243)"
      ]
     },
     "execution_count": 103,
     "metadata": {},
     "output_type": "execute_result"
    }
   ],
   "source": [
    "train_gene_feature_onehotCoding.shape"
   ]
  },
  {
   "cell_type": "code",
   "execution_count": 117,
   "metadata": {},
   "outputs": [
    {
     "data": {
      "text/plain": [
       "scipy.sparse.csr.csr_matrix"
      ]
     },
     "execution_count": 117,
     "metadata": {},
     "output_type": "execute_result"
    }
   ],
   "source": [
    "type(train_gene_feature_onehotCoding)\n"
   ]
  },
  {
   "cell_type": "code",
   "execution_count": 122,
   "metadata": {},
   "outputs": [
    {
     "data": {
      "text/plain": [
       "matrix([[0, 0, 0, ..., 0, 0, 0],\n",
       "        [0, 0, 0, ..., 0, 0, 0],\n",
       "        [0, 0, 0, ..., 0, 0, 0],\n",
       "        ...,\n",
       "        [0, 0, 0, ..., 0, 0, 0],\n",
       "        [0, 0, 0, ..., 0, 0, 0],\n",
       "        [0, 0, 0, ..., 0, 0, 0]], dtype=int64)"
      ]
     },
     "execution_count": 122,
     "metadata": {},
     "output_type": "execute_result"
    }
   ],
   "source": [
    "train_gene_feature_onehotCoding.todense()"
   ]
  },
  {
   "cell_type": "code",
   "execution_count": 126,
   "metadata": {},
   "outputs": [
    {
     "name": "stdout",
     "output_type": "stream",
     "text": [
      "For values of alpha =  1e-05 The log loss is: 1.2294853775913421\n",
      "For values of alpha =  0.0001 The log loss is: 1.2050224279715487\n",
      "For values of alpha =  0.001 The log loss is: 1.2288557614866753\n",
      "For values of alpha =  0.01 The log loss is: 1.3355975341000046\n",
      "For values of alpha =  0.1 The log loss is: 1.4189133871887565\n",
      "For values of alpha =  1 The log loss is: 1.4547254240390823\n"
     ]
    },
    {
     "data": {
      "image/png": "[encoded data removed]",
      "text/plain": [
       "<Figure size 432x288 with 1 Axes>"
      ]
     },
     "metadata": {},
     "output_type": "display_data"
    },
    {
     "name": "stdout",
     "output_type": "stream",
     "text": [
      "For values of best alpha =  0.0001 The train log loss is: 0.9790972715120168\n",
      "For values of best alpha =  0.0001 The cross validation log loss is: 1.2050224279715487\n",
      "For values of best alpha =  0.0001 The test log loss is: 1.166603675262404\n"
     ]
    }
   ],
   "source": [
    "from sklearn.linear_model import SGDClassifier\n",
    "from sklearn.calibration import CalibratedClassifierCV\n",
    "from sklearn.metrics.classification import accuracy_score, log_loss\n",
    "alpha = [10 ** x for x in range(-5, 1)] # hyperparam for SGD classifier.\n",
    "\n",
    "# read more about SGDClassifier() at http://scikit-learn.org/stable/modules/generated/sklearn.linear_model.SGDClassifier.html\n",
    "# ------------------------------\n",
    "# default parameters\n",
    "# SGDClassifier(loss=’hinge’, penalty=’l2’, alpha=0.0001, l1_ratio=0.15, fit_intercept=True, max_iter=None, tol=None, \n",
    "# shuffle=True, verbose=0, epsilon=0.1, n_jobs=1, random_state=None, learning_rate=’optimal’, eta0=0.0, power_t=0.5, \n",
    "# class_weight=None, warm_start=False, average=False, n_iter=None)\n",
    "\n",
    "# some of methods\n",
    "# fit(X, y[, coef_init, intercept_init, …])\tFit linear model with Stochastic Gradient Descent.\n",
    "# predict(X)\tPredict class labels for samples in X.\n",
    "\n",
    "#-------------------------------\n",
    "# video link: \n",
    "#------------------------------\n",
    "\n",
    "\n",
    "cv_log_error_array=[]\n",
    "for i in alpha:\n",
    "    clf = SGDClassifier(alpha=i, penalty='l2', loss='log', random_state=42)\n",
    "    clf.fit(train_gene_feature_onehotCoding, y_train)\n",
    "    sig_clf = CalibratedClassifierCV(clf, method=\"sigmoid\")\n",
    "    sig_clf.fit(train_gene_feature_onehotCoding, y_train)\n",
    "    predict_y = sig_clf.predict_proba(cv_gene_feature_onehotCoding)\n",
    "    cv_log_error_array.append(log_loss(y_cv, predict_y, labels=clf.classes_, eps=1e-15))\n",
    "    print('For values of alpha = ', i, \"The log loss is:\",log_loss(y_cv, predict_y, labels=clf.classes_, eps=1e-15))\n",
    "\n",
    "fig, ax = plt.subplots()\n",
    "ax.plot(alpha, cv_log_error_array,c='g')\n",
    "for i, txt in enumerate(np.round(cv_log_error_array,3)):\n",
    "    ax.annotate((alpha[i],np.round(txt,3)), (alpha[i],cv_log_error_array[i]))\n",
    "plt.grid()\n",
    "plt.title(\"Cross Validation Error for each alpha\")\n",
    "plt.xlabel(\"Alpha i's\")\n",
    "plt.ylabel(\"Error measure\")\n",
    "plt.show()\n",
    "\n",
    "\n",
    "best_alpha = np.argmin(cv_log_error_array)\n",
    "clf = SGDClassifier(alpha=alpha[best_alpha], penalty='l2', loss='log', random_state=42)\n",
    "clf.fit(train_gene_feature_onehotCoding, y_train)\n",
    "sig_clf = CalibratedClassifierCV(clf, method=\"sigmoid\")\n",
    "sig_clf.fit(train_gene_feature_onehotCoding, y_train)\n",
    "\n",
    "predict_y = sig_clf.predict_proba(train_gene_feature_onehotCoding)\n",
    "print('For values of best alpha = ', alpha[best_alpha], \"The train log loss is:\",log_loss(y_train, predict_y, labels=clf.classes_, eps=1e-15))\n",
    "predict_y = sig_clf.predict_proba(cv_gene_feature_onehotCoding)\n",
    "print('For values of best alpha = ', alpha[best_alpha], \"The cross validation log loss is:\",log_loss(y_cv, predict_y, labels=clf.classes_, eps=1e-15))\n",
    "predict_y = sig_clf.predict_proba(test_gene_feature_onehotCoding)\n",
    "print('For values of best alpha = ', alpha[best_alpha], \"The test log loss is:\",log_loss(y_test, predict_y, labels=clf.classes_, eps=1e-15))"
   ]
  },
  {
   "cell_type": "code",
   "execution_count": 128,
   "metadata": {},
   "outputs": [
    {
     "name": "stdout",
     "output_type": "stream",
     "text": [
      "Number of Unique Variations : 1929\n",
      "Truncating Mutations    61\n",
      "Amplification           47\n",
      "Deletion                40\n",
      "Fusions                 23\n",
      "Overexpression           4\n",
      "G12V                     4\n",
      "T58I                     3\n",
      "I31M                     2\n",
      "S308A                    2\n",
      "Q61H                     2\n",
      "Name: Variation, dtype: int64\n"
     ]
    }
   ],
   "source": [
    "unique_variations = train_df['Variation'].value_counts()\n",
    "print('Number of Unique Variations :', unique_variations.shape[0])\n",
    "# the top 10 variations that occured most\n",
    "print(unique_variations.head(10))"
   ]
  },
  {
   "cell_type": "code",
   "execution_count": 129,
   "metadata": {},
   "outputs": [
    {
     "data": {
      "text/plain": [
       "1929"
      ]
     },
     "execution_count": 129,
     "metadata": {},
     "output_type": "execute_result"
    }
   ],
   "source": [
    "unique_variations.shape[0]"
   ]
  },
  {
   "cell_type": "code",
   "execution_count": 130,
   "metadata": {},
   "outputs": [],
   "source": [
    "alpha = 1\n",
    "# train gene feature\n",
    "train_variation_feature_responseCoding = np.array(get_gv_feature(alpha, \"Variation\", train_df))\n",
    "# test gene feature\n",
    "test_variation_feature_responseCoding = np.array(get_gv_feature(alpha, \"Variation\", test_df))\n",
    "# cross validation gene feature\n",
    "cv_variation_feature_responseCoding = np.array(get_gv_feature(alpha, \"Variation\", cv_df))"
   ]
  },
  {
   "cell_type": "code",
   "execution_count": 131,
   "metadata": {},
   "outputs": [
    {
     "data": {
      "text/plain": [
       "(2121, 9)"
      ]
     },
     "execution_count": 131,
     "metadata": {},
     "output_type": "execute_result"
    }
   ],
   "source": [
    "train_variation_feature_responseCoding.shape"
   ]
  },
  {
   "cell_type": "code",
   "execution_count": 132,
   "metadata": {},
   "outputs": [],
   "source": [
    "# one-hot encoding of variation feature.\n",
    "variation_vectorizer = CountVectorizer()\n",
    "train_variation_feature_onehotCoding = variation_vectorizer.fit_transform(train_df['Variation'])\n",
    "test_variation_feature_onehotCoding = variation_vectorizer.transform(test_df['Variation'])\n",
    "cv_variation_feature_onehotCoding = variation_vectorizer.transform(cv_df['Variation'])"
   ]
  },
  {
   "cell_type": "code",
   "execution_count": 133,
   "metadata": {},
   "outputs": [
    {
     "data": {
      "text/plain": [
       "(2121, 1963)"
      ]
     },
     "execution_count": 133,
     "metadata": {},
     "output_type": "execute_result"
    }
   ],
   "source": [
    "train_variation_feature_onehotCoding.shape"
   ]
  },
  {
   "cell_type": "code",
   "execution_count": 134,
   "metadata": {},
   "outputs": [
    {
     "name": "stdout",
     "output_type": "stream",
     "text": [
      "For values of alpha =  1e-05 The log loss is: 1.6842949353251762\n",
      "For values of alpha =  0.0001 The log loss is: 1.6761319140163535\n",
      "For values of alpha =  0.001 The log loss is: 1.6794297496519315\n",
      "For values of alpha =  0.01 The log loss is: 1.691433549594602\n",
      "For values of alpha =  0.1 The log loss is: 1.7194490790702772\n",
      "For values of alpha =  1 The log loss is: 1.7218626637589969\n"
     ]
    },
    {
     "data": {
      "image/png": "[encoded data removed]",
      "text/plain": [
       "<Figure size 432x288 with 1 Axes>"
      ]
     },
     "metadata": {},
     "output_type": "display_data"
    },
    {
     "name": "stdout",
     "output_type": "stream",
     "text": [
      "For values of best alpha =  0.0001 The train log loss is: 0.7573621742450946\n",
      "For values of best alpha =  0.0001 The cross validation log loss is: 1.6761319140163535\n",
      "For values of best alpha =  0.0001 The test log loss is: 1.703987681583039\n"
     ]
    }
   ],
   "source": [
    "alpha = [10 ** x for x in range(-5, 1)]\n",
    "\n",
    "cv_log_error_array=[]\n",
    "for i in alpha:\n",
    "    clf = SGDClassifier(alpha=i, penalty='l2', loss='log', random_state=42)\n",
    "    clf.fit(train_variation_feature_onehotCoding, y_train)\n",
    "    \n",
    "    sig_clf = CalibratedClassifierCV(clf, method=\"sigmoid\")\n",
    "    sig_clf.fit(train_variation_feature_onehotCoding, y_train)\n",
    "    predict_y = sig_clf.predict_proba(cv_variation_feature_onehotCoding)\n",
    "    \n",
    "    cv_log_error_array.append(log_loss(y_cv, predict_y, labels=clf.classes_, eps=1e-15))\n",
    "    print('For values of alpha = ', i, \"The log loss is:\",log_loss(y_cv, predict_y, labels=clf.classes_, eps=1e-15))\n",
    "\n",
    "fig, ax = plt.subplots()\n",
    "ax.plot(alpha, cv_log_error_array,c='g')\n",
    "for i, txt in enumerate(np.round(cv_log_error_array,3)):\n",
    "    ax.annotate((alpha[i],np.round(txt,3)), (alpha[i],cv_log_error_array[i]))\n",
    "plt.grid()\n",
    "plt.title(\"Cross Validation Error for each alpha\")\n",
    "plt.xlabel(\"Alpha i's\")\n",
    "plt.ylabel(\"Error measure\")\n",
    "plt.show()\n",
    "\n",
    "best_alpha = np.argmin(cv_log_error_array)\n",
    "clf = SGDClassifier(alpha=alpha[best_alpha], penalty='l2', loss='log', random_state=42)\n",
    "clf.fit(train_variation_feature_onehotCoding, y_train)\n",
    "sig_clf = CalibratedClassifierCV(clf, method=\"sigmoid\")\n",
    "sig_clf.fit(train_variation_feature_onehotCoding, y_train)\n",
    "\n",
    "predict_y = sig_clf.predict_proba(train_variation_feature_onehotCoding)\n",
    "print('For values of best alpha = ', alpha[best_alpha], \"The train log loss is:\",log_loss(y_train, predict_y, labels=clf.classes_, eps=1e-15))\n",
    "predict_y = sig_clf.predict_proba(cv_variation_feature_onehotCoding)\n",
    "print('For values of best alpha = ', alpha[best_alpha], \"The cross validation log loss is:\",log_loss(y_cv, predict_y, labels=clf.classes_, eps=1e-15))\n",
    "predict_y = sig_clf.predict_proba(test_variation_feature_onehotCoding)\n",
    "print('For values of best alpha = ', alpha[best_alpha], \"The test log loss is:\",log_loss(y_test, predict_y, labels=clf.classes_, eps=1e-15))"
   ]
  },
  {
   "cell_type": "code",
   "execution_count": 135,
   "metadata": {},
   "outputs": [
    {
     "name": "stdout",
     "output_type": "stream",
     "text": [
      "Ans\n",
      "1. In test data 72 out of 664 : 10.843373493975903\n",
      "2. In cross validation data 53 out of  531 : 9.981167608286253\n"
     ]
    }
   ],
   "source": [
    "test_coverage=test_df[test_df['Variation'].isin(list(set(train_df['Variation'])))].shape[0]\n",
    "cv_coverage=cv_df[cv_df['Variation'].isin(list(set(train_df['Variation'])))].shape[0]\n",
    "print('Ans\\n1. In test data',test_coverage, 'out of',test_df.shape[0], \":\",(test_coverage/test_df.shape[0])*100)\n",
    "print('2. In cross validation data',cv_coverage, 'out of ',cv_df.shape[0],\":\" ,(cv_coverage/cv_df.shape[0])*100)"
   ]
  },
  {
   "cell_type": "code",
   "execution_count": 143,
   "metadata": {},
   "outputs": [],
   "source": [
    "def extract_dictionary_paddle(cls_text):\n",
    "    dictionary = defaultdict(int)\n",
    "    for index, row in cls_text.iterrows():\n",
    "        for word in row['cleaned_text'].split():\n",
    "            dictionary[word] +=1\n",
    "    return dictionary"
   ]
  },
  {
   "cell_type": "code",
   "execution_count": 148,
   "metadata": {},
   "outputs": [],
   "source": [
    "import math\n",
    "def get_text_responsecoding(df):\n",
    "    text_feature_responseCoding = np.zeros((df.shape[0],9))\n",
    "    for i in range(0,9):\n",
    "        row_index = 0\n",
    "        for index, row in df.iterrows():\n",
    "            sum_prob = 0\n",
    "            for word in row['cleaned_text'].split():\n",
    "                sum_prob += math.log(((dict_list[i].get(word,0)+10 )/(total_dict.get(word,0)+90)))\n",
    "            text_feature_responseCoding[row_index][i] = math.exp(sum_prob/len(row['cleaned_text'].split()))\n",
    "            row_index += 1\n",
    "    return text_feature_responseCoding"
   ]
  },
  {
   "cell_type": "code",
   "execution_count": 149,
   "metadata": {},
   "outputs": [
    {
     "name": "stdout",
     "output_type": "stream",
     "text": [
      "Total number of unique words in train data : 49521\n"
     ]
    }
   ],
   "source": [
    "# building a CountVectorizer with all the words that occured minimum 3 times in train data\n",
    "text_vectorizer = CountVectorizer(min_df=3)\n",
    "train_text_feature_onehotCoding = text_vectorizer.fit_transform(train_df['cleaned_text'])\n",
    "# getting all the feature names (words)\n",
    "train_text_features= text_vectorizer.get_feature_names()\n",
    "\n",
    "# train_text_feature_onehotCoding.sum(axis=0).A1 will sum every row and returns (1*number of features) vector\n",
    "train_text_fea_counts = train_text_feature_onehotCoding.sum(axis=0).A1\n",
    "\n",
    "# zip(list(text_features),text_fea_counts) will zip a word with its number of times it occured\n",
    "text_fea_dict = dict(zip(list(train_text_features),train_text_fea_counts))\n",
    "\n",
    "\n",
    "print(\"Total number of unique words in train data :\", len(train_text_features))"
   ]
  },
  {
   "cell_type": "code",
   "execution_count": 150,
   "metadata": {},
   "outputs": [],
   "source": [
    "from collections import Counter, defaultdict\n",
    "dict_list = []\n",
    "# dict_list =[] contains 9 dictoinaries each corresponds to a class\n",
    "for i in range(1,10):\n",
    "    cls_text = train_df[train_df['Class']==i]\n",
    "    # build a word dict based on the words in that class\n",
    "    dict_list.append(extract_dictionary_paddle(cls_text))\n",
    "    # append it to dict_list\n",
    "\n",
    "# dict_list[i] is build on i'th  class text data\n",
    "# total_dict is buid on whole training text data\n",
    "total_dict = extract_dictionary_paddle(train_df)\n",
    "\n",
    "\n",
    "confuse_array = []\n",
    "for i in train_text_features:\n",
    "    ratios = []\n",
    "    max_val = -1\n",
    "    for j in range(0,9):\n",
    "        ratios.append((dict_list[j][i]+10 )/(total_dict[i]+90))\n",
    "    confuse_array.append(ratios)\n",
    "confuse_array = np.array(confuse_array)"
   ]
  },
  {
   "cell_type": "code",
   "execution_count": 151,
   "metadata": {},
   "outputs": [],
   "source": [
    "#response coding of text features\n",
    "train_text_feature_responseCoding  = get_text_responsecoding(train_df)\n",
    "test_text_feature_responseCoding  = get_text_responsecoding(test_df)\n",
    "cv_text_feature_responseCoding  = get_text_responsecoding(cv_df)"
   ]
  },
  {
   "cell_type": "code",
   "execution_count": 152,
   "metadata": {},
   "outputs": [],
   "source": [
    "train_text_feature_responseCoding = (train_text_feature_responseCoding.T/train_text_feature_responseCoding.sum(axis=1)).T\n",
    "test_text_feature_responseCoding = (test_text_feature_responseCoding.T/test_text_feature_responseCoding.sum(axis=1)).T\n",
    "cv_text_feature_responseCoding = (cv_text_feature_responseCoding.T/cv_text_feature_responseCoding.sum(axis=1)).T"
   ]
  },
  {
   "cell_type": "code",
   "execution_count": 154,
   "metadata": {},
   "outputs": [],
   "source": [
    "from sklearn.preprocessing import normalize\n",
    "train_text_feature_onehotCoding = normalize(train_text_feature_onehotCoding, axis=0)\n",
    "\n",
    "# we use the same vectorizer that was trained on train data\n",
    "test_text_feature_onehotCoding = text_vectorizer.transform(test_df['cleaned_text'])\n",
    "# don't forget to normalize every feature\n",
    "test_text_feature_onehotCoding = normalize(test_text_feature_onehotCoding, axis=0)\n",
    "\n",
    "# we use the same vectorizer that was trained on train data\n",
    "cv_text_feature_onehotCoding = text_vectorizer.transform(cv_df['cleaned_text'])\n",
    "# don't forget to normalize every feature\n",
    "cv_text_feature_onehotCoding = normalize(cv_text_feature_onehotCoding, axis=0)"
   ]
  },
  {
   "cell_type": "code",
   "execution_count": 155,
   "metadata": {},
   "outputs": [],
   "source": [
    "sorted_text_fea_dict = dict(sorted(text_fea_dict.items(), key=lambda x: x[1] , reverse=True))\n",
    "sorted_text_occur = np.array(list(sorted_text_fea_dict.values()))"
   ]
  },
  {
   "cell_type": "code",
   "execution_count": 156,
   "metadata": {},
   "outputs": [
    {
     "name": "stdout",
     "output_type": "stream",
     "text": [
      "Counter({3: 5084, 4: 3665, 6: 3239, 5: 2759, 7: 1839, 9: 1828, 8: 1688, 10: 1413, 11: 1222, 12: 1197, 13: 981, 14: 943, 15: 775, 18: 730, 17: 669, 16: 617, 20: 562, 19: 530, 21: 494, 22: 457, 24: 447, 43: 435, 23: 400, 25: 384, 28: 358, 30: 343, 26: 331, 27: 323, 29: 281, 47: 266, 34: 243, 36: 240, 31: 237, 32: 235, 40: 230, 33: 229, 35: 224, 37: 214, 38: 205, 48: 188, 42: 182, 44: 179, 45: 173, 39: 173, 56: 161, 46: 155, 54: 138, 41: 137, 50: 132, 51: 128, 49: 127, 57: 120, 52: 120, 72: 117, 55: 116, 60: 110, 53: 105, 70: 100, 63: 100, 58: 95, 69: 93, 62: 90, 66: 88, 78: 84, 65: 83, 61: 83, 59: 80, 75: 79, 67: 77, 74: 75, 68: 74, 80: 73, 73: 72, 64: 69, 91: 67, 77: 67, 76: 66, 94: 65, 86: 64, 79: 63, 71: 63, 89: 61, 81: 61, 88: 59, 87: 59, 85: 59, 83: 59, 110: 58, 97: 54, 93: 54, 82: 54, 98: 53, 96: 53, 90: 53, 84: 51, 92: 50, 106: 48, 95: 48, 102: 47, 105: 46, 117: 45, 108: 45, 104: 45, 99: 44, 112: 41, 135: 40, 107: 39, 141: 38, 130: 38, 111: 38, 109: 38, 103: 38, 101: 38, 100: 38, 118: 37, 133: 35, 131: 35, 116: 35, 122: 34, 120: 34, 152: 32, 144: 32, 126: 32, 169: 31, 155: 31, 140: 31, 113: 31, 164: 30, 154: 30, 114: 30, 156: 29, 171: 28, 160: 28, 145: 28, 121: 28, 143: 27, 134: 27, 125: 27, 115: 27, 148: 26, 127: 26, 189: 25, 146: 25, 139: 25, 136: 25, 128: 25, 124: 25, 182: 24, 153: 24, 147: 24, 138: 24, 129: 24, 119: 24, 190: 23, 162: 23, 151: 23, 132: 23, 123: 23, 210: 22, 187: 22, 225: 21, 165: 21, 137: 21, 183: 20, 174: 20, 161: 20, 159: 20, 230: 19, 207: 19, 206: 19, 199: 19, 195: 19, 179: 19, 175: 19, 233: 18, 196: 18, 188: 18, 180: 18, 170: 18, 168: 18, 150: 18, 142: 18, 234: 17, 204: 17, 203: 17, 192: 17, 186: 17, 185: 17, 172: 17, 157: 17, 257: 16, 244: 16, 235: 16, 223: 16, 219: 16, 218: 16, 215: 16, 202: 16, 184: 16, 181: 16, 176: 16, 167: 16, 158: 16, 149: 16, 274: 15, 247: 15, 214: 15, 200: 15, 178: 15, 177: 15, 163: 15, 264: 14, 262: 14, 246: 14, 231: 14, 222: 14, 220: 14, 213: 14, 205: 14, 197: 14, 193: 14, 191: 14, 350: 13, 283: 13, 276: 13, 258: 13, 255: 13, 252: 13, 236: 13, 216: 13, 212: 13, 209: 13, 173: 13, 166: 13, 291: 12, 268: 12, 254: 12, 250: 12, 245: 12, 232: 12, 224: 12, 221: 12, 217: 12, 194: 12, 305: 11, 300: 11, 298: 11, 295: 11, 284: 11, 265: 11, 253: 11, 240: 11, 237: 11, 229: 11, 228: 11, 227: 11, 395: 10, 383: 10, 356: 10, 333: 10, 326: 10, 323: 10, 306: 10, 302: 10, 288: 10, 282: 10, 271: 10, 269: 10, 248: 10, 226: 10, 211: 10, 201: 10, 602: 9, 462: 9, 444: 9, 368: 9, 360: 9, 354: 9, 345: 9, 344: 9, 338: 9, 330: 9, 320: 9, 311: 9, 309: 9, 297: 9, 289: 9, 281: 9, 278: 9, 277: 9, 273: 9, 263: 9, 259: 9, 251: 9, 243: 9, 242: 9, 198: 9, 500: 8, 465: 8, 450: 8, 443: 8, 429: 8, 393: 8, 387: 8, 365: 8, 355: 8, 351: 8, 348: 8, 342: 8, 324: 8, 321: 8, 313: 8, 312: 8, 308: 8, 286: 8, 280: 8, 275: 8, 270: 8, 208: 8, 584: 7, 528: 7, 525: 7, 520: 7, 481: 7, 466: 7, 463: 7, 461: 7, 459: 7, 456: 7, 453: 7, 452: 7, 449: 7, 435: 7, 433: 7, 423: 7, 410: 7, 402: 7, 396: 7, 394: 7, 390: 7, 381: 7, 377: 7, 376: 7, 372: 7, 371: 7, 369: 7, 347: 7, 341: 7, 339: 7, 337: 7, 332: 7, 331: 7, 328: 7, 327: 7, 319: 7, 314: 7, 307: 7, 303: 7, 299: 7, 296: 7, 287: 7, 285: 7, 272: 7, 266: 7, 260: 7, 249: 7, 241: 7, 238: 7, 935: 6, 773: 6, 736: 6, 685: 6, 679: 6, 644: 6, 619: 6, 600: 6, 580: 6, 579: 6, 573: 6, 550: 6, 532: 6, 516: 6, 514: 6, 479: 6, 448: 6, 447: 6, 439: 6, 413: 6, 409: 6, 400: 6, 389: 6, 386: 6, 384: 6, 373: 6, 367: 6, 363: 6, 353: 6, 349: 6, 334: 6, 329: 6, 322: 6, 317: 6, 316: 6, 304: 6, 294: 6, 279: 6, 267: 6, 256: 6, 1198: 5, 1035: 5, 1016: 5, 898: 5, 865: 5, 823: 5, 801: 5, 772: 5, 758: 5, 746: 5, 729: 5, 690: 5, 682: 5, 658: 5, 657: 5, 647: 5, 646: 5, 586: 5, 578: 5, 574: 5, 572: 5, 568: 5, 567: 5, 566: 5, 564: 5, 554: 5, 546: 5, 545: 5, 541: 5, 527: 5, 521: 5, 517: 5, 513: 5, 508: 5, 493: 5, 492: 5, 490: 5, 486: 5, 478: 5, 477: 5, 469: 5, 455: 5, 440: 5, 438: 5, 434: 5, 430: 5, 428: 5, 427: 5, 426: 5, 420: 5, 419: 5, 416: 5, 415: 5, 406: 5, 405: 5, 401: 5, 397: 5, 392: 5, 391: 5, 385: 5, 375: 5, 364: 5, 361: 5, 359: 5, 357: 5, 340: 5, 336: 5, 315: 5, 293: 5, 292: 5, 290: 5, 261: 5, 239: 5, 2031: 4, 1442: 4, 1399: 4, 1386: 4, 1267: 4, 1215: 4, 1127: 4, 1066: 4, 1001: 4, 992: 4, 978: 4, 872: 4, 843: 4, 832: 4, 829: 4, 812: 4, 790: 4, 784: 4, 757: 4, 741: 4, 738: 4, 727: 4, 720: 4, 706: 4, 698: 4, 681: 4, 672: 4, 670: 4, 664: 4, 659: 4, 650: 4, 643: 4, 632: 4, 629: 4, 626: 4, 620: 4, 616: 4, 615: 4, 611: 4, 607: 4, 599: 4, 594: 4, 593: 4, 583: 4, 555: 4, 553: 4, 539: 4, 530: 4, 529: 4, 526: 4, 510: 4, 509: 4, 506: 4, 502: 4, 497: 4, 496: 4, 495: 4, 484: 4, 483: 4, 474: 4, 470: 4, 460: 4, 454: 4, 451: 4, 446: 4, 445: 4, 442: 4, 437: 4, 432: 4, 431: 4, 424: 4, 417: 4, 414: 4, 412: 4, 388: 4, 379: 4, 374: 4, 370: 4, 358: 4, 352: 4, 335: 4, 325: 4, 318: 4, 310: 4, 301: 4, 5635: 3, 3656: 3, 2429: 3, 2272: 3, 2144: 3, 1912: 3, 1896: 3, 1768: 3, 1734: 3, 1657: 3, 1631: 3, 1617: 3, 1568: 3, 1544: 3, 1522: 3, 1488: 3, 1408: 3, 1356: 3, 1342: 3, 1331: 3, 1326: 3, 1301: 3, 1282: 3, 1279: 3, 1268: 3, 1260: 3, 1256: 3, 1236: 3, 1235: 3, 1234: 3, 1202: 3, 1189: 3, 1173: 3, 1131: 3, 1097: 3, 1096: 3, 1057: 3, 1054: 3, 1039: 3, 1037: 3, 1029: 3, 1024: 3, 1011: 3, 994: 3, 988: 3, 980: 3, 960: 3, 944: 3, 932: 3, 923: 3, 922: 3, 914: 3, 906: 3, 878: 3, 867: 3, 854: 3, 819: 3, 818: 3, 814: 3, 810: 3, 808: 3, 807: 3, 806: 3, 777: 3, 770: 3, 755: 3, 751: 3, 749: 3, 740: 3, 734: 3, 731: 3, 716: 3, 714: 3, 705: 3, 693: 3, 691: 3, 689: 3, 687: 3, 676: 3, 662: 3, 661: 3, 652: 3, 638: 3, 635: 3, 633: 3, 627: 3, 624: 3, 618: 3, 617: 3, 612: 3, 605: 3, 603: 3, 597: 3, 595: 3, 592: 3, 591: 3, 590: 3, 589: 3, 588: 3, 575: 3, 571: 3, 570: 3, 565: 3, 560: 3, 559: 3, 558: 3, 557: 3, 552: 3, 549: 3, 548: 3, 540: 3, 533: 3, 524: 3, 512: 3, 511: 3, 504: 3, 501: 3, 488: 3, 482: 3, 480: 3, 476: 3, 475: 3, 471: 3, 464: 3, 436: 3, 422: 3, 418: 3, 411: 3, 407: 3, 398: 3, 382: 3, 380: 3, 366: 3, 346: 3, 343: 3, 12680: 2, 12395: 2, 7590: 2, 7540: 2, 7531: 2, 7036: 2, 6590: 2, 6446: 2, 5719: 2, 5277: 2, 4840: 2, 4717: 2, 4631: 2, 4451: 2, 4358: 2, 4336: 2, 4097: 2, 4082: 2, 3997: 2, 3960: 2, 3864: 2, 3853: 2, 3712: 2, 3689: 2, 3652: 2, 3575: 2, 3393: 2, 3315: 2, 3305: 2, 3221: 2, 3137: 2, 3038: 2, 2963: 2, 2903: 2, 2885: 2, 2850: 2, 2795: 2, 2685: 2, 2667: 2, 2650: 2, 2649: 2, 2633: 2, 2627: 2, 2577: 2, 2574: 2, 2538: 2, 2523: 2, 2486: 2, 2474: 2, 2462: 2, 2438: 2, 2436: 2, 2383: 2, 2353: 2, 2344: 2, 2325: 2, 2294: 2, 2283: 2, 2269: 2, 2261: 2, 2252: 2, 2245: 2, 2232: 2, 2222: 2, 2211: 2, 2192: 2, 2174: 2, 2170: 2, 2154: 2, 2141: 2, 2111: 2, 2103: 2, 2102: 2, 2093: 2, 2071: 2, 2059: 2, 2058: 2, 2053: 2, 2050: 2, 2040: 2, 2021: 2, 2010: 2, 2009: 2, 1997: 2, 1996: 2, 1993: 2, 1974: 2, 1972: 2, 1960: 2, 1959: 2, 1941: 2, 1935: 2, 1933: 2, 1911: 2, 1888: 2, 1881: 2, 1853: 2, 1839: 2, 1823: 2, 1793: 2, 1771: 2, 1760: 2, 1758: 2, 1752: 2, 1745: 2, 1736: 2, 1725: 2, 1717: 2, 1715: 2, 1667: 2, 1665: 2, 1646: 2, 1644: 2, 1643: 2, 1642: 2, 1638: 2, 1633: 2, 1618: 2, 1608: 2, 1606: 2, 1603: 2, 1602: 2, 1591: 2, 1586: 2, 1584: 2, 1576: 2, 1562: 2, 1553: 2, 1552: 2, 1531: 2, 1530: 2, 1512: 2, 1511: 2, 1510: 2, 1494: 2, 1481: 2, 1480: 2, 1474: 2, 1473: 2, 1472: 2, 1470: 2, 1464: 2, 1451: 2, 1448: 2, 1429: 2, 1428: 2, 1427: 2, 1412: 2, 1406: 2, 1398: 2, 1396: 2, 1375: 2, 1370: 2, 1368: 2, 1367: 2, 1364: 2, 1353: 2, 1350: 2, 1349: 2, 1347: 2, 1343: 2, 1324: 2, 1323: 2, 1314: 2, 1305: 2, 1302: 2, 1254: 2, 1251: 2, 1250: 2, 1241: 2, 1230: 2, 1224: 2, 1221: 2, 1217: 2, 1214: 2, 1211: 2, 1204: 2, 1200: 2, 1197: 2, 1192: 2, 1187: 2, 1181: 2, 1177: 2, 1164: 2, 1159: 2, 1157: 2, 1155: 2, 1147: 2, 1146: 2, 1144: 2, 1140: 2, 1132: 2, 1129: 2, 1125: 2, 1114: 2, 1113: 2, 1112: 2, 1107: 2, 1100: 2, 1087: 2, 1080: 2, 1064: 2, 1058: 2, 1051: 2, 1047: 2, 1046: 2, 1045: 2, 1044: 2, 1043: 2, 1042: 2, 1040: 2, 1030: 2, 1025: 2, 1021: 2, 1020: 2, 1014: 2, 1013: 2, 1007: 2, 1005: 2, 1002: 2, 999: 2, 990: 2, 989: 2, 986: 2, 983: 2, 973: 2, 970: 2, 966: 2, 965: 2, 964: 2, 963: 2, 959: 2, 953: 2, 946: 2, 943: 2, 942: 2, 934: 2, 931: 2, 930: 2, 916: 2, 911: 2, 907: 2, 905: 2, 899: 2, 897: 2, 895: 2, 889: 2, 888: 2, 887: 2, 883: 2, 877: 2, 875: 2, 870: 2, 869: 2, 866: 2, 862: 2, 860: 2, 855: 2, 853: 2, 847: 2, 845: 2, 841: 2, 839: 2, 838: 2, 835: 2, 833: 2, 826: 2, 825: 2, 816: 2, 815: 2, 813: 2, 811: 2, 805: 2, 804: 2, 799: 2, 797: 2, 795: 2, 789: 2, 788: 2, 787: 2, 776: 2, 775: 2, 767: 2, 764: 2, 762: 2, 761: 2, 759: 2, 752: 2, 750: 2, 748: 2, 739: 2, 737: 2, 735: 2, 725: 2, 724: 2, 723: 2, 722: 2, 719: 2, 717: 2, 712: 2, 710: 2, 709: 2, 702: 2, 680: 2, 678: 2, 677: 2, 674: 2, 671: 2, 669: 2, 663: 2, 660: 2, 648: 2, 642: 2, 637: 2, 636: 2, 634: 2, 631: 2, 630: 2, 628: 2, 625: 2, 623: 2, 622: 2, 608: 2, 606: 2, 604: 2, 585: 2, 576: 2, 563: 2, 556: 2, 551: 2, 543: 2, 542: 2, 537: 2, 536: 2, 535: 2, 523: 2, 519: 2, 503: 2, 491: 2, 489: 2, 487: 2, 473: 2, 472: 2, 467: 2, 458: 2, 441: 2, 425: 2, 421: 2, 408: 2, 404: 2, 403: 2, 399: 2, 378: 2, 362: 2, 229936: 1, 194590: 1, 120382: 1, 79996: 1, 78679: 1, 77533: 1, 77338: 1, 75511: 1, 73960: 1, 69942: 1, 68098: 1, 67481: 1, 66455: 1, 65717: 1, 63166: 1, 61845: 1, 57210: 1, 53399: 1, 50678: 1, 48250: 1, 47753: 1, 46920: 1, 45049: 1, 41000: 1, 38789: 1, 38354: 1, 37719: 1, 37712: 1, 36182: 1, 36154: 1, 35366: 1, 35058: 1, 34469: 1, 34259: 1, 32958: 1, 32900: 1, 32797: 1, 32766: 1, 31721: 1, 31597: 1, 31199: 1, 31135: 1, 31134: 1, 31129: 1, 30653: 1, 30074: 1, 29042: 1, 28815: 1, 28682: 1, 27799: 1, 27658: 1, 27407: 1, 26959: 1, 26934: 1, 26924: 1, 26621: 1, 26422: 1, 26294: 1, 26289: 1, 25785: 1, 25568: 1, 25518: 1, 25357: 1, 25350: 1, 25107: 1, 24887: 1, 24570: 1, 24513: 1, 24311: 1, 24092: 1, 24068: 1, 23751: 1, 23695: 1, 23560: 1, 23519: 1, 22980: 1, 21845: 1, 21783: 1, 21477: 1, 21408: 1, 20909: 1, 20899: 1, 20855: 1, 20563: 1, 20514: 1, 20389: 1, 20381: 1, 20242: 1, 20217: 1, 19999: 1, 19952: 1, 19628: 1, 19212: 1, 18969: 1, 18711: 1, 18582: 1, 18553: 1, 18541: 1, 18471: 1, 18278: 1, 18061: 1, 17924: 1, 17852: 1, 17710: 1, 17583: 1, 17556: 1, 17475: 1, 17405: 1, 17313: 1, 17235: 1, 17191: 1, 17029: 1, 16948: 1, 16845: 1, 16702: 1, 16635: 1, 16602: 1, 16546: 1, 16540: 1, 16286: 1, 16258: 1, 16106: 1, 15921: 1, 15815: 1, 15767: 1, 15652: 1, 15649: 1, 15553: 1, 15525: 1, 15376: 1, 15361: 1, 15353: 1, 15329: 1, 15151: 1, 15117: 1, 15030: 1, 15026: 1, 15021: 1, 14956: 1, 14889: 1, 14809: 1, 14789: 1, 14754: 1, 14690: 1, 14667: 1, 14594: 1, 14490: 1, 14433: 1, 14334: 1, 14161: 1, 13982: 1, 13942: 1, 13933: 1, 13835: 1, 13802: 1, 13763: 1, 13756: 1, 13749: 1, 13675: 1, 13527: 1, 13365: 1, 13363: 1, 13227: 1, 13214: 1, 13200: 1, 13164: 1, 13118: 1, 13108: 1, 12888: 1, 12869: 1, 12852: 1, 12769: 1, 12766: 1, 12601: 1, 12586: 1, 12584: 1, 12534: 1, 12409: 1, 12352: 1, 12217: 1, 12155: 1, 11994: 1, 11992: 1, 11973: 1, 11965: 1, 11888: 1, 11857: 1, 11827: 1, 11814: 1, 11709: 1, 11688: 1, 11672: 1, 11636: 1, 11633: 1, 11460: 1, 11422: 1, 11414: 1, 11286: 1, 11203: 1, 11086: 1, 11038: 1, 11020: 1, 11013: 1, 10956: 1, 10890: 1, 10889: 1, 10851: 1, 10785: 1, 10721: 1, 10692: 1, 10676: 1, 10675: 1, 10649: 1, 10645: 1, 10631: 1, 10599: 1, 10587: 1, 10563: 1, 10559: 1, 10545: 1, 10533: 1, 10466: 1, 10424: 1, 10357: 1, 10319: 1, 10299: 1, 10272: 1, 10169: 1, 10109: 1, 10042: 1, 9964: 1, 9893: 1, 9881: 1, 9848: 1, 9828: 1, 9740: 1, 9733: 1, 9714: 1, 9668: 1, 9577: 1, 9470: 1, 9455: 1, 9437: 1, 9402: 1, 9381: 1, 9378: 1, 9333: 1, 9307: 1, 9300: 1, 9284: 1, 9273: 1, 9269: 1, 9252: 1, 9245: 1, 9203: 1, 9202: 1, 9190: 1, 9075: 1, 9051: 1, 9017: 1, 9014: 1, 8998: 1, 8989: 1, 8947: 1, 8934: 1, 8907: 1, 8896: 1, 8893: 1, 8817: 1, 8791: 1, 8778: 1, 8758: 1, 8717: 1, 8698: 1, 8683: 1, 8637: 1, 8623: 1, 8613: 1, 8608: 1, 8597: 1, 8596: 1, 8584: 1, 8581: 1, 8570: 1, 8524: 1, 8487: 1, 8482: 1, 8478: 1, 8477: 1, 8459: 1, 8413: 1, 8405: 1, 8393: 1, 8391: 1, 8387: 1, 8375: 1, 8365: 1, 8357: 1, 8331: 1, 8321: 1, 8309: 1, 8265: 1, 8249: 1, 8224: 1, 8206: 1, 8187: 1, 8157: 1, 8142: 1, 8107: 1, 8105: 1, 8063: 1, 8005: 1, 8003: 1, 7996: 1, 7995: 1, 7994: 1, 7975: 1, 7960: 1, 7890: 1, 7843: 1, 7825: 1, 7823: 1, 7801: 1, 7748: 1, 7735: 1, 7734: 1, 7715: 1, 7710: 1, 7673: 1, 7661: 1, 7635: 1, 7625: 1, 7611: 1, 7594: 1, 7584: 1, 7561: 1, 7560: 1, 7501: 1, 7420: 1, 7363: 1, 7346: 1, 7217: 1, 7184: 1, 7166: 1, 7152: 1, 7139: 1, 7112: 1, 7099: 1, 7058: 1, 7024: 1, 7008: 1, 6984: 1, 6971: 1, 6958: 1, 6933: 1, 6877: 1, 6870: 1, 6868: 1, 6825: 1, 6778: 1, 6761: 1, 6743: 1, 6741: 1, 6707: 1, 6699: 1, 6692: 1, 6682: 1, 6677: 1, 6659: 1, 6627: 1, 6626: 1, 6583: 1, 6564: 1, 6535: 1, 6531: 1, 6524: 1, 6486: 1, 6470: 1, 6466: 1, 6464: 1, 6444: 1, 6432: 1, 6375: 1, 6361: 1, 6335: 1, 6324: 1, 6300: 1, 6285: 1, 6272: 1, 6258: 1, 6240: 1, 6236: 1, 6233: 1, 6216: 1, 6163: 1, 6149: 1, 6142: 1, 6117: 1, 6100: 1, 6092: 1, 6090: 1, 6080: 1, 6076: 1, 6066: 1, 6028: 1, 6010: 1, 5998: 1, 5991: 1, 5981: 1, 5966: 1, 5909: 1, 5904: 1, 5899: 1, 5894: 1, 5890: 1, 5876: 1, 5854: 1, 5852: 1, 5843: 1, 5836: 1, 5835: 1, 5813: 1, 5810: 1, 5806: 1, 5795: 1, 5786: 1, 5770: 1, 5755: 1, 5742: 1, 5735: 1, 5733: 1, 5718: 1, 5693: 1, 5689: 1, 5682: 1, 5669: 1, 5664: 1, 5657: 1, 5656: 1, 5653: 1, 5648: 1, 5628: 1, 5627: 1, 5622: 1, 5604: 1, 5564: 1, 5560: 1, 5553: 1, 5534: 1, 5526: 1, 5488: 1, 5483: 1, 5482: 1, 5467: 1, 5455: 1, 5444: 1, 5432: 1, 5416: 1, 5413: 1, 5404: 1, 5399: 1, 5387: 1, 5378: 1, 5372: 1, 5367: 1, 5358: 1, 5353: 1, 5327: 1, 5317: 1, 5305: 1, 5273: 1, 5265: 1, 5246: 1, 5209: 1, 5208: 1, 5198: 1, 5186: 1, 5184: 1, 5173: 1, 5170: 1, 5160: 1, 5144: 1, 5139: 1, 5134: 1, 5133: 1, 5132: 1, 5129: 1, 5120: 1, 5115: 1, 5102: 1, 5093: 1, 5092: 1, 5084: 1, 5083: 1, 5081: 1, 5078: 1, 5075: 1, 5070: 1, 5067: 1, 5061: 1, 5056: 1, 5049: 1, 5048: 1, 5029: 1, 5028: 1, 5020: 1, 5007: 1, 4993: 1, 4976: 1, 4967: 1, 4960: 1, 4937: 1, 4932: 1, 4912: 1, 4905: 1, 4902: 1, 4900: 1, 4893: 1, 4889: 1, 4878: 1, 4874: 1, 4868: 1, 4863: 1, 4862: 1, 4835: 1, 4833: 1, 4827: 1, 4810: 1, 4808: 1, 4797: 1, 4793: 1, 4780: 1, 4777: 1, 4774: 1, 4759: 1, 4730: 1, 4719: 1, 4693: 1, 4692: 1, 4677: 1, 4654: 1, 4648: 1, 4639: 1, 4622: 1, 4617: 1, 4615: 1, 4588: 1, 4573: 1, 4548: 1, 4541: 1, 4533: 1, 4523: 1, 4522: 1, 4500: 1, 4484: 1, 4479: 1, 4469: 1, 4466: 1, 4458: 1, 4434: 1, 4426: 1, 4423: 1, 4402: 1, 4399: 1, 4389: 1, 4386: 1, 4381: 1, 4361: 1, 4356: 1, 4342: 1, 4338: 1, 4332: 1, 4331: 1, 4329: 1, 4326: 1, 4315: 1, 4311: 1, 4306: 1, 4304: 1, 4300: 1, 4294: 1, 4271: 1, 4267: 1, 4255: 1, 4249: 1, 4245: 1, 4240: 1, 4228: 1, 4219: 1, 4210: 1, 4201: 1, 4194: 1, 4192: 1, 4177: 1, 4163: 1, 4153: 1, 4144: 1, 4129: 1, 4124: 1, 4114: 1, 4092: 1, 4079: 1, 4071: 1, 4062: 1, 4060: 1, 4050: 1, 4041: 1, 4026: 1, 4022: 1, 4009: 1, 4003: 1, 3996: 1, 3992: 1, 3977: 1, 3975: 1, 3970: 1, 3935: 1, 3918: 1, 3917: 1, 3916: 1, 3898: 1, 3893: 1, 3892: 1, 3883: 1, 3880: 1, 3868: 1, 3862: 1, 3839: 1, 3837: 1, 3834: 1, 3828: 1, 3818: 1, 3816: 1, 3799: 1, 3783: 1, 3777: 1, 3775: 1, 3764: 1, 3761: 1, 3753: 1, 3752: 1, 3750: 1, 3731: 1, 3729: 1, 3728: 1, 3717: 1, 3716: 1, 3710: 1, 3706: 1, 3702: 1, 3701: 1, 3695: 1, 3692: 1, 3690: 1, 3681: 1, 3680: 1, 3673: 1, 3669: 1, 3655: 1, 3649: 1, 3641: 1, 3638: 1, 3631: 1, 3611: 1, 3607: 1, 3603: 1, 3601: 1, 3598: 1, 3597: 1, 3595: 1, 3584: 1, 3583: 1, 3574: 1, 3572: 1, 3564: 1, 3563: 1, 3561: 1, 3557: 1, 3542: 1, 3539: 1, 3538: 1, 3530: 1, 3525: 1, 3524: 1, 3520: 1, 3515: 1, 3514: 1, 3505: 1, 3501: 1, 3497: 1, 3490: 1, 3489: 1, 3488: 1, 3479: 1, 3472: 1, 3461: 1, 3456: 1, 3450: 1, 3447: 1, 3436: 1, 3435: 1, 3430: 1, 3425: 1, 3423: 1, 3422: 1, 3410: 1, 3404: 1, 3395: 1, 3387: 1, 3385: 1, 3384: 1, 3382: 1, 3381: 1, 3379: 1, 3378: 1, 3376: 1, 3371: 1, 3363: 1, 3361: 1, 3351: 1, 3349: 1, 3346: 1, 3339: 1, 3337: 1, 3335: 1, 3328: 1, 3326: 1, 3324: 1, 3319: 1, 3312: 1, 3308: 1, 3304: 1, 3300: 1, 3297: 1, 3290: 1, 3282: 1, 3279: 1, 3278: 1, 3271: 1, 3270: 1, 3269: 1, 3268: 1, 3267: 1, 3266: 1, 3264: 1, 3259: 1, 3255: 1, 3253: 1, 3248: 1, 3237: 1, 3235: 1, 3234: 1, 3233: 1, 3211: 1, 3202: 1, 3190: 1, 3180: 1, 3172: 1, 3155: 1, 3152: 1, 3146: 1, 3142: 1, 3139: 1, 3138: 1, 3134: 1, 3132: 1, 3131: 1, 3124: 1, 3120: 1, 3116: 1, 3110: 1, 3108: 1, 3104: 1, 3099: 1, 3096: 1, 3094: 1, 3092: 1, 3090: 1, 3089: 1, 3078: 1, 3066: 1, 3057: 1, 3055: 1, 3051: 1, 3045: 1, 3042: 1, 3033: 1, 3030: 1, 3028: 1, 3021: 1, 3020: 1, 3002: 1, 3000: 1, 2999: 1, 2997: 1, 2996: 1, 2992: 1, 2990: 1, 2988: 1, 2985: 1, 2972: 1, 2971: 1, 2961: 1, 2955: 1, 2954: 1, 2934: 1, 2924: 1, 2917: 1, 2916: 1, 2915: 1, 2909: 1, 2887: 1, 2886: 1, 2877: 1, 2875: 1, 2873: 1, 2866: 1, 2865: 1, 2848: 1, 2845: 1, 2844: 1, 2842: 1, 2836: 1, 2835: 1, 2833: 1, 2824: 1, 2821: 1, 2818: 1, 2811: 1, 2809: 1, 2805: 1, 2785: 1, 2776: 1, 2771: 1, 2770: 1, 2769: 1, 2758: 1, 2752: 1, 2743: 1, 2736: 1, 2733: 1, 2721: 1, 2718: 1, 2705: 1, 2704: 1, 2700: 1, 2698: 1, 2697: 1, 2694: 1, 2691: 1, 2689: 1, 2678: 1, 2677: 1, 2665: 1, 2654: 1, 2646: 1, 2644: 1, 2642: 1, 2634: 1, 2630: 1, 2623: 1, 2622: 1, 2616: 1, 2602: 1, 2597: 1, 2595: 1, 2593: 1, 2587: 1, 2586: 1, 2583: 1, 2571: 1, 2569: 1, 2561: 1, 2558: 1, 2557: 1, 2556: 1, 2553: 1, 2551: 1, 2547: 1, 2546: 1, 2541: 1, 2540: 1, 2532: 1, 2527: 1, 2522: 1, 2517: 1, 2508: 1, 2502: 1, 2498: 1, 2495: 1, 2493: 1, 2490: 1, 2487: 1, 2484: 1, 2480: 1, 2475: 1, 2468: 1, 2459: 1, 2458: 1, 2449: 1, 2448: 1, 2446: 1, 2440: 1, 2437: 1, 2430: 1, 2426: 1, 2421: 1, 2420: 1, 2418: 1, 2414: 1, 2410: 1, 2407: 1, 2405: 1, 2387: 1, 2384: 1, 2380: 1, 2379: 1, 2378: 1, 2377: 1, 2375: 1, 2365: 1, 2364: 1, 2361: 1, 2354: 1, 2352: 1, 2348: 1, 2347: 1, 2341: 1, 2336: 1, 2334: 1, 2333: 1, 2329: 1, 2323: 1, 2308: 1, 2304: 1, 2302: 1, 2299: 1, 2298: 1, 2291: 1, 2288: 1, 2287: 1, 2286: 1, 2278: 1, 2267: 1, 2264: 1, 2263: 1, 2254: 1, 2251: 1, 2250: 1, 2247: 1, 2239: 1, 2237: 1, 2229: 1, 2209: 1, 2208: 1, 2198: 1, 2197: 1, 2195: 1, 2190: 1, 2189: 1, 2187: 1, 2182: 1, 2181: 1, 2177: 1, 2173: 1, 2168: 1, 2166: 1, 2164: 1, 2162: 1, 2159: 1, 2155: 1, 2147: 1, 2146: 1, 2143: 1, 2140: 1, 2139: 1, 2138: 1, 2136: 1, 2133: 1, 2127: 1, 2126: 1, 2121: 1, 2120: 1, 2118: 1, 2116: 1, 2113: 1, 2112: 1, 2105: 1, 2097: 1, 2091: 1, 2090: 1, 2087: 1, 2086: 1, 2082: 1, 2078: 1, 2064: 1, 2062: 1, 2055: 1, 2054: 1, 2051: 1, 2046: 1, 2043: 1, 2041: 1, 2035: 1, 2030: 1, 2029: 1, 2027: 1, 2024: 1, 2020: 1, 2015: 1, 2013: 1, 2007: 1, 2005: 1, 2004: 1, 2003: 1, 2001: 1, 1998: 1, 1995: 1, 1991: 1, 1989: 1, 1987: 1, 1985: 1, 1983: 1, 1982: 1, 1981: 1, 1979: 1, 1975: 1, 1970: 1, 1969: 1, 1958: 1, 1956: 1, 1953: 1, 1951: 1, 1949: 1, 1947: 1, 1946: 1, 1943: 1, 1942: 1, 1936: 1, 1934: 1, 1931: 1, 1929: 1, 1926: 1, 1925: 1, 1923: 1, 1910: 1, 1909: 1, 1908: 1, 1907: 1, 1903: 1, 1900: 1, 1899: 1, 1895: 1, 1894: 1, 1893: 1, 1892: 1, 1885: 1, 1880: 1, 1877: 1, 1870: 1, 1866: 1, 1862: 1, 1859: 1, 1858: 1, 1854: 1, 1852: 1, 1851: 1, 1847: 1, 1844: 1, 1842: 1, 1836: 1, 1835: 1, 1828: 1, 1826: 1, 1822: 1, 1820: 1, 1819: 1, 1813: 1, 1812: 1, 1804: 1, 1803: 1, 1800: 1, 1799: 1, 1796: 1, 1795: 1, 1786: 1, 1785: 1, 1781: 1, 1779: 1, 1776: 1, 1774: 1, 1766: 1, 1765: 1, 1764: 1, 1762: 1, 1747: 1, 1746: 1, 1744: 1, 1739: 1, 1738: 1, 1726: 1, 1724: 1, 1721: 1, 1720: 1, 1718: 1, 1716: 1, 1711: 1, 1710: 1, 1707: 1, 1704: 1, 1700: 1, 1699: 1, 1697: 1, 1695: 1, 1694: 1, 1693: 1, 1688: 1, 1685: 1, 1684: 1, 1680: 1, 1679: 1, 1678: 1, 1672: 1, 1671: 1, 1669: 1, 1663: 1, 1660: 1, 1651: 1, 1639: 1, 1636: 1, 1632: 1, 1630: 1, 1626: 1, 1624: 1, 1623: 1, 1613: 1, 1611: 1, 1609: 1, 1605: 1, 1604: 1, 1599: 1, 1596: 1, 1593: 1, 1592: 1, 1590: 1, 1581: 1, 1579: 1, 1577: 1, 1575: 1, 1574: 1, 1572: 1, 1571: 1, 1570: 1, 1566: 1, 1564: 1, 1561: 1, 1559: 1, 1558: 1, 1557: 1, 1546: 1, 1542: 1, 1539: 1, 1536: 1, 1535: 1, 1534: 1, 1528: 1, 1527: 1, 1526: 1, 1525: 1, 1524: 1, 1521: 1, 1520: 1, 1513: 1, 1509: 1, 1502: 1, 1501: 1, 1500: 1, 1497: 1, 1496: 1, 1493: 1, 1490: 1, 1489: 1, 1487: 1, 1483: 1, 1477: 1, 1469: 1, 1468: 1, 1467: 1, 1466: 1, 1461: 1, 1454: 1, 1453: 1, 1444: 1, 1440: 1, 1439: 1, 1437: 1, 1436: 1, 1434: 1, 1432: 1, 1430: 1, 1424: 1, 1421: 1, 1418: 1, 1417: 1, 1414: 1, 1413: 1, 1410: 1, 1409: 1, 1404: 1, 1403: 1, 1394: 1, 1392: 1, 1387: 1, 1383: 1, 1380: 1, 1378: 1, 1374: 1, 1371: 1, 1369: 1, 1365: 1, 1363: 1, 1359: 1, 1357: 1, 1346: 1, 1345: 1, 1341: 1, 1340: 1, 1339: 1, 1334: 1, 1327: 1, 1325: 1, 1321: 1, 1319: 1, 1318: 1, 1317: 1, 1315: 1, 1313: 1, 1312: 1, 1309: 1, 1307: 1, 1306: 1, 1304: 1, 1303: 1, 1300: 1, 1293: 1, 1292: 1, 1290: 1, 1289: 1, 1288: 1, 1284: 1, 1278: 1, 1277: 1, 1275: 1, 1273: 1, 1270: 1, 1269: 1, 1266: 1, 1265: 1, 1263: 1, 1261: 1, 1257: 1, 1252: 1, 1249: 1, 1248: 1, 1247: 1, 1246: 1, 1244: 1, 1243: 1, 1240: 1, 1238: 1, 1232: 1, 1231: 1, 1229: 1, 1225: 1, 1220: 1, 1216: 1, 1213: 1, 1212: 1, 1210: 1, 1209: 1, 1208: 1, 1207: 1, 1203: 1, 1201: 1, 1199: 1, 1195: 1, 1193: 1, 1190: 1, 1184: 1, 1183: 1, 1180: 1, 1179: 1, 1176: 1, 1174: 1, 1170: 1, 1169: 1, 1166: 1, 1165: 1, 1163: 1, 1162: 1, 1152: 1, 1151: 1, 1150: 1, 1149: 1, 1148: 1, 1145: 1, 1143: 1, 1139: 1, 1138: 1, 1135: 1, 1130: 1, 1124: 1, 1122: 1, 1121: 1, 1117: 1, 1115: 1, 1109: 1, 1108: 1, 1106: 1, 1102: 1, 1101: 1, 1099: 1, 1094: 1, 1092: 1, 1088: 1, 1086: 1, 1084: 1, 1083: 1, 1082: 1, 1078: 1, 1072: 1, 1071: 1, 1070: 1, 1069: 1, 1067: 1, 1063: 1, 1062: 1, 1060: 1, 1059: 1, 1052: 1, 1048: 1, 1041: 1, 1036: 1, 1034: 1, 1033: 1, 1031: 1, 1028: 1, 1027: 1, 1023: 1, 1022: 1, 1019: 1, 1018: 1, 1017: 1, 1015: 1, 1012: 1, 1010: 1, 1009: 1, 1003: 1, 998: 1, 997: 1, 996: 1, 995: 1, 991: 1, 987: 1, 984: 1, 979: 1, 977: 1, 975: 1, 974: 1, 972: 1, 969: 1, 968: 1, 967: 1, 962: 1, 958: 1, 957: 1, 955: 1, 952: 1, 951: 1, 950: 1, 948: 1, 947: 1, 945: 1, 939: 1, 938: 1, 936: 1, 928: 1, 927: 1, 925: 1, 921: 1, 919: 1, 917: 1, 909: 1, 903: 1, 902: 1, 901: 1, 900: 1, 886: 1, 885: 1, 882: 1, 881: 1, 879: 1, 873: 1, 871: 1, 863: 1, 861: 1, 859: 1, 857: 1, 856: 1, 852: 1, 850: 1, 849: 1, 848: 1, 846: 1, 844: 1, 842: 1, 837: 1, 836: 1, 834: 1, 831: 1, 830: 1, 827: 1, 824: 1, 822: 1, 820: 1, 817: 1, 802: 1, 800: 1, 794: 1, 793: 1, 792: 1, 786: 1, 783: 1, 782: 1, 780: 1, 774: 1, 771: 1, 768: 1, 765: 1, 756: 1, 753: 1, 744: 1, 743: 1, 742: 1, 732: 1, 730: 1, 715: 1, 713: 1, 711: 1, 708: 1, 704: 1, 701: 1, 696: 1, 695: 1, 694: 1, 692: 1, 688: 1, 684: 1, 683: 1, 675: 1, 668: 1, 667: 1, 666: 1, 656: 1, 655: 1, 654: 1, 653: 1, 651: 1, 649: 1, 645: 1, 641: 1, 640: 1, 639: 1, 621: 1, 614: 1, 613: 1, 609: 1, 601: 1, 598: 1, 596: 1, 587: 1, 582: 1, 581: 1, 577: 1, 569: 1, 547: 1, 544: 1, 538: 1, 534: 1, 522: 1, 518: 1, 515: 1, 507: 1, 505: 1, 499: 1, 498: 1, 485: 1, 457: 1})\n"
     ]
    }
   ],
   "source": [
    "print(Counter(sorted_text_occur))"
   ]
  },
  {
   "cell_type": "code",
   "execution_count": 157,
   "metadata": {},
   "outputs": [
    {
     "name": "stdout",
     "output_type": "stream",
     "text": [
      "For values of alpha =  1e-05 The log loss is: 1.2790026866433095\n",
      "For values of alpha =  0.0001 The log loss is: 1.1429907392841874\n",
      "For values of alpha =  0.001 The log loss is: 1.1309815263788963\n",
      "For values of alpha =  0.01 The log loss is: 1.2058147810126096\n",
      "For values of alpha =  0.1 The log loss is: 1.4290998996324862\n",
      "For values of alpha =  1 The log loss is: 1.6402824510130758\n"
     ]
    },
    {
     "data": {
      "image/png": "[encoded data removed]",
      "text/plain": [
       "<Figure size 432x288 with 1 Axes>"
      ]
     },
     "metadata": {},
     "output_type": "display_data"
    },
    {
     "name": "stdout",
     "output_type": "stream",
     "text": [
      "For values of best alpha =  0.001 The train log loss is: 0.6419952678300984\n",
      "For values of best alpha =  0.001 The cross validation log loss is: 1.1309815263788963\n",
      "For values of best alpha =  0.001 The test log loss is: 1.2107753186449224\n"
     ]
    }
   ],
   "source": [
    "alpha = [10 ** x for x in range(-5, 1)]\n",
    "\n",
    "cv_log_error_array=[]\n",
    "for i in alpha:\n",
    "    clf = SGDClassifier(alpha=i, penalty='l2', loss='log', random_state=42)\n",
    "    clf.fit(train_text_feature_onehotCoding, y_train)\n",
    "    \n",
    "    sig_clf = CalibratedClassifierCV(clf, method=\"sigmoid\")\n",
    "    sig_clf.fit(train_text_feature_onehotCoding, y_train)\n",
    "    predict_y = sig_clf.predict_proba(cv_text_feature_onehotCoding)\n",
    "    cv_log_error_array.append(log_loss(y_cv, predict_y, labels=clf.classes_, eps=1e-15))\n",
    "    print('For values of alpha = ', i, \"The log loss is:\",log_loss(y_cv, predict_y, labels=clf.classes_, eps=1e-15))\n",
    "\n",
    "fig, ax = plt.subplots()\n",
    "ax.plot(alpha, cv_log_error_array,c='g')\n",
    "for i, txt in enumerate(np.round(cv_log_error_array,3)):\n",
    "    ax.annotate((alpha[i],np.round(txt,3)), (alpha[i],cv_log_error_array[i]))\n",
    "plt.grid()\n",
    "plt.title(\"Cross Validation Error for each alpha\")\n",
    "plt.xlabel(\"Alpha i's\")\n",
    "plt.ylabel(\"Error measure\")\n",
    "plt.show()\n",
    "\n",
    "\n",
    "best_alpha = np.argmin(cv_log_error_array)\n",
    "clf = SGDClassifier(alpha=alpha[best_alpha], penalty='l2', loss='log', random_state=42)\n",
    "clf.fit(train_text_feature_onehotCoding, y_train)\n",
    "sig_clf = CalibratedClassifierCV(clf, method=\"sigmoid\")\n",
    "sig_clf.fit(train_text_feature_onehotCoding, y_train)\n",
    "\n",
    "predict_y = sig_clf.predict_proba(train_text_feature_onehotCoding)\n",
    "print('For values of best alpha = ', alpha[best_alpha], \"The train log loss is:\",log_loss(y_train, predict_y, labels=clf.classes_, eps=1e-15))\n",
    "predict_y = sig_clf.predict_proba(cv_text_feature_onehotCoding)\n",
    "print('For values of best alpha = ', alpha[best_alpha], \"The cross validation log loss is:\",log_loss(y_cv, predict_y, labels=clf.classes_, eps=1e-15))\n",
    "predict_y = sig_clf.predict_proba(test_text_feature_onehotCoding)\n",
    "print('For values of best alpha = ', alpha[best_alpha], \"The test log loss is:\",log_loss(y_test, predict_y, labels=clf.classes_, eps=1e-15))"
   ]
  },
  {
   "cell_type": "code",
   "execution_count": 160,
   "metadata": {},
   "outputs": [],
   "source": [
    "def get_intersec_text(df):\n",
    "    df_text_vec = CountVectorizer(min_df=3)\n",
    "    df_text_fea = df_text_vec.fit_transform(df['cleaned_text'])\n",
    "    df_text_features = df_text_vec.get_feature_names()\n",
    "\n",
    "    df_text_fea_counts = df_text_fea.sum(axis=0).A1\n",
    "    df_text_fea_dict = dict(zip(list(df_text_features),df_text_fea_counts))\n",
    "    len1 = len(set(df_text_features))\n",
    "    len2 = len(set(train_text_features) & set(df_text_features))\n",
    "    return len1,len2"
   ]
  },
  {
   "cell_type": "code",
   "execution_count": 161,
   "metadata": {},
   "outputs": [
    {
     "name": "stdout",
     "output_type": "stream",
     "text": [
      "94.864 % of word of test data appeared in train data\n",
      "98.112 % of word of Cross Validation appeared in train data\n"
     ]
    }
   ],
   "source": [
    "len1,len2 = get_intersec_text(test_df)\n",
    "print(np.round((len2/len1)*100, 3), \"% of word of test data appeared in train data\")\n",
    "len1,len2 = get_intersec_text(cv_df)\n",
    "print(np.round((len2/len1)*100, 3), \"% of word of Cross Validation appeared in train data\")"
   ]
  },
  {
   "cell_type": "code",
   "execution_count": 162,
   "metadata": {},
   "outputs": [],
   "source": [
    "def predict_and_plot_confusion_matrix(train_x, train_y,test_x, test_y, clf):\n",
    "    clf.fit(train_x, train_y)\n",
    "    sig_clf = CalibratedClassifierCV(clf, method=\"sigmoid\")\n",
    "    sig_clf.fit(train_x, train_y)\n",
    "    pred_y = sig_clf.predict(test_x)\n",
    "\n",
    "    # for calculating log_loss we willl provide the array of probabilities belongs to each class\n",
    "    print(\"Log loss :\",log_loss(test_y, sig_clf.predict_proba(test_x)))\n",
    "    # calculating the number of data points that are misclassified\n",
    "    print(\"Number of mis-classified points :\", np.count_nonzero((pred_y- test_y))/test_y.shape[0])\n",
    "    plot_confusion_matrix(test_y, pred_y)"
   ]
  },
  {
   "cell_type": "code",
   "execution_count": 163,
   "metadata": {},
   "outputs": [],
   "source": [
    "\n",
    "def report_log_loss(train_x, train_y, test_x, test_y,  clf):\n",
    "    clf.fit(train_x, train_y)\n",
    "    sig_clf = CalibratedClassifierCV(clf, method=\"sigmoid\")\n",
    "    sig_clf.fit(train_x, train_y)\n",
    "    sig_clf_probs = sig_clf.predict_proba(test_x)\n",
    "    return log_loss(test_y, sig_clf_probs, eps=1e-15)"
   ]
  },
  {
   "cell_type": "code",
   "execution_count": 188,
   "metadata": {},
   "outputs": [],
   "source": [
    "def get_impfeature_names(indices, text, gene, var, no_features):\n",
    "    gene_count_vec = CountVectorizer()\n",
    "    var_count_vec = CountVectorizer()\n",
    "    text_count_vec = CountVectorizer(min_df=3)\n",
    "    \n",
    "    gene_vec = gene_count_vec.fit(train_df['Gene'])\n",
    "    var_vec  = var_count_vec.fit(train_df['Variation'])\n",
    "    text_vec = text_count_vec.fit(train_df['cleaned_text'])\n",
    "    \n",
    "    fea1_len = len(gene_vec.get_feature_names())\n",
    "    fea2_len = len(var_count_vec.get_feature_names())\n",
    "    \n",
    "    word_present = 0\n",
    "    for i,v in enumerate(indices):\n",
    "        if (v < fea1_len):\n",
    "            word = gene_vec.get_feature_names()[v]\n",
    "            yes_no = True if word == gene else False\n",
    "            if yes_no:\n",
    "                word_present += 1\n",
    "                print(i, \"Gene feature [{}] present in test data point [{}]\".format(word,yes_no))\n",
    "        elif (v < fea1_len+fea2_len):\n",
    "            word = var_vec.get_feature_names()[v-(fea1_len)]\n",
    "            yes_no = True if word == var else False\n",
    "            if yes_no:\n",
    "                word_present += 1\n",
    "                print(i, \"variation feature [{}] present in test data point [{}]\".format(word,yes_no))\n",
    "        else:\n",
    "            word = text_vec.get_feature_names()[v-(fea1_len+fea2_len)]\n",
    "            yes_no = True if word in text.split() else False\n",
    "            if yes_no:\n",
    "                word_present += 1\n",
    "                print(i, \"Text feature [{}] present in test data point [{}]\".format(word,yes_no))\n",
    "\n",
    "    print(\"Out of the top \",no_features,\" features \", word_present, \"are present in query point\")"
   ]
  },
  {
   "cell_type": "code",
   "execution_count": 189,
   "metadata": {},
   "outputs": [],
   "source": [
    "from scipy.sparse import hstack\n",
    "train_gene_var_onehotCoding = hstack((train_gene_feature_onehotCoding,train_variation_feature_onehotCoding))\n",
    "test_gene_var_onehotCoding = hstack((test_gene_feature_onehotCoding,test_variation_feature_onehotCoding))\n",
    "cv_gene_var_onehotCoding = hstack((cv_gene_feature_onehotCoding,cv_variation_feature_onehotCoding))\n",
    "\n",
    "train_x_onehotCoding = hstack((train_gene_var_onehotCoding, train_text_feature_onehotCoding)).tocsr()\n",
    "train_y = np.array(list(train_df['Class']))\n",
    "\n",
    "test_x_onehotCoding = hstack((test_gene_var_onehotCoding, test_text_feature_onehotCoding)).tocsr()\n",
    "test_y = np.array(list(test_df['Class']))\n",
    "\n",
    "cv_x_onehotCoding = hstack((cv_gene_var_onehotCoding, cv_text_feature_onehotCoding)).tocsr()\n",
    "cv_y = np.array(list(cv_df['Class']))\n",
    "\n",
    "\n",
    "train_gene_var_responseCoding = np.hstack((train_gene_feature_responseCoding,train_variation_feature_responseCoding))\n",
    "test_gene_var_responseCoding = np.hstack((test_gene_feature_responseCoding,test_variation_feature_responseCoding))\n",
    "cv_gene_var_responseCoding = np.hstack((cv_gene_feature_responseCoding,cv_variation_feature_responseCoding))\n",
    "\n",
    "train_x_responseCoding = np.hstack((train_gene_var_responseCoding, train_text_feature_responseCoding))\n",
    "test_x_responseCoding = np.hstack((test_gene_var_responseCoding, test_text_feature_responseCoding))\n",
    "cv_x_responseCoding = np.hstack((cv_gene_var_responseCoding, cv_text_feature_responseCoding))"
   ]
  },
  {
   "cell_type": "code",
   "execution_count": 190,
   "metadata": {},
   "outputs": [
    {
     "name": "stdout",
     "output_type": "stream",
     "text": [
      "One hot encoding features :\n",
      "(number of data points * number of features) in train data =  (2121, 51727)\n",
      "(number of data points * number of features) in test data =  (664, 51727)\n",
      "(number of data points * number of features) in cross validation data = (531, 51727)\n"
     ]
    }
   ],
   "source": [
    "print(\"One hot encoding features :\")\n",
    "print(\"(number of data points * number of features) in train data = \", train_x_onehotCoding.shape)\n",
    "print(\"(number of data points * number of features) in test data = \", test_x_onehotCoding.shape)\n",
    "print(\"(number of data points * number of features) in cross validation data =\", cv_x_onehotCoding.shape)"
   ]
  },
  {
   "cell_type": "code",
   "execution_count": 191,
   "metadata": {},
   "outputs": [
    {
     "name": "stdout",
     "output_type": "stream",
     "text": [
      " Response encoding features :\n",
      "(number of data points * number of features) in train data =  (2121, 27)\n",
      "(number of data points * number of features) in test data =  (664, 27)\n",
      "(number of data points * number of features) in cross validation data = (531, 27)\n"
     ]
    }
   ],
   "source": [
    "\n",
    "print(\" Response encoding features :\")\n",
    "print(\"(number of data points * number of features) in train data = \", train_x_responseCoding.shape)\n",
    "print(\"(number of data points * number of features) in test data = \", test_x_responseCoding.shape)\n",
    "print(\"(number of data points * number of features) in cross validation data =\", cv_x_responseCoding.shape)"
   ]
  },
  {
   "cell_type": "markdown",
   "metadata": {},
   "source": [
    "#### NAIVE BAYES \n"
   ]
  },
  {
   "cell_type": "code",
   "execution_count": 192,
   "metadata": {},
   "outputs": [
    {
     "name": "stdout",
     "output_type": "stream",
     "text": [
      "for alpha = 1e-05\n",
      "Log Loss : 1.2509034244498498\n",
      "for alpha = 0.0001\n",
      "Log Loss : 1.2485012462792064\n",
      "for alpha = 0.001\n",
      "Log Loss : 1.242424655301924\n",
      "for alpha = 0.1\n",
      "Log Loss : 1.2482475586672113\n",
      "for alpha = 1\n",
      "Log Loss : 1.2512841643799189\n",
      "for alpha = 10\n",
      "Log Loss : 1.3619501479201916\n",
      "for alpha = 100\n",
      "Log Loss : 1.3340674292371975\n",
      "for alpha = 1000\n",
      "Log Loss : 1.2736774076072555\n"
     ]
    },
    {
     "data": {
      "image/png": "[encoded data removed]",
      "text/plain": [
       "<Figure size 432x288 with 1 Axes>"
      ]
     },
     "metadata": {},
     "output_type": "display_data"
    },
    {
     "name": "stdout",
     "output_type": "stream",
     "text": [
      "For values of best alpha =  0.001 The train log loss is: 0.8166856882669574\n",
      "For values of best alpha =  0.001 The cross validation log loss is: 1.242424655301924\n",
      "For values of best alpha =  0.001 The test log loss is: 1.292202991060329\n"
     ]
    }
   ],
   "source": [
    "\n",
    "alpha = [0.00001, 0.0001, 0.001, 0.1, 1, 10, 100,1000]\n",
    "cv_log_error_array = []\n",
    "for i in alpha:\n",
    "    print(\"for alpha =\", i)\n",
    "    clf = MultinomialNB(alpha=i)\n",
    "    clf.fit(train_x_onehotCoding, train_y)\n",
    "    sig_clf = CalibratedClassifierCV(clf, method=\"sigmoid\")\n",
    "    sig_clf.fit(train_x_onehotCoding, train_y)\n",
    "    sig_clf_probs = sig_clf.predict_proba(cv_x_onehotCoding)\n",
    "    cv_log_error_array.append(log_loss(cv_y, sig_clf_probs, labels=clf.classes_, eps=1e-15))\n",
    "    # to avoid rounding error while multiplying probabilites we use log-probability estimates\n",
    "    print(\"Log Loss :\",log_loss(cv_y, sig_clf_probs)) \n",
    "\n",
    "fig, ax = plt.subplots()\n",
    "ax.plot(np.log10(alpha), cv_log_error_array,c='g')\n",
    "for i, txt in enumerate(np.round(cv_log_error_array,3)):\n",
    "    ax.annotate((alpha[i],str(txt)), (np.log10(alpha[i]),cv_log_error_array[i]))\n",
    "plt.grid()\n",
    "plt.xticks(np.log10(alpha))\n",
    "plt.title(\"Cross Validation Error for each alpha\")\n",
    "plt.xlabel(\"Alpha i's\")\n",
    "plt.ylabel(\"Error measure\")\n",
    "plt.show()\n",
    "\n",
    "\n",
    "best_alpha = np.argmin(cv_log_error_array)\n",
    "clf = MultinomialNB(alpha=alpha[best_alpha])\n",
    "clf.fit(train_x_onehotCoding, train_y)\n",
    "sig_clf = CalibratedClassifierCV(clf, method=\"sigmoid\")\n",
    "sig_clf.fit(train_x_onehotCoding, train_y)\n",
    "\n",
    "\n",
    "predict_y = sig_clf.predict_proba(train_x_onehotCoding)\n",
    "print('For values of best alpha = ', alpha[best_alpha], \"The train log loss is:\",log_loss(y_train, predict_y, labels=clf.classes_, eps=1e-15))\n",
    "predict_y = sig_clf.predict_proba(cv_x_onehotCoding)\n",
    "print('For values of best alpha = ', alpha[best_alpha], \"The cross validation log loss is:\",log_loss(y_cv, predict_y, labels=clf.classes_, eps=1e-15))\n",
    "predict_y = sig_clf.predict_proba(test_x_onehotCoding)\n",
    "print('For values of best alpha = ', alpha[best_alpha], \"The test log loss is:\",log_loss(y_test, predict_y, labels=clf.classes_, eps=1e-15))"
   ]
  },
  {
   "cell_type": "markdown",
   "metadata": {},
   "source": [
    "## Testing the model"
   ]
  },
  {
   "cell_type": "code",
   "execution_count": 193,
   "metadata": {},
   "outputs": [
    {
     "name": "stdout",
     "output_type": "stream",
     "text": [
      "Log Loss : 1.242424655301924\n",
      "Number of missclassified point : 0.384180790960452\n"
     ]
    }
   ],
   "source": [
    "from sklearn.metrics import confusion_matrix\n",
    "clf = MultinomialNB(alpha=alpha[best_alpha])\n",
    "clf.fit(train_x_onehotCoding, train_y)\n",
    "sig_clf = CalibratedClassifierCV(clf, method=\"sigmoid\")\n",
    "sig_clf.fit(train_x_onehotCoding, train_y)\n",
    "sig_clf_probs = sig_clf.predict_proba(cv_x_onehotCoding)\n",
    "# to avoid rounding error while multiplying probabilites we use log-probability estimates\n",
    "print(\"Log Loss :\",log_loss(cv_y, sig_clf_probs))\n",
    "print(\"Number of missclassified point :\", np.count_nonzero((sig_clf.predict(cv_x_onehotCoding)- cv_y))/cv_y.shape[0])\n",
    "#plot_confusion_matrix(cv_y, sig_clf.predict(cv_x_onehotCoding.toarray()))"
   ]
  },
  {
   "cell_type": "code",
   "execution_count": 204,
   "metadata": {},
   "outputs": [
    {
     "name": "stdout",
     "output_type": "stream",
     "text": [
      "Predicted Class : 7\n",
      "Predicted Class Probabilities: [[0.085  0.082  0.0119 0.1087 0.0375 0.0329 0.632  0.0054 0.0046]]\n",
      "Actual Class : 7\n",
      "--------------------------------------------------\n",
      "15 Text feature [presenc] present in test data point [True]\n",
      "16 Text feature [kinas] present in test data point [True]\n",
      "17 Text feature [activ] present in test data point [True]\n",
      "18 Text feature [downstream] present in test data point [True]\n",
      "19 Text feature [show] present in test data point [True]\n",
      "20 Text feature [cell] present in test data point [True]\n",
      "21 Text feature [contrast] present in test data point [True]\n",
      "22 Text feature [recent] present in test data point [True]\n",
      "23 Text feature [independ] present in test data point [True]\n",
      "28 Text feature [inhibitor] present in test data point [True]\n",
      "29 Text feature [suggest] present in test data point [True]\n",
      "30 Text feature [well] present in test data point [True]\n",
      "31 Text feature [treat] present in test data point [True]\n",
      "32 Text feature [find] present in test data point [True]\n",
      "33 Text feature [addit] present in test data point [True]\n",
      "34 Text feature [previous] present in test data point [True]\n",
      "35 Text feature [10] present in test data point [True]\n",
      "36 Text feature [howev] present in test data point [True]\n",
      "37 Text feature [potenti] present in test data point [True]\n",
      "38 Text feature [compar] present in test data point [True]\n",
      "39 Text feature [may] present in test data point [True]\n",
      "40 Text feature [obtain] present in test data point [True]\n",
      "41 Text feature [constitut] present in test data point [True]\n",
      "42 Text feature [mechan] present in test data point [True]\n",
      "43 Text feature [respect] present in test data point [True]\n",
      "44 Text feature [growth] present in test data point [True]\n",
      "45 Text feature [confirm] present in test data point [True]\n",
      "46 Text feature [inhibit] present in test data point [True]\n",
      "47 Text feature [mutat] present in test data point [True]\n",
      "48 Text feature [similar] present in test data point [True]\n",
      "49 Text feature [report] present in test data point [True]\n",
      "50 Text feature [describ] present in test data point [True]\n",
      "51 Text feature [1a] present in test data point [True]\n",
      "52 Text feature [repres] present in test data point [True]\n",
      "53 Text feature [discuss] present in test data point [True]\n",
      "54 Text feature [interestingli] present in test data point [True]\n",
      "55 Text feature [higher] present in test data point [True]\n",
      "56 Text feature [lead] present in test data point [True]\n",
      "57 Text feature [observ] present in test data point [True]\n",
      "58 Text feature [occur] present in test data point [True]\n",
      "59 Text feature [12] present in test data point [True]\n",
      "60 Text feature [studi] present in test data point [True]\n",
      "61 Text feature [result] present in test data point [True]\n",
      "62 Text feature [new] present in test data point [True]\n",
      "63 Text feature [concentr] present in test data point [True]\n",
      "64 Text feature [variou] present in test data point [True]\n",
      "65 Text feature [total] present in test data point [True]\n",
      "66 Text feature [increas] present in test data point [True]\n",
      "67 Text feature [follow] present in test data point [True]\n",
      "68 Text feature [includ] present in test data point [True]\n",
      "69 Text feature [approv] present in test data point [True]\n",
      "70 Text feature [approxim] present in test data point [True]\n",
      "71 Text feature [without] present in test data point [True]\n",
      "72 Text feature [differ] present in test data point [True]\n",
      "73 Text feature [consist] present in test data point [True]\n",
      "74 Text feature [identifi] present in test data point [True]\n",
      "75 Text feature [signal] present in test data point [True]\n",
      "76 Text feature [prolifer] present in test data point [True]\n",
      "77 Text feature [3a] present in test data point [True]\n",
      "78 Text feature [demonstr] present in test data point [True]\n",
      "79 Text feature [use] present in test data point [True]\n",
      "80 Text feature [figur] present in test data point [True]\n",
      "81 Text feature [express] present in test data point [True]\n",
      "82 Text feature [small] present in test data point [True]\n",
      "83 Text feature [antibodi] present in test data point [True]\n",
      "84 Text feature [15] present in test data point [True]\n",
      "85 Text feature [3b] present in test data point [True]\n",
      "86 Text feature [factor] present in test data point [True]\n",
      "87 Text feature [hour] present in test data point [True]\n",
      "88 Text feature [effect] present in test data point [True]\n",
      "89 Text feature [wherea] present in test data point [True]\n",
      "90 Text feature [two] present in test data point [True]\n",
      "91 Text feature [due] present in test data point [True]\n",
      "92 Text feature [posit] present in test data point [True]\n",
      "93 Text feature [although] present in test data point [True]\n",
      "94 Text feature [mutant] present in test data point [True]\n",
      "95 Text feature [current] present in test data point [True]\n",
      "96 Text feature [furthermor] present in test data point [True]\n",
      "97 Text feature [three] present in test data point [True]\n",
      "98 Text feature [perform] present in test data point [True]\n",
      "99 Text feature [1b] present in test data point [True]\n",
      "Out of the top  100  features  81 are present in query point\n"
     ]
    }
   ],
   "source": [
    "test_point_index = 85\n",
    "no_feature = 100\n",
    "predicted_cls = sig_clf.predict(test_x_onehotCoding[test_point_index])\n",
    "print(\"Predicted Class :\", predicted_cls[0])\n",
    "print(\"Predicted Class Probabilities:\", np.round(sig_clf.predict_proba(test_x_onehotCoding[test_point_index]),4))\n",
    "print(\"Actual Class :\", test_y[test_point_index])\n",
    "indices = np.argsort(-clf.coef_)[predicted_cls-1][:,:no_feature]\n",
    "print(\"-\"*50)\n",
    "get_impfeature_names(indices[0], test_df['cleaned_text'].iloc[test_point_index],test_df['Gene'].iloc[test_point_index],test_df['Variation'].iloc[test_point_index], no_feature)"
   ]
  },
  {
   "cell_type": "code",
   "execution_count": null,
   "metadata": {},
   "outputs": [],
   "source": []
  }
 ],
 "metadata": {
  "kernelspec": {
   "display_name": "Python 3",
   "language": "python",
   "name": "python3"
  },
  "language_info": {
   "codemirror_mode": {
    "name": "ipython",
    "version": 3
   },
   "file_extension": ".py",
   "mimetype": "text/x-python",
   "name": "python",
   "nbconvert_exporter": "python",
   "pygments_lexer": "ipython3",
   "version": "3.7.8"
  }
 },
 "nbformat": 4,
 "nbformat_minor": 4
}
