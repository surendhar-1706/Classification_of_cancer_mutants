{
 "cells": [
  {
   "cell_type": "code",
   "execution_count": 173,
   "metadata": {},
   "outputs": [],
   "source": [
    "import pandas as pd"
   ]
  },
  {
   "cell_type": "code",
   "execution_count": 174,
   "metadata": {},
   "outputs": [],
   "source": [
    "import numpy as np"
   ]
  },
  {
   "cell_type": "code",
   "execution_count": 175,
   "metadata": {},
   "outputs": [],
   "source": [
    "import seaborn as sns"
   ]
  },
  {
   "cell_type": "code",
   "execution_count": 176,
   "metadata": {},
   "outputs": [],
   "source": [
    "import seaborn as sns"
   ]
  },
  {
   "cell_type": "code",
   "execution_count": 177,
   "metadata": {},
   "outputs": [],
   "source": [
    "sns.set()"
   ]
  },
  {
   "cell_type": "code",
   "execution_count": 178,
   "metadata": {},
   "outputs": [],
   "source": [
    "import matplotlib.pyplot as plt\n"
   ]
  },
  {
   "cell_type": "code",
   "execution_count": 179,
   "metadata": {},
   "outputs": [],
   "source": [
    "import os"
   ]
  },
  {
   "cell_type": "code",
   "execution_count": 180,
   "metadata": {},
   "outputs": [],
   "source": [
    "from keras.preprocessing.text import Tokenizer\n",
    "from keras.preprocessing.sequence import pad_sequences\n",
    "from keras.models import Sequential\n",
    "from keras.layers import Dense\n",
    "from keras.utils.np_utils import to_categorical\n",
    "from keras.optimizers import Adam"
   ]
  },
  {
   "cell_type": "code",
   "execution_count": 181,
   "metadata": {},
   "outputs": [],
   "source": [
    "\n",
    "import warnings\n",
    "warnings.filterwarnings(\"ignore\")"
   ]
  },
  {
   "cell_type": "code",
   "execution_count": 182,
   "metadata": {},
   "outputs": [],
   "source": [
    "path= '/Users/shyla/Desktop/Dataset/'"
   ]
  },
  {
   "cell_type": "code",
   "execution_count": 183,
   "metadata": {},
   "outputs": [],
   "source": [
    "train_text =  pd.read_csv(path+'training_text', sep='\\|\\|', header=None, skiprows = 1, names=[\"ID\", \"Text\"])"
   ]
  },
  {
   "cell_type": "code",
   "execution_count": 184,
   "metadata": {},
   "outputs": [],
   "source": [
    "train_text =  pd.read_csv(path+'training_text', sep='\\|\\|', header=None, skiprows = 1, names=[\"ID\", \"Text\"])\n",
    "train_variants =  pd.read_csv(path+'training_variants')"
   ]
  },
  {
   "cell_type": "code",
   "execution_count": 185,
   "metadata": {},
   "outputs": [
    {
     "data": {
      "text/plain": [
       "(3321, 2)"
      ]
     },
     "execution_count": 185,
     "metadata": {},
     "output_type": "execute_result"
    }
   ],
   "source": [
    "train_text.shape"
   ]
  },
  {
   "cell_type": "code",
   "execution_count": 186,
   "metadata": {},
   "outputs": [
    {
     "data": {
      "text/plain": [
       "(3321, 4)"
      ]
     },
     "execution_count": 186,
     "metadata": {},
     "output_type": "execute_result"
    }
   ],
   "source": [
    "train_variants.shape"
   ]
  },
  {
   "cell_type": "code",
   "execution_count": 187,
   "metadata": {},
   "outputs": [],
   "source": [
    "#merging text with train datas\n",
    "train = pd.merge(train_variants,train_text, how='left',on='ID')\n",
    "#left join based on its id"
   ]
  },
  {
   "cell_type": "code",
   "execution_count": 188,
   "metadata": {},
   "outputs": [
    {
     "data": {
      "text/plain": [
       "ID           0\n",
       "Gene         0\n",
       "Variation    0\n",
       "Class        0\n",
       "Text         5\n",
       "dtype: int64"
      ]
     },
     "execution_count": 188,
     "metadata": {},
     "output_type": "execute_result"
    }
   ],
   "source": [
    "train.isnull().sum()\n",
    "#print sum of missing values"
   ]
  },
  {
   "cell_type": "code",
   "execution_count": 189,
   "metadata": {},
   "outputs": [
    {
     "data": {
      "text/plain": [
       "(3316, 5)"
      ]
     },
     "execution_count": 189,
     "metadata": {},
     "output_type": "execute_result"
    }
   ],
   "source": [
    "#remove missing values such as null in dataset and copies to dataframe train\n",
    "df_train = train.dropna(axis=0).copy()\n",
    "#array dimension \n",
    "df_train.shape"
   ]
  },
  {
   "cell_type": "code",
   "execution_count": 190,
   "metadata": {},
   "outputs": [
    {
     "data": {
      "text/html": [
       "<div>\n",
       "<style scoped>\n",
       "    .dataframe tbody tr th:only-of-type {\n",
       "        vertical-align: middle;\n",
       "    }\n",
       "\n",
       "    .dataframe tbody tr th {\n",
       "        vertical-align: top;\n",
       "    }\n",
       "\n",
       "    .dataframe thead th {\n",
       "        text-align: right;\n",
       "    }\n",
       "</style>\n",
       "<table border=\"1\" class=\"dataframe\">\n",
       "  <thead>\n",
       "    <tr style=\"text-align: right;\">\n",
       "      <th></th>\n",
       "      <th>ID</th>\n",
       "      <th>Gene</th>\n",
       "      <th>Variation</th>\n",
       "      <th>Class</th>\n",
       "      <th>Text</th>\n",
       "    </tr>\n",
       "  </thead>\n",
       "  <tbody>\n",
       "    <tr>\n",
       "      <th>0</th>\n",
       "      <td>0</td>\n",
       "      <td>FAM58A</td>\n",
       "      <td>Truncating Mutations</td>\n",
       "      <td>1</td>\n",
       "      <td>Cyclin-dependent kinases (CDKs) regulate a var...</td>\n",
       "    </tr>\n",
       "    <tr>\n",
       "      <th>1</th>\n",
       "      <td>1</td>\n",
       "      <td>CBL</td>\n",
       "      <td>W802*</td>\n",
       "      <td>2</td>\n",
       "      <td>Abstract Background  Non-small cell lung canc...</td>\n",
       "    </tr>\n",
       "    <tr>\n",
       "      <th>2</th>\n",
       "      <td>2</td>\n",
       "      <td>CBL</td>\n",
       "      <td>Q249E</td>\n",
       "      <td>2</td>\n",
       "      <td>Abstract Background  Non-small cell lung canc...</td>\n",
       "    </tr>\n",
       "    <tr>\n",
       "      <th>3</th>\n",
       "      <td>3</td>\n",
       "      <td>CBL</td>\n",
       "      <td>N454D</td>\n",
       "      <td>3</td>\n",
       "      <td>Recent evidence has demonstrated that acquired...</td>\n",
       "    </tr>\n",
       "    <tr>\n",
       "      <th>4</th>\n",
       "      <td>4</td>\n",
       "      <td>CBL</td>\n",
       "      <td>L399V</td>\n",
       "      <td>4</td>\n",
       "      <td>Oncogenic mutations in the monomeric Casitas B...</td>\n",
       "    </tr>\n",
       "  </tbody>\n",
       "</table>\n",
       "</div>"
      ],
      "text/plain": [
       "   ID    Gene             Variation  Class  \\\n",
       "0   0  FAM58A  Truncating Mutations      1   \n",
       "1   1     CBL                 W802*      2   \n",
       "2   2     CBL                 Q249E      2   \n",
       "3   3     CBL                 N454D      3   \n",
       "4   4     CBL                 L399V      4   \n",
       "\n",
       "                                                Text  \n",
       "0  Cyclin-dependent kinases (CDKs) regulate a var...  \n",
       "1   Abstract Background  Non-small cell lung canc...  \n",
       "2   Abstract Background  Non-small cell lung canc...  \n",
       "3  Recent evidence has demonstrated that acquired...  \n",
       "4  Oncogenic mutations in the monomeric Casitas B...  "
      ]
     },
     "execution_count": 190,
     "metadata": {},
     "output_type": "execute_result"
    }
   ],
   "source": [
    "df_train.head()\n",
    "#gives top 5 rows ->head"
   ]
  },
  {
   "cell_type": "code",
   "execution_count": 191,
   "metadata": {},
   "outputs": [
    {
     "data": {
      "text/html": [
       "<div>\n",
       "<style scoped>\n",
       "    .dataframe tbody tr th:only-of-type {\n",
       "        vertical-align: middle;\n",
       "    }\n",
       "\n",
       "    .dataframe tbody tr th {\n",
       "        vertical-align: top;\n",
       "    }\n",
       "\n",
       "    .dataframe thead th {\n",
       "        text-align: right;\n",
       "    }\n",
       "</style>\n",
       "<table border=\"1\" class=\"dataframe\">\n",
       "  <thead>\n",
       "    <tr style=\"text-align: right;\">\n",
       "      <th></th>\n",
       "      <th>ID</th>\n",
       "      <th>Gene</th>\n",
       "      <th>Variation</th>\n",
       "      <th>Class</th>\n",
       "      <th>Text</th>\n",
       "    </tr>\n",
       "  </thead>\n",
       "  <tbody>\n",
       "    <tr>\n",
       "      <th>0</th>\n",
       "      <td>0</td>\n",
       "      <td>FAM58A</td>\n",
       "      <td>Truncating Mutations</td>\n",
       "      <td>1</td>\n",
       "      <td>Cyclin-dependent kinases (CDKs) regulate a var...</td>\n",
       "    </tr>\n",
       "    <tr>\n",
       "      <th>1</th>\n",
       "      <td>1</td>\n",
       "      <td>CBL</td>\n",
       "      <td>W802*</td>\n",
       "      <td>2</td>\n",
       "      <td>Abstract Background  Non-small cell lung canc...</td>\n",
       "    </tr>\n",
       "    <tr>\n",
       "      <th>2</th>\n",
       "      <td>2</td>\n",
       "      <td>CBL</td>\n",
       "      <td>Q249E</td>\n",
       "      <td>2</td>\n",
       "      <td>Abstract Background  Non-small cell lung canc...</td>\n",
       "    </tr>\n",
       "    <tr>\n",
       "      <th>3</th>\n",
       "      <td>3</td>\n",
       "      <td>CBL</td>\n",
       "      <td>N454D</td>\n",
       "      <td>3</td>\n",
       "      <td>Recent evidence has demonstrated that acquired...</td>\n",
       "    </tr>\n",
       "    <tr>\n",
       "      <th>4</th>\n",
       "      <td>4</td>\n",
       "      <td>CBL</td>\n",
       "      <td>L399V</td>\n",
       "      <td>4</td>\n",
       "      <td>Oncogenic mutations in the monomeric Casitas B...</td>\n",
       "    </tr>\n",
       "    <tr>\n",
       "      <th>...</th>\n",
       "      <td>...</td>\n",
       "      <td>...</td>\n",
       "      <td>...</td>\n",
       "      <td>...</td>\n",
       "      <td>...</td>\n",
       "    </tr>\n",
       "    <tr>\n",
       "      <th>3316</th>\n",
       "      <td>3316</td>\n",
       "      <td>RUNX1</td>\n",
       "      <td>D171N</td>\n",
       "      <td>4</td>\n",
       "      <td>Introduction  Myelodysplastic syndromes (MDS) ...</td>\n",
       "    </tr>\n",
       "    <tr>\n",
       "      <th>3317</th>\n",
       "      <td>3317</td>\n",
       "      <td>RUNX1</td>\n",
       "      <td>A122*</td>\n",
       "      <td>1</td>\n",
       "      <td>Introduction  Myelodysplastic syndromes (MDS) ...</td>\n",
       "    </tr>\n",
       "    <tr>\n",
       "      <th>3318</th>\n",
       "      <td>3318</td>\n",
       "      <td>RUNX1</td>\n",
       "      <td>Fusions</td>\n",
       "      <td>1</td>\n",
       "      <td>The Runt-related transcription factor 1 gene (...</td>\n",
       "    </tr>\n",
       "    <tr>\n",
       "      <th>3319</th>\n",
       "      <td>3319</td>\n",
       "      <td>RUNX1</td>\n",
       "      <td>R80C</td>\n",
       "      <td>4</td>\n",
       "      <td>The RUNX1/AML1 gene is the most frequent targe...</td>\n",
       "    </tr>\n",
       "    <tr>\n",
       "      <th>3320</th>\n",
       "      <td>3320</td>\n",
       "      <td>RUNX1</td>\n",
       "      <td>K83E</td>\n",
       "      <td>4</td>\n",
       "      <td>The most frequent mutations associated with le...</td>\n",
       "    </tr>\n",
       "  </tbody>\n",
       "</table>\n",
       "<p>3316 rows × 5 columns</p>\n",
       "</div>"
      ],
      "text/plain": [
       "        ID    Gene             Variation  Class  \\\n",
       "0        0  FAM58A  Truncating Mutations      1   \n",
       "1        1     CBL                 W802*      2   \n",
       "2        2     CBL                 Q249E      2   \n",
       "3        3     CBL                 N454D      3   \n",
       "4        4     CBL                 L399V      4   \n",
       "...    ...     ...                   ...    ...   \n",
       "3316  3316   RUNX1                 D171N      4   \n",
       "3317  3317   RUNX1                 A122*      1   \n",
       "3318  3318   RUNX1               Fusions      1   \n",
       "3319  3319   RUNX1                  R80C      4   \n",
       "3320  3320   RUNX1                  K83E      4   \n",
       "\n",
       "                                                   Text  \n",
       "0     Cyclin-dependent kinases (CDKs) regulate a var...  \n",
       "1      Abstract Background  Non-small cell lung canc...  \n",
       "2      Abstract Background  Non-small cell lung canc...  \n",
       "3     Recent evidence has demonstrated that acquired...  \n",
       "4     Oncogenic mutations in the monomeric Casitas B...  \n",
       "...                                                 ...  \n",
       "3316  Introduction  Myelodysplastic syndromes (MDS) ...  \n",
       "3317  Introduction  Myelodysplastic syndromes (MDS) ...  \n",
       "3318  The Runt-related transcription factor 1 gene (...  \n",
       "3319  The RUNX1/AML1 gene is the most frequent targe...  \n",
       "3320  The most frequent mutations associated with le...  \n",
       "\n",
       "[3316 rows x 5 columns]"
      ]
     },
     "execution_count": 191,
     "metadata": {},
     "output_type": "execute_result"
    }
   ],
   "source": [
    "df_train"
   ]
  },
  {
   "cell_type": "code",
   "execution_count": 192,
   "metadata": {},
   "outputs": [
    {
     "data": {
      "image/png": "[encoded data removed]",
      "text/plain": [
       "<Figure size 432x288 with 1 Axes>"
      ]
     },
     "metadata": {},
     "output_type": "display_data"
    }
   ],
   "source": [
    "df_train.Class.value_counts().plot(kind=\"bar\",title='Classes Distribution')\n",
    "plt.xlabel('Classes')\n",
    "plt.ylabel('Counts')\n",
    "plt.show()\n",
    "#shows count for classes 1-9"
   ]
  },
  {
   "cell_type": "code",
   "execution_count": 193,
   "metadata": {},
   "outputs": [
    {
     "name": "stderr",
     "output_type": "stream",
     "text": [
      "[nltk_data] Downloading package stopwords to\n",
      "[nltk_data]     C:\\Users\\shyla\\AppData\\Roaming\\nltk_data...\n",
      "[nltk_data]   Package stopwords is already up-to-date!\n"
     ]
    },
    {
     "data": {
      "text/plain": [
       "True"
      ]
     },
     "execution_count": 193,
     "metadata": {},
     "output_type": "execute_result"
    }
   ],
   "source": [
    "import re, string\n",
    "from nltk.corpus import stopwords\n",
    "import nltk\n",
    "nltk.download('stopwords')"
   ]
  },
  {
   "cell_type": "code",
   "execution_count": 194,
   "metadata": {},
   "outputs": [],
   "source": [
    "#getting english stopwords from nltk \n",
    "sw_list = stopwords.words('english')\n"
   ]
  },
  {
   "cell_type": "code",
   "execution_count": 195,
   "metadata": {},
   "outputs": [
    {
     "data": {
      "text/plain": [
       "['i',\n",
       " 'me',\n",
       " 'my',\n",
       " 'myself',\n",
       " 'we',\n",
       " 'our',\n",
       " 'ours',\n",
       " 'ourselves',\n",
       " 'you',\n",
       " \"you're\",\n",
       " \"you've\",\n",
       " \"you'll\",\n",
       " \"you'd\",\n",
       " 'your',\n",
       " 'yours',\n",
       " 'yourself',\n",
       " 'yourselves',\n",
       " 'he',\n",
       " 'him',\n",
       " 'his',\n",
       " 'himself',\n",
       " 'she',\n",
       " \"she's\",\n",
       " 'her',\n",
       " 'hers',\n",
       " 'herself',\n",
       " 'it',\n",
       " \"it's\",\n",
       " 'its',\n",
       " 'itself',\n",
       " 'they',\n",
       " 'them',\n",
       " 'their',\n",
       " 'theirs',\n",
       " 'themselves',\n",
       " 'what',\n",
       " 'which',\n",
       " 'who',\n",
       " 'whom',\n",
       " 'this',\n",
       " 'that',\n",
       " \"that'll\",\n",
       " 'these',\n",
       " 'those',\n",
       " 'am',\n",
       " 'is',\n",
       " 'are',\n",
       " 'was',\n",
       " 'were',\n",
       " 'be',\n",
       " 'been',\n",
       " 'being',\n",
       " 'have',\n",
       " 'has',\n",
       " 'had',\n",
       " 'having',\n",
       " 'do',\n",
       " 'does',\n",
       " 'did',\n",
       " 'doing',\n",
       " 'a',\n",
       " 'an',\n",
       " 'the',\n",
       " 'and',\n",
       " 'but',\n",
       " 'if',\n",
       " 'or',\n",
       " 'because',\n",
       " 'as',\n",
       " 'until',\n",
       " 'while',\n",
       " 'of',\n",
       " 'at',\n",
       " 'by',\n",
       " 'for',\n",
       " 'with',\n",
       " 'about',\n",
       " 'against',\n",
       " 'between',\n",
       " 'into',\n",
       " 'through',\n",
       " 'during',\n",
       " 'before',\n",
       " 'after',\n",
       " 'above',\n",
       " 'below',\n",
       " 'to',\n",
       " 'from',\n",
       " 'up',\n",
       " 'down',\n",
       " 'in',\n",
       " 'out',\n",
       " 'on',\n",
       " 'off',\n",
       " 'over',\n",
       " 'under',\n",
       " 'again',\n",
       " 'further',\n",
       " 'then',\n",
       " 'once',\n",
       " 'here',\n",
       " 'there',\n",
       " 'when',\n",
       " 'where',\n",
       " 'why',\n",
       " 'how',\n",
       " 'all',\n",
       " 'any',\n",
       " 'both',\n",
       " 'each',\n",
       " 'few',\n",
       " 'more',\n",
       " 'most',\n",
       " 'other',\n",
       " 'some',\n",
       " 'such',\n",
       " 'no',\n",
       " 'nor',\n",
       " 'not',\n",
       " 'only',\n",
       " 'own',\n",
       " 'same',\n",
       " 'so',\n",
       " 'than',\n",
       " 'too',\n",
       " 'very',\n",
       " 's',\n",
       " 't',\n",
       " 'can',\n",
       " 'will',\n",
       " 'just',\n",
       " 'don',\n",
       " \"don't\",\n",
       " 'should',\n",
       " \"should've\",\n",
       " 'now',\n",
       " 'd',\n",
       " 'll',\n",
       " 'm',\n",
       " 'o',\n",
       " 're',\n",
       " 've',\n",
       " 'y',\n",
       " 'ain',\n",
       " 'aren',\n",
       " \"aren't\",\n",
       " 'couldn',\n",
       " \"couldn't\",\n",
       " 'didn',\n",
       " \"didn't\",\n",
       " 'doesn',\n",
       " \"doesn't\",\n",
       " 'hadn',\n",
       " \"hadn't\",\n",
       " 'hasn',\n",
       " \"hasn't\",\n",
       " 'haven',\n",
       " \"haven't\",\n",
       " 'isn',\n",
       " \"isn't\",\n",
       " 'ma',\n",
       " 'mightn',\n",
       " \"mightn't\",\n",
       " 'mustn',\n",
       " \"mustn't\",\n",
       " 'needn',\n",
       " \"needn't\",\n",
       " 'shan',\n",
       " \"shan't\",\n",
       " 'shouldn',\n",
       " \"shouldn't\",\n",
       " 'wasn',\n",
       " \"wasn't\",\n",
       " 'weren',\n",
       " \"weren't\",\n",
       " 'won',\n",
       " \"won't\",\n",
       " 'wouldn',\n",
       " \"wouldn't\",\n",
       " '!',\n",
       " '\"',\n",
       " '#',\n",
       " '$',\n",
       " '%',\n",
       " '&',\n",
       " \"'\",\n",
       " '(',\n",
       " ')',\n",
       " '*',\n",
       " '+',\n",
       " ',',\n",
       " '-',\n",
       " '.',\n",
       " '/',\n",
       " ':',\n",
       " ';',\n",
       " '<',\n",
       " '=',\n",
       " '>',\n",
       " '?',\n",
       " '@',\n",
       " '[',\n",
       " '\\\\',\n",
       " ']',\n",
       " '^',\n",
       " '_',\n",
       " '`',\n",
       " '{',\n",
       " '|',\n",
       " '}',\n",
       " '~',\n",
       " \"''\",\n",
       " '\"\"',\n",
       " '...',\n",
       " '``',\n",
       " '’',\n",
       " '“',\n",
       " '’',\n",
       " '”',\n",
       " '‘',\n",
       " '‘',\n",
       " \"'\",\n",
       " '©',\n",
       " 'said',\n",
       " \"'s\",\n",
       " 'also',\n",
       " 'one',\n",
       " \"n't\",\n",
       " 'com',\n",
       " 'satirewire',\n",
       " '-',\n",
       " '–',\n",
       " 'et al',\n",
       " '—',\n",
       " '_',\n",
       " 'et al ',\n",
       " '/']"
      ]
     },
     "execution_count": 195,
     "metadata": {},
     "output_type": "execute_result"
    }
   ],
   "source": [
    "#add punctuation\n",
    "sw_list += list(string.punctuation)\n",
    "sw_list += [\"''\", '\"\"', '...', '``', '’', '“', '’', '”', '‘', '‘',\"'\", '©',\n",
    "'said',\"'s\", \"also\",'one',\"n't\",'com', 'satirewire', '-', '–', \"et al\",\n",
    "'—', '_','et al ',\"/\"]\n",
    "sw_list"
   ]
  },
  {
   "cell_type": "code",
   "execution_count": 196,
   "metadata": {},
   "outputs": [],
   "source": [
    "#eleminating duplicates by adding to set\n",
    "sw_set = set(sw_list)"
   ]
  },
  {
   "cell_type": "code",
   "execution_count": 197,
   "metadata": {},
   "outputs": [
    {
     "name": "stdout",
     "output_type": "stream",
     "text": [
      "{'can', 'this', '“', 'so', '{', 'its', 'there', \"didn't\", 'against', 'an', ',', \"mustn't\", '–', 'when', 'during', 'doing', \"should've\", 'whom', 'itself', 'no', 'once', '!', 'said', 'weren', 'needn', 'com', 'nor', 'than', 'he', ')', 'for', 'each', '^', 'above', 'down', \"couldn't\", \"you're\", 'further', '...', 'and', \"it's\", 'some', 'up', 'does', 'himself', 'before', '|', 'i', 'ourselves', 'about', \"'s\", 'had', '}', 'couldn', 'mustn', \"isn't\", \"you'll\", 'won', 'has', '\"', \"that'll\", '*', '@', 'these', 'will', 'herself', 'd', 'who', 'again', \"doesn't\", 'haven', 'hasn', \"she's\", 'not', 'myself', '\\\\', '>', 'into', '?', 'those', 'don', '-', 'was', 'on', 'while', 'under', 'of', 'own', 'because', '`', 'but', 'more', 'after', '<', 'doesn', 'with', '\"\"', 'also', 'both', \"don't\", 'now', 'what', '%', 'did', 've', 'it', '&', \"haven't\", 'she', 'hers', '”', 'wouldn', 'my', 'aren', 'one', 'you', '(', \"wouldn't\", 'mightn', \"'\", 'just', \"shan't\", \"hadn't\", 'we', 'his', 'her', 'if', 'are', 'very', \"you've\", '+', 'yours', 'that', 'am', 'et al', '~', 'in', 'only', 'o', 'them', 'theirs', 'be', \"n't\", 'by', '.', 'been', 'do', 'from', 'wasn', 're', '©', 'being', 'were', '—', 'to', 'other', 'is', 'the', 'below', 'isn', '_', 'few', 'yourself', 'between', 'out', 'et al ', 'why', 'until', 'their', 'll', ';', \"weren't\", 'shan', 'themselves', 'most', 'm', '#', 's', 'yourselves', 'they', ':', 'any', 'him', 'have', 'ours', 'having', 'such', \"aren't\", \"''\", \"mightn't\", '``', ']', 'hadn', 'or', 'how', 'didn', \"hasn't\", 'all', '‘', '/', 'which', 't', 'me', 'our', '=', \"you'd\", 'here', 'y', 'a', '’', 'your', 'off', 'where', 'then', 'as', \"needn't\", \"wasn't\", 'should', 'ma', '[', 'through', 'at', 'too', \"shouldn't\", \"won't\", 'satirewire', 'over', 'same', '$', 'shouldn', 'ain'}\n"
     ]
    }
   ],
   "source": [
    "print(sw_set)"
   ]
  },
  {
   "cell_type": "code",
   "execution_count": 198,
   "metadata": {},
   "outputs": [],
   "source": [
    "#tokenization using nltk\n",
    "#word tokenization is used here -> sentence breaks into words\n",
    "def process_review(review):\n",
    "    tokens = nltk.word_tokenize(review)\n",
    "    stopwords_removed = [token.lower() for token in tokens if token.lower() not in sw_set]\n",
    "    return stopwords_removed"
   ]
  },
  {
   "cell_type": "code",
   "execution_count": 199,
   "metadata": {},
   "outputs": [],
   "source": [
    "#stemming\n",
    "from nltk.stem import PorterStemmer\n",
    "ps = PorterStemmer()\n",
    "def stemming(review):\n",
    "    stemmed_review = []\n",
    "    for w in review:\n",
    "        stemmed_review.append(ps.stem(w))\n",
    "    return stemmed_review "
   ]
  },
  {
   "cell_type": "code",
   "execution_count": 200,
   "metadata": {},
   "outputs": [
    {
     "name": "stderr",
     "output_type": "stream",
     "text": [
      "[nltk_data] Downloading package wordnet to\n",
      "[nltk_data]     C:\\Users\\shyla\\AppData\\Roaming\\nltk_data...\n",
      "[nltk_data]   Package wordnet is already up-to-date!\n",
      "[nltk_data] Downloading package punkt to\n",
      "[nltk_data]     C:\\Users\\shyla\\AppData\\Roaming\\nltk_data...\n",
      "[nltk_data]   Package punkt is already up-to-date!\n"
     ]
    }
   ],
   "source": [
    "# import libraries\n",
    "from nltk.stem.wordnet import WordNetLemmatizer\n",
    "nltk.download('wordnet')\n",
    "nltk.download('punkt')\n",
    "lemmatizer = WordNetLemmatizer()"
   ]
  },
  {
   "cell_type": "code",
   "execution_count": 201,
   "metadata": {},
   "outputs": [],
   "source": [
    "#lemmatixation\n",
    "#pos = v is verb of that word\n",
    "def lemmatization(review):\n",
    "    lemma_list=[]\n",
    "    for word in review:\n",
    "        lemma_word=lemmatizer.lemmatize(word,pos='v') \n",
    "        lemma_list.append(lemma_word)\n",
    "    return lemma_list"
   ]
  },
  {
   "cell_type": "code",
   "execution_count": 202,
   "metadata": {},
   "outputs": [
    {
     "name": "stdout",
     "output_type": "stream",
     "text": [
      "Current Time = 2021-10-02 19:50:42.791150\n"
     ]
    }
   ],
   "source": [
    "from datetime import datetime\n",
    "\n",
    "now = datetime.now()\n",
    "\n",
    "print(\"Current Time =\", now)"
   ]
  },
  {
   "cell_type": "code",
   "execution_count": 203,
   "metadata": {},
   "outputs": [],
   "source": [
    "#obtaining cleaned text data\n",
    "def data_preprocessing(review):\n",
    "    #tokenization, stop words removal, punctuation marks removel\n",
    "    now = datetime.now();\n",
    "    t_starttime = now.strftime(\"%H:%M:%S\")\n",
    "    print(\"start Time tokenization=\", t_starttime)\n",
    "    processed_review=list(map(process_review,review))\n",
    "    now = datetime.now()\n",
    "    t_stoptime = now.strftime(\"%H:%M:%S\")\n",
    "    print(\"stop Time tokenization=\", t_stoptime)\n",
    "    # stemming\n",
    "    now = datetime.now()\n",
    "    l_starttime = now.strftime(\"%H:%M:%S\")\n",
    "    print(\"start Time stemming=\", l_starttime)\n",
    "    stemming_reviews=list(map(stemming,processed_review))\n",
    "    now = datetime.now()\n",
    "    l_stoptime = now.strftime(\"%H:%M:%S\")\n",
    "    print(\"stop Time stemming=\", l_stoptime)\n",
    "    # lemmatization\n",
    "    now = datetime.now()\n",
    "    s_starttime = now.strftime(\"%H:%M:%S\")\n",
    "    print(\"start Time lemmatization=\", s_starttime)\n",
    "    lemma_reviews=list(map(lemmatization,stemming_reviews))\n",
    "    now = datetime.now()\n",
    "    s_stoptime = now.strftime(\"%H:%M:%S\")\n",
    "    print(\"stop Time lemmatization=\", s_stoptime)\n",
    "    #print(lemma_reviews)\n",
    "    return lemma_reviews"
   ]
  },
  {
   "cell_type": "code",
   "execution_count": 204,
   "metadata": {},
   "outputs": [
    {
     "name": "stdout",
     "output_type": "stream",
     "text": [
      "start Time tokenization= 19:50:42\n",
      "stop Time tokenization= 19:55:09\n",
      "start Time stemming= 19:55:09\n",
      "stop Time stemming= 20:02:33\n",
      "start Time lemmatization= 20:02:33\n",
      "stop Time lemmatization= 20:03:45\n"
     ]
    }
   ],
   "source": [
    "cleaned_train_text=data_preprocessing(df_train['Text'])\n"
   ]
  },
  {
   "cell_type": "code",
   "execution_count": 205,
   "metadata": {},
   "outputs": [],
   "source": [
    "\n",
    "import pickle\n",
    "pickle_out1=open('cleaned_train_text', 'wb')\n",
    "pickle.dump(cleaned_train_text, pickle_out1)\n",
    "pickle_out1.close()"
   ]
  },
  {
   "cell_type": "code",
   "execution_count": 206,
   "metadata": {},
   "outputs": [],
   "source": [
    "import pickle\n",
    "pickle_in_train = open(\"cleaned_train_text\",\"rb\")\n",
    "cleaned_train_text = pickle.load(pickle_in_train)"
   ]
  },
  {
   "cell_type": "code",
   "execution_count": 207,
   "metadata": {},
   "outputs": [],
   "source": [
    "df_train['cleaned_text']=[\" \".join(i) for i in cleaned_train_text]"
   ]
  },
  {
   "cell_type": "code",
   "execution_count": 208,
   "metadata": {},
   "outputs": [
    {
     "data": {
      "text/html": [
       "<div>\n",
       "<style scoped>\n",
       "    .dataframe tbody tr th:only-of-type {\n",
       "        vertical-align: middle;\n",
       "    }\n",
       "\n",
       "    .dataframe tbody tr th {\n",
       "        vertical-align: top;\n",
       "    }\n",
       "\n",
       "    .dataframe thead th {\n",
       "        text-align: right;\n",
       "    }\n",
       "</style>\n",
       "<table border=\"1\" class=\"dataframe\">\n",
       "  <thead>\n",
       "    <tr style=\"text-align: right;\">\n",
       "      <th></th>\n",
       "      <th>ID</th>\n",
       "      <th>Gene</th>\n",
       "      <th>Variation</th>\n",
       "      <th>Class</th>\n",
       "      <th>Text</th>\n",
       "      <th>cleaned_text</th>\n",
       "    </tr>\n",
       "  </thead>\n",
       "  <tbody>\n",
       "    <tr>\n",
       "      <th>0</th>\n",
       "      <td>0</td>\n",
       "      <td>FAM58A</td>\n",
       "      <td>Truncating Mutations</td>\n",
       "      <td>1</td>\n",
       "      <td>Cyclin-dependent kinases (CDKs) regulate a var...</td>\n",
       "      <td>cyclin-depend kinas cdk regul varieti fundamen...</td>\n",
       "    </tr>\n",
       "    <tr>\n",
       "      <th>1</th>\n",
       "      <td>1</td>\n",
       "      <td>CBL</td>\n",
       "      <td>W802*</td>\n",
       "      <td>2</td>\n",
       "      <td>Abstract Background  Non-small cell lung canc...</td>\n",
       "      <td>abstract background non-smal cell lung cancer ...</td>\n",
       "    </tr>\n",
       "    <tr>\n",
       "      <th>2</th>\n",
       "      <td>2</td>\n",
       "      <td>CBL</td>\n",
       "      <td>Q249E</td>\n",
       "      <td>2</td>\n",
       "      <td>Abstract Background  Non-small cell lung canc...</td>\n",
       "      <td>abstract background non-smal cell lung cancer ...</td>\n",
       "    </tr>\n",
       "    <tr>\n",
       "      <th>3</th>\n",
       "      <td>3</td>\n",
       "      <td>CBL</td>\n",
       "      <td>N454D</td>\n",
       "      <td>3</td>\n",
       "      <td>Recent evidence has demonstrated that acquired...</td>\n",
       "      <td>recent evid demonstr acquir uniparent disomi a...</td>\n",
       "    </tr>\n",
       "    <tr>\n",
       "      <th>4</th>\n",
       "      <td>4</td>\n",
       "      <td>CBL</td>\n",
       "      <td>L399V</td>\n",
       "      <td>4</td>\n",
       "      <td>Oncogenic mutations in the monomeric Casitas B...</td>\n",
       "      <td>oncogen mutat monomer casita b-lineag lymphoma...</td>\n",
       "    </tr>\n",
       "    <tr>\n",
       "      <th>...</th>\n",
       "      <td>...</td>\n",
       "      <td>...</td>\n",
       "      <td>...</td>\n",
       "      <td>...</td>\n",
       "      <td>...</td>\n",
       "      <td>...</td>\n",
       "    </tr>\n",
       "    <tr>\n",
       "      <th>3316</th>\n",
       "      <td>3316</td>\n",
       "      <td>RUNX1</td>\n",
       "      <td>D171N</td>\n",
       "      <td>4</td>\n",
       "      <td>Introduction  Myelodysplastic syndromes (MDS) ...</td>\n",
       "      <td>introduct myelodysplast syndrom md heterogen g...</td>\n",
       "    </tr>\n",
       "    <tr>\n",
       "      <th>3317</th>\n",
       "      <td>3317</td>\n",
       "      <td>RUNX1</td>\n",
       "      <td>A122*</td>\n",
       "      <td>1</td>\n",
       "      <td>Introduction  Myelodysplastic syndromes (MDS) ...</td>\n",
       "      <td>introduct myelodysplast syndrom md heterogen g...</td>\n",
       "    </tr>\n",
       "    <tr>\n",
       "      <th>3318</th>\n",
       "      <td>3318</td>\n",
       "      <td>RUNX1</td>\n",
       "      <td>Fusions</td>\n",
       "      <td>1</td>\n",
       "      <td>The Runt-related transcription factor 1 gene (...</td>\n",
       "      <td>runt-rel transcript factor 1 gene runx1 alias ...</td>\n",
       "    </tr>\n",
       "    <tr>\n",
       "      <th>3319</th>\n",
       "      <td>3319</td>\n",
       "      <td>RUNX1</td>\n",
       "      <td>R80C</td>\n",
       "      <td>4</td>\n",
       "      <td>The RUNX1/AML1 gene is the most frequent targe...</td>\n",
       "      <td>runx1/aml1 gene frequent target chromosom tran...</td>\n",
       "    </tr>\n",
       "    <tr>\n",
       "      <th>3320</th>\n",
       "      <td>3320</td>\n",
       "      <td>RUNX1</td>\n",
       "      <td>K83E</td>\n",
       "      <td>4</td>\n",
       "      <td>The most frequent mutations associated with le...</td>\n",
       "      <td>frequent mutat associ leukemia recurr somat ch...</td>\n",
       "    </tr>\n",
       "  </tbody>\n",
       "</table>\n",
       "<p>3316 rows × 6 columns</p>\n",
       "</div>"
      ],
      "text/plain": [
       "        ID    Gene             Variation  Class  \\\n",
       "0        0  FAM58A  Truncating Mutations      1   \n",
       "1        1     CBL                 W802*      2   \n",
       "2        2     CBL                 Q249E      2   \n",
       "3        3     CBL                 N454D      3   \n",
       "4        4     CBL                 L399V      4   \n",
       "...    ...     ...                   ...    ...   \n",
       "3316  3316   RUNX1                 D171N      4   \n",
       "3317  3317   RUNX1                 A122*      1   \n",
       "3318  3318   RUNX1               Fusions      1   \n",
       "3319  3319   RUNX1                  R80C      4   \n",
       "3320  3320   RUNX1                  K83E      4   \n",
       "\n",
       "                                                   Text  \\\n",
       "0     Cyclin-dependent kinases (CDKs) regulate a var...   \n",
       "1      Abstract Background  Non-small cell lung canc...   \n",
       "2      Abstract Background  Non-small cell lung canc...   \n",
       "3     Recent evidence has demonstrated that acquired...   \n",
       "4     Oncogenic mutations in the monomeric Casitas B...   \n",
       "...                                                 ...   \n",
       "3316  Introduction  Myelodysplastic syndromes (MDS) ...   \n",
       "3317  Introduction  Myelodysplastic syndromes (MDS) ...   \n",
       "3318  The Runt-related transcription factor 1 gene (...   \n",
       "3319  The RUNX1/AML1 gene is the most frequent targe...   \n",
       "3320  The most frequent mutations associated with le...   \n",
       "\n",
       "                                           cleaned_text  \n",
       "0     cyclin-depend kinas cdk regul varieti fundamen...  \n",
       "1     abstract background non-smal cell lung cancer ...  \n",
       "2     abstract background non-smal cell lung cancer ...  \n",
       "3     recent evid demonstr acquir uniparent disomi a...  \n",
       "4     oncogen mutat monomer casita b-lineag lymphoma...  \n",
       "...                                                 ...  \n",
       "3316  introduct myelodysplast syndrom md heterogen g...  \n",
       "3317  introduct myelodysplast syndrom md heterogen g...  \n",
       "3318  runt-rel transcript factor 1 gene runx1 alias ...  \n",
       "3319  runx1/aml1 gene frequent target chromosom tran...  \n",
       "3320  frequent mutat associ leukemia recurr somat ch...  \n",
       "\n",
       "[3316 rows x 6 columns]"
      ]
     },
     "execution_count": 208,
     "metadata": {},
     "output_type": "execute_result"
    }
   ],
   "source": [
    "df_train"
   ]
  },
  {
   "cell_type": "code",
   "execution_count": 209,
   "metadata": {},
   "outputs": [],
   "source": [
    "#declare inputs and target\n",
    "inputs=df_train[['ID', 'Gene', 'Variation','Class','cleaned_text']]\n",
    "target=df_train.Class"
   ]
  },
  {
   "cell_type": "code",
   "execution_count": 210,
   "metadata": {},
   "outputs": [
    {
     "data": {
      "text/html": [
       "<div>\n",
       "<style scoped>\n",
       "    .dataframe tbody tr th:only-of-type {\n",
       "        vertical-align: middle;\n",
       "    }\n",
       "\n",
       "    .dataframe tbody tr th {\n",
       "        vertical-align: top;\n",
       "    }\n",
       "\n",
       "    .dataframe thead th {\n",
       "        text-align: right;\n",
       "    }\n",
       "</style>\n",
       "<table border=\"1\" class=\"dataframe\">\n",
       "  <thead>\n",
       "    <tr style=\"text-align: right;\">\n",
       "      <th></th>\n",
       "      <th>ID</th>\n",
       "      <th>Gene</th>\n",
       "      <th>Variation</th>\n",
       "      <th>Class</th>\n",
       "      <th>cleaned_text</th>\n",
       "    </tr>\n",
       "  </thead>\n",
       "  <tbody>\n",
       "    <tr>\n",
       "      <th>0</th>\n",
       "      <td>0</td>\n",
       "      <td>FAM58A</td>\n",
       "      <td>Truncating Mutations</td>\n",
       "      <td>1</td>\n",
       "      <td>cyclin-depend kinas cdk regul varieti fundamen...</td>\n",
       "    </tr>\n",
       "    <tr>\n",
       "      <th>1</th>\n",
       "      <td>1</td>\n",
       "      <td>CBL</td>\n",
       "      <td>W802*</td>\n",
       "      <td>2</td>\n",
       "      <td>abstract background non-smal cell lung cancer ...</td>\n",
       "    </tr>\n",
       "    <tr>\n",
       "      <th>2</th>\n",
       "      <td>2</td>\n",
       "      <td>CBL</td>\n",
       "      <td>Q249E</td>\n",
       "      <td>2</td>\n",
       "      <td>abstract background non-smal cell lung cancer ...</td>\n",
       "    </tr>\n",
       "    <tr>\n",
       "      <th>3</th>\n",
       "      <td>3</td>\n",
       "      <td>CBL</td>\n",
       "      <td>N454D</td>\n",
       "      <td>3</td>\n",
       "      <td>recent evid demonstr acquir uniparent disomi a...</td>\n",
       "    </tr>\n",
       "    <tr>\n",
       "      <th>4</th>\n",
       "      <td>4</td>\n",
       "      <td>CBL</td>\n",
       "      <td>L399V</td>\n",
       "      <td>4</td>\n",
       "      <td>oncogen mutat monomer casita b-lineag lymphoma...</td>\n",
       "    </tr>\n",
       "    <tr>\n",
       "      <th>...</th>\n",
       "      <td>...</td>\n",
       "      <td>...</td>\n",
       "      <td>...</td>\n",
       "      <td>...</td>\n",
       "      <td>...</td>\n",
       "    </tr>\n",
       "    <tr>\n",
       "      <th>3316</th>\n",
       "      <td>3316</td>\n",
       "      <td>RUNX1</td>\n",
       "      <td>D171N</td>\n",
       "      <td>4</td>\n",
       "      <td>introduct myelodysplast syndrom md heterogen g...</td>\n",
       "    </tr>\n",
       "    <tr>\n",
       "      <th>3317</th>\n",
       "      <td>3317</td>\n",
       "      <td>RUNX1</td>\n",
       "      <td>A122*</td>\n",
       "      <td>1</td>\n",
       "      <td>introduct myelodysplast syndrom md heterogen g...</td>\n",
       "    </tr>\n",
       "    <tr>\n",
       "      <th>3318</th>\n",
       "      <td>3318</td>\n",
       "      <td>RUNX1</td>\n",
       "      <td>Fusions</td>\n",
       "      <td>1</td>\n",
       "      <td>runt-rel transcript factor 1 gene runx1 alias ...</td>\n",
       "    </tr>\n",
       "    <tr>\n",
       "      <th>3319</th>\n",
       "      <td>3319</td>\n",
       "      <td>RUNX1</td>\n",
       "      <td>R80C</td>\n",
       "      <td>4</td>\n",
       "      <td>runx1/aml1 gene frequent target chromosom tran...</td>\n",
       "    </tr>\n",
       "    <tr>\n",
       "      <th>3320</th>\n",
       "      <td>3320</td>\n",
       "      <td>RUNX1</td>\n",
       "      <td>K83E</td>\n",
       "      <td>4</td>\n",
       "      <td>frequent mutat associ leukemia recurr somat ch...</td>\n",
       "    </tr>\n",
       "  </tbody>\n",
       "</table>\n",
       "<p>3316 rows × 5 columns</p>\n",
       "</div>"
      ],
      "text/plain": [
       "        ID    Gene             Variation  Class  \\\n",
       "0        0  FAM58A  Truncating Mutations      1   \n",
       "1        1     CBL                 W802*      2   \n",
       "2        2     CBL                 Q249E      2   \n",
       "3        3     CBL                 N454D      3   \n",
       "4        4     CBL                 L399V      4   \n",
       "...    ...     ...                   ...    ...   \n",
       "3316  3316   RUNX1                 D171N      4   \n",
       "3317  3317   RUNX1                 A122*      1   \n",
       "3318  3318   RUNX1               Fusions      1   \n",
       "3319  3319   RUNX1                  R80C      4   \n",
       "3320  3320   RUNX1                  K83E      4   \n",
       "\n",
       "                                           cleaned_text  \n",
       "0     cyclin-depend kinas cdk regul varieti fundamen...  \n",
       "1     abstract background non-smal cell lung cancer ...  \n",
       "2     abstract background non-smal cell lung cancer ...  \n",
       "3     recent evid demonstr acquir uniparent disomi a...  \n",
       "4     oncogen mutat monomer casita b-lineag lymphoma...  \n",
       "...                                                 ...  \n",
       "3316  introduct myelodysplast syndrom md heterogen g...  \n",
       "3317  introduct myelodysplast syndrom md heterogen g...  \n",
       "3318  runt-rel transcript factor 1 gene runx1 alias ...  \n",
       "3319  runx1/aml1 gene frequent target chromosom tran...  \n",
       "3320  frequent mutat associ leukemia recurr somat ch...  \n",
       "\n",
       "[3316 rows x 5 columns]"
      ]
     },
     "execution_count": 210,
     "metadata": {},
     "output_type": "execute_result"
    }
   ],
   "source": [
    "inputs"
   ]
  },
  {
   "cell_type": "code",
   "execution_count": 211,
   "metadata": {},
   "outputs": [
    {
     "data": {
      "text/plain": [
       "0       1\n",
       "1       2\n",
       "2       2\n",
       "3       3\n",
       "4       4\n",
       "       ..\n",
       "3316    4\n",
       "3317    1\n",
       "3318    1\n",
       "3319    4\n",
       "3320    4\n",
       "Name: Class, Length: 3316, dtype: int64"
      ]
     },
     "execution_count": 211,
     "metadata": {},
     "output_type": "execute_result"
    }
   ],
   "source": [
    "target\n"
   ]
  },
  {
   "cell_type": "code",
   "execution_count": 212,
   "metadata": {},
   "outputs": [],
   "source": [
    "#train test split dataset\n",
    "from sklearn.model_selection import train_test_split\n",
    "\n",
    "X_train, test_df, y_train, y_test = train_test_split(inputs, target, stratify=target, test_size=.2)"
   ]
  },
  {
   "cell_type": "code",
   "execution_count": 213,
   "metadata": {},
   "outputs": [],
   "source": [
    "train_df, cv_df, y_train, y_cv = train_test_split(X_train, y_train, stratify=y_train, test_size=0.2)"
   ]
  },
  {
   "cell_type": "code",
   "execution_count": 214,
   "metadata": {},
   "outputs": [
    {
     "name": "stdout",
     "output_type": "stream",
     "text": [
      "Number of data points in train data: 2121\n",
      "Number of data points in test data: 664\n",
      "Number of data points in cross validation data: 531\n"
     ]
    }
   ],
   "source": [
    "print('Number of data points in train data:', train_df.shape[0])\n",
    "print('Number of data points in test data:', test_df.shape[0])\n",
    "print('Number of data points in cross validation data:', cv_df.shape[0])"
   ]
  },
  {
   "cell_type": "code",
   "execution_count": 215,
   "metadata": {},
   "outputs": [],
   "source": [
    "#class count\n",
    "train_class_distribution = train_df['Class'].value_counts()"
   ]
  },
  {
   "cell_type": "code",
   "execution_count": 216,
   "metadata": {},
   "outputs": [
    {
     "data": {
      "text/plain": [
       "7    609\n",
       "4    439\n",
       "1    362\n",
       "2    289\n",
       "6    174\n",
       "5    155\n",
       "3     57\n",
       "9     24\n",
       "8     12\n",
       "Name: Class, dtype: int64"
      ]
     },
     "execution_count": 216,
     "metadata": {},
     "output_type": "execute_result"
    }
   ],
   "source": [
    "train_class_distribution"
   ]
  },
  {
   "cell_type": "code",
   "execution_count": 217,
   "metadata": {},
   "outputs": [],
   "source": [
    "train_class_distribution = train_df['Class'].value_counts().sort_index()\n",
    "test_class_distribution = test_df['Class'].value_counts().sort_index()\n",
    "cv_class_distribution = cv_df['Class'].value_counts().sort_index()"
   ]
  },
  {
   "cell_type": "code",
   "execution_count": 218,
   "metadata": {},
   "outputs": [
    {
     "data": {
      "text/plain": [
       "1    362\n",
       "2    289\n",
       "3     57\n",
       "4    439\n",
       "5    155\n",
       "6    174\n",
       "7    609\n",
       "8     12\n",
       "9     24\n",
       "Name: Class, dtype: int64"
      ]
     },
     "execution_count": 218,
     "metadata": {},
     "output_type": "execute_result"
    }
   ],
   "source": [
    "#sorted\n",
    "train_class_distribution"
   ]
  },
  {
   "cell_type": "code",
   "execution_count": 219,
   "metadata": {},
   "outputs": [
    {
     "data": {
      "image/png": "[encoded data removed]",
      "text/plain": [
       "<Figure size 432x288 with 1 Axes>"
      ]
     },
     "metadata": {},
     "output_type": "display_data"
    }
   ],
   "source": [
    "my_colors = 'rgbkymc'\n",
    "train_class_distribution.plot(kind='bar')\n",
    "plt.xlabel('Class')\n",
    "plt.ylabel('Data points per Class')\n",
    "plt.title('Distribution of yi in train data')\n",
    "plt.grid()\n",
    "plt.show()"
   ]
  },
  {
   "cell_type": "code",
   "execution_count": 220,
   "metadata": {},
   "outputs": [
    {
     "name": "stdout",
     "output_type": "stream",
     "text": [
      "Number of data points in class 7 : 609 ( 28.713 %)\n",
      "Number of data points in class 4 : 439 ( 20.698 %)\n",
      "Number of data points in class 1 : 362 ( 17.067 %)\n",
      "Number of data points in class 2 : 289 ( 13.626 %)\n",
      "Number of data points in class 6 : 174 ( 8.204 %)\n",
      "Number of data points in class 5 : 155 ( 7.308 %)\n",
      "Number of data points in class 3 : 57 ( 2.687 %)\n",
      "Number of data points in class 9 : 24 ( 1.132 %)\n",
      "Number of data points in class 8 : 12 ( 0.566 %)\n"
     ]
    }
   ],
   "source": [
    "# -(train_class_distribution.values): the minus sign will give us in decreasing order\n",
    "sorted_yi = np.argsort(-train_class_distribution.values)\n",
    "for i in sorted_yi:\n",
    "    print('Number of data points in class', i+1, ':',train_class_distribution.values[i], '(', np.round((train_class_distribution.values[i]/train_df.shape[0]*100), 3), '%)')"
   ]
  },
  {
   "cell_type": "code",
   "execution_count": 221,
   "metadata": {},
   "outputs": [
    {
     "name": "stdout",
     "output_type": "stream",
     "text": [
      "--------------------------------------------------------------------------------\n"
     ]
    },
    {
     "data": {
      "image/png": "[encoded data removed]",
      "text/plain": [
       "<Figure size 432x288 with 1 Axes>"
      ]
     },
     "metadata": {},
     "output_type": "display_data"
    }
   ],
   "source": [
    "print('-'*80)\n",
    "my_colors = 'rgbkymc'\n",
    "test_class_distribution.plot(kind='bar')\n",
    "plt.xlabel('Class')\n",
    "plt.ylabel('Data points per Class')\n",
    "plt.title('Distribution of yi in test data')\n",
    "plt.grid()\n",
    "plt.show()"
   ]
  },
  {
   "cell_type": "code",
   "execution_count": 222,
   "metadata": {},
   "outputs": [
    {
     "name": "stdout",
     "output_type": "stream",
     "text": [
      "Number of data points in class 7 : 191 ( 28.765 %)\n",
      "Number of data points in class 4 : 137 ( 20.633 %)\n",
      "Number of data points in class 1 : 113 ( 17.018 %)\n",
      "Number of data points in class 2 : 91 ( 13.705 %)\n",
      "Number of data points in class 6 : 55 ( 8.283 %)\n",
      "Number of data points in class 5 : 48 ( 7.229 %)\n",
      "Number of data points in class 3 : 18 ( 2.711 %)\n",
      "Number of data points in class 9 : 7 ( 1.054 %)\n",
      "Number of data points in class 8 : 4 ( 0.602 %)\n"
     ]
    }
   ],
   "source": [
    "# -(train_class_distribution.values): the minus sign will give us in decreasing order\n",
    "sorted_yi = np.argsort(-test_class_distribution.values)\n",
    "for i in sorted_yi:\n",
    "    print('Number of data points in class', i+1, ':',test_class_distribution.values[i], '(', np.round((test_class_distribution.values[i]/test_df.shape[0]*100), 3), '%)')"
   ]
  },
  {
   "cell_type": "code",
   "execution_count": 223,
   "metadata": {},
   "outputs": [
    {
     "name": "stdout",
     "output_type": "stream",
     "text": [
      "--------------------------------------------------------------------------------\n"
     ]
    },
    {
     "data": {
      "image/png": "[encoded data removed]",
      "text/plain": [
       "<Figure size 432x288 with 1 Axes>"
      ]
     },
     "metadata": {},
     "output_type": "display_data"
    },
    {
     "name": "stdout",
     "output_type": "stream",
     "text": [
      "Number of data points in class 7 : 152 ( 28.625 %)\n",
      "Number of data points in class 4 : 110 ( 20.716 %)\n",
      "Number of data points in class 1 : 91 ( 17.137 %)\n",
      "Number of data points in class 2 : 72 ( 13.559 %)\n",
      "Number of data points in class 6 : 44 ( 8.286 %)\n",
      "Number of data points in class 5 : 39 ( 7.345 %)\n",
      "Number of data points in class 3 : 14 ( 2.637 %)\n",
      "Number of data points in class 9 : 6 ( 1.13 %)\n",
      "Number of data points in class 8 : 3 ( 0.565 %)\n"
     ]
    }
   ],
   "source": [
    "print('-'*80)\n",
    "my_colors = 'rgbkymc'\n",
    "cv_class_distribution.plot(kind='bar')\n",
    "plt.xlabel('Class')\n",
    "plt.ylabel('Data points per Class')\n",
    "plt.title('Distribution of yi in cross validation data')\n",
    "plt.grid()\n",
    "plt.show()\n",
    "\n",
    "# -(train_class_distribution.values): the minus sign will give us in decreasing order\n",
    "sorted_yi = np.argsort(-train_class_distribution.values)\n",
    "for i in sorted_yi:\n",
    "    print('Number of data points in class', i+1, ':',cv_class_distribution.values[i], '(', np.round((cv_class_distribution.values[i]/cv_df.shape[0]*100), 3), '%)')"
   ]
  },
  {
   "cell_type": "code",
   "execution_count": 224,
   "metadata": {},
   "outputs": [],
   "source": [
    "def get_gv_fea_dict(alpha, feature, df):\n",
    "    # value_count: it contains a dict like\n",
    "    # print(train_df['Gene'].value_counts())\n",
    "    # output:\n",
    "    #        {BRCA1      174\n",
    "    #         TP53       106\n",
    "    #         EGFR        86\n",
    "    #         BRCA2       75\n",
    "    #         PTEN        69\n",
    "    #         KIT         61\n",
    "    #         BRAF        60\n",
    "    #         ERBB2       47\n",
    "    #         PDGFRA      46\n",
    "    #         ...}\n",
    "    # print(train_df['Variation'].value_counts())\n",
    "    # output:\n",
    "    # {\n",
    "    # Truncating_Mutations                     63\n",
    "    # Deletion                                 43\n",
    "    # Amplification                            43\n",
    "    # Fusions                                  22\n",
    "    # Overexpression                            3\n",
    "    # E17K                                      3\n",
    "    # Q61L                                      3\n",
    "    # S222D                                     2\n",
    "    # P130S                                     2\n",
    "    # ...\n",
    "    # }\n",
    "    value_count = train_df[feature].value_counts()\n",
    "    \n",
    "    # gv_dict : Gene Variation Dict, which contains the probability array for each gene/variation\n",
    "    gv_dict = dict()\n",
    "    \n",
    "    # denominator will contain the number of time that particular feature occured in whole data\n",
    "    for i, denominator in value_count.items():\n",
    "        # vec will contain (p(yi==1/Gi) probability of gene/variation belongs to perticular class\n",
    "        # vec is 9 diamensional vector\n",
    "        vec = []\n",
    "        for k in range(1,10):\n",
    "            # print(train_df.loc[(train_df['Class']==1) & (train_df['Gene']=='BRCA1')])\n",
    "            #         ID   Gene             Variation  Class  \n",
    "            # 2470  2470  BRCA1                S1715C      1   \n",
    "            # 2486  2486  BRCA1                S1841R      1   \n",
    "            # 2614  2614  BRCA1                   M1R      1   \n",
    "            # 2432  2432  BRCA1                L1657P      1   \n",
    "            # 2567  2567  BRCA1                T1685A      1   \n",
    "            # 2583  2583  BRCA1                E1660G      1   \n",
    "            # 2634  2634  BRCA1                W1718L      1   \n",
    "            # cls_cnt.shape[0] will return the number of rows\n",
    "\n",
    "            cls_cnt = train_df.loc[(train_df['Class']==k) & (train_df[feature]==i)]\n",
    "            \n",
    "            # cls_cnt.shape[0](numerator) will contain the number of time that particular feature occured in whole data\n",
    "            vec.append((cls_cnt.shape[0] + alpha*10)/ (denominator + 90*alpha))\n",
    "\n",
    "        # we are adding the gene/variation to the dict as key and vec as value\n",
    "        gv_dict[i]=vec\n",
    "    return gv_dict\n",
    "\n",
    "# Get Gene variation feature\n",
    "def get_gv_feature(alpha, feature, df):\n",
    "    # print(gv_dict)\n",
    "    #     {'BRCA1': [0.20075757575757575, 0.03787878787878788, 0.068181818181818177, 0.13636363636363635, 0.25, 0.19318181818181818, 0.03787878787878788, 0.03787878787878788, 0.03787878787878788], \n",
    "    #      'TP53': [0.32142857142857145, 0.061224489795918366, 0.061224489795918366, 0.27040816326530615, 0.061224489795918366, 0.066326530612244902, 0.051020408163265307, 0.051020408163265307, 0.056122448979591837], \n",
    "    #      'EGFR': [0.056818181818181816, 0.21590909090909091, 0.0625, 0.068181818181818177, 0.068181818181818177, 0.0625, 0.34659090909090912, 0.0625, 0.056818181818181816], \n",
    "    #      'BRCA2': [0.13333333333333333, 0.060606060606060608, 0.060606060606060608, 0.078787878787878782, 0.1393939393939394, 0.34545454545454546, 0.060606060606060608, 0.060606060606060608, 0.060606060606060608], \n",
    "    #      'PTEN': [0.069182389937106917, 0.062893081761006289, 0.069182389937106917, 0.46540880503144655, 0.075471698113207544, 0.062893081761006289, 0.069182389937106917, 0.062893081761006289, 0.062893081761006289], \n",
    "    #      'KIT': [0.066225165562913912, 0.25165562913907286, 0.072847682119205295, 0.072847682119205295, 0.066225165562913912, 0.066225165562913912, 0.27152317880794702, 0.066225165562913912, 0.066225165562913912], \n",
    "    #      'BRAF': [0.066666666666666666, 0.17999999999999999, 0.073333333333333334, 0.073333333333333334, 0.093333333333333338, 0.080000000000000002, 0.29999999999999999, 0.066666666666666666, 0.066666666666666666],\n",
    "    #      ...\n",
    "    #     }\n",
    "    gv_dict = get_gv_fea_dict(alpha, feature, df)\n",
    "    # value_count is similar in get_gv_fea_dict\n",
    "    value_count = train_df[feature].value_counts()\n",
    "    \n",
    "    # gv_fea: Gene_variation feature, it will contain the feature for each feature value in the data\n",
    "    gv_fea = []\n",
    "    # for every feature values in the given data frame we will check if it is there in the train data then we will add the feature to gv_fea\n",
    "    # if not we will add [1/9,1/9,1/9,1/9,1/9,1/9,1/9,1/9,1/9] to gv_fea\n",
    "    for index, row in df.iterrows():\n",
    "        if row[feature] in dict(value_count).keys():\n",
    "            gv_fea.append(gv_dict[row[feature]])\n",
    "        else:\n",
    "            gv_fea.append([1/9,1/9,1/9,1/9,1/9,1/9,1/9,1/9,1/9])\n",
    "#             gv_fea.append([-1,-1,-1,-1,-1,-1,-1,-1,-1])\n",
    "    return gv_fea"
   ]
  },
  {
   "cell_type": "code",
   "execution_count": 225,
   "metadata": {},
   "outputs": [
    {
     "name": "stdout",
     "output_type": "stream",
     "text": [
      "Number of Unique Genes : 235\n",
      "BRCA1     168\n",
      "TP53      102\n",
      "EGFR       94\n",
      "BRCA2      85\n",
      "PTEN       77\n",
      "KIT        62\n",
      "BRAF       47\n",
      "ALK        44\n",
      "PIK3CA     40\n",
      "ERBB2      39\n",
      "Name: Gene, dtype: int64\n"
     ]
    }
   ],
   "source": [
    "unique_genes = train_df['Gene'].value_counts()\n",
    "print('Number of Unique Genes :', unique_genes.shape[0])\n",
    "# the top 10 genes that occured most\n",
    "print(unique_genes.head(10))"
   ]
  },
  {
   "cell_type": "code",
   "execution_count": 226,
   "metadata": {},
   "outputs": [],
   "source": [
    "alpha = 1\n",
    "# train gene feature\n",
    "train_gene_feature_responseCoding = np.array(get_gv_feature(alpha, \"Gene\", train_df))\n",
    "# test gene feature\n",
    "test_gene_feature_responseCoding = np.array(get_gv_feature(alpha, \"Gene\", test_df))\n",
    "# cross validation gene feature\n",
    "cv_gene_feature_responseCoding = np.array(get_gv_feature(alpha, \"Gene\", cv_df))"
   ]
  },
  {
   "cell_type": "code",
   "execution_count": 227,
   "metadata": {},
   "outputs": [
    {
     "data": {
      "text/plain": [
       "(2121, 9)"
      ]
     },
     "execution_count": 227,
     "metadata": {},
     "output_type": "execute_result"
    }
   ],
   "source": [
    "train_gene_feature_responseCoding.shape"
   ]
  },
  {
   "cell_type": "code",
   "execution_count": 228,
   "metadata": {},
   "outputs": [],
   "source": [
    "# one-hot encoding of Gene feature.\n",
    "from sklearn.feature_extraction.text import CountVectorizer\n",
    "gene_vectorizer = CountVectorizer()\n",
    "train_gene_feature_onehotCoding = gene_vectorizer.fit_transform(train_df['Gene'])\n",
    "test_gene_feature_onehotCoding = gene_vectorizer.transform(test_df['Gene'])\n",
    "cv_gene_feature_onehotCoding = gene_vectorizer.transform(cv_df['Gene'])"
   ]
  },
  {
   "cell_type": "code",
   "execution_count": 229,
   "metadata": {},
   "outputs": [
    {
     "data": {
      "text/plain": [
       "1323      MLH1\n",
       "3210       RB1\n",
       "2812     BRCA2\n",
       "544      SMAD2\n",
       "1183    PIK3CA\n",
       "Name: Gene, dtype: object"
      ]
     },
     "execution_count": 229,
     "metadata": {},
     "output_type": "execute_result"
    }
   ],
   "source": [
    "train_df['Gene'].head()"
   ]
  },
  {
   "cell_type": "code",
   "execution_count": 230,
   "metadata": {},
   "outputs": [
    {
     "data": {
      "text/plain": [
       "['abl1',\n",
       " 'acvr1',\n",
       " 'ago2',\n",
       " 'akt1',\n",
       " 'akt2',\n",
       " 'akt3',\n",
       " 'alk',\n",
       " 'apc',\n",
       " 'ar',\n",
       " 'araf',\n",
       " 'arid1a',\n",
       " 'arid1b',\n",
       " 'arid2',\n",
       " 'asxl1',\n",
       " 'asxl2',\n",
       " 'atm',\n",
       " 'atr',\n",
       " 'aurka',\n",
       " 'axl',\n",
       " 'b2m',\n",
       " 'bap1',\n",
       " 'bcl10',\n",
       " 'bcl2l11',\n",
       " 'bcor',\n",
       " 'braf',\n",
       " 'brca1',\n",
       " 'brca2',\n",
       " 'brd4',\n",
       " 'brip1',\n",
       " 'btk',\n",
       " 'card11',\n",
       " 'carm1',\n",
       " 'casp8',\n",
       " 'cbl',\n",
       " 'ccnd1',\n",
       " 'ccnd2',\n",
       " 'ccnd3',\n",
       " 'ccne1',\n",
       " 'cdh1',\n",
       " 'cdk12',\n",
       " 'cdk4',\n",
       " 'cdk6',\n",
       " 'cdk8',\n",
       " 'cdkn1a',\n",
       " 'cdkn1b',\n",
       " 'cdkn2a',\n",
       " 'cdkn2b',\n",
       " 'cebpa',\n",
       " 'chek2',\n",
       " 'cic',\n",
       " 'crebbp',\n",
       " 'ctcf',\n",
       " 'ctnnb1',\n",
       " 'ddr2',\n",
       " 'dicer1',\n",
       " 'dnmt3a',\n",
       " 'dnmt3b',\n",
       " 'dusp4',\n",
       " 'egfr',\n",
       " 'eif1ax',\n",
       " 'elf3',\n",
       " 'ep300',\n",
       " 'epas1',\n",
       " 'erbb2',\n",
       " 'erbb3',\n",
       " 'erbb4',\n",
       " 'ercc2',\n",
       " 'ercc3',\n",
       " 'ercc4',\n",
       " 'erg',\n",
       " 'errfi1',\n",
       " 'esr1',\n",
       " 'etv1',\n",
       " 'etv6',\n",
       " 'ewsr1',\n",
       " 'ezh2',\n",
       " 'fanca',\n",
       " 'fancc',\n",
       " 'fat1',\n",
       " 'fbxw7',\n",
       " 'fgf3',\n",
       " 'fgf4',\n",
       " 'fgfr1',\n",
       " 'fgfr2',\n",
       " 'fgfr3',\n",
       " 'fgfr4',\n",
       " 'flt3',\n",
       " 'foxa1',\n",
       " 'foxl2',\n",
       " 'foxo1',\n",
       " 'foxp1',\n",
       " 'gata3',\n",
       " 'gli1',\n",
       " 'gna11',\n",
       " 'gnaq',\n",
       " 'gnas',\n",
       " 'h3f3a',\n",
       " 'hla',\n",
       " 'hnf1a',\n",
       " 'hras',\n",
       " 'idh1',\n",
       " 'idh2',\n",
       " 'igf1r',\n",
       " 'il7r',\n",
       " 'inpp4b',\n",
       " 'jak1',\n",
       " 'jak2',\n",
       " 'kdm5c',\n",
       " 'kdm6a',\n",
       " 'kdr',\n",
       " 'keap1',\n",
       " 'kit',\n",
       " 'klf4',\n",
       " 'kmt2a',\n",
       " 'kmt2b',\n",
       " 'kmt2c',\n",
       " 'kmt2d',\n",
       " 'knstrn',\n",
       " 'kras',\n",
       " 'lats1',\n",
       " 'lats2',\n",
       " 'map2k1',\n",
       " 'map2k2',\n",
       " 'map2k4',\n",
       " 'map3k1',\n",
       " 'mapk1',\n",
       " 'mdm2',\n",
       " 'mdm4',\n",
       " 'med12',\n",
       " 'mef2b',\n",
       " 'men1',\n",
       " 'met',\n",
       " 'mga',\n",
       " 'mlh1',\n",
       " 'mpl',\n",
       " 'msh2',\n",
       " 'msh6',\n",
       " 'mtor',\n",
       " 'myc',\n",
       " 'mycn',\n",
       " 'myd88',\n",
       " 'myod1',\n",
       " 'ncor1',\n",
       " 'nf1',\n",
       " 'nf2',\n",
       " 'nfe2l2',\n",
       " 'nfkbia',\n",
       " 'nkx2',\n",
       " 'notch1',\n",
       " 'notch2',\n",
       " 'npm1',\n",
       " 'nras',\n",
       " 'ntrk1',\n",
       " 'ntrk2',\n",
       " 'ntrk3',\n",
       " 'nup93',\n",
       " 'pak1',\n",
       " 'pax8',\n",
       " 'pbrm1',\n",
       " 'pdgfra',\n",
       " 'pdgfrb',\n",
       " 'pik3ca',\n",
       " 'pik3cb',\n",
       " 'pik3cd',\n",
       " 'pik3r1',\n",
       " 'pik3r2',\n",
       " 'pik3r3',\n",
       " 'pim1',\n",
       " 'pms2',\n",
       " 'pole',\n",
       " 'ppp2r1a',\n",
       " 'ppp6c',\n",
       " 'prdm1',\n",
       " 'ptch1',\n",
       " 'pten',\n",
       " 'ptpn11',\n",
       " 'ptprd',\n",
       " 'ptprt',\n",
       " 'rac1',\n",
       " 'rad21',\n",
       " 'rad50',\n",
       " 'rad51b',\n",
       " 'rad51c',\n",
       " 'rad51d',\n",
       " 'rad54l',\n",
       " 'raf1',\n",
       " 'rara',\n",
       " 'rasa1',\n",
       " 'rb1',\n",
       " 'rbm10',\n",
       " 'ret',\n",
       " 'rheb',\n",
       " 'rhoa',\n",
       " 'rictor',\n",
       " 'rit1',\n",
       " 'ros1',\n",
       " 'rras2',\n",
       " 'runx1',\n",
       " 'rybp',\n",
       " 'sdhc',\n",
       " 'setd2',\n",
       " 'sf3b1',\n",
       " 'shoc2',\n",
       " 'smad2',\n",
       " 'smad3',\n",
       " 'smad4',\n",
       " 'smarca4',\n",
       " 'smarcb1',\n",
       " 'smo',\n",
       " 'sos1',\n",
       " 'sox9',\n",
       " 'spop',\n",
       " 'src',\n",
       " 'srsf2',\n",
       " 'stag2',\n",
       " 'stat3',\n",
       " 'stk11',\n",
       " 'tert',\n",
       " 'tet1',\n",
       " 'tet2',\n",
       " 'tgfbr1',\n",
       " 'tgfbr2',\n",
       " 'tmprss2',\n",
       " 'tp53',\n",
       " 'tp53bp1',\n",
       " 'tsc1',\n",
       " 'tsc2',\n",
       " 'u2af1',\n",
       " 'vegfa',\n",
       " 'vhl',\n",
       " 'whsc1',\n",
       " 'whsc1l1',\n",
       " 'xrcc2',\n",
       " 'yap1']"
      ]
     },
     "execution_count": 230,
     "metadata": {},
     "output_type": "execute_result"
    }
   ],
   "source": [
    "gene_vectorizer.get_feature_names()"
   ]
  },
  {
   "cell_type": "code",
   "execution_count": 231,
   "metadata": {},
   "outputs": [
    {
     "data": {
      "text/plain": [
       "(2121, 234)"
      ]
     },
     "execution_count": 231,
     "metadata": {},
     "output_type": "execute_result"
    }
   ],
   "source": [
    "train_gene_feature_onehotCoding.shape"
   ]
  },
  {
   "cell_type": "code",
   "execution_count": 232,
   "metadata": {},
   "outputs": [
    {
     "data": {
      "text/plain": [
       "scipy.sparse.csr.csr_matrix"
      ]
     },
     "execution_count": 232,
     "metadata": {},
     "output_type": "execute_result"
    }
   ],
   "source": [
    "type(train_gene_feature_onehotCoding)\n"
   ]
  },
  {
   "cell_type": "code",
   "execution_count": 233,
   "metadata": {},
   "outputs": [
    {
     "data": {
      "text/plain": [
       "matrix([[0, 0, 0, ..., 0, 0, 0],\n",
       "        [0, 0, 0, ..., 0, 0, 0],\n",
       "        [0, 0, 0, ..., 0, 0, 0],\n",
       "        ...,\n",
       "        [0, 0, 0, ..., 0, 0, 0],\n",
       "        [0, 0, 0, ..., 0, 0, 0],\n",
       "        [0, 0, 0, ..., 0, 0, 0]], dtype=int64)"
      ]
     },
     "execution_count": 233,
     "metadata": {},
     "output_type": "execute_result"
    }
   ],
   "source": [
    "train_gene_feature_onehotCoding.todense()"
   ]
  },
  {
   "cell_type": "code",
   "execution_count": 234,
   "metadata": {},
   "outputs": [
    {
     "name": "stdout",
     "output_type": "stream",
     "text": [
      "For values of alpha =  1e-05 The log loss is: 1.1928447521073098\n",
      "For values of alpha =  0.0001 The log loss is: 1.1650619202349588\n",
      "For values of alpha =  0.001 The log loss is: 1.1889287466879477\n",
      "For values of alpha =  0.01 The log loss is: 1.2964261702830127\n",
      "For values of alpha =  0.1 The log loss is: 1.4155159540630222\n",
      "For values of alpha =  1 The log loss is: 1.4623558471818814\n"
     ]
    },
    {
     "data": {
      "image/png": "[encoded data removed]",
      "text/plain": [
       "<Figure size 432x288 with 1 Axes>"
      ]
     },
     "metadata": {},
     "output_type": "display_data"
    },
    {
     "name": "stdout",
     "output_type": "stream",
     "text": [
      "For values of best alpha =  0.0001 The train log loss is: 1.0011350180776815\n",
      "For values of best alpha =  0.0001 The cross validation log loss is: 1.1650619202349588\n",
      "For values of best alpha =  0.0001 The test log loss is: 1.1779137347715523\n"
     ]
    }
   ],
   "source": [
    "from sklearn.linear_model import SGDClassifier\n",
    "from sklearn.calibration import CalibratedClassifierCV\n",
    "from sklearn.metrics.classification import accuracy_score, log_loss\n",
    "alpha = [10 ** x for x in range(-5, 1)] # hyperparam for SGD classifier.\n",
    "\n",
    "# read more about SGDClassifier() at http://scikit-learn.org/stable/modules/generated/sklearn.linear_model.SGDClassifier.html\n",
    "# ------------------------------\n",
    "# default parameters\n",
    "# SGDClassifier(loss=’hinge’, penalty=’l2’, alpha=0.0001, l1_ratio=0.15, fit_intercept=True, max_iter=None, tol=None, \n",
    "# shuffle=True, verbose=0, epsilon=0.1, n_jobs=1, random_state=None, learning_rate=’optimal’, eta0=0.0, power_t=0.5, \n",
    "# class_weight=None, warm_start=False, average=False, n_iter=None)\n",
    "\n",
    "# some of methods\n",
    "# fit(X, y[, coef_init, intercept_init, …])\tFit linear model with Stochastic Gradient Descent.\n",
    "# predict(X)\tPredict class labels for samples in X.\n",
    "\n",
    "#-------------------------------\n",
    "# video link: \n",
    "#------------------------------\n",
    "\n",
    "\n",
    "cv_log_error_array=[]\n",
    "for i in alpha:\n",
    "    clf = SGDClassifier(alpha=i, penalty='l2', loss='log', random_state=42)\n",
    "    clf.fit(train_gene_feature_onehotCoding, y_train)\n",
    "    sig_clf = CalibratedClassifierCV(clf, method=\"sigmoid\")\n",
    "    sig_clf.fit(train_gene_feature_onehotCoding, y_train)\n",
    "    predict_y = sig_clf.predict_proba(cv_gene_feature_onehotCoding)\n",
    "    cv_log_error_array.append(log_loss(y_cv, predict_y, labels=clf.classes_, eps=1e-15))\n",
    "    print('For values of alpha = ', i, \"The log loss is:\",log_loss(y_cv, predict_y, labels=clf.classes_, eps=1e-15))\n",
    "\n",
    "fig, ax = plt.subplots()\n",
    "ax.plot(alpha, cv_log_error_array,c='g')\n",
    "for i, txt in enumerate(np.round(cv_log_error_array,3)):\n",
    "    ax.annotate((alpha[i],np.round(txt,3)), (alpha[i],cv_log_error_array[i]))\n",
    "plt.grid()\n",
    "plt.title(\"Cross Validation Error for each alpha\")\n",
    "plt.xlabel(\"Alpha i's\")\n",
    "plt.ylabel(\"Error measure\")\n",
    "plt.show()\n",
    "\n",
    "\n",
    "best_alpha = np.argmin(cv_log_error_array)\n",
    "clf = SGDClassifier(alpha=alpha[best_alpha], penalty='l2', loss='log', random_state=42)\n",
    "clf.fit(train_gene_feature_onehotCoding, y_train)\n",
    "sig_clf = CalibratedClassifierCV(clf, method=\"sigmoid\")\n",
    "sig_clf.fit(train_gene_feature_onehotCoding, y_train)\n",
    "\n",
    "predict_y = sig_clf.predict_proba(train_gene_feature_onehotCoding)\n",
    "print('For values of best alpha = ', alpha[best_alpha], \"The train log loss is:\",log_loss(y_train, predict_y, labels=clf.classes_, eps=1e-15))\n",
    "predict_y = sig_clf.predict_proba(cv_gene_feature_onehotCoding)\n",
    "print('For values of best alpha = ', alpha[best_alpha], \"The cross validation log loss is:\",log_loss(y_cv, predict_y, labels=clf.classes_, eps=1e-15))\n",
    "predict_y = sig_clf.predict_proba(test_gene_feature_onehotCoding)\n",
    "print('For values of best alpha = ', alpha[best_alpha], \"The test log loss is:\",log_loss(y_test, predict_y, labels=clf.classes_, eps=1e-15))"
   ]
  },
  {
   "cell_type": "code",
   "execution_count": 235,
   "metadata": {},
   "outputs": [
    {
     "name": "stdout",
     "output_type": "stream",
     "text": [
      "Number of Unique Variations : 1928\n",
      "Truncating Mutations    61\n",
      "Amplification           45\n",
      "Deletion                41\n",
      "Fusions                 24\n",
      "Overexpression           4\n",
      "Q61H                     3\n",
      "TMPRSS2-ETV1 Fusion      2\n",
      "Q209L                    2\n",
      "G35R                     2\n",
      "G12V                     2\n",
      "Name: Variation, dtype: int64\n"
     ]
    }
   ],
   "source": [
    "unique_variations = train_df['Variation'].value_counts()\n",
    "print('Number of Unique Variations :', unique_variations.shape[0])\n",
    "# the top 10 variations that occured most\n",
    "print(unique_variations.head(10))"
   ]
  },
  {
   "cell_type": "code",
   "execution_count": 236,
   "metadata": {},
   "outputs": [
    {
     "data": {
      "text/plain": [
       "1928"
      ]
     },
     "execution_count": 236,
     "metadata": {},
     "output_type": "execute_result"
    }
   ],
   "source": [
    "unique_variations.shape[0]"
   ]
  },
  {
   "cell_type": "code",
   "execution_count": 237,
   "metadata": {},
   "outputs": [],
   "source": [
    "alpha = 1\n",
    "# train gene feature\n",
    "train_variation_feature_responseCoding = np.array(get_gv_feature(alpha, \"Variation\", train_df))\n",
    "# test gene feature\n",
    "test_variation_feature_responseCoding = np.array(get_gv_feature(alpha, \"Variation\", test_df))\n",
    "# cross validation gene feature\n",
    "cv_variation_feature_responseCoding = np.array(get_gv_feature(alpha, \"Variation\", cv_df))"
   ]
  },
  {
   "cell_type": "code",
   "execution_count": 238,
   "metadata": {},
   "outputs": [
    {
     "data": {
      "text/plain": [
       "(2121, 9)"
      ]
     },
     "execution_count": 238,
     "metadata": {},
     "output_type": "execute_result"
    }
   ],
   "source": [
    "train_variation_feature_responseCoding.shape"
   ]
  },
  {
   "cell_type": "code",
   "execution_count": 239,
   "metadata": {},
   "outputs": [],
   "source": [
    "# one-hot encoding of variation feature.\n",
    "variation_vectorizer = CountVectorizer()\n",
    "train_variation_feature_onehotCoding = variation_vectorizer.fit_transform(train_df['Variation'])\n",
    "test_variation_feature_onehotCoding = variation_vectorizer.transform(test_df['Variation'])\n",
    "cv_variation_feature_onehotCoding = variation_vectorizer.transform(cv_df['Variation'])"
   ]
  },
  {
   "cell_type": "code",
   "execution_count": 240,
   "metadata": {},
   "outputs": [
    {
     "data": {
      "text/plain": [
       "(2121, 1959)"
      ]
     },
     "execution_count": 240,
     "metadata": {},
     "output_type": "execute_result"
    }
   ],
   "source": [
    "train_variation_feature_onehotCoding.shape"
   ]
  },
  {
   "cell_type": "code",
   "execution_count": 241,
   "metadata": {},
   "outputs": [
    {
     "name": "stdout",
     "output_type": "stream",
     "text": [
      "For values of alpha =  1e-05 The log loss is: 1.7091180145997877\n",
      "For values of alpha =  0.0001 The log loss is: 1.6994365325553809\n",
      "For values of alpha =  0.001 The log loss is: 1.7042281848381156\n",
      "For values of alpha =  0.01 The log loss is: 1.7114365125718525\n",
      "For values of alpha =  0.1 The log loss is: 1.7278579457460623\n",
      "For values of alpha =  1 The log loss is: 1.7316327367785753\n"
     ]
    },
    {
     "data": {
      "image/png": "[encoded data removed]",
      "text/plain": [
       "<Figure size 432x288 with 1 Axes>"
      ]
     },
     "metadata": {},
     "output_type": "display_data"
    },
    {
     "name": "stdout",
     "output_type": "stream",
     "text": [
      "For values of best alpha =  0.0001 The train log loss is: 0.7394784687985698\n",
      "For values of best alpha =  0.0001 The cross validation log loss is: 1.6994365325553809\n",
      "For values of best alpha =  0.0001 The test log loss is: 1.6696122875838575\n"
     ]
    }
   ],
   "source": [
    "alpha = [10 ** x for x in range(-5, 1)]\n",
    "\n",
    "cv_log_error_array=[]\n",
    "for i in alpha:\n",
    "    clf = SGDClassifier(alpha=i, penalty='l2', loss='log', random_state=42)\n",
    "    clf.fit(train_variation_feature_onehotCoding, y_train)\n",
    "    \n",
    "    sig_clf = CalibratedClassifierCV(clf, method=\"sigmoid\")\n",
    "    sig_clf.fit(train_variation_feature_onehotCoding, y_train)\n",
    "    predict_y = sig_clf.predict_proba(cv_variation_feature_onehotCoding)\n",
    "    \n",
    "    cv_log_error_array.append(log_loss(y_cv, predict_y, labels=clf.classes_, eps=1e-15))\n",
    "    print('For values of alpha = ', i, \"The log loss is:\",log_loss(y_cv, predict_y, labels=clf.classes_, eps=1e-15))\n",
    "\n",
    "fig, ax = plt.subplots()\n",
    "ax.plot(alpha, cv_log_error_array,c='g')\n",
    "for i, txt in enumerate(np.round(cv_log_error_array,3)):\n",
    "    ax.annotate((alpha[i],np.round(txt,3)), (alpha[i],cv_log_error_array[i]))\n",
    "plt.grid()\n",
    "plt.title(\"Cross Validation Error for each alpha\")\n",
    "plt.xlabel(\"Alpha i's\")\n",
    "plt.ylabel(\"Error measure\")\n",
    "plt.show()\n",
    "\n",
    "best_alpha = np.argmin(cv_log_error_array)\n",
    "clf = SGDClassifier(alpha=alpha[best_alpha], penalty='l2', loss='log', random_state=42)\n",
    "clf.fit(train_variation_feature_onehotCoding, y_train)\n",
    "sig_clf = CalibratedClassifierCV(clf, method=\"sigmoid\")\n",
    "sig_clf.fit(train_variation_feature_onehotCoding, y_train)\n",
    "\n",
    "predict_y = sig_clf.predict_proba(train_variation_feature_onehotCoding)\n",
    "print('For values of best alpha = ', alpha[best_alpha], \"The train log loss is:\",log_loss(y_train, predict_y, labels=clf.classes_, eps=1e-15))\n",
    "predict_y = sig_clf.predict_proba(cv_variation_feature_onehotCoding)\n",
    "print('For values of best alpha = ', alpha[best_alpha], \"The cross validation log loss is:\",log_loss(y_cv, predict_y, labels=clf.classes_, eps=1e-15))\n",
    "predict_y = sig_clf.predict_proba(test_variation_feature_onehotCoding)\n",
    "print('For values of best alpha = ', alpha[best_alpha], \"The test log loss is:\",log_loss(y_test, predict_y, labels=clf.classes_, eps=1e-15))"
   ]
  },
  {
   "cell_type": "code",
   "execution_count": 242,
   "metadata": {},
   "outputs": [
    {
     "name": "stdout",
     "output_type": "stream",
     "text": [
      "Ans\n",
      "1. In test data 81 out of 664 : 12.198795180722891\n",
      "2. In cross validation data 46 out of  531 : 8.662900188323917\n"
     ]
    }
   ],
   "source": [
    "test_coverage=test_df[test_df['Variation'].isin(list(set(train_df['Variation'])))].shape[0]\n",
    "cv_coverage=cv_df[cv_df['Variation'].isin(list(set(train_df['Variation'])))].shape[0]\n",
    "print('Ans\\n1. In test data',test_coverage, 'out of',test_df.shape[0], \":\",(test_coverage/test_df.shape[0])*100)\n",
    "print('2. In cross validation data',cv_coverage, 'out of ',cv_df.shape[0],\":\" ,(cv_coverage/cv_df.shape[0])*100)"
   ]
  },
  {
   "cell_type": "code",
   "execution_count": 243,
   "metadata": {},
   "outputs": [],
   "source": [
    "def extract_dictionary_paddle(cls_text):\n",
    "    dictionary = defaultdict(int)\n",
    "    for index, row in cls_text.iterrows():\n",
    "        for word in row['cleaned_text'].split():\n",
    "            dictionary[word] +=1\n",
    "    return dictionary"
   ]
  },
  {
   "cell_type": "code",
   "execution_count": 244,
   "metadata": {},
   "outputs": [],
   "source": [
    "import math\n",
    "def get_text_responsecoding(df):\n",
    "    text_feature_responseCoding = np.zeros((df.shape[0],9))\n",
    "    for i in range(0,9):\n",
    "        row_index = 0\n",
    "        for index, row in df.iterrows():\n",
    "            sum_prob = 0\n",
    "            for word in row['cleaned_text'].split():\n",
    "                sum_prob += math.log(((dict_list[i].get(word,0)+10 )/(total_dict.get(word,0)+90)))\n",
    "            text_feature_responseCoding[row_index][i] = math.exp(sum_prob/len(row['cleaned_text'].split()))\n",
    "            row_index += 1\n",
    "    return text_feature_responseCoding"
   ]
  },
  {
   "cell_type": "code",
   "execution_count": 245,
   "metadata": {},
   "outputs": [
    {
     "name": "stdout",
     "output_type": "stream",
     "text": [
      "Total number of unique words in train data : 49892\n"
     ]
    }
   ],
   "source": [
    "# building a CountVectorizer with all the words that occured minimum 3 times in train data\n",
    "text_vectorizer = CountVectorizer(min_df=3)\n",
    "train_text_feature_onehotCoding = text_vectorizer.fit_transform(train_df['cleaned_text'])\n",
    "# getting all the feature names (words)\n",
    "train_text_features= text_vectorizer.get_feature_names()\n",
    "\n",
    "# train_text_feature_onehotCoding.sum(axis=0).A1 will sum every row and returns (1*number of features) vector\n",
    "train_text_fea_counts = train_text_feature_onehotCoding.sum(axis=0).A1\n",
    "\n",
    "# zip(list(text_features),text_fea_counts) will zip a word with its number of times it occured\n",
    "text_fea_dict = dict(zip(list(train_text_features),train_text_fea_counts))\n",
    "\n",
    "\n",
    "print(\"Total number of unique words in train data :\", len(train_text_features))"
   ]
  },
  {
   "cell_type": "code",
   "execution_count": 246,
   "metadata": {},
   "outputs": [],
   "source": [
    "from collections import Counter, defaultdict\n",
    "dict_list = []\n",
    "# dict_list =[] contains 9 dictoinaries each corresponds to a class\n",
    "for i in range(1,10):\n",
    "    cls_text = train_df[train_df['Class']==i]\n",
    "    # build a word dict based on the words in that class\n",
    "    dict_list.append(extract_dictionary_paddle(cls_text))\n",
    "    # append it to dict_list\n",
    "\n",
    "# dict_list[i] is build on i'th  class text data\n",
    "# total_dict is buid on whole training text data\n",
    "total_dict = extract_dictionary_paddle(train_df)\n",
    "\n",
    "\n",
    "confuse_array = []\n",
    "for i in train_text_features:\n",
    "    ratios = []\n",
    "    max_val = -1\n",
    "    for j in range(0,9):\n",
    "        ratios.append((dict_list[j][i]+10 )/(total_dict[i]+90))\n",
    "    confuse_array.append(ratios)\n",
    "confuse_array = np.array(confuse_array)"
   ]
  },
  {
   "cell_type": "code",
   "execution_count": 247,
   "metadata": {},
   "outputs": [],
   "source": [
    "#response coding of text features\n",
    "train_text_feature_responseCoding  = get_text_responsecoding(train_df)\n",
    "test_text_feature_responseCoding  = get_text_responsecoding(test_df)\n",
    "cv_text_feature_responseCoding  = get_text_responsecoding(cv_df)"
   ]
  },
  {
   "cell_type": "code",
   "execution_count": 248,
   "metadata": {},
   "outputs": [],
   "source": [
    "train_text_feature_responseCoding = (train_text_feature_responseCoding.T/train_text_feature_responseCoding.sum(axis=1)).T\n",
    "test_text_feature_responseCoding = (test_text_feature_responseCoding.T/test_text_feature_responseCoding.sum(axis=1)).T\n",
    "cv_text_feature_responseCoding = (cv_text_feature_responseCoding.T/cv_text_feature_responseCoding.sum(axis=1)).T"
   ]
  },
  {
   "cell_type": "code",
   "execution_count": 249,
   "metadata": {},
   "outputs": [],
   "source": [
    "from sklearn.preprocessing import normalize\n",
    "train_text_feature_onehotCoding = normalize(train_text_feature_onehotCoding, axis=0)\n",
    "\n",
    "# we use the same vectorizer that was trained on train data\n",
    "test_text_feature_onehotCoding = text_vectorizer.transform(test_df['cleaned_text'])\n",
    "# don't forget to normalize every feature\n",
    "test_text_feature_onehotCoding = normalize(test_text_feature_onehotCoding, axis=0)\n",
    "\n",
    "# we use the same vectorizer that was trained on train data\n",
    "cv_text_feature_onehotCoding = text_vectorizer.transform(cv_df['cleaned_text'])\n",
    "# don't forget to normalize every feature\n",
    "cv_text_feature_onehotCoding = normalize(cv_text_feature_onehotCoding, axis=0)"
   ]
  },
  {
   "cell_type": "code",
   "execution_count": 250,
   "metadata": {},
   "outputs": [],
   "source": [
    "sorted_text_fea_dict = dict(sorted(text_fea_dict.items(), key=lambda x: x[1] , reverse=True))\n",
    "sorted_text_occur = np.array(list(sorted_text_fea_dict.values()))"
   ]
  },
  {
   "cell_type": "code",
   "execution_count": 251,
   "metadata": {},
   "outputs": [
    {
     "name": "stdout",
     "output_type": "stream",
     "text": [
      "Counter({3: 6019, 4: 3266, 5: 2734, 6: 2601, 8: 2198, 7: 1967, 10: 1772, 9: 1575, 12: 1179, 15: 996, 11: 950, 13: 919, 14: 828, 17: 732, 16: 716, 18: 700, 20: 608, 21: 505, 24: 465, 45: 462, 19: 452, 26: 398, 22: 398, 30: 379, 25: 370, 27: 369, 23: 340, 28: 322, 48: 305, 36: 275, 33: 263, 29: 258, 32: 257, 35: 237, 34: 236, 31: 209, 40: 202, 42: 191, 46: 168, 43: 163, 49: 161, 37: 161, 39: 160, 38: 160, 44: 149, 52: 146, 50: 141, 51: 140, 47: 137, 54: 135, 55: 133, 60: 128, 41: 126, 72: 120, 53: 112, 56: 111, 63: 110, 57: 107, 58: 103, 62: 93, 64: 90, 59: 90, 90: 89, 66: 87, 65: 87, 80: 86, 61: 83, 70: 81, 84: 78, 96: 77, 71: 76, 76: 73, 69: 73, 74: 71, 86: 70, 91: 67, 68: 67, 78: 65, 67: 65, 75: 62, 87: 60, 73: 57, 105: 55, 97: 55, 81: 55, 93: 54, 92: 54, 82: 54, 79: 54, 100: 51, 99: 49, 114: 47, 89: 47, 85: 46, 103: 45, 77: 45, 111: 44, 83: 44, 120: 43, 109: 43, 108: 43, 106: 43, 107: 42, 110: 41, 119: 40, 102: 40, 98: 40, 113: 39, 94: 39, 130: 38, 115: 38, 88: 38, 137: 37, 135: 37, 95: 37, 133: 36, 132: 36, 129: 36, 104: 36, 117: 35, 122: 34, 126: 33, 125: 33, 116: 33, 123: 32, 136: 31, 101: 31, 170: 30, 144: 30, 140: 30, 128: 30, 118: 29, 112: 29, 141: 28, 121: 28, 160: 27, 145: 27, 159: 26, 157: 26, 155: 26, 154: 26, 149: 26, 146: 26, 134: 26, 162: 25, 150: 25, 147: 25, 142: 25, 131: 25, 124: 25, 156: 24, 152: 24, 151: 24, 139: 24, 127: 24, 168: 23, 166: 23, 161: 23, 212: 22, 193: 22, 167: 22, 148: 22, 138: 22, 222: 21, 197: 21, 189: 21, 174: 21, 158: 21, 260: 20, 199: 20, 188: 20, 183: 20, 182: 20, 180: 20, 143: 20, 240: 19, 206: 19, 196: 19, 187: 19, 176: 19, 169: 19, 164: 19, 209: 18, 201: 18, 171: 18, 153: 18, 254: 17, 239: 17, 232: 17, 231: 17, 230: 17, 207: 17, 185: 17, 175: 17, 165: 17, 258: 16, 229: 16, 200: 16, 190: 16, 184: 16, 179: 16, 247: 15, 242: 15, 227: 15, 221: 15, 214: 15, 213: 15, 211: 15, 210: 15, 203: 15, 198: 15, 186: 15, 178: 15, 177: 15, 173: 15, 241: 14, 234: 14, 208: 14, 334: 13, 298: 13, 284: 13, 265: 13, 253: 13, 236: 13, 235: 13, 233: 13, 224: 13, 205: 13, 202: 13, 163: 13, 317: 12, 296: 12, 273: 12, 270: 12, 259: 12, 250: 12, 249: 12, 245: 12, 243: 12, 225: 12, 217: 12, 215: 12, 195: 12, 194: 12, 192: 12, 191: 12, 181: 12, 172: 12, 393: 11, 330: 11, 324: 11, 304: 11, 301: 11, 292: 11, 288: 11, 285: 11, 282: 11, 278: 11, 274: 11, 252: 11, 434: 10, 402: 10, 384: 10, 373: 10, 365: 10, 364: 10, 355: 10, 342: 10, 338: 10, 335: 10, 326: 10, 294: 10, 287: 10, 280: 10, 269: 10, 268: 10, 267: 10, 263: 10, 261: 10, 248: 10, 246: 10, 238: 10, 228: 10, 223: 10, 220: 10, 218: 10, 592: 9, 541: 9, 528: 9, 446: 9, 420: 9, 390: 9, 350: 9, 349: 9, 336: 9, 319: 9, 315: 9, 313: 9, 281: 9, 277: 9, 266: 9, 251: 9, 226: 9, 216: 9, 204: 9, 524: 8, 518: 8, 512: 8, 495: 8, 418: 8, 409: 8, 405: 8, 391: 8, 368: 8, 362: 8, 356: 8, 353: 8, 339: 8, 323: 8, 322: 8, 320: 8, 309: 8, 302: 8, 295: 8, 279: 8, 276: 8, 271: 8, 264: 8, 257: 8, 255: 8, 634: 7, 557: 7, 487: 7, 480: 7, 475: 7, 461: 7, 439: 7, 435: 7, 427: 7, 425: 7, 414: 7, 398: 7, 397: 7, 396: 7, 385: 7, 375: 7, 363: 7, 358: 7, 347: 7, 346: 7, 345: 7, 340: 7, 328: 7, 327: 7, 311: 7, 310: 7, 297: 7, 291: 7, 290: 7, 289: 7, 283: 7, 244: 7, 237: 7, 219: 7, 767: 6, 622: 6, 612: 6, 606: 6, 560: 6, 548: 6, 539: 6, 529: 6, 509: 6, 507: 6, 471: 6, 469: 6, 449: 6, 416: 6, 400: 6, 377: 6, 376: 6, 374: 6, 367: 6, 361: 6, 360: 6, 359: 6, 357: 6, 343: 6, 331: 6, 318: 6, 312: 6, 299: 6, 256: 6, 1521: 5, 965: 5, 960: 5, 799: 5, 717: 5, 703: 5, 659: 5, 608: 5, 593: 5, 581: 5, 580: 5, 574: 5, 573: 5, 561: 5, 555: 5, 547: 5, 546: 5, 534: 5, 527: 5, 525: 5, 519: 5, 514: 5, 504: 5, 500: 5, 473: 5, 464: 5, 458: 5, 452: 5, 448: 5, 445: 5, 444: 5, 442: 5, 437: 5, 433: 5, 421: 5, 419: 5, 417: 5, 412: 5, 411: 5, 406: 5, 401: 5, 392: 5, 388: 5, 382: 5, 379: 5, 371: 5, 370: 5, 369: 5, 354: 5, 351: 5, 348: 5, 344: 5, 337: 5, 333: 5, 332: 5, 325: 5, 316: 5, 307: 5, 305: 5, 272: 5, 262: 5, 1664: 4, 1418: 4, 1385: 4, 1321: 4, 1179: 4, 1107: 4, 1053: 4, 1050: 4, 1003: 4, 909: 4, 906: 4, 901: 4, 871: 4, 862: 4, 826: 4, 820: 4, 815: 4, 805: 4, 802: 4, 798: 4, 787: 4, 783: 4, 766: 4, 761: 4, 757: 4, 755: 4, 740: 4, 739: 4, 726: 4, 711: 4, 691: 4, 656: 4, 655: 4, 647: 4, 642: 4, 632: 4, 630: 4, 628: 4, 626: 4, 625: 4, 624: 4, 620: 4, 617: 4, 614: 4, 603: 4, 602: 4, 597: 4, 586: 4, 572: 4, 568: 4, 567: 4, 564: 4, 544: 4, 531: 4, 517: 4, 515: 4, 506: 4, 499: 4, 493: 4, 491: 4, 489: 4, 479: 4, 476: 4, 474: 4, 470: 4, 468: 4, 457: 4, 456: 4, 454: 4, 443: 4, 436: 4, 431: 4, 428: 4, 426: 4, 394: 4, 389: 4, 386: 4, 383: 4, 378: 4, 341: 4, 329: 4, 308: 4, 306: 4, 303: 4, 275: 4, 5604: 3, 3475: 3, 3285: 3, 3261: 3, 3223: 3, 2515: 3, 2249: 3, 2201: 3, 2184: 3, 2122: 3, 2025: 3, 2018: 3, 1933: 3, 1899: 3, 1898: 3, 1880: 3, 1750: 3, 1691: 3, 1583: 3, 1548: 3, 1533: 3, 1509: 3, 1497: 3, 1466: 3, 1445: 3, 1440: 3, 1419: 3, 1362: 3, 1360: 3, 1356: 3, 1342: 3, 1327: 3, 1287: 3, 1266: 3, 1256: 3, 1251: 3, 1231: 3, 1219: 3, 1184: 3, 1182: 3, 1174: 3, 1134: 3, 1132: 3, 1121: 3, 1103: 3, 1088: 3, 1074: 3, 1054: 3, 1014: 3, 1012: 3, 1010: 3, 998: 3, 980: 3, 966: 3, 959: 3, 937: 3, 933: 3, 919: 3, 917: 3, 911: 3, 908: 3, 886: 3, 870: 3, 860: 3, 857: 3, 849: 3, 839: 3, 835: 3, 821: 3, 811: 3, 809: 3, 794: 3, 789: 3, 788: 3, 773: 3, 765: 3, 758: 3, 756: 3, 752: 3, 747: 3, 737: 3, 729: 3, 719: 3, 718: 3, 715: 3, 710: 3, 706: 3, 698: 3, 696: 3, 694: 3, 693: 3, 686: 3, 683: 3, 678: 3, 671: 3, 666: 3, 663: 3, 662: 3, 661: 3, 660: 3, 658: 3, 654: 3, 648: 3, 639: 3, 638: 3, 635: 3, 618: 3, 615: 3, 611: 3, 598: 3, 596: 3, 595: 3, 594: 3, 591: 3, 583: 3, 582: 3, 578: 3, 563: 3, 562: 3, 552: 3, 551: 3, 550: 3, 533: 3, 526: 3, 520: 3, 513: 3, 505: 3, 501: 3, 498: 3, 486: 3, 482: 3, 481: 3, 478: 3, 472: 3, 465: 3, 460: 3, 459: 3, 455: 3, 441: 3, 440: 3, 432: 3, 430: 3, 429: 3, 423: 3, 422: 3, 415: 3, 413: 3, 407: 3, 403: 3, 399: 3, 395: 3, 381: 3, 380: 3, 372: 3, 366: 3, 300: 3, 293: 3, 286: 3, 17022: 2, 11040: 2, 10644: 2, 10584: 2, 9337: 2, 8545: 2, 8518: 2, 7078: 2, 6616: 2, 6563: 2, 5878: 2, 5394: 2, 5197: 2, 4982: 2, 4864: 2, 4712: 2, 4657: 2, 4342: 2, 4320: 2, 4232: 2, 4145: 2, 3918: 2, 3857: 2, 3740: 2, 3652: 2, 3645: 2, 3505: 2, 3455: 2, 3448: 2, 3322: 2, 3277: 2, 3237: 2, 3185: 2, 3146: 2, 3006: 2, 2979: 2, 2968: 2, 2910: 2, 2897: 2, 2796: 2, 2750: 2, 2688: 2, 2685: 2, 2648: 2, 2637: 2, 2614: 2, 2609: 2, 2596: 2, 2556: 2, 2528: 2, 2490: 2, 2482: 2, 2434: 2, 2382: 2, 2381: 2, 2292: 2, 2283: 2, 2277: 2, 2233: 2, 2225: 2, 2208: 2, 2207: 2, 2155: 2, 2111: 2, 2081: 2, 2072: 2, 2057: 2, 2053: 2, 2042: 2, 2041: 2, 2036: 2, 2007: 2, 2005: 2, 1976: 2, 1965: 2, 1956: 2, 1926: 2, 1925: 2, 1924: 2, 1918: 2, 1887: 2, 1884: 2, 1844: 2, 1832: 2, 1819: 2, 1798: 2, 1795: 2, 1773: 2, 1763: 2, 1755: 2, 1748: 2, 1743: 2, 1732: 2, 1708: 2, 1699: 2, 1682: 2, 1673: 2, 1651: 2, 1625: 2, 1624: 2, 1619: 2, 1618: 2, 1608: 2, 1595: 2, 1593: 2, 1578: 2, 1577: 2, 1562: 2, 1557: 2, 1555: 2, 1553: 2, 1552: 2, 1543: 2, 1527: 2, 1517: 2, 1516: 2, 1510: 2, 1501: 2, 1494: 2, 1490: 2, 1482: 2, 1477: 2, 1476: 2, 1475: 2, 1460: 2, 1459: 2, 1454: 2, 1443: 2, 1434: 2, 1423: 2, 1411: 2, 1399: 2, 1395: 2, 1393: 2, 1390: 2, 1377: 2, 1373: 2, 1367: 2, 1350: 2, 1348: 2, 1344: 2, 1332: 2, 1331: 2, 1326: 2, 1316: 2, 1314: 2, 1304: 2, 1299: 2, 1291: 2, 1290: 2, 1284: 2, 1282: 2, 1273: 2, 1263: 2, 1259: 2, 1257: 2, 1248: 2, 1247: 2, 1236: 2, 1228: 2, 1225: 2, 1221: 2, 1214: 2, 1211: 2, 1210: 2, 1209: 2, 1199: 2, 1189: 2, 1185: 2, 1181: 2, 1173: 2, 1171: 2, 1163: 2, 1159: 2, 1156: 2, 1153: 2, 1146: 2, 1141: 2, 1139: 2, 1136: 2, 1129: 2, 1124: 2, 1123: 2, 1120: 2, 1119: 2, 1104: 2, 1101: 2, 1098: 2, 1095: 2, 1081: 2, 1075: 2, 1073: 2, 1072: 2, 1071: 2, 1069: 2, 1067: 2, 1057: 2, 1052: 2, 1049: 2, 1047: 2, 1043: 2, 1036: 2, 1035: 2, 1033: 2, 1032: 2, 1023: 2, 1017: 2, 1004: 2, 1002: 2, 999: 2, 996: 2, 992: 2, 991: 2, 989: 2, 987: 2, 986: 2, 982: 2, 981: 2, 979: 2, 974: 2, 973: 2, 958: 2, 957: 2, 956: 2, 954: 2, 951: 2, 950: 2, 949: 2, 944: 2, 940: 2, 938: 2, 932: 2, 928: 2, 926: 2, 913: 2, 900: 2, 897: 2, 892: 2, 890: 2, 889: 2, 888: 2, 882: 2, 877: 2, 875: 2, 874: 2, 868: 2, 866: 2, 865: 2, 863: 2, 858: 2, 856: 2, 852: 2, 841: 2, 840: 2, 838: 2, 833: 2, 832: 2, 823: 2, 819: 2, 814: 2, 808: 2, 806: 2, 801: 2, 793: 2, 791: 2, 790: 2, 784: 2, 781: 2, 780: 2, 776: 2, 775: 2, 772: 2, 769: 2, 763: 2, 760: 2, 759: 2, 751: 2, 749: 2, 746: 2, 742: 2, 738: 2, 735: 2, 734: 2, 733: 2, 732: 2, 727: 2, 722: 2, 721: 2, 716: 2, 712: 2, 709: 2, 705: 2, 704: 2, 702: 2, 700: 2, 697: 2, 692: 2, 688: 2, 687: 2, 684: 2, 682: 2, 680: 2, 679: 2, 677: 2, 674: 2, 670: 2, 668: 2, 664: 2, 649: 2, 643: 2, 640: 2, 637: 2, 636: 2, 631: 2, 616: 2, 607: 2, 605: 2, 604: 2, 601: 2, 600: 2, 599: 2, 588: 2, 587: 2, 585: 2, 579: 2, 577: 2, 576: 2, 575: 2, 571: 2, 569: 2, 558: 2, 553: 2, 549: 2, 542: 2, 538: 2, 537: 2, 536: 2, 530: 2, 521: 2, 510: 2, 508: 2, 503: 2, 502: 2, 496: 2, 494: 2, 467: 2, 463: 2, 462: 2, 450: 2, 447: 2, 438: 2, 424: 2, 410: 2, 408: 2, 352: 2, 314: 2, 232853: 1, 188621: 1, 120235: 1, 78547: 1, 78318: 1, 78230: 1, 76305: 1, 75288: 1, 73544: 1, 69234: 1, 68041: 1, 67815: 1, 66829: 1, 66133: 1, 64024: 1, 61548: 1, 58656: 1, 53613: 1, 52695: 1, 49215: 1, 47302: 1, 46735: 1, 44963: 1, 41315: 1, 38250: 1, 38181: 1, 37701: 1, 37681: 1, 36883: 1, 36263: 1, 35154: 1, 34849: 1, 34658: 1, 34545: 1, 34361: 1, 33165: 1, 32846: 1, 32408: 1, 31855: 1, 31720: 1, 31618: 1, 31347: 1, 31255: 1, 31132: 1, 30775: 1, 30519: 1, 29093: 1, 28967: 1, 28509: 1, 28071: 1, 27645: 1, 27517: 1, 26873: 1, 26785: 1, 26705: 1, 26544: 1, 26501: 1, 26464: 1, 26077: 1, 25979: 1, 25542: 1, 25248: 1, 25157: 1, 25110: 1, 25094: 1, 24949: 1, 24932: 1, 24675: 1, 24575: 1, 24285: 1, 24232: 1, 23426: 1, 23406: 1, 22858: 1, 22665: 1, 22082: 1, 22006: 1, 21785: 1, 21728: 1, 21592: 1, 21572: 1, 21495: 1, 21172: 1, 21126: 1, 20614: 1, 20512: 1, 20338: 1, 20257: 1, 20232: 1, 20061: 1, 19673: 1, 19554: 1, 19334: 1, 19274: 1, 19233: 1, 18847: 1, 18601: 1, 18159: 1, 18098: 1, 18023: 1, 17943: 1, 17643: 1, 17618: 1, 17533: 1, 17492: 1, 17466: 1, 17420: 1, 17270: 1, 17042: 1, 16953: 1, 16940: 1, 16919: 1, 16848: 1, 16644: 1, 16561: 1, 16513: 1, 16260: 1, 16254: 1, 16161: 1, 16100: 1, 15935: 1, 15744: 1, 15739: 1, 15531: 1, 15502: 1, 15345: 1, 15336: 1, 15298: 1, 15260: 1, 15178: 1, 15156: 1, 15150: 1, 15136: 1, 15129: 1, 15120: 1, 15010: 1, 14898: 1, 14736: 1, 14703: 1, 14638: 1, 14555: 1, 14520: 1, 14407: 1, 14272: 1, 14271: 1, 14109: 1, 13942: 1, 13886: 1, 13866: 1, 13801: 1, 13798: 1, 13772: 1, 13758: 1, 13731: 1, 13678: 1, 13597: 1, 13345: 1, 13313: 1, 13169: 1, 13146: 1, 13133: 1, 13121: 1, 13059: 1, 13043: 1, 13001: 1, 12903: 1, 12728: 1, 12712: 1, 12704: 1, 12688: 1, 12683: 1, 12657: 1, 12611: 1, 12410: 1, 12394: 1, 12331: 1, 12319: 1, 12254: 1, 12219: 1, 12163: 1, 12128: 1, 12106: 1, 12041: 1, 11989: 1, 11988: 1, 11986: 1, 11948: 1, 11880: 1, 11750: 1, 11748: 1, 11731: 1, 11640: 1, 11618: 1, 11616: 1, 11615: 1, 11545: 1, 11529: 1, 11513: 1, 11445: 1, 11396: 1, 11370: 1, 11227: 1, 11226: 1, 11084: 1, 10968: 1, 10955: 1, 10941: 1, 10856: 1, 10782: 1, 10757: 1, 10748: 1, 10735: 1, 10698: 1, 10678: 1, 10556: 1, 10534: 1, 10524: 1, 10523: 1, 10480: 1, 10459: 1, 10450: 1, 10377: 1, 10279: 1, 10125: 1, 10121: 1, 10020: 1, 10000: 1, 9955: 1, 9941: 1, 9854: 1, 9812: 1, 9802: 1, 9734: 1, 9674: 1, 9644: 1, 9515: 1, 9484: 1, 9453: 1, 9429: 1, 9410: 1, 9386: 1, 9363: 1, 9341: 1, 9335: 1, 9240: 1, 9233: 1, 9208: 1, 9207: 1, 9164: 1, 9142: 1, 9112: 1, 9055: 1, 9034: 1, 9010: 1, 9009: 1, 8991: 1, 8904: 1, 8875: 1, 8819: 1, 8781: 1, 8756: 1, 8752: 1, 8744: 1, 8740: 1, 8728: 1, 8699: 1, 8693: 1, 8670: 1, 8652: 1, 8623: 1, 8622: 1, 8598: 1, 8594: 1, 8575: 1, 8544: 1, 8492: 1, 8469: 1, 8437: 1, 8356: 1, 8344: 1, 8339: 1, 8329: 1, 8322: 1, 8312: 1, 8294: 1, 8267: 1, 8253: 1, 8241: 1, 8201: 1, 8189: 1, 8178: 1, 8131: 1, 8104: 1, 8076: 1, 8074: 1, 8072: 1, 8069: 1, 8030: 1, 8007: 1, 7995: 1, 7979: 1, 7972: 1, 7965: 1, 7953: 1, 7938: 1, 7934: 1, 7915: 1, 7887: 1, 7822: 1, 7798: 1, 7792: 1, 7789: 1, 7769: 1, 7754: 1, 7731: 1, 7713: 1, 7703: 1, 7702: 1, 7687: 1, 7666: 1, 7660: 1, 7587: 1, 7563: 1, 7550: 1, 7540: 1, 7531: 1, 7513: 1, 7497: 1, 7488: 1, 7439: 1, 7424: 1, 7403: 1, 7402: 1, 7401: 1, 7377: 1, 7360: 1, 7282: 1, 7239: 1, 7193: 1, 7127: 1, 7117: 1, 7065: 1, 7059: 1, 7045: 1, 7026: 1, 6994: 1, 6991: 1, 6965: 1, 6948: 1, 6947: 1, 6917: 1, 6886: 1, 6877: 1, 6846: 1, 6804: 1, 6768: 1, 6760: 1, 6729: 1, 6639: 1, 6596: 1, 6583: 1, 6581: 1, 6572: 1, 6564: 1, 6555: 1, 6554: 1, 6551: 1, 6545: 1, 6523: 1, 6510: 1, 6481: 1, 6477: 1, 6434: 1, 6430: 1, 6423: 1, 6397: 1, 6396: 1, 6384: 1, 6380: 1, 6373: 1, 6352: 1, 6328: 1, 6316: 1, 6297: 1, 6280: 1, 6222: 1, 6194: 1, 6165: 1, 6142: 1, 6128: 1, 6096: 1, 6084: 1, 6068: 1, 6061: 1, 6058: 1, 6021: 1, 6019: 1, 6002: 1, 5998: 1, 5990: 1, 5989: 1, 5965: 1, 5960: 1, 5953: 1, 5945: 1, 5944: 1, 5930: 1, 5880: 1, 5872: 1, 5865: 1, 5859: 1, 5854: 1, 5845: 1, 5840: 1, 5824: 1, 5814: 1, 5807: 1, 5803: 1, 5787: 1, 5782: 1, 5775: 1, 5762: 1, 5746: 1, 5738: 1, 5698: 1, 5680: 1, 5658: 1, 5651: 1, 5621: 1, 5599: 1, 5593: 1, 5587: 1, 5580: 1, 5551: 1, 5546: 1, 5542: 1, 5534: 1, 5525: 1, 5524: 1, 5519: 1, 5516: 1, 5502: 1, 5494: 1, 5483: 1, 5437: 1, 5414: 1, 5413: 1, 5412: 1, 5409: 1, 5401: 1, 5387: 1, 5374: 1, 5370: 1, 5369: 1, 5353: 1, 5322: 1, 5302: 1, 5294: 1, 5289: 1, 5256: 1, 5254: 1, 5243: 1, 5223: 1, 5217: 1, 5207: 1, 5205: 1, 5201: 1, 5199: 1, 5177: 1, 5175: 1, 5171: 1, 5169: 1, 5161: 1, 5147: 1, 5127: 1, 5121: 1, 5120: 1, 5107: 1, 5103: 1, 5098: 1, 5083: 1, 5068: 1, 5058: 1, 5050: 1, 5043: 1, 5035: 1, 5027: 1, 5024: 1, 5011: 1, 5007: 1, 4994: 1, 4991: 1, 4988: 1, 4977: 1, 4971: 1, 4967: 1, 4955: 1, 4937: 1, 4931: 1, 4918: 1, 4909: 1, 4902: 1, 4901: 1, 4897: 1, 4896: 1, 4870: 1, 4854: 1, 4851: 1, 4844: 1, 4840: 1, 4833: 1, 4828: 1, 4814: 1, 4804: 1, 4800: 1, 4796: 1, 4781: 1, 4779: 1, 4771: 1, 4762: 1, 4758: 1, 4720: 1, 4718: 1, 4711: 1, 4675: 1, 4672: 1, 4667: 1, 4663: 1, 4658: 1, 4654: 1, 4648: 1, 4643: 1, 4603: 1, 4600: 1, 4596: 1, 4593: 1, 4573: 1, 4567: 1, 4565: 1, 4554: 1, 4543: 1, 4540: 1, 4539: 1, 4538: 1, 4520: 1, 4515: 1, 4500: 1, 4499: 1, 4493: 1, 4469: 1, 4462: 1, 4456: 1, 4441: 1, 4438: 1, 4403: 1, 4396: 1, 4385: 1, 4377: 1, 4359: 1, 4357: 1, 4355: 1, 4354: 1, 4345: 1, 4301: 1, 4299: 1, 4294: 1, 4291: 1, 4290: 1, 4289: 1, 4287: 1, 4284: 1, 4265: 1, 4261: 1, 4255: 1, 4252: 1, 4244: 1, 4238: 1, 4227: 1, 4208: 1, 4197: 1, 4189: 1, 4186: 1, 4181: 1, 4157: 1, 4148: 1, 4146: 1, 4140: 1, 4131: 1, 4120: 1, 4114: 1, 4092: 1, 4090: 1, 4084: 1, 4062: 1, 4061: 1, 4049: 1, 4048: 1, 4045: 1, 4035: 1, 4033: 1, 4031: 1, 4025: 1, 4004: 1, 4001: 1, 3985: 1, 3983: 1, 3982: 1, 3980: 1, 3978: 1, 3974: 1, 3971: 1, 3965: 1, 3960: 1, 3958: 1, 3941: 1, 3927: 1, 3896: 1, 3890: 1, 3887: 1, 3881: 1, 3865: 1, 3852: 1, 3842: 1, 3837: 1, 3833: 1, 3830: 1, 3819: 1, 3815: 1, 3809: 1, 3800: 1, 3780: 1, 3774: 1, 3770: 1, 3748: 1, 3737: 1, 3731: 1, 3716: 1, 3714: 1, 3707: 1, 3704: 1, 3703: 1, 3701: 1, 3695: 1, 3686: 1, 3665: 1, 3655: 1, 3654: 1, 3653: 1, 3648: 1, 3626: 1, 3624: 1, 3621: 1, 3620: 1, 3617: 1, 3604: 1, 3601: 1, 3600: 1, 3595: 1, 3591: 1, 3590: 1, 3583: 1, 3579: 1, 3574: 1, 3572: 1, 3560: 1, 3556: 1, 3552: 1, 3549: 1, 3538: 1, 3534: 1, 3533: 1, 3530: 1, 3528: 1, 3515: 1, 3503: 1, 3498: 1, 3496: 1, 3489: 1, 3487: 1, 3482: 1, 3476: 1, 3457: 1, 3456: 1, 3453: 1, 3450: 1, 3442: 1, 3438: 1, 3431: 1, 3429: 1, 3428: 1, 3425: 1, 3412: 1, 3407: 1, 3405: 1, 3402: 1, 3401: 1, 3399: 1, 3398: 1, 3392: 1, 3391: 1, 3390: 1, 3386: 1, 3384: 1, 3378: 1, 3371: 1, 3370: 1, 3365: 1, 3364: 1, 3362: 1, 3360: 1, 3357: 1, 3332: 1, 3330: 1, 3321: 1, 3314: 1, 3308: 1, 3306: 1, 3305: 1, 3298: 1, 3282: 1, 3273: 1, 3269: 1, 3264: 1, 3260: 1, 3251: 1, 3234: 1, 3225: 1, 3221: 1, 3211: 1, 3200: 1, 3199: 1, 3194: 1, 3189: 1, 3184: 1, 3176: 1, 3164: 1, 3147: 1, 3138: 1, 3134: 1, 3130: 1, 3123: 1, 3120: 1, 3109: 1, 3106: 1, 3102: 1, 3099: 1, 3096: 1, 3090: 1, 3089: 1, 3088: 1, 3086: 1, 3072: 1, 3064: 1, 3063: 1, 3062: 1, 3056: 1, 3046: 1, 3036: 1, 3032: 1, 3022: 1, 3017: 1, 3014: 1, 3010: 1, 3000: 1, 2996: 1, 2995: 1, 2993: 1, 2982: 1, 2978: 1, 2976: 1, 2972: 1, 2969: 1, 2961: 1, 2956: 1, 2953: 1, 2951: 1, 2948: 1, 2939: 1, 2938: 1, 2937: 1, 2925: 1, 2916: 1, 2915: 1, 2914: 1, 2911: 1, 2888: 1, 2876: 1, 2873: 1, 2860: 1, 2858: 1, 2854: 1, 2850: 1, 2849: 1, 2843: 1, 2839: 1, 2836: 1, 2828: 1, 2823: 1, 2821: 1, 2815: 1, 2813: 1, 2812: 1, 2799: 1, 2794: 1, 2791: 1, 2786: 1, 2781: 1, 2778: 1, 2768: 1, 2762: 1, 2757: 1, 2752: 1, 2744: 1, 2739: 1, 2720: 1, 2710: 1, 2709: 1, 2707: 1, 2705: 1, 2704: 1, 2702: 1, 2700: 1, 2681: 1, 2676: 1, 2675: 1, 2674: 1, 2670: 1, 2649: 1, 2645: 1, 2642: 1, 2638: 1, 2630: 1, 2628: 1, 2627: 1, 2620: 1, 2612: 1, 2604: 1, 2603: 1, 2599: 1, 2598: 1, 2593: 1, 2581: 1, 2573: 1, 2565: 1, 2563: 1, 2561: 1, 2555: 1, 2553: 1, 2550: 1, 2546: 1, 2540: 1, 2537: 1, 2536: 1, 2534: 1, 2533: 1, 2532: 1, 2531: 1, 2527: 1, 2523: 1, 2518: 1, 2511: 1, 2510: 1, 2508: 1, 2505: 1, 2502: 1, 2501: 1, 2494: 1, 2492: 1, 2486: 1, 2481: 1, 2480: 1, 2476: 1, 2475: 1, 2472: 1, 2466: 1, 2463: 1, 2459: 1, 2450: 1, 2449: 1, 2445: 1, 2436: 1, 2435: 1, 2429: 1, 2426: 1, 2419: 1, 2416: 1, 2406: 1, 2399: 1, 2398: 1, 2394: 1, 2392: 1, 2390: 1, 2380: 1, 2377: 1, 2374: 1, 2370: 1, 2369: 1, 2359: 1, 2352: 1, 2350: 1, 2346: 1, 2343: 1, 2342: 1, 2337: 1, 2335: 1, 2333: 1, 2331: 1, 2327: 1, 2322: 1, 2320: 1, 2309: 1, 2306: 1, 2305: 1, 2299: 1, 2296: 1, 2291: 1, 2290: 1, 2289: 1, 2287: 1, 2285: 1, 2281: 1, 2279: 1, 2275: 1, 2270: 1, 2269: 1, 2268: 1, 2267: 1, 2266: 1, 2261: 1, 2259: 1, 2255: 1, 2254: 1, 2252: 1, 2241: 1, 2234: 1, 2230: 1, 2218: 1, 2210: 1, 2209: 1, 2204: 1, 2202: 1, 2198: 1, 2197: 1, 2196: 1, 2191: 1, 2189: 1, 2188: 1, 2187: 1, 2179: 1, 2176: 1, 2173: 1, 2169: 1, 2168: 1, 2158: 1, 2152: 1, 2149: 1, 2148: 1, 2145: 1, 2143: 1, 2141: 1, 2140: 1, 2137: 1, 2130: 1, 2127: 1, 2121: 1, 2117: 1, 2113: 1, 2112: 1, 2108: 1, 2101: 1, 2098: 1, 2097: 1, 2096: 1, 2090: 1, 2088: 1, 2087: 1, 2085: 1, 2082: 1, 2079: 1, 2069: 1, 2068: 1, 2061: 1, 2059: 1, 2050: 1, 2049: 1, 2048: 1, 2046: 1, 2040: 1, 2039: 1, 2034: 1, 2032: 1, 2030: 1, 2028: 1, 2027: 1, 2026: 1, 2023: 1, 2020: 1, 2019: 1, 2017: 1, 2015: 1, 2014: 1, 2009: 1, 2006: 1, 2004: 1, 2003: 1, 2002: 1, 1999: 1, 1993: 1, 1985: 1, 1984: 1, 1983: 1, 1979: 1, 1978: 1, 1975: 1, 1972: 1, 1971: 1, 1964: 1, 1962: 1, 1959: 1, 1957: 1, 1955: 1, 1952: 1, 1951: 1, 1949: 1, 1941: 1, 1940: 1, 1938: 1, 1936: 1, 1935: 1, 1931: 1, 1930: 1, 1929: 1, 1927: 1, 1923: 1, 1921: 1, 1919: 1, 1916: 1, 1915: 1, 1910: 1, 1908: 1, 1907: 1, 1905: 1, 1904: 1, 1902: 1, 1894: 1, 1892: 1, 1889: 1, 1886: 1, 1883: 1, 1881: 1, 1876: 1, 1871: 1, 1866: 1, 1861: 1, 1858: 1, 1856: 1, 1850: 1, 1838: 1, 1836: 1, 1835: 1, 1831: 1, 1830: 1, 1829: 1, 1823: 1, 1820: 1, 1816: 1, 1815: 1, 1812: 1, 1810: 1, 1809: 1, 1808: 1, 1807: 1, 1806: 1, 1802: 1, 1799: 1, 1797: 1, 1794: 1, 1791: 1, 1787: 1, 1785: 1, 1781: 1, 1780: 1, 1779: 1, 1766: 1, 1765: 1, 1760: 1, 1757: 1, 1751: 1, 1749: 1, 1746: 1, 1741: 1, 1739: 1, 1737: 1, 1734: 1, 1733: 1, 1731: 1, 1723: 1, 1721: 1, 1718: 1, 1712: 1, 1710: 1, 1709: 1, 1707: 1, 1700: 1, 1693: 1, 1690: 1, 1688: 1, 1683: 1, 1681: 1, 1679: 1, 1677: 1, 1676: 1, 1670: 1, 1669: 1, 1666: 1, 1660: 1, 1655: 1, 1646: 1, 1643: 1, 1642: 1, 1641: 1, 1638: 1, 1636: 1, 1629: 1, 1627: 1, 1623: 1, 1621: 1, 1617: 1, 1615: 1, 1613: 1, 1612: 1, 1609: 1, 1607: 1, 1605: 1, 1604: 1, 1601: 1, 1596: 1, 1592: 1, 1587: 1, 1586: 1, 1585: 1, 1582: 1, 1580: 1, 1579: 1, 1572: 1, 1567: 1, 1564: 1, 1560: 1, 1559: 1, 1558: 1, 1550: 1, 1546: 1, 1545: 1, 1544: 1, 1541: 1, 1540: 1, 1538: 1, 1536: 1, 1532: 1, 1531: 1, 1529: 1, 1526: 1, 1523: 1, 1522: 1, 1519: 1, 1518: 1, 1514: 1, 1512: 1, 1508: 1, 1499: 1, 1496: 1, 1493: 1, 1492: 1, 1491: 1, 1489: 1, 1488: 1, 1486: 1, 1485: 1, 1478: 1, 1471: 1, 1469: 1, 1464: 1, 1462: 1, 1458: 1, 1452: 1, 1451: 1, 1449: 1, 1448: 1, 1441: 1, 1438: 1, 1437: 1, 1432: 1, 1430: 1, 1426: 1, 1424: 1, 1420: 1, 1417: 1, 1416: 1, 1415: 1, 1410: 1, 1401: 1, 1396: 1, 1387: 1, 1386: 1, 1383: 1, 1382: 1, 1381: 1, 1379: 1, 1376: 1, 1370: 1, 1363: 1, 1361: 1, 1359: 1, 1355: 1, 1353: 1, 1351: 1, 1349: 1, 1346: 1, 1343: 1, 1341: 1, 1337: 1, 1335: 1, 1333: 1, 1329: 1, 1328: 1, 1325: 1, 1324: 1, 1320: 1, 1319: 1, 1318: 1, 1313: 1, 1311: 1, 1308: 1, 1306: 1, 1305: 1, 1301: 1, 1297: 1, 1296: 1, 1295: 1, 1294: 1, 1292: 1, 1288: 1, 1286: 1, 1280: 1, 1275: 1, 1274: 1, 1272: 1, 1271: 1, 1270: 1, 1265: 1, 1264: 1, 1262: 1, 1254: 1, 1253: 1, 1252: 1, 1250: 1, 1249: 1, 1244: 1, 1243: 1, 1242: 1, 1241: 1, 1240: 1, 1239: 1, 1232: 1, 1229: 1, 1227: 1, 1224: 1, 1222: 1, 1218: 1, 1217: 1, 1215: 1, 1206: 1, 1204: 1, 1202: 1, 1201: 1, 1200: 1, 1196: 1, 1192: 1, 1191: 1, 1190: 1, 1180: 1, 1176: 1, 1172: 1, 1169: 1, 1166: 1, 1162: 1, 1161: 1, 1160: 1, 1158: 1, 1155: 1, 1151: 1, 1138: 1, 1137: 1, 1130: 1, 1128: 1, 1126: 1, 1117: 1, 1115: 1, 1114: 1, 1113: 1, 1112: 1, 1110: 1, 1108: 1, 1105: 1, 1102: 1, 1100: 1, 1097: 1, 1096: 1, 1093: 1, 1092: 1, 1084: 1, 1083: 1, 1082: 1, 1079: 1, 1078: 1, 1070: 1, 1068: 1, 1066: 1, 1064: 1, 1063: 1, 1062: 1, 1061: 1, 1060: 1, 1058: 1, 1056: 1, 1051: 1, 1045: 1, 1041: 1, 1040: 1, 1037: 1, 1034: 1, 1030: 1, 1029: 1, 1028: 1, 1027: 1, 1026: 1, 1025: 1, 1022: 1, 1021: 1, 1019: 1, 1016: 1, 1015: 1, 1013: 1, 1008: 1, 1005: 1, 1000: 1, 997: 1, 995: 1, 993: 1, 990: 1, 988: 1, 985: 1, 984: 1, 978: 1, 977: 1, 976: 1, 970: 1, 968: 1, 967: 1, 964: 1, 961: 1, 955: 1, 953: 1, 948: 1, 946: 1, 945: 1, 941: 1, 935: 1, 934: 1, 931: 1, 930: 1, 927: 1, 923: 1, 922: 1, 921: 1, 920: 1, 918: 1, 916: 1, 915: 1, 910: 1, 905: 1, 902: 1, 899: 1, 898: 1, 891: 1, 885: 1, 881: 1, 880: 1, 878: 1, 872: 1, 869: 1, 867: 1, 864: 1, 861: 1, 859: 1, 855: 1, 854: 1, 851: 1, 850: 1, 847: 1, 846: 1, 844: 1, 843: 1, 842: 1, 837: 1, 836: 1, 834: 1, 831: 1, 829: 1, 828: 1, 827: 1, 825: 1, 817: 1, 813: 1, 810: 1, 807: 1, 804: 1, 792: 1, 786: 1, 785: 1, 782: 1, 777: 1, 768: 1, 764: 1, 762: 1, 754: 1, 750: 1, 748: 1, 744: 1, 743: 1, 741: 1, 730: 1, 728: 1, 725: 1, 720: 1, 714: 1, 713: 1, 708: 1, 707: 1, 701: 1, 699: 1, 695: 1, 685: 1, 675: 1, 673: 1, 672: 1, 669: 1, 665: 1, 657: 1, 652: 1, 651: 1, 650: 1, 646: 1, 645: 1, 644: 1, 633: 1, 629: 1, 627: 1, 623: 1, 621: 1, 619: 1, 613: 1, 610: 1, 590: 1, 589: 1, 570: 1, 566: 1, 565: 1, 559: 1, 556: 1, 554: 1, 543: 1, 540: 1, 535: 1, 532: 1, 522: 1, 516: 1, 511: 1, 497: 1, 492: 1, 488: 1, 485: 1, 484: 1, 483: 1, 477: 1, 466: 1, 451: 1, 404: 1, 387: 1, 321: 1})\n"
     ]
    }
   ],
   "source": [
    "print(Counter(sorted_text_occur))"
   ]
  },
  {
   "cell_type": "code",
   "execution_count": 252,
   "metadata": {},
   "outputs": [
    {
     "name": "stdout",
     "output_type": "stream",
     "text": [
      "For values of alpha =  1e-05 The log loss is: 1.36468442855951\n",
      "For values of alpha =  0.0001 The log loss is: 1.2118548787975467\n",
      "For values of alpha =  0.001 The log loss is: 1.193822053198702\n",
      "For values of alpha =  0.01 The log loss is: 1.270716495568739\n",
      "For values of alpha =  0.1 The log loss is: 1.4379436061699236\n",
      "For values of alpha =  1 The log loss is: 1.616665300905357\n"
     ]
    },
    {
     "data": {
      "image/png": "[encoded data removed]",
      "text/plain": [
       "<Figure size 432x288 with 1 Axes>"
      ]
     },
     "metadata": {},
     "output_type": "display_data"
    },
    {
     "name": "stdout",
     "output_type": "stream",
     "text": [
      "For values of best alpha =  0.001 The train log loss is: 0.6536011672696206\n",
      "For values of best alpha =  0.001 The cross validation log loss is: 1.193822053198702\n",
      "For values of best alpha =  0.001 The test log loss is: 1.121509054578748\n"
     ]
    }
   ],
   "source": [
    "alpha = [10 ** x for x in range(-5, 1)]\n",
    "\n",
    "cv_log_error_array=[]\n",
    "for i in alpha:\n",
    "    clf = SGDClassifier(alpha=i, penalty='l2', loss='log', random_state=42)\n",
    "    clf.fit(train_text_feature_onehotCoding, y_train)\n",
    "    \n",
    "    sig_clf = CalibratedClassifierCV(clf, method=\"sigmoid\")\n",
    "    sig_clf.fit(train_text_feature_onehotCoding, y_train)\n",
    "    predict_y = sig_clf.predict_proba(cv_text_feature_onehotCoding)\n",
    "    cv_log_error_array.append(log_loss(y_cv, predict_y, labels=clf.classes_, eps=1e-15))\n",
    "    print('For values of alpha = ', i, \"The log loss is:\",log_loss(y_cv, predict_y, labels=clf.classes_, eps=1e-15))\n",
    "\n",
    "fig, ax = plt.subplots()\n",
    "ax.plot(alpha, cv_log_error_array,c='g')\n",
    "for i, txt in enumerate(np.round(cv_log_error_array,3)):\n",
    "    ax.annotate((alpha[i],np.round(txt,3)), (alpha[i],cv_log_error_array[i]))\n",
    "plt.grid()\n",
    "plt.title(\"Cross Validation Error for each alpha\")\n",
    "plt.xlabel(\"Alpha i's\")\n",
    "plt.ylabel(\"Error measure\")\n",
    "plt.show()\n",
    "\n",
    "\n",
    "best_alpha = np.argmin(cv_log_error_array)\n",
    "clf = SGDClassifier(alpha=alpha[best_alpha], penalty='l2', loss='log', random_state=42)\n",
    "clf.fit(train_text_feature_onehotCoding, y_train)\n",
    "sig_clf = CalibratedClassifierCV(clf, method=\"sigmoid\")\n",
    "sig_clf.fit(train_text_feature_onehotCoding, y_train)\n",
    "\n",
    "predict_y = sig_clf.predict_proba(train_text_feature_onehotCoding)\n",
    "print('For values of best alpha = ', alpha[best_alpha], \"The train log loss is:\",log_loss(y_train, predict_y, labels=clf.classes_, eps=1e-15))\n",
    "predict_y = sig_clf.predict_proba(cv_text_feature_onehotCoding)\n",
    "print('For values of best alpha = ', alpha[best_alpha], \"The cross validation log loss is:\",log_loss(y_cv, predict_y, labels=clf.classes_, eps=1e-15))\n",
    "predict_y = sig_clf.predict_proba(test_text_feature_onehotCoding)\n",
    "print('For values of best alpha = ', alpha[best_alpha], \"The test log loss is:\",log_loss(y_test, predict_y, labels=clf.classes_, eps=1e-15))"
   ]
  },
  {
   "cell_type": "code",
   "execution_count": 253,
   "metadata": {},
   "outputs": [],
   "source": [
    "def get_intersec_text(df):\n",
    "    df_text_vec = CountVectorizer(min_df=3)\n",
    "    df_text_fea = df_text_vec.fit_transform(df['cleaned_text'])\n",
    "    df_text_features = df_text_vec.get_feature_names()\n",
    "\n",
    "    df_text_fea_counts = df_text_fea.sum(axis=0).A1\n",
    "    df_text_fea_dict = dict(zip(list(df_text_features),df_text_fea_counts))\n",
    "    len1 = len(set(df_text_features))\n",
    "    len2 = len(set(train_text_features) & set(df_text_features))\n",
    "    return len1,len2"
   ]
  },
  {
   "cell_type": "code",
   "execution_count": 254,
   "metadata": {},
   "outputs": [
    {
     "name": "stdout",
     "output_type": "stream",
     "text": [
      "95.126 % of word of test data appeared in train data\n",
      "97.709 % of word of Cross Validation appeared in train data\n"
     ]
    }
   ],
   "source": [
    "len1,len2 = get_intersec_text(test_df)\n",
    "print(np.round((len2/len1)*100, 3), \"% of word of test data appeared in train data\")\n",
    "len1,len2 = get_intersec_text(cv_df)\n",
    "print(np.round((len2/len1)*100, 3), \"% of word of Cross Validation appeared in train data\")"
   ]
  },
  {
   "cell_type": "code",
   "execution_count": 255,
   "metadata": {},
   "outputs": [],
   "source": [
    "def predict_and_plot_confusion_matrix(train_x, train_y,test_x, test_y, clf):\n",
    "    clf.fit(train_x, train_y)\n",
    "    sig_clf = CalibratedClassifierCV(clf, method=\"sigmoid\")\n",
    "    sig_clf.fit(train_x, train_y)\n",
    "    pred_y = sig_clf.predict(test_x)\n",
    "\n",
    "    # for calculating log_loss we willl provide the array of probabilities belongs to each class\n",
    "    print(\"Log loss :\",log_loss(test_y, sig_clf.predict_proba(test_x)))\n",
    "    # calculating the number of data points that are misclassified\n",
    "    print(\"Number of mis-classified points :\", np.count_nonzero((pred_y- test_y))/test_y.shape[0])\n",
    "    plot_confusion_matrix(test_y, pred_y)"
   ]
  },
  {
   "cell_type": "code",
   "execution_count": 256,
   "metadata": {},
   "outputs": [],
   "source": [
    "\n",
    "def report_log_loss(train_x, train_y, test_x, test_y,  clf):\n",
    "    clf.fit(train_x, train_y)\n",
    "    sig_clf = CalibratedClassifierCV(clf, method=\"sigmoid\")\n",
    "    sig_clf.fit(train_x, train_y)\n",
    "    sig_clf_probs = sig_clf.predict_proba(test_x)\n",
    "    return log_loss(test_y, sig_clf_probs, eps=1e-15)"
   ]
  },
  {
   "cell_type": "code",
   "execution_count": 257,
   "metadata": {},
   "outputs": [],
   "source": [
    "def get_impfeature_names(indices, text, gene, var, no_features):\n",
    "    gene_count_vec = CountVectorizer()\n",
    "    var_count_vec = CountVectorizer()\n",
    "    text_count_vec = CountVectorizer(min_df=3)\n",
    "    \n",
    "    gene_vec = gene_count_vec.fit(train_df['Gene'])\n",
    "    var_vec  = var_count_vec.fit(train_df['Variation'])\n",
    "    text_vec = text_count_vec.fit(train_df['cleaned_text'])\n",
    "    \n",
    "    fea1_len = len(gene_vec.get_feature_names())\n",
    "    fea2_len = len(var_count_vec.get_feature_names())\n",
    "    \n",
    "    word_present = 0\n",
    "    for i,v in enumerate(indices):\n",
    "        if (v < fea1_len):\n",
    "            word = gene_vec.get_feature_names()[v]\n",
    "            yes_no = True if word == gene else False\n",
    "            if yes_no:\n",
    "                word_present += 1\n",
    "                print(i, \"Gene feature [{}] present in test data point [{}]\".format(word,yes_no))\n",
    "        elif (v < fea1_len+fea2_len):\n",
    "            word = var_vec.get_feature_names()[v-(fea1_len)]\n",
    "            yes_no = True if word == var else False\n",
    "            if yes_no:\n",
    "                word_present += 1\n",
    "                print(i, \"variation feature [{}] present in test data point [{}]\".format(word,yes_no))\n",
    "        else:\n",
    "            word = text_vec.get_feature_names()[v-(fea1_len+fea2_len)]\n",
    "            yes_no = True if word in text.split() else False\n",
    "            if yes_no:\n",
    "                word_present += 1\n",
    "                print(i, \"Text feature [{}] present in test data point [{}]\".format(word,yes_no))\n",
    "\n",
    "    print(\"Out of the top \",no_features,\" features \", word_present, \"are present in query point\")"
   ]
  },
  {
   "cell_type": "code",
   "execution_count": 258,
   "metadata": {},
   "outputs": [],
   "source": [
    "from scipy.sparse import hstack\n",
    "train_gene_var_onehotCoding = hstack((train_gene_feature_onehotCoding,train_variation_feature_onehotCoding))\n",
    "test_gene_var_onehotCoding = hstack((test_gene_feature_onehotCoding,test_variation_feature_onehotCoding))\n",
    "cv_gene_var_onehotCoding = hstack((cv_gene_feature_onehotCoding,cv_variation_feature_onehotCoding))\n",
    "\n",
    "train_x_onehotCoding = hstack((train_gene_var_onehotCoding, train_text_feature_onehotCoding)).tocsr()\n",
    "train_y = np.array(list(train_df['Class']))\n",
    "\n",
    "test_x_onehotCoding = hstack((test_gene_var_onehotCoding, test_text_feature_onehotCoding)).tocsr()\n",
    "test_y = np.array(list(test_df['Class']))\n",
    "\n",
    "cv_x_onehotCoding = hstack((cv_gene_var_onehotCoding, cv_text_feature_onehotCoding)).tocsr()\n",
    "cv_y = np.array(list(cv_df['Class']))\n",
    "\n",
    "\n",
    "train_gene_var_responseCoding = np.hstack((train_gene_feature_responseCoding,train_variation_feature_responseCoding))\n",
    "test_gene_var_responseCoding = np.hstack((test_gene_feature_responseCoding,test_variation_feature_responseCoding))\n",
    "cv_gene_var_responseCoding = np.hstack((cv_gene_feature_responseCoding,cv_variation_feature_responseCoding))\n",
    "\n",
    "train_x_responseCoding = np.hstack((train_gene_var_responseCoding, train_text_feature_responseCoding))\n",
    "test_x_responseCoding = np.hstack((test_gene_var_responseCoding, test_text_feature_responseCoding))\n",
    "cv_x_responseCoding = np.hstack((cv_gene_var_responseCoding, cv_text_feature_responseCoding))"
   ]
  },
  {
   "cell_type": "code",
   "execution_count": 259,
   "metadata": {},
   "outputs": [
    {
     "name": "stdout",
     "output_type": "stream",
     "text": [
      "One hot encoding features :\n",
      "(number of data points * number of features) in train data =  (2121, 52085)\n",
      "(number of data points * number of features) in test data =  (664, 52085)\n",
      "(number of data points * number of features) in cross validation data = (531, 52085)\n"
     ]
    }
   ],
   "source": [
    "print(\"One hot encoding features :\")\n",
    "print(\"(number of data points * number of features) in train data = \", train_x_onehotCoding.shape)\n",
    "print(\"(number of data points * number of features) in test data = \", test_x_onehotCoding.shape)\n",
    "print(\"(number of data points * number of features) in cross validation data =\", cv_x_onehotCoding.shape)"
   ]
  },
  {
   "cell_type": "code",
   "execution_count": 260,
   "metadata": {},
   "outputs": [
    {
     "name": "stdout",
     "output_type": "stream",
     "text": [
      " Response encoding features :\n",
      "(number of data points * number of features) in train data =  (2121, 27)\n",
      "(number of data points * number of features) in test data =  (664, 27)\n",
      "(number of data points * number of features) in cross validation data = (531, 27)\n"
     ]
    }
   ],
   "source": [
    "\n",
    "print(\" Response encoding features :\")\n",
    "print(\"(number of data points * number of features) in train data = \", train_x_responseCoding.shape)\n",
    "print(\"(number of data points * number of features) in test data = \", test_x_responseCoding.shape)\n",
    "print(\"(number of data points * number of features) in cross validation data =\", cv_x_responseCoding.shape)"
   ]
  },
  {
   "cell_type": "markdown",
   "metadata": {},
   "source": [
    "#### NAIVE BAYES \n"
   ]
  },
  {
   "cell_type": "code",
   "execution_count": 261,
   "metadata": {},
   "outputs": [
    {
     "name": "stdout",
     "output_type": "stream",
     "text": [
      "for alpha = 1e-05\n",
      "Log Loss : 1.2812999962121983\n",
      "for alpha = 0.0001\n",
      "Log Loss : 1.2758708131309835\n",
      "for alpha = 0.001\n",
      "Log Loss : 1.2759496501478553\n",
      "for alpha = 0.1\n",
      "Log Loss : 1.2623524177459085\n",
      "for alpha = 1\n",
      "Log Loss : 1.2578061037045813\n",
      "for alpha = 10\n",
      "Log Loss : 1.367127892449961\n",
      "for alpha = 100\n",
      "Log Loss : 1.3923033739011599\n",
      "for alpha = 1000\n",
      "Log Loss : 1.2933107816806484\n"
     ]
    },
    {
     "data": {
      "image/png": "[encoded data removed]",
      "text/plain": [
       "<Figure size 432x288 with 1 Axes>"
      ]
     },
     "metadata": {},
     "output_type": "display_data"
    },
    {
     "name": "stdout",
     "output_type": "stream",
     "text": [
      "For values of best alpha =  1 The train log loss is: 0.901346754236976\n",
      "For values of best alpha =  1 The cross validation log loss is: 1.2578061037045813\n",
      "For values of best alpha =  1 The test log loss is: 1.2536498657428554\n"
     ]
    }
   ],
   "source": [
    "from sklearn.naive_bayes import MultinomialNB\n",
    "alpha = [0.00001, 0.0001, 0.001, 0.1, 1, 10, 100,1000]\n",
    "cv_log_error_array = []\n",
    "for i in alpha:\n",
    "    print(\"for alpha =\", i)\n",
    "    clf = MultinomialNB(alpha=i)\n",
    "    clf.fit(train_x_onehotCoding, train_y)\n",
    "    sig_clf = CalibratedClassifierCV(clf, method=\"sigmoid\")\n",
    "    sig_clf.fit(train_x_onehotCoding, train_y)\n",
    "    sig_clf_probs = sig_clf.predict_proba(cv_x_onehotCoding)\n",
    "    cv_log_error_array.append(log_loss(cv_y, sig_clf_probs, labels=clf.classes_, eps=1e-15))\n",
    "    # to avoid rounding error while multiplying probabilites we use log-probability estimates\n",
    "    print(\"Log Loss :\",log_loss(cv_y, sig_clf_probs)) \n",
    "\n",
    "fig, ax = plt.subplots()\n",
    "ax.plot(np.log10(alpha), cv_log_error_array,c='g')\n",
    "for i, txt in enumerate(np.round(cv_log_error_array,3)):\n",
    "    ax.annotate((alpha[i],str(txt)), (np.log10(alpha[i]),cv_log_error_array[i]))\n",
    "plt.grid()\n",
    "plt.xticks(np.log10(alpha))\n",
    "plt.title(\"Cross Validation Error for each alpha\")\n",
    "plt.xlabel(\"Alpha i's\")\n",
    "plt.ylabel(\"Error measure\")\n",
    "plt.show()\n",
    "\n",
    "\n",
    "best_alpha = np.argmin(cv_log_error_array)\n",
    "clf = MultinomialNB(alpha=alpha[best_alpha])\n",
    "clf.fit(train_x_onehotCoding, train_y)\n",
    "sig_clf = CalibratedClassifierCV(clf, method=\"sigmoid\")\n",
    "sig_clf.fit(train_x_onehotCoding, train_y)\n",
    "\n",
    "\n",
    "predict_y = sig_clf.predict_proba(train_x_onehotCoding)\n",
    "print('For values of best alpha = ', alpha[best_alpha], \"The train log loss is:\",log_loss(y_train, predict_y, labels=clf.classes_, eps=1e-15))\n",
    "predict_y = sig_clf.predict_proba(cv_x_onehotCoding)\n",
    "print('For values of best alpha = ', alpha[best_alpha], \"The cross validation log loss is:\",log_loss(y_cv, predict_y, labels=clf.classes_, eps=1e-15))\n",
    "predict_y = sig_clf.predict_proba(test_x_onehotCoding)\n",
    "print('For values of best alpha = ', alpha[best_alpha], \"The test log loss is:\",log_loss(y_test, predict_y, labels=clf.classes_, eps=1e-15))"
   ]
  },
  {
   "cell_type": "code",
   "execution_count": 262,
   "metadata": {},
   "outputs": [],
   "source": [
    "def plot_confusion_matrix(test_y, predict_y):\n",
    "    C = confusion_matrix(test_y, predict_y)\n",
    "    # C = 9,9 matrix, each cell (i,j) represents number of points of class i are predicted class j\n",
    "    \n",
    "    A =(((C.T)/(C.sum(axis=1))).T)\n",
    "    #divid each element of the confusion matrix with the sum of elements in that column\n",
    "    \n",
    "    # C = [[1, 2],\n",
    "    #     [3, 4]]\n",
    "    # C.T = [[1, 3],\n",
    "    #        [2, 4]]\n",
    "    # C.sum(axis = 1)  axis=0 corresonds to columns and axis=1 corresponds to rows in two diamensional array\n",
    "    # C.sum(axix =1) = [[3, 7]]\n",
    "    # ((C.T)/(C.sum(axis=1))) = [[1/3, 3/7]\n",
    "    #                           [2/3, 4/7]]\n",
    "\n",
    "    # ((C.T)/(C.sum(axis=1))).T = [[1/3, 2/3]\n",
    "    #                           [3/7, 4/7]]\n",
    "    # sum of row elements = 1\n",
    "    \n",
    "    B =(C/C.sum(axis=0))\n",
    "    #divid each element of the confusion matrix with the sum of elements in that row\n",
    "    # C = [[1, 2],\n",
    "    #     [3, 4]]\n",
    "    # C.sum(axis = 0)  axis=0 corresonds to columns and axis=1 corresponds to rows in two diamensional array\n",
    "    # C.sum(axix =0) = [[4, 6]]\n",
    "    # (C/C.sum(axis=0)) = [[1/4, 2/6],\n",
    "    #                      [3/4, 4/6]] \n",
    "    \n",
    "    labels = [1,2,3,4,5,6,7,8,9]\n",
    "    # representing A in heatmap format\n",
    "    print(\"-\"*20, \"Confusion matrix\", \"-\"*20)\n",
    "    plt.figure(figsize=(20,7))\n",
    "    sns.heatmap(C, annot=True, cmap=\"YlGnBu\", fmt=\".3f\", xticklabels=labels, yticklabels=labels)\n",
    "    plt.xlabel('Predicted Class')\n",
    "    plt.ylabel('Original Class')\n",
    "    plt.show()\n",
    "\n",
    "    '''\n",
    "    print(\"-\"*20, \"Precision matrix (Columm Sum=1)\", \"-\"*20)\n",
    "    plt.figure(figsize=(20,7))\n",
    "    sns.heatmap(B, annot=True, cmap=\"YlGnBu\", fmt=\".3f\", xticklabels=labels, yticklabels=labels)\n",
    "    plt.xlabel('Predicted Class')\n",
    "    plt.ylabel('Original Class')\n",
    "    plt.show()\n",
    "    \n",
    "    # representing B in heatmap format\n",
    "    print(\"-\"*20, \"Recall matrix (Row sum=1)\", \"-\"*20)\n",
    "    plt.figure(figsize=(20,7))\n",
    "    sns.heatmap(A, annot=True, cmap=\"YlGnBu\", fmt=\".3f\", xticklabels=labels, yticklabels=labels)\n",
    "    plt.xlabel('Predicted Class')\n",
    "    plt.ylabel('Original Class')\n",
    "    plt.show()\n",
    "    '''"
   ]
  },
  {
   "cell_type": "markdown",
   "metadata": {},
   "source": [
    "## Testing the model"
   ]
  },
  {
   "cell_type": "code",
   "execution_count": 263,
   "metadata": {},
   "outputs": [
    {
     "name": "stdout",
     "output_type": "stream",
     "text": [
      "Log Loss : 1.2578061037045813\n",
      "Number of missclassified point : 0.3822975517890772\n",
      "-------------------- Confusion matrix --------------------\n"
     ]
    },
    {
     "data": {
      "image/png": "[encoded data removed]",
      "text/plain": [
       "<Figure size 1440x504 with 2 Axes>"
      ]
     },
     "metadata": {},
     "output_type": "display_data"
    }
   ],
   "source": [
    "from sklearn.metrics import confusion_matrix\n",
    "clf = MultinomialNB(alpha=alpha[best_alpha])\n",
    "clf.fit(train_x_onehotCoding, train_y)\n",
    "sig_clf = CalibratedClassifierCV(clf, method=\"sigmoid\")\n",
    "sig_clf.fit(train_x_onehotCoding, train_y)\n",
    "sig_clf_probs = sig_clf.predict_proba(cv_x_onehotCoding)\n",
    "# to avoid rounding error while multiplying probabilites we use log-probability estimates\n",
    "print(\"Log Loss :\",log_loss(cv_y, sig_clf_probs))\n",
    "print(\"Number of missclassified point :\", np.count_nonzero((sig_clf.predict(cv_x_onehotCoding)- cv_y))/cv_y.shape[0])\n",
    "plot_confusion_matrix(cv_y, sig_clf.predict(cv_x_onehotCoding.toarray()))"
   ]
  },
  {
   "cell_type": "code",
   "execution_count": 264,
   "metadata": {},
   "outputs": [
    {
     "name": "stdout",
     "output_type": "stream",
     "text": [
      "Predicted Class : 5\n",
      "Predicted Class Probabilities: [[0.1334 0.1113 0.0266 0.1237 0.4492 0.0507 0.0936 0.0068 0.0047]]\n",
      "Actual Class : 5\n",
      "--------------------------------------------------\n",
      "5 Text feature [neutral] present in test data point [True]\n",
      "6 Text feature [vu] present in test data point [True]\n",
      "7 Text feature [classifi] present in test data point [True]\n",
      "13 Text feature [assay] present in test data point [True]\n",
      "14 Text feature [variant] present in test data point [True]\n",
      "Out of the top  100  features  5 are present in query point\n"
     ]
    }
   ],
   "source": [
    "test_point_index = 136\n",
    "no_feature = 100\n",
    "predicted_cls = sig_clf.predict(test_x_onehotCoding[test_point_index])\n",
    "print(\"Predicted Class :\", predicted_cls[0])\n",
    "print(\"Predicted Class Probabilities:\", np.round(sig_clf.predict_proba(test_x_onehotCoding[test_point_index]),4))\n",
    "print(\"Actual Class :\", test_y[test_point_index])\n",
    "indices = np.argsort(-clf.coef_)[predicted_cls-1][:,:no_feature]\n",
    "print(\"-\"*50)\n",
    "get_impfeature_names(indices[0], test_df['cleaned_text'].iloc[test_point_index],test_df['Gene'].iloc[test_point_index],test_df['Variation'].iloc[test_point_index], no_feature)"
   ]
  },
  {
   "cell_type": "markdown",
   "metadata": {},
   "source": [
    "## K Nearest Neighbour Classification"
   ]
  },
  {
   "cell_type": "code",
   "execution_count": 271,
   "metadata": {},
   "outputs": [
    {
     "name": "stdout",
     "output_type": "stream",
     "text": [
      "for alpha = 5\n",
      "Log Loss : 1.3018850175987204\n",
      "for alpha = 11\n",
      "Log Loss : 1.3051609772159787\n",
      "for alpha = 15\n",
      "Log Loss : 1.2792256241173134\n",
      "for alpha = 21\n",
      "Log Loss : 1.3226123035936437\n",
      "for alpha = 31\n",
      "Log Loss : 1.3675565959713114\n",
      "for alpha = 41\n",
      "Log Loss : 1.3502441474748772\n",
      "for alpha = 51\n",
      "Log Loss : 1.3699356117421\n",
      "for alpha = 99\n",
      "Log Loss : 1.307819491589648\n"
     ]
    },
    {
     "data": {
      "image/png": "[encoded data removed]",
      "text/plain": [
       "<Figure size 432x288 with 1 Axes>"
      ]
     },
     "metadata": {},
     "output_type": "display_data"
    },
    {
     "name": "stdout",
     "output_type": "stream",
     "text": [
      "For values of best alpha =  15 The train log loss is: 1.0972717895123303\n",
      "For values of best alpha =  15 The cross validation log loss is: 1.2792256241173134\n",
      "For values of best alpha =  15 The test log loss is: 1.2951852302380522\n"
     ]
    }
   ],
   "source": [
    "from sklearn.neighbors import KNeighborsClassifier\n",
    "alpha = [5, 11, 15, 21, 31, 41, 51, 99]\n",
    "cv_log_error_array = []\n",
    "for i in alpha:\n",
    "    print(\"for alpha =\", i)\n",
    "    clf = KNeighborsClassifier(n_neighbors=i)\n",
    "    clf.fit(train_x_onehotCoding, train_y)\n",
    "    sig_clf = CalibratedClassifierCV(clf, method=\"sigmoid\")\n",
    "    sig_clf.fit(train_x_onehotCoding, train_y)\n",
    "    sig_clf_probs = sig_clf.predict_proba(cv_x_onehotCoding)\n",
    "    cv_log_error_array.append(log_loss(cv_y, sig_clf_probs, labels=clf.classes_, eps=1e-15))\n",
    "    # to avoid rounding error while multiplying probabilites we use log-probability estimates\n",
    "    print(\"Log Loss :\",log_loss(cv_y, sig_clf_probs)) \n",
    "\n",
    "fig, ax = plt.subplots()\n",
    "ax.plot(alpha, cv_log_error_array,c='g')\n",
    "for i, txt in enumerate(np.round(cv_log_error_array,3)):\n",
    "    ax.annotate((alpha[i],str(txt)), (alpha[i],cv_log_error_array[i]))\n",
    "plt.grid()\n",
    "plt.title(\"Cross Validation Error for each alpha\")\n",
    "plt.xlabel(\"Alpha i's\")\n",
    "plt.ylabel(\"Error measure\")\n",
    "plt.show()\n",
    "\n",
    "\n",
    "best_alpha = np.argmin(cv_log_error_array)\n",
    "clf = KNeighborsClassifier(n_neighbors=alpha[best_alpha])\n",
    "clf.fit(train_x_onehotCoding, train_y)\n",
    "sig_clf = CalibratedClassifierCV(clf, method=\"sigmoid\")\n",
    "sig_clf.fit(train_x_onehotCoding, train_y)\n",
    "\n",
    "predict_y = sig_clf.predict_proba(train_x_onehotCoding)\n",
    "print('For values of best alpha = ', alpha[best_alpha], \"The train log loss is:\",log_loss(y_train, predict_y, labels=clf.classes_, eps=1e-15))\n",
    "predict_y = sig_clf.predict_proba(cv_x_onehotCoding)\n",
    "print('For values of best alpha = ', alpha[best_alpha], \"The cross validation log loss is:\",log_loss(y_cv, predict_y, labels=clf.classes_, eps=1e-15))\n",
    "predict_y = sig_clf.predict_proba(test_x_onehotCoding)\n",
    "print('For values of best alpha = ', alpha[best_alpha], \"The test log loss is:\",log_loss(y_test, predict_y, labels=clf.classes_, eps=1e-15))"
   ]
  },
  {
   "cell_type": "code",
   "execution_count": 272,
   "metadata": {},
   "outputs": [
    {
     "name": "stdout",
     "output_type": "stream",
     "text": [
      "Log loss : 1.2792256241173134\n",
      "Number of mis-classified points : 0.4030131826741996\n",
      "-------------------- Confusion matrix --------------------\n"
     ]
    },
    {
     "data": {
      "image/png": "[encoded data removed]",
      "text/plain": [
       "<Figure size 1440x504 with 2 Axes>"
      ]
     },
     "metadata": {},
     "output_type": "display_data"
    }
   ],
   "source": [
    "clf = KNeighborsClassifier(n_neighbors=alpha[best_alpha])\n",
    "predict_and_plot_confusion_matrix(train_x_onehotCoding, train_y, cv_x_onehotCoding, cv_y, clf)"
   ]
  },
  {
   "cell_type": "code",
   "execution_count": 282,
   "metadata": {},
   "outputs": [
    {
     "name": "stdout",
     "output_type": "stream",
     "text": [
      "Predicted Class : 5\n",
      "Actual Class : 5\n",
      "The  15  nearest neighbours of the test points belongs to classes [5 5 1 4 6 6 6 4 5 5 5 5 5 1 5]\n",
      "Fequency of nearest points : Counter({5: 8, 6: 3, 1: 2, 4: 2})\n"
     ]
    }
   ],
   "source": [
    "clf = KNeighborsClassifier(n_neighbors=alpha[best_alpha])\n",
    "clf.fit(train_x_onehotCoding, train_y)\n",
    "sig_clf = CalibratedClassifierCV(clf, method=\"sigmoid\")\n",
    "sig_clf.fit(train_x_onehotCoding, train_y)\n",
    "\n",
    "test_point_index = 136\n",
    "predicted_cls = sig_clf.predict(test_x_onehotCoding[0].reshape(1,-1))\n",
    "print(\"Predicted Class :\", predicted_cls[0])\n",
    "print(\"Actual Class :\", test_y[test_point_index])\n",
    "neighbors = clf.kneighbors(test_x_onehotCoding[test_point_index].reshape(1, -1), alpha[best_alpha])\n",
    "print(\"The \",alpha[best_alpha],\" nearest neighbours of the test points belongs to classes\",train_y[neighbors[1][0]])\n",
    "print(\"Fequency of nearest points :\",Counter(train_y[neighbors[1][0]]))"
   ]
  },
  {
   "cell_type": "markdown",
   "metadata": {},
   "source": [
    "## Linear Support Vector Machines"
   ]
  },
  {
   "cell_type": "code",
   "execution_count": 268,
   "metadata": {},
   "outputs": [
    {
     "name": "stdout",
     "output_type": "stream",
     "text": [
      "for C = 1e-05\n",
      "Log Loss : 1.365725736418373\n",
      "for C = 0.0001\n",
      "Log Loss : 1.2937873492723055\n",
      "for C = 0.001\n",
      "Log Loss : 1.220441847661226\n",
      "for C = 0.01\n",
      "Log Loss : 1.1967805332156973\n",
      "for C = 0.1\n",
      "Log Loss : 1.340606730269341\n",
      "for C = 1\n",
      "Log Loss : 1.63076660756729\n",
      "for C = 10\n",
      "Log Loss : 1.642362090644012\n",
      "for C = 100\n",
      "Log Loss : 1.6423621279803216\n"
     ]
    },
    {
     "data": {
      "image/png": "[encoded data removed]",
      "text/plain": [
       "<Figure size 432x288 with 1 Axes>"
      ]
     },
     "metadata": {},
     "output_type": "display_data"
    },
    {
     "name": "stdout",
     "output_type": "stream",
     "text": [
      "For values of best alpha =  0.01 The train log loss is: 0.7505431747866597\n",
      "For values of best alpha =  0.01 The cross validation log loss is: 1.1967805332156973\n",
      "For values of best alpha =  0.01 The test log loss is: 1.103199206924006\n"
     ]
    }
   ],
   "source": [
    "alpha = [10 ** x for x in range(-5, 3)]\n",
    "cv_log_error_array = []\n",
    "for i in alpha:\n",
    "    print(\"for C =\", i)\n",
    "#     clf = SVC(C=i,kernel='linear',probability=True, class_weight='balanced')\n",
    "    clf = SGDClassifier( class_weight='balanced', alpha=i, penalty='l2', loss='hinge', random_state=42)\n",
    "    clf.fit(train_x_onehotCoding, train_y)\n",
    "    sig_clf = CalibratedClassifierCV(clf, method=\"sigmoid\")\n",
    "    sig_clf.fit(train_x_onehotCoding, train_y)\n",
    "    sig_clf_probs = sig_clf.predict_proba(cv_x_onehotCoding)\n",
    "    cv_log_error_array.append(log_loss(cv_y, sig_clf_probs, labels=clf.classes_, eps=1e-15))\n",
    "    print(\"Log Loss :\",log_loss(cv_y, sig_clf_probs)) \n",
    "\n",
    "fig, ax = plt.subplots()\n",
    "ax.plot(alpha, cv_log_error_array,c='g')\n",
    "for i, txt in enumerate(np.round(cv_log_error_array,3)):\n",
    "    ax.annotate((alpha[i],str(txt)), (alpha[i],cv_log_error_array[i]))\n",
    "plt.grid()\n",
    "plt.title(\"Cross Validation Error for each alpha\")\n",
    "plt.xlabel(\"Alpha i's\")\n",
    "plt.ylabel(\"Error measure\")\n",
    "plt.show()\n",
    "\n",
    "\n",
    "best_alpha = np.argmin(cv_log_error_array)\n",
    "# clf = SVC(C=i,kernel='linear',probability=True, class_weight='balanced')\n",
    "clf = SGDClassifier(class_weight='balanced', alpha=alpha[best_alpha], penalty='l2', loss='hinge', random_state=42)\n",
    "clf.fit(train_x_onehotCoding, train_y)\n",
    "sig_clf = CalibratedClassifierCV(clf, method=\"sigmoid\")\n",
    "sig_clf.fit(train_x_onehotCoding, train_y)\n",
    "\n",
    "predict_y = sig_clf.predict_proba(train_x_onehotCoding)\n",
    "print('For values of best alpha = ', alpha[best_alpha], \"The train log loss is:\",log_loss(y_train, predict_y, labels=clf.classes_, eps=1e-15))\n",
    "predict_y = sig_clf.predict_proba(cv_x_onehotCoding)\n",
    "print('For values of best alpha = ', alpha[best_alpha], \"The cross validation log loss is:\",log_loss(y_cv, predict_y, labels=clf.classes_, eps=1e-15))\n",
    "predict_y = sig_clf.predict_proba(test_x_onehotCoding)\n",
    "print('For values of best alpha = ', alpha[best_alpha], \"The test log loss is:\",log_loss(y_test, predict_y, labels=clf.classes_, eps=1e-15))"
   ]
  },
  {
   "cell_type": "code",
   "execution_count": 269,
   "metadata": {},
   "outputs": [
    {
     "name": "stdout",
     "output_type": "stream",
     "text": [
      "Log loss : 1.1967805332156973\n",
      "Number of mis-classified points : 0.3709981167608286\n",
      "-------------------- Confusion matrix --------------------\n"
     ]
    },
    {
     "data": {
      "image/png": "[encoded data removed]",
      "text/plain": [
       "<Figure size 1440x504 with 2 Axes>"
      ]
     },
     "metadata": {},
     "output_type": "display_data"
    }
   ],
   "source": [
    "clf = SGDClassifier(alpha=alpha[best_alpha], penalty='l2', loss='hinge', random_state=42,class_weight='balanced')\n",
    "predict_and_plot_confusion_matrix(train_x_onehotCoding, train_y,cv_x_onehotCoding,cv_y, clf)"
   ]
  },
  {
   "cell_type": "code",
   "execution_count": 270,
   "metadata": {},
   "outputs": [
    {
     "name": "stdout",
     "output_type": "stream",
     "text": [
      "Predicted Class : 4\n",
      "Predicted Class Probabilities: [[0.0831 0.0794 0.0077 0.6478 0.0229 0.0194 0.1327 0.0036 0.0034]]\n",
      "Actual Class : 4\n",
      "--------------------------------------------------\n",
      "13 Text feature [nonidet] present in test data point [True]\n",
      "106 Text feature [phosphatas] present in test data point [True]\n",
      "216 Text feature [e3] present in test data point [True]\n",
      "448 Text feature [hcl] present in test data point [True]\n",
      "481 Text feature [desoxychol] present in test data point [True]\n",
      "Out of the top  500  features  5 are present in query point\n"
     ]
    }
   ],
   "source": [
    "test_point_index = 100\n",
    "no_feature = 500\n",
    "predicted_cls = sig_clf.predict(test_x_onehotCoding[test_point_index])\n",
    "print(\"Predicted Class :\", predicted_cls[0])\n",
    "print(\"Predicted Class Probabilities:\", np.round(sig_clf.predict_proba(test_x_onehotCoding[test_point_index]),4))\n",
    "print(\"Actual Class :\", test_y[test_point_index])\n",
    "indices = np.argsort(-clf.coef_)[predicted_cls-1][:,:no_feature]\n",
    "print(\"-\"*50)\n",
    "get_impfeature_names(indices[0], test_df['cleaned_text'].iloc[test_point_index],test_df['Gene'].iloc[test_point_index],test_df['Variation'].iloc[test_point_index], no_feature)"
   ]
  },
  {
   "cell_type": "code",
   "execution_count": null,
   "metadata": {},
   "outputs": [],
   "source": []
  }
 ],
 "metadata": {
  "kernelspec": {
   "display_name": "Python 3",
   "language": "python",
   "name": "python3"
  },
  "language_info": {
   "codemirror_mode": {
    "name": "ipython",
    "version": 3
   },
   "file_extension": ".py",
   "mimetype": "text/x-python",
   "name": "python",
   "nbconvert_exporter": "python",
   "pygments_lexer": "ipython3",
   "version": "3.7.8"
  }
 },
 "nbformat": 4,
 "nbformat_minor": 4
}
