{
 "cells": [
  {
   "cell_type": "code",
   "execution_count": 9,
   "metadata": {},
   "outputs": [],
   "source": [
    "import pandas as pd"
   ]
  },
  {
   "cell_type": "code",
   "execution_count": 10,
   "metadata": {},
   "outputs": [],
   "source": [
    "import numpy as np"
   ]
  },
  {
   "cell_type": "code",
   "execution_count": 11,
   "metadata": {},
   "outputs": [],
   "source": [
    "import seaborn as sns"
   ]
  },
  {
   "cell_type": "code",
   "execution_count": 12,
   "metadata": {},
   "outputs": [],
   "source": [
    "import seaborn as sns"
   ]
  },
  {
   "cell_type": "code",
   "execution_count": 13,
   "metadata": {},
   "outputs": [],
   "source": [
    "sns.set()"
   ]
  },
  {
   "cell_type": "code",
   "execution_count": 14,
   "metadata": {},
   "outputs": [],
   "source": [
    "import matplotlib.pyplot as plt\n"
   ]
  },
  {
   "cell_type": "code",
   "execution_count": 15,
   "metadata": {},
   "outputs": [],
   "source": [
    "import os"
   ]
  },
  {
   "cell_type": "code",
   "execution_count": 16,
   "metadata": {},
   "outputs": [
    {
     "name": "stderr",
     "output_type": "stream",
     "text": [
      "Using TensorFlow backend.\n",
      "c:\\users\\shyla\\appdata\\local\\programs\\python\\python37\\lib\\site-packages\\tensorflow\\python\\framework\\dtypes.py:516: FutureWarning: Passing (type, 1) or '1type' as a synonym of type is deprecated; in a future version of numpy, it will be understood as (type, (1,)) / '(1,)type'.\n",
      "  _np_qint8 = np.dtype([(\"qint8\", np.int8, 1)])\n",
      "c:\\users\\shyla\\appdata\\local\\programs\\python\\python37\\lib\\site-packages\\tensorflow\\python\\framework\\dtypes.py:517: FutureWarning: Passing (type, 1) or '1type' as a synonym of type is deprecated; in a future version of numpy, it will be understood as (type, (1,)) / '(1,)type'.\n",
      "  _np_quint8 = np.dtype([(\"quint8\", np.uint8, 1)])\n",
      "c:\\users\\shyla\\appdata\\local\\programs\\python\\python37\\lib\\site-packages\\tensorflow\\python\\framework\\dtypes.py:518: FutureWarning: Passing (type, 1) or '1type' as a synonym of type is deprecated; in a future version of numpy, it will be understood as (type, (1,)) / '(1,)type'.\n",
      "  _np_qint16 = np.dtype([(\"qint16\", np.int16, 1)])\n",
      "c:\\users\\shyla\\appdata\\local\\programs\\python\\python37\\lib\\site-packages\\tensorflow\\python\\framework\\dtypes.py:519: FutureWarning: Passing (type, 1) or '1type' as a synonym of type is deprecated; in a future version of numpy, it will be understood as (type, (1,)) / '(1,)type'.\n",
      "  _np_quint16 = np.dtype([(\"quint16\", np.uint16, 1)])\n",
      "c:\\users\\shyla\\appdata\\local\\programs\\python\\python37\\lib\\site-packages\\tensorflow\\python\\framework\\dtypes.py:520: FutureWarning: Passing (type, 1) or '1type' as a synonym of type is deprecated; in a future version of numpy, it will be understood as (type, (1,)) / '(1,)type'.\n",
      "  _np_qint32 = np.dtype([(\"qint32\", np.int32, 1)])\n",
      "c:\\users\\shyla\\appdata\\local\\programs\\python\\python37\\lib\\site-packages\\tensorflow\\python\\framework\\dtypes.py:525: FutureWarning: Passing (type, 1) or '1type' as a synonym of type is deprecated; in a future version of numpy, it will be understood as (type, (1,)) / '(1,)type'.\n",
      "  np_resource = np.dtype([(\"resource\", np.ubyte, 1)])\n",
      "c:\\users\\shyla\\appdata\\local\\programs\\python\\python37\\lib\\site-packages\\tensorboard\\compat\\tensorflow_stub\\dtypes.py:541: FutureWarning: Passing (type, 1) or '1type' as a synonym of type is deprecated; in a future version of numpy, it will be understood as (type, (1,)) / '(1,)type'.\n",
      "  _np_qint8 = np.dtype([(\"qint8\", np.int8, 1)])\n",
      "c:\\users\\shyla\\appdata\\local\\programs\\python\\python37\\lib\\site-packages\\tensorboard\\compat\\tensorflow_stub\\dtypes.py:542: FutureWarning: Passing (type, 1) or '1type' as a synonym of type is deprecated; in a future version of numpy, it will be understood as (type, (1,)) / '(1,)type'.\n",
      "  _np_quint8 = np.dtype([(\"quint8\", np.uint8, 1)])\n",
      "c:\\users\\shyla\\appdata\\local\\programs\\python\\python37\\lib\\site-packages\\tensorboard\\compat\\tensorflow_stub\\dtypes.py:543: FutureWarning: Passing (type, 1) or '1type' as a synonym of type is deprecated; in a future version of numpy, it will be understood as (type, (1,)) / '(1,)type'.\n",
      "  _np_qint16 = np.dtype([(\"qint16\", np.int16, 1)])\n",
      "c:\\users\\shyla\\appdata\\local\\programs\\python\\python37\\lib\\site-packages\\tensorboard\\compat\\tensorflow_stub\\dtypes.py:544: FutureWarning: Passing (type, 1) or '1type' as a synonym of type is deprecated; in a future version of numpy, it will be understood as (type, (1,)) / '(1,)type'.\n",
      "  _np_quint16 = np.dtype([(\"quint16\", np.uint16, 1)])\n",
      "c:\\users\\shyla\\appdata\\local\\programs\\python\\python37\\lib\\site-packages\\tensorboard\\compat\\tensorflow_stub\\dtypes.py:545: FutureWarning: Passing (type, 1) or '1type' as a synonym of type is deprecated; in a future version of numpy, it will be understood as (type, (1,)) / '(1,)type'.\n",
      "  _np_qint32 = np.dtype([(\"qint32\", np.int32, 1)])\n",
      "c:\\users\\shyla\\appdata\\local\\programs\\python\\python37\\lib\\site-packages\\tensorboard\\compat\\tensorflow_stub\\dtypes.py:550: FutureWarning: Passing (type, 1) or '1type' as a synonym of type is deprecated; in a future version of numpy, it will be understood as (type, (1,)) / '(1,)type'.\n",
      "  np_resource = np.dtype([(\"resource\", np.ubyte, 1)])\n"
     ]
    }
   ],
   "source": [
    "from keras.preprocessing.text import Tokenizer\n",
    "from keras.preprocessing.sequence import pad_sequences\n",
    "from keras.models import Sequential\n",
    "from keras.layers import Dense\n",
    "from keras.utils.np_utils import to_categorical\n",
    "from keras.optimizers import Adam"
   ]
  },
  {
   "cell_type": "code",
   "execution_count": 17,
   "metadata": {},
   "outputs": [],
   "source": [
    "\n",
    "import warnings\n",
    "warnings.filterwarnings(\"ignore\")"
   ]
  },
  {
   "cell_type": "code",
   "execution_count": 18,
   "metadata": {},
   "outputs": [],
   "source": [
    "path= '/Users/shyla/Desktop/Dataset/'"
   ]
  },
  {
   "cell_type": "code",
   "execution_count": 19,
   "metadata": {},
   "outputs": [],
   "source": [
    "train_text =  pd.read_csv(path+'training_text', sep='\\|\\|', header=None, skiprows = 1, names=[\"ID\", \"Text\"])"
   ]
  },
  {
   "cell_type": "code",
   "execution_count": 20,
   "metadata": {},
   "outputs": [],
   "source": [
    "train_text =  pd.read_csv(path+'training_text', sep='\\|\\|', header=None, skiprows = 1, names=[\"ID\", \"Text\"])\n",
    "train_variants =  pd.read_csv(path+'training_variants')"
   ]
  },
  {
   "cell_type": "code",
   "execution_count": 21,
   "metadata": {},
   "outputs": [
    {
     "data": {
      "text/plain": [
       "(3321, 2)"
      ]
     },
     "execution_count": 21,
     "metadata": {},
     "output_type": "execute_result"
    }
   ],
   "source": [
    "train_text.shape"
   ]
  },
  {
   "cell_type": "code",
   "execution_count": 22,
   "metadata": {},
   "outputs": [
    {
     "data": {
      "text/plain": [
       "(3321, 4)"
      ]
     },
     "execution_count": 22,
     "metadata": {},
     "output_type": "execute_result"
    }
   ],
   "source": [
    "train_variants.shape"
   ]
  },
  {
   "cell_type": "code",
   "execution_count": 23,
   "metadata": {},
   "outputs": [],
   "source": [
    "#merging text with train datas\n",
    "train = pd.merge(train_variants,train_text, how='left',on='ID')\n",
    "#left join based on its id"
   ]
  },
  {
   "cell_type": "code",
   "execution_count": 24,
   "metadata": {},
   "outputs": [
    {
     "data": {
      "text/plain": [
       "ID           0\n",
       "Gene         0\n",
       "Variation    0\n",
       "Class        0\n",
       "Text         5\n",
       "dtype: int64"
      ]
     },
     "execution_count": 24,
     "metadata": {},
     "output_type": "execute_result"
    }
   ],
   "source": [
    "train.isnull().sum()\n",
    "#print sum of missing values"
   ]
  },
  {
   "cell_type": "code",
   "execution_count": 25,
   "metadata": {},
   "outputs": [
    {
     "data": {
      "text/plain": [
       "(3316, 5)"
      ]
     },
     "execution_count": 25,
     "metadata": {},
     "output_type": "execute_result"
    }
   ],
   "source": [
    "#remove missing values such as null in dataset and copies to dataframe train\n",
    "df_train = train.dropna(axis=0).copy()\n",
    "#array dimension \n",
    "df_train.shape"
   ]
  },
  {
   "cell_type": "code",
   "execution_count": 26,
   "metadata": {},
   "outputs": [
    {
     "data": {
      "text/html": [
       "<div>\n",
       "<style scoped>\n",
       "    .dataframe tbody tr th:only-of-type {\n",
       "        vertical-align: middle;\n",
       "    }\n",
       "\n",
       "    .dataframe tbody tr th {\n",
       "        vertical-align: top;\n",
       "    }\n",
       "\n",
       "    .dataframe thead th {\n",
       "        text-align: right;\n",
       "    }\n",
       "</style>\n",
       "<table border=\"1\" class=\"dataframe\">\n",
       "  <thead>\n",
       "    <tr style=\"text-align: right;\">\n",
       "      <th></th>\n",
       "      <th>ID</th>\n",
       "      <th>Gene</th>\n",
       "      <th>Variation</th>\n",
       "      <th>Class</th>\n",
       "      <th>Text</th>\n",
       "    </tr>\n",
       "  </thead>\n",
       "  <tbody>\n",
       "    <tr>\n",
       "      <th>0</th>\n",
       "      <td>0</td>\n",
       "      <td>FAM58A</td>\n",
       "      <td>Truncating Mutations</td>\n",
       "      <td>1</td>\n",
       "      <td>Cyclin-dependent kinases (CDKs) regulate a var...</td>\n",
       "    </tr>\n",
       "    <tr>\n",
       "      <th>1</th>\n",
       "      <td>1</td>\n",
       "      <td>CBL</td>\n",
       "      <td>W802*</td>\n",
       "      <td>2</td>\n",
       "      <td>Abstract Background  Non-small cell lung canc...</td>\n",
       "    </tr>\n",
       "    <tr>\n",
       "      <th>2</th>\n",
       "      <td>2</td>\n",
       "      <td>CBL</td>\n",
       "      <td>Q249E</td>\n",
       "      <td>2</td>\n",
       "      <td>Abstract Background  Non-small cell lung canc...</td>\n",
       "    </tr>\n",
       "    <tr>\n",
       "      <th>3</th>\n",
       "      <td>3</td>\n",
       "      <td>CBL</td>\n",
       "      <td>N454D</td>\n",
       "      <td>3</td>\n",
       "      <td>Recent evidence has demonstrated that acquired...</td>\n",
       "    </tr>\n",
       "    <tr>\n",
       "      <th>4</th>\n",
       "      <td>4</td>\n",
       "      <td>CBL</td>\n",
       "      <td>L399V</td>\n",
       "      <td>4</td>\n",
       "      <td>Oncogenic mutations in the monomeric Casitas B...</td>\n",
       "    </tr>\n",
       "  </tbody>\n",
       "</table>\n",
       "</div>"
      ],
      "text/plain": [
       "   ID    Gene             Variation  Class  \\\n",
       "0   0  FAM58A  Truncating Mutations      1   \n",
       "1   1     CBL                 W802*      2   \n",
       "2   2     CBL                 Q249E      2   \n",
       "3   3     CBL                 N454D      3   \n",
       "4   4     CBL                 L399V      4   \n",
       "\n",
       "                                                Text  \n",
       "0  Cyclin-dependent kinases (CDKs) regulate a var...  \n",
       "1   Abstract Background  Non-small cell lung canc...  \n",
       "2   Abstract Background  Non-small cell lung canc...  \n",
       "3  Recent evidence has demonstrated that acquired...  \n",
       "4  Oncogenic mutations in the monomeric Casitas B...  "
      ]
     },
     "execution_count": 26,
     "metadata": {},
     "output_type": "execute_result"
    }
   ],
   "source": [
    "df_train.head()\n",
    "#gives top 5 rows ->head"
   ]
  },
  {
   "cell_type": "code",
   "execution_count": 27,
   "metadata": {},
   "outputs": [
    {
     "data": {
      "text/html": [
       "<div>\n",
       "<style scoped>\n",
       "    .dataframe tbody tr th:only-of-type {\n",
       "        vertical-align: middle;\n",
       "    }\n",
       "\n",
       "    .dataframe tbody tr th {\n",
       "        vertical-align: top;\n",
       "    }\n",
       "\n",
       "    .dataframe thead th {\n",
       "        text-align: right;\n",
       "    }\n",
       "</style>\n",
       "<table border=\"1\" class=\"dataframe\">\n",
       "  <thead>\n",
       "    <tr style=\"text-align: right;\">\n",
       "      <th></th>\n",
       "      <th>ID</th>\n",
       "      <th>Gene</th>\n",
       "      <th>Variation</th>\n",
       "      <th>Class</th>\n",
       "      <th>Text</th>\n",
       "    </tr>\n",
       "  </thead>\n",
       "  <tbody>\n",
       "    <tr>\n",
       "      <th>0</th>\n",
       "      <td>0</td>\n",
       "      <td>FAM58A</td>\n",
       "      <td>Truncating Mutations</td>\n",
       "      <td>1</td>\n",
       "      <td>Cyclin-dependent kinases (CDKs) regulate a var...</td>\n",
       "    </tr>\n",
       "    <tr>\n",
       "      <th>1</th>\n",
       "      <td>1</td>\n",
       "      <td>CBL</td>\n",
       "      <td>W802*</td>\n",
       "      <td>2</td>\n",
       "      <td>Abstract Background  Non-small cell lung canc...</td>\n",
       "    </tr>\n",
       "    <tr>\n",
       "      <th>2</th>\n",
       "      <td>2</td>\n",
       "      <td>CBL</td>\n",
       "      <td>Q249E</td>\n",
       "      <td>2</td>\n",
       "      <td>Abstract Background  Non-small cell lung canc...</td>\n",
       "    </tr>\n",
       "    <tr>\n",
       "      <th>3</th>\n",
       "      <td>3</td>\n",
       "      <td>CBL</td>\n",
       "      <td>N454D</td>\n",
       "      <td>3</td>\n",
       "      <td>Recent evidence has demonstrated that acquired...</td>\n",
       "    </tr>\n",
       "    <tr>\n",
       "      <th>4</th>\n",
       "      <td>4</td>\n",
       "      <td>CBL</td>\n",
       "      <td>L399V</td>\n",
       "      <td>4</td>\n",
       "      <td>Oncogenic mutations in the monomeric Casitas B...</td>\n",
       "    </tr>\n",
       "    <tr>\n",
       "      <th>...</th>\n",
       "      <td>...</td>\n",
       "      <td>...</td>\n",
       "      <td>...</td>\n",
       "      <td>...</td>\n",
       "      <td>...</td>\n",
       "    </tr>\n",
       "    <tr>\n",
       "      <th>3316</th>\n",
       "      <td>3316</td>\n",
       "      <td>RUNX1</td>\n",
       "      <td>D171N</td>\n",
       "      <td>4</td>\n",
       "      <td>Introduction  Myelodysplastic syndromes (MDS) ...</td>\n",
       "    </tr>\n",
       "    <tr>\n",
       "      <th>3317</th>\n",
       "      <td>3317</td>\n",
       "      <td>RUNX1</td>\n",
       "      <td>A122*</td>\n",
       "      <td>1</td>\n",
       "      <td>Introduction  Myelodysplastic syndromes (MDS) ...</td>\n",
       "    </tr>\n",
       "    <tr>\n",
       "      <th>3318</th>\n",
       "      <td>3318</td>\n",
       "      <td>RUNX1</td>\n",
       "      <td>Fusions</td>\n",
       "      <td>1</td>\n",
       "      <td>The Runt-related transcription factor 1 gene (...</td>\n",
       "    </tr>\n",
       "    <tr>\n",
       "      <th>3319</th>\n",
       "      <td>3319</td>\n",
       "      <td>RUNX1</td>\n",
       "      <td>R80C</td>\n",
       "      <td>4</td>\n",
       "      <td>The RUNX1/AML1 gene is the most frequent targe...</td>\n",
       "    </tr>\n",
       "    <tr>\n",
       "      <th>3320</th>\n",
       "      <td>3320</td>\n",
       "      <td>RUNX1</td>\n",
       "      <td>K83E</td>\n",
       "      <td>4</td>\n",
       "      <td>The most frequent mutations associated with le...</td>\n",
       "    </tr>\n",
       "  </tbody>\n",
       "</table>\n",
       "<p>3316 rows × 5 columns</p>\n",
       "</div>"
      ],
      "text/plain": [
       "        ID    Gene             Variation  Class  \\\n",
       "0        0  FAM58A  Truncating Mutations      1   \n",
       "1        1     CBL                 W802*      2   \n",
       "2        2     CBL                 Q249E      2   \n",
       "3        3     CBL                 N454D      3   \n",
       "4        4     CBL                 L399V      4   \n",
       "...    ...     ...                   ...    ...   \n",
       "3316  3316   RUNX1                 D171N      4   \n",
       "3317  3317   RUNX1                 A122*      1   \n",
       "3318  3318   RUNX1               Fusions      1   \n",
       "3319  3319   RUNX1                  R80C      4   \n",
       "3320  3320   RUNX1                  K83E      4   \n",
       "\n",
       "                                                   Text  \n",
       "0     Cyclin-dependent kinases (CDKs) regulate a var...  \n",
       "1      Abstract Background  Non-small cell lung canc...  \n",
       "2      Abstract Background  Non-small cell lung canc...  \n",
       "3     Recent evidence has demonstrated that acquired...  \n",
       "4     Oncogenic mutations in the monomeric Casitas B...  \n",
       "...                                                 ...  \n",
       "3316  Introduction  Myelodysplastic syndromes (MDS) ...  \n",
       "3317  Introduction  Myelodysplastic syndromes (MDS) ...  \n",
       "3318  The Runt-related transcription factor 1 gene (...  \n",
       "3319  The RUNX1/AML1 gene is the most frequent targe...  \n",
       "3320  The most frequent mutations associated with le...  \n",
       "\n",
       "[3316 rows x 5 columns]"
      ]
     },
     "execution_count": 27,
     "metadata": {},
     "output_type": "execute_result"
    }
   ],
   "source": [
    "df_train"
   ]
  },
  {
   "cell_type": "code",
   "execution_count": 28,
   "metadata": {},
   "outputs": [
    {
     "data": {
      "image/png": "[encoded data removed]",
      "text/plain": [
       "<Figure size 432x288 with 1 Axes>"
      ]
     },
     "metadata": {},
     "output_type": "display_data"
    }
   ],
   "source": [
    "df_train.Class.value_counts().plot(kind=\"bar\",title='Classes Distribution')\n",
    "plt.xlabel('Classes')\n",
    "plt.ylabel('Counts')\n",
    "plt.show()\n",
    "#shows count for classes 1-9"
   ]
  },
  {
   "cell_type": "code",
   "execution_count": 29,
   "metadata": {},
   "outputs": [
    {
     "name": "stderr",
     "output_type": "stream",
     "text": [
      "[nltk_data] Downloading package stopwords to\n",
      "[nltk_data]     C:\\Users\\shyla\\AppData\\Roaming\\nltk_data...\n",
      "[nltk_data]   Package stopwords is already up-to-date!\n"
     ]
    },
    {
     "data": {
      "text/plain": [
       "True"
      ]
     },
     "execution_count": 29,
     "metadata": {},
     "output_type": "execute_result"
    }
   ],
   "source": [
    "import re, string\n",
    "from nltk.corpus import stopwords\n",
    "import nltk\n",
    "nltk.download('stopwords')"
   ]
  },
  {
   "cell_type": "code",
   "execution_count": 30,
   "metadata": {},
   "outputs": [],
   "source": [
    "#getting english stopwords from nltk \n",
    "sw_list = stopwords.words('english')\n"
   ]
  },
  {
   "cell_type": "code",
   "execution_count": 31,
   "metadata": {},
   "outputs": [
    {
     "data": {
      "text/plain": [
       "['i',\n",
       " 'me',\n",
       " 'my',\n",
       " 'myself',\n",
       " 'we',\n",
       " 'our',\n",
       " 'ours',\n",
       " 'ourselves',\n",
       " 'you',\n",
       " \"you're\",\n",
       " \"you've\",\n",
       " \"you'll\",\n",
       " \"you'd\",\n",
       " 'your',\n",
       " 'yours',\n",
       " 'yourself',\n",
       " 'yourselves',\n",
       " 'he',\n",
       " 'him',\n",
       " 'his',\n",
       " 'himself',\n",
       " 'she',\n",
       " \"she's\",\n",
       " 'her',\n",
       " 'hers',\n",
       " 'herself',\n",
       " 'it',\n",
       " \"it's\",\n",
       " 'its',\n",
       " 'itself',\n",
       " 'they',\n",
       " 'them',\n",
       " 'their',\n",
       " 'theirs',\n",
       " 'themselves',\n",
       " 'what',\n",
       " 'which',\n",
       " 'who',\n",
       " 'whom',\n",
       " 'this',\n",
       " 'that',\n",
       " \"that'll\",\n",
       " 'these',\n",
       " 'those',\n",
       " 'am',\n",
       " 'is',\n",
       " 'are',\n",
       " 'was',\n",
       " 'were',\n",
       " 'be',\n",
       " 'been',\n",
       " 'being',\n",
       " 'have',\n",
       " 'has',\n",
       " 'had',\n",
       " 'having',\n",
       " 'do',\n",
       " 'does',\n",
       " 'did',\n",
       " 'doing',\n",
       " 'a',\n",
       " 'an',\n",
       " 'the',\n",
       " 'and',\n",
       " 'but',\n",
       " 'if',\n",
       " 'or',\n",
       " 'because',\n",
       " 'as',\n",
       " 'until',\n",
       " 'while',\n",
       " 'of',\n",
       " 'at',\n",
       " 'by',\n",
       " 'for',\n",
       " 'with',\n",
       " 'about',\n",
       " 'against',\n",
       " 'between',\n",
       " 'into',\n",
       " 'through',\n",
       " 'during',\n",
       " 'before',\n",
       " 'after',\n",
       " 'above',\n",
       " 'below',\n",
       " 'to',\n",
       " 'from',\n",
       " 'up',\n",
       " 'down',\n",
       " 'in',\n",
       " 'out',\n",
       " 'on',\n",
       " 'off',\n",
       " 'over',\n",
       " 'under',\n",
       " 'again',\n",
       " 'further',\n",
       " 'then',\n",
       " 'once',\n",
       " 'here',\n",
       " 'there',\n",
       " 'when',\n",
       " 'where',\n",
       " 'why',\n",
       " 'how',\n",
       " 'all',\n",
       " 'any',\n",
       " 'both',\n",
       " 'each',\n",
       " 'few',\n",
       " 'more',\n",
       " 'most',\n",
       " 'other',\n",
       " 'some',\n",
       " 'such',\n",
       " 'no',\n",
       " 'nor',\n",
       " 'not',\n",
       " 'only',\n",
       " 'own',\n",
       " 'same',\n",
       " 'so',\n",
       " 'than',\n",
       " 'too',\n",
       " 'very',\n",
       " 's',\n",
       " 't',\n",
       " 'can',\n",
       " 'will',\n",
       " 'just',\n",
       " 'don',\n",
       " \"don't\",\n",
       " 'should',\n",
       " \"should've\",\n",
       " 'now',\n",
       " 'd',\n",
       " 'll',\n",
       " 'm',\n",
       " 'o',\n",
       " 're',\n",
       " 've',\n",
       " 'y',\n",
       " 'ain',\n",
       " 'aren',\n",
       " \"aren't\",\n",
       " 'couldn',\n",
       " \"couldn't\",\n",
       " 'didn',\n",
       " \"didn't\",\n",
       " 'doesn',\n",
       " \"doesn't\",\n",
       " 'hadn',\n",
       " \"hadn't\",\n",
       " 'hasn',\n",
       " \"hasn't\",\n",
       " 'haven',\n",
       " \"haven't\",\n",
       " 'isn',\n",
       " \"isn't\",\n",
       " 'ma',\n",
       " 'mightn',\n",
       " \"mightn't\",\n",
       " 'mustn',\n",
       " \"mustn't\",\n",
       " 'needn',\n",
       " \"needn't\",\n",
       " 'shan',\n",
       " \"shan't\",\n",
       " 'shouldn',\n",
       " \"shouldn't\",\n",
       " 'wasn',\n",
       " \"wasn't\",\n",
       " 'weren',\n",
       " \"weren't\",\n",
       " 'won',\n",
       " \"won't\",\n",
       " 'wouldn',\n",
       " \"wouldn't\",\n",
       " '!',\n",
       " '\"',\n",
       " '#',\n",
       " '$',\n",
       " '%',\n",
       " '&',\n",
       " \"'\",\n",
       " '(',\n",
       " ')',\n",
       " '*',\n",
       " '+',\n",
       " ',',\n",
       " '-',\n",
       " '.',\n",
       " '/',\n",
       " ':',\n",
       " ';',\n",
       " '<',\n",
       " '=',\n",
       " '>',\n",
       " '?',\n",
       " '@',\n",
       " '[',\n",
       " '\\\\',\n",
       " ']',\n",
       " '^',\n",
       " '_',\n",
       " '`',\n",
       " '{',\n",
       " '|',\n",
       " '}',\n",
       " '~',\n",
       " \"''\",\n",
       " '\"\"',\n",
       " '...',\n",
       " '``',\n",
       " '’',\n",
       " '“',\n",
       " '’',\n",
       " '”',\n",
       " '‘',\n",
       " '‘',\n",
       " \"'\",\n",
       " '©',\n",
       " 'said',\n",
       " \"'s\",\n",
       " 'also',\n",
       " 'one',\n",
       " \"n't\",\n",
       " 'com',\n",
       " 'satirewire',\n",
       " '-',\n",
       " '–',\n",
       " 'et al',\n",
       " '—',\n",
       " '_',\n",
       " 'et al ',\n",
       " '/']"
      ]
     },
     "execution_count": 31,
     "metadata": {},
     "output_type": "execute_result"
    }
   ],
   "source": [
    "#add punctuation\n",
    "sw_list += list(string.punctuation)\n",
    "sw_list += [\"''\", '\"\"', '...', '``', '’', '“', '’', '”', '‘', '‘',\"'\", '©',\n",
    "'said',\"'s\", \"also\",'one',\"n't\",'com', 'satirewire', '-', '–', \"et al\",\n",
    "'—', '_','et al ',\"/\"]\n",
    "sw_list"
   ]
  },
  {
   "cell_type": "code",
   "execution_count": 32,
   "metadata": {},
   "outputs": [],
   "source": [
    "#eleminating duplicates by adding to set\n",
    "sw_set = set(sw_list)"
   ]
  },
  {
   "cell_type": "code",
   "execution_count": 33,
   "metadata": {},
   "outputs": [
    {
     "name": "stdout",
     "output_type": "stream",
     "text": [
      "{'mustn', 'was', 'themselves', \"'s\", 'not', '$', '^', 'how', \"mightn't\", 'further', \"shouldn't\", 'did', \"it's\", 'about', 'wouldn', \"'\", 'have', 'do', '\"', '’', 'you', 'can', '...', \"you'll\", 'these', '“', \"she's\", 'in', 'here', 'than', 'i', 'they', ']', 'said', 'or', 'didn', 'myself', 'its', 'weren', '{', 'me', \"couldn't\", 'because', 'until', 'am', 'y', 'too', \"hasn't\", \"don't\", \"wasn't\", 'there', 'be', \"mustn't\", 'it', 'below', 'over', 'hasn', 'again', '>', 'himself', 'were', 'such', 'no', 'an', 'his', 'with', \"you've\", \"wouldn't\", 'against', 'them', 'ma', '—', 'will', \"haven't\", 'that', ':', '_', 'had', 'won', 'after', 'whom', \"you're\", 're', 'any', 'while', '[', 'at', 'when', '=', 'm', 'couldn', '”', 'then', ',', '–', '-', 'should', 'et al', 'their', 'who', 'this', 'from', 'does', 'very', '|', 'him', 'where', 'ain', ')', '%', ';', 'satirewire', 'et al ', 'hers', 'few', \"needn't\", \"''\", 'for', 'more', 'needn', 'up', 'we', 'are', '(', '!', 'through', 'hadn', '?', 'yourselves', 'is', 'other', \"didn't\", 'theirs', 'being', 'to', 'doing', 'by', 'shouldn', '}', \"you'd\", 'on', 'only', 'com', 'wasn', 'ours', 'yours', 'so', 'once', '<', 'during', 'into', 'one', '‘', '~', 'don', '``', 'yourself', \"shan't\", 'down', '.', 'most', 'which', 'now', 'both', 'nor', 've', 'above', 'll', '/', '*', 'your', '`', 'mightn', 'our', 'off', \"weren't\", '©', \"that'll\", \"n't\", 'under', 'if', 'but', 'shan', 'also', 'her', \"doesn't\", 'doesn', 'been', 'as', 'some', 'each', 'ourselves', 'he', 'between', 'having', \"isn't\", 'just', \"should've\", 'all', 'she', 's', 'before', 't', 'and', 'own', 'aren', 'same', 'herself', '\\\\', 'a', '\"\"', 'those', 'why', 'isn', 'd', 'has', 'itself', 'o', 'my', 'the', '&', '@', '#', 'out', '+', \"aren't\", 'haven', 'of', 'what', \"hadn't\", \"won't\"}\n"
     ]
    }
   ],
   "source": [
    "print(sw_set)"
   ]
  },
  {
   "cell_type": "code",
   "execution_count": 34,
   "metadata": {},
   "outputs": [],
   "source": [
    "#tokenization using nltk\n",
    "#word tokenization is used here -> sentence breaks into words\n",
    "def process_review(review):\n",
    "    tokens = nltk.word_tokenize(review)\n",
    "    stopwords_removed = [token.lower() for token in tokens if token.lower() not in sw_set]\n",
    "    return stopwords_removed"
   ]
  },
  {
   "cell_type": "code",
   "execution_count": 35,
   "metadata": {},
   "outputs": [],
   "source": [
    "#stemming\n",
    "from nltk.stem import PorterStemmer\n",
    "ps = PorterStemmer()\n",
    "def stemming(review):\n",
    "    stemmed_review = []\n",
    "    for w in review:\n",
    "        stemmed_review.append(ps.stem(w))\n",
    "    return stemmed_review "
   ]
  },
  {
   "cell_type": "code",
   "execution_count": 36,
   "metadata": {},
   "outputs": [
    {
     "name": "stderr",
     "output_type": "stream",
     "text": [
      "[nltk_data] Downloading package wordnet to\n",
      "[nltk_data]     C:\\Users\\shyla\\AppData\\Roaming\\nltk_data...\n",
      "[nltk_data]   Package wordnet is already up-to-date!\n",
      "[nltk_data] Downloading package punkt to\n",
      "[nltk_data]     C:\\Users\\shyla\\AppData\\Roaming\\nltk_data...\n",
      "[nltk_data]   Package punkt is already up-to-date!\n"
     ]
    }
   ],
   "source": [
    "# import libraries\n",
    "from nltk.stem.wordnet import WordNetLemmatizer\n",
    "nltk.download('wordnet')\n",
    "nltk.download('punkt')\n",
    "lemmatizer = WordNetLemmatizer()"
   ]
  },
  {
   "cell_type": "code",
   "execution_count": 37,
   "metadata": {},
   "outputs": [],
   "source": [
    "#lemmatixation\n",
    "#pos = v is verb of that word\n",
    "def lemmatization(review):\n",
    "    lemma_list=[]\n",
    "    for word in review:\n",
    "        lemma_word=lemmatizer.lemmatize(word,pos='v') \n",
    "        lemma_list.append(lemma_word)\n",
    "    return lemma_list"
   ]
  },
  {
   "cell_type": "code",
   "execution_count": 38,
   "metadata": {},
   "outputs": [
    {
     "name": "stdout",
     "output_type": "stream",
     "text": [
      "Current Time = 2021-09-27 19:40:58.456497\n"
     ]
    }
   ],
   "source": [
    "from datetime import datetime\n",
    "\n",
    "now = datetime.now()\n",
    "\n",
    "print(\"Current Time =\", now)"
   ]
  },
  {
   "cell_type": "code",
   "execution_count": 39,
   "metadata": {},
   "outputs": [],
   "source": [
    "#obtaining cleaned text data\n",
    "def data_preprocessing(review):\n",
    "    #tokenization, stop words removal, punctuation marks removel\n",
    "    now = datetime.now();\n",
    "    t_starttime = now.strftime(\"%H:%M:%S\")\n",
    "    print(\"start Time tokenization=\", t_starttime)\n",
    "    processed_review=list(map(process_review,review))\n",
    "    now = datetime.now()\n",
    "    t_stoptime = now.strftime(\"%H:%M:%S\")\n",
    "    print(\"stop Time tokenization=\", t_stoptime)\n",
    "    # stemming\n",
    "    now = datetime.now()\n",
    "    l_starttime = now.strftime(\"%H:%M:%S\")\n",
    "    print(\"start Time stemming=\", l_starttime)\n",
    "    stemming_reviews=list(map(stemming,processed_review))\n",
    "    now = datetime.now()\n",
    "    l_stoptime = now.strftime(\"%H:%M:%S\")\n",
    "    print(\"stop Time stemming=\", l_stoptime)\n",
    "    # lemmatization\n",
    "    now = datetime.now()\n",
    "    s_starttime = now.strftime(\"%H:%M:%S\")\n",
    "    print(\"start Time lemmatization=\", s_starttime)\n",
    "    lemma_reviews=list(map(lemmatization,stemming_reviews))\n",
    "    now = datetime.now()\n",
    "    s_stoptime = now.strftime(\"%H:%M:%S\")\n",
    "    print(\"stop Time lemmatization=\", s_stoptime)\n",
    "    #print(lemma_reviews)\n",
    "    return lemma_reviews"
   ]
  },
  {
   "cell_type": "code",
   "execution_count": 40,
   "metadata": {},
   "outputs": [
    {
     "name": "stdout",
     "output_type": "stream",
     "text": [
      "start Time tokenization= 19:41:14\n",
      "stop Time tokenization= 19:45:13\n",
      "start Time stemming= 19:45:13\n",
      "stop Time stemming= 19:52:13\n",
      "start Time lemmatization= 19:52:13\n",
      "stop Time lemmatization= 19:53:21\n"
     ]
    }
   ],
   "source": [
    "cleaned_train_text=data_preprocessing(df_train['Text'])\n"
   ]
  },
  {
   "cell_type": "code",
   "execution_count": 41,
   "metadata": {},
   "outputs": [],
   "source": [
    "\n",
    "import pickle\n",
    "pickle_out1=open('cleaned_train_text', 'wb')\n",
    "pickle.dump(cleaned_train_text, pickle_out1)\n",
    "pickle_out1.close()"
   ]
  },
  {
   "cell_type": "code",
   "execution_count": 42,
   "metadata": {},
   "outputs": [],
   "source": [
    "import pickle\n",
    "pickle_in_train = open(\"cleaned_train_text\",\"rb\")\n",
    "cleaned_train_text = pickle.load(pickle_in_train)"
   ]
  },
  {
   "cell_type": "code",
   "execution_count": 43,
   "metadata": {},
   "outputs": [],
   "source": [
    "df_train['cleaned_text']=[\" \".join(i) for i in cleaned_train_text]"
   ]
  },
  {
   "cell_type": "code",
   "execution_count": 44,
   "metadata": {},
   "outputs": [
    {
     "data": {
      "text/html": [
       "<div>\n",
       "<style scoped>\n",
       "    .dataframe tbody tr th:only-of-type {\n",
       "        vertical-align: middle;\n",
       "    }\n",
       "\n",
       "    .dataframe tbody tr th {\n",
       "        vertical-align: top;\n",
       "    }\n",
       "\n",
       "    .dataframe thead th {\n",
       "        text-align: right;\n",
       "    }\n",
       "</style>\n",
       "<table border=\"1\" class=\"dataframe\">\n",
       "  <thead>\n",
       "    <tr style=\"text-align: right;\">\n",
       "      <th></th>\n",
       "      <th>ID</th>\n",
       "      <th>Gene</th>\n",
       "      <th>Variation</th>\n",
       "      <th>Class</th>\n",
       "      <th>Text</th>\n",
       "      <th>cleaned_text</th>\n",
       "    </tr>\n",
       "  </thead>\n",
       "  <tbody>\n",
       "    <tr>\n",
       "      <th>0</th>\n",
       "      <td>0</td>\n",
       "      <td>FAM58A</td>\n",
       "      <td>Truncating Mutations</td>\n",
       "      <td>1</td>\n",
       "      <td>Cyclin-dependent kinases (CDKs) regulate a var...</td>\n",
       "      <td>cyclin-depend kinas cdk regul varieti fundamen...</td>\n",
       "    </tr>\n",
       "    <tr>\n",
       "      <th>1</th>\n",
       "      <td>1</td>\n",
       "      <td>CBL</td>\n",
       "      <td>W802*</td>\n",
       "      <td>2</td>\n",
       "      <td>Abstract Background  Non-small cell lung canc...</td>\n",
       "      <td>abstract background non-smal cell lung cancer ...</td>\n",
       "    </tr>\n",
       "    <tr>\n",
       "      <th>2</th>\n",
       "      <td>2</td>\n",
       "      <td>CBL</td>\n",
       "      <td>Q249E</td>\n",
       "      <td>2</td>\n",
       "      <td>Abstract Background  Non-small cell lung canc...</td>\n",
       "      <td>abstract background non-smal cell lung cancer ...</td>\n",
       "    </tr>\n",
       "    <tr>\n",
       "      <th>3</th>\n",
       "      <td>3</td>\n",
       "      <td>CBL</td>\n",
       "      <td>N454D</td>\n",
       "      <td>3</td>\n",
       "      <td>Recent evidence has demonstrated that acquired...</td>\n",
       "      <td>recent evid demonstr acquir uniparent disomi a...</td>\n",
       "    </tr>\n",
       "    <tr>\n",
       "      <th>4</th>\n",
       "      <td>4</td>\n",
       "      <td>CBL</td>\n",
       "      <td>L399V</td>\n",
       "      <td>4</td>\n",
       "      <td>Oncogenic mutations in the monomeric Casitas B...</td>\n",
       "      <td>oncogen mutat monomer casita b-lineag lymphoma...</td>\n",
       "    </tr>\n",
       "    <tr>\n",
       "      <th>...</th>\n",
       "      <td>...</td>\n",
       "      <td>...</td>\n",
       "      <td>...</td>\n",
       "      <td>...</td>\n",
       "      <td>...</td>\n",
       "      <td>...</td>\n",
       "    </tr>\n",
       "    <tr>\n",
       "      <th>3316</th>\n",
       "      <td>3316</td>\n",
       "      <td>RUNX1</td>\n",
       "      <td>D171N</td>\n",
       "      <td>4</td>\n",
       "      <td>Introduction  Myelodysplastic syndromes (MDS) ...</td>\n",
       "      <td>introduct myelodysplast syndrom md heterogen g...</td>\n",
       "    </tr>\n",
       "    <tr>\n",
       "      <th>3317</th>\n",
       "      <td>3317</td>\n",
       "      <td>RUNX1</td>\n",
       "      <td>A122*</td>\n",
       "      <td>1</td>\n",
       "      <td>Introduction  Myelodysplastic syndromes (MDS) ...</td>\n",
       "      <td>introduct myelodysplast syndrom md heterogen g...</td>\n",
       "    </tr>\n",
       "    <tr>\n",
       "      <th>3318</th>\n",
       "      <td>3318</td>\n",
       "      <td>RUNX1</td>\n",
       "      <td>Fusions</td>\n",
       "      <td>1</td>\n",
       "      <td>The Runt-related transcription factor 1 gene (...</td>\n",
       "      <td>runt-rel transcript factor 1 gene runx1 alias ...</td>\n",
       "    </tr>\n",
       "    <tr>\n",
       "      <th>3319</th>\n",
       "      <td>3319</td>\n",
       "      <td>RUNX1</td>\n",
       "      <td>R80C</td>\n",
       "      <td>4</td>\n",
       "      <td>The RUNX1/AML1 gene is the most frequent targe...</td>\n",
       "      <td>runx1/aml1 gene frequent target chromosom tran...</td>\n",
       "    </tr>\n",
       "    <tr>\n",
       "      <th>3320</th>\n",
       "      <td>3320</td>\n",
       "      <td>RUNX1</td>\n",
       "      <td>K83E</td>\n",
       "      <td>4</td>\n",
       "      <td>The most frequent mutations associated with le...</td>\n",
       "      <td>frequent mutat associ leukemia recurr somat ch...</td>\n",
       "    </tr>\n",
       "  </tbody>\n",
       "</table>\n",
       "<p>3316 rows × 6 columns</p>\n",
       "</div>"
      ],
      "text/plain": [
       "        ID    Gene             Variation  Class  \\\n",
       "0        0  FAM58A  Truncating Mutations      1   \n",
       "1        1     CBL                 W802*      2   \n",
       "2        2     CBL                 Q249E      2   \n",
       "3        3     CBL                 N454D      3   \n",
       "4        4     CBL                 L399V      4   \n",
       "...    ...     ...                   ...    ...   \n",
       "3316  3316   RUNX1                 D171N      4   \n",
       "3317  3317   RUNX1                 A122*      1   \n",
       "3318  3318   RUNX1               Fusions      1   \n",
       "3319  3319   RUNX1                  R80C      4   \n",
       "3320  3320   RUNX1                  K83E      4   \n",
       "\n",
       "                                                   Text  \\\n",
       "0     Cyclin-dependent kinases (CDKs) regulate a var...   \n",
       "1      Abstract Background  Non-small cell lung canc...   \n",
       "2      Abstract Background  Non-small cell lung canc...   \n",
       "3     Recent evidence has demonstrated that acquired...   \n",
       "4     Oncogenic mutations in the monomeric Casitas B...   \n",
       "...                                                 ...   \n",
       "3316  Introduction  Myelodysplastic syndromes (MDS) ...   \n",
       "3317  Introduction  Myelodysplastic syndromes (MDS) ...   \n",
       "3318  The Runt-related transcription factor 1 gene (...   \n",
       "3319  The RUNX1/AML1 gene is the most frequent targe...   \n",
       "3320  The most frequent mutations associated with le...   \n",
       "\n",
       "                                           cleaned_text  \n",
       "0     cyclin-depend kinas cdk regul varieti fundamen...  \n",
       "1     abstract background non-smal cell lung cancer ...  \n",
       "2     abstract background non-smal cell lung cancer ...  \n",
       "3     recent evid demonstr acquir uniparent disomi a...  \n",
       "4     oncogen mutat monomer casita b-lineag lymphoma...  \n",
       "...                                                 ...  \n",
       "3316  introduct myelodysplast syndrom md heterogen g...  \n",
       "3317  introduct myelodysplast syndrom md heterogen g...  \n",
       "3318  runt-rel transcript factor 1 gene runx1 alias ...  \n",
       "3319  runx1/aml1 gene frequent target chromosom tran...  \n",
       "3320  frequent mutat associ leukemia recurr somat ch...  \n",
       "\n",
       "[3316 rows x 6 columns]"
      ]
     },
     "execution_count": 44,
     "metadata": {},
     "output_type": "execute_result"
    }
   ],
   "source": [
    "df_train"
   ]
  },
  {
   "cell_type": "code",
   "execution_count": 45,
   "metadata": {},
   "outputs": [],
   "source": [
    "#declare inputs and target\n",
    "inputs=df_train[['ID', 'Gene', 'Variation','cleaned_text']]\n",
    "target=df_train.Class"
   ]
  },
  {
   "cell_type": "code",
   "execution_count": 46,
   "metadata": {},
   "outputs": [
    {
     "data": {
      "text/html": [
       "<div>\n",
       "<style scoped>\n",
       "    .dataframe tbody tr th:only-of-type {\n",
       "        vertical-align: middle;\n",
       "    }\n",
       "\n",
       "    .dataframe tbody tr th {\n",
       "        vertical-align: top;\n",
       "    }\n",
       "\n",
       "    .dataframe thead th {\n",
       "        text-align: right;\n",
       "    }\n",
       "</style>\n",
       "<table border=\"1\" class=\"dataframe\">\n",
       "  <thead>\n",
       "    <tr style=\"text-align: right;\">\n",
       "      <th></th>\n",
       "      <th>ID</th>\n",
       "      <th>Gene</th>\n",
       "      <th>Variation</th>\n",
       "      <th>cleaned_text</th>\n",
       "    </tr>\n",
       "  </thead>\n",
       "  <tbody>\n",
       "    <tr>\n",
       "      <th>0</th>\n",
       "      <td>0</td>\n",
       "      <td>FAM58A</td>\n",
       "      <td>Truncating Mutations</td>\n",
       "      <td>cyclin-depend kinas cdk regul varieti fundamen...</td>\n",
       "    </tr>\n",
       "    <tr>\n",
       "      <th>1</th>\n",
       "      <td>1</td>\n",
       "      <td>CBL</td>\n",
       "      <td>W802*</td>\n",
       "      <td>abstract background non-smal cell lung cancer ...</td>\n",
       "    </tr>\n",
       "    <tr>\n",
       "      <th>2</th>\n",
       "      <td>2</td>\n",
       "      <td>CBL</td>\n",
       "      <td>Q249E</td>\n",
       "      <td>abstract background non-smal cell lung cancer ...</td>\n",
       "    </tr>\n",
       "    <tr>\n",
       "      <th>3</th>\n",
       "      <td>3</td>\n",
       "      <td>CBL</td>\n",
       "      <td>N454D</td>\n",
       "      <td>recent evid demonstr acquir uniparent disomi a...</td>\n",
       "    </tr>\n",
       "    <tr>\n",
       "      <th>4</th>\n",
       "      <td>4</td>\n",
       "      <td>CBL</td>\n",
       "      <td>L399V</td>\n",
       "      <td>oncogen mutat monomer casita b-lineag lymphoma...</td>\n",
       "    </tr>\n",
       "    <tr>\n",
       "      <th>...</th>\n",
       "      <td>...</td>\n",
       "      <td>...</td>\n",
       "      <td>...</td>\n",
       "      <td>...</td>\n",
       "    </tr>\n",
       "    <tr>\n",
       "      <th>3316</th>\n",
       "      <td>3316</td>\n",
       "      <td>RUNX1</td>\n",
       "      <td>D171N</td>\n",
       "      <td>introduct myelodysplast syndrom md heterogen g...</td>\n",
       "    </tr>\n",
       "    <tr>\n",
       "      <th>3317</th>\n",
       "      <td>3317</td>\n",
       "      <td>RUNX1</td>\n",
       "      <td>A122*</td>\n",
       "      <td>introduct myelodysplast syndrom md heterogen g...</td>\n",
       "    </tr>\n",
       "    <tr>\n",
       "      <th>3318</th>\n",
       "      <td>3318</td>\n",
       "      <td>RUNX1</td>\n",
       "      <td>Fusions</td>\n",
       "      <td>runt-rel transcript factor 1 gene runx1 alias ...</td>\n",
       "    </tr>\n",
       "    <tr>\n",
       "      <th>3319</th>\n",
       "      <td>3319</td>\n",
       "      <td>RUNX1</td>\n",
       "      <td>R80C</td>\n",
       "      <td>runx1/aml1 gene frequent target chromosom tran...</td>\n",
       "    </tr>\n",
       "    <tr>\n",
       "      <th>3320</th>\n",
       "      <td>3320</td>\n",
       "      <td>RUNX1</td>\n",
       "      <td>K83E</td>\n",
       "      <td>frequent mutat associ leukemia recurr somat ch...</td>\n",
       "    </tr>\n",
       "  </tbody>\n",
       "</table>\n",
       "<p>3316 rows × 4 columns</p>\n",
       "</div>"
      ],
      "text/plain": [
       "        ID    Gene             Variation  \\\n",
       "0        0  FAM58A  Truncating Mutations   \n",
       "1        1     CBL                 W802*   \n",
       "2        2     CBL                 Q249E   \n",
       "3        3     CBL                 N454D   \n",
       "4        4     CBL                 L399V   \n",
       "...    ...     ...                   ...   \n",
       "3316  3316   RUNX1                 D171N   \n",
       "3317  3317   RUNX1                 A122*   \n",
       "3318  3318   RUNX1               Fusions   \n",
       "3319  3319   RUNX1                  R80C   \n",
       "3320  3320   RUNX1                  K83E   \n",
       "\n",
       "                                           cleaned_text  \n",
       "0     cyclin-depend kinas cdk regul varieti fundamen...  \n",
       "1     abstract background non-smal cell lung cancer ...  \n",
       "2     abstract background non-smal cell lung cancer ...  \n",
       "3     recent evid demonstr acquir uniparent disomi a...  \n",
       "4     oncogen mutat monomer casita b-lineag lymphoma...  \n",
       "...                                                 ...  \n",
       "3316  introduct myelodysplast syndrom md heterogen g...  \n",
       "3317  introduct myelodysplast syndrom md heterogen g...  \n",
       "3318  runt-rel transcript factor 1 gene runx1 alias ...  \n",
       "3319  runx1/aml1 gene frequent target chromosom tran...  \n",
       "3320  frequent mutat associ leukemia recurr somat ch...  \n",
       "\n",
       "[3316 rows x 4 columns]"
      ]
     },
     "execution_count": 46,
     "metadata": {},
     "output_type": "execute_result"
    }
   ],
   "source": [
    "inputs"
   ]
  },
  {
   "cell_type": "code",
   "execution_count": 47,
   "metadata": {},
   "outputs": [
    {
     "data": {
      "text/plain": [
       "0       1\n",
       "1       2\n",
       "2       2\n",
       "3       3\n",
       "4       4\n",
       "       ..\n",
       "3316    4\n",
       "3317    1\n",
       "3318    1\n",
       "3319    4\n",
       "3320    4\n",
       "Name: Class, Length: 3316, dtype: int64"
      ]
     },
     "execution_count": 47,
     "metadata": {},
     "output_type": "execute_result"
    }
   ],
   "source": [
    "target\n"
   ]
  },
  {
   "cell_type": "code",
   "execution_count": 48,
   "metadata": {},
   "outputs": [],
   "source": [
    "#train test split dataset\n",
    "from sklearn.model_selection import train_test_split\n",
    "\n",
    "x_train, x_test, y_train, y_test = train_test_split(inputs, target, test_size=.2, random_state=0)"
   ]
  },
  {
   "cell_type": "code",
   "execution_count": 49,
   "metadata": {},
   "outputs": [
    {
     "data": {
      "text/plain": [
       "2979    thymoma thymic carcinoma rare intrathorac mali...\n",
       "1184    pi3k/pten/akt signal pathway pathway involv ce...\n",
       "2411    recent mutat foxl2 gene consist identifi adult...\n",
       "2994    gastrointestin stromal tumor gist often associ...\n",
       "2690    noonan syndrom character short statur facial d...\n",
       "                              ...                        \n",
       "835     xeroderma pigmentosum xp complement group f fi...\n",
       "3269    oncogen fusion ret rearrang transfect gene rec...\n",
       "1657    flt3 receptor tyrosin kinas constitut activ in...\n",
       "2611    abstract germlin mutat inactiv tumor suppresso...\n",
       "2736    select inhibit protein tyrosin kinas gain impo...\n",
       "Name: cleaned_text, Length: 2652, dtype: object"
      ]
     },
     "execution_count": 49,
     "metadata": {},
     "output_type": "execute_result"
    }
   ],
   "source": [
    "x_train.cleaned_text"
   ]
  },
  {
   "cell_type": "code",
   "execution_count": 50,
   "metadata": {},
   "outputs": [
    {
     "data": {
      "text/html": [
       "<div>\n",
       "<style scoped>\n",
       "    .dataframe tbody tr th:only-of-type {\n",
       "        vertical-align: middle;\n",
       "    }\n",
       "\n",
       "    .dataframe tbody tr th {\n",
       "        vertical-align: top;\n",
       "    }\n",
       "\n",
       "    .dataframe thead th {\n",
       "        text-align: right;\n",
       "    }\n",
       "</style>\n",
       "<table border=\"1\" class=\"dataframe\">\n",
       "  <thead>\n",
       "    <tr style=\"text-align: right;\">\n",
       "      <th></th>\n",
       "      <th>ID</th>\n",
       "      <th>Gene</th>\n",
       "      <th>Variation</th>\n",
       "      <th>cleaned_text</th>\n",
       "    </tr>\n",
       "  </thead>\n",
       "  <tbody>\n",
       "    <tr>\n",
       "      <th>453</th>\n",
       "      <td>453</td>\n",
       "      <td>TP53</td>\n",
       "      <td>H168R</td>\n",
       "      <td>tumor suppressor protein p53 act transcript fa...</td>\n",
       "    </tr>\n",
       "    <tr>\n",
       "      <th>1541</th>\n",
       "      <td>1541</td>\n",
       "      <td>ALK</td>\n",
       "      <td>L1198F</td>\n",
       "      <td>era person medicin understand molecular driver...</td>\n",
       "    </tr>\n",
       "    <tr>\n",
       "      <th>2615</th>\n",
       "      <td>2615</td>\n",
       "      <td>BRCA1</td>\n",
       "      <td>T47D</td>\n",
       "      <td>brca1 accumul nuclear foci s-phase reassembl d...</td>\n",
       "    </tr>\n",
       "    <tr>\n",
       "      <th>628</th>\n",
       "      <td>628</td>\n",
       "      <td>FBXW7</td>\n",
       "      <td>R505L</td>\n",
       "      <td>î³-secretas inhibitor gsi block notch receptor...</td>\n",
       "    </tr>\n",
       "    <tr>\n",
       "      <th>482</th>\n",
       "      <td>482</td>\n",
       "      <td>TP53</td>\n",
       "      <td>G334R</td>\n",
       "      <td>abstract purpos adrenocort carcinoma acc rare ...</td>\n",
       "    </tr>\n",
       "    <tr>\n",
       "      <th>...</th>\n",
       "      <td>...</td>\n",
       "      <td>...</td>\n",
       "      <td>...</td>\n",
       "      <td>...</td>\n",
       "    </tr>\n",
       "    <tr>\n",
       "      <th>53</th>\n",
       "      <td>53</td>\n",
       "      <td>PTPRT</td>\n",
       "      <td>N510K</td>\n",
       "      <td>receptor protein tyrosin phosphatas ptprt/ptpï...</td>\n",
       "    </tr>\n",
       "    <tr>\n",
       "      <th>1490</th>\n",
       "      <td>1490</td>\n",
       "      <td>FGFR2</td>\n",
       "      <td>FGFR2-FAM76A Fusion</td>\n",
       "      <td>retrospect studi demonstr nearli 50 patient ov...</td>\n",
       "    </tr>\n",
       "    <tr>\n",
       "      <th>2966</th>\n",
       "      <td>2966</td>\n",
       "      <td>KIT</td>\n",
       "      <td>I563_L576del</td>\n",
       "      <td>gastrointestin stromal tumor gist activ mutat ...</td>\n",
       "    </tr>\n",
       "    <tr>\n",
       "      <th>2920</th>\n",
       "      <td>2920</td>\n",
       "      <td>NFE2L2</td>\n",
       "      <td>T80K</td>\n",
       "      <td>strategi propos chemoprevent degen diseas canc...</td>\n",
       "    </tr>\n",
       "    <tr>\n",
       "      <th>1044</th>\n",
       "      <td>1044</td>\n",
       "      <td>TSC2</td>\n",
       "      <td>C696Y</td>\n",
       "      <td>tuber sclerosi tsc autosom domin disord caus i...</td>\n",
       "    </tr>\n",
       "  </tbody>\n",
       "</table>\n",
       "<p>664 rows × 4 columns</p>\n",
       "</div>"
      ],
      "text/plain": [
       "        ID    Gene            Variation  \\\n",
       "453    453    TP53                H168R   \n",
       "1541  1541     ALK               L1198F   \n",
       "2615  2615   BRCA1                 T47D   \n",
       "628    628   FBXW7                R505L   \n",
       "482    482    TP53                G334R   \n",
       "...    ...     ...                  ...   \n",
       "53      53   PTPRT                N510K   \n",
       "1490  1490   FGFR2  FGFR2-FAM76A Fusion   \n",
       "2966  2966     KIT         I563_L576del   \n",
       "2920  2920  NFE2L2                 T80K   \n",
       "1044  1044    TSC2                C696Y   \n",
       "\n",
       "                                           cleaned_text  \n",
       "453   tumor suppressor protein p53 act transcript fa...  \n",
       "1541  era person medicin understand molecular driver...  \n",
       "2615  brca1 accumul nuclear foci s-phase reassembl d...  \n",
       "628   î³-secretas inhibitor gsi block notch receptor...  \n",
       "482   abstract purpos adrenocort carcinoma acc rare ...  \n",
       "...                                                 ...  \n",
       "53    receptor protein tyrosin phosphatas ptprt/ptpï...  \n",
       "1490  retrospect studi demonstr nearli 50 patient ov...  \n",
       "2966  gastrointestin stromal tumor gist activ mutat ...  \n",
       "2920  strategi propos chemoprevent degen diseas canc...  \n",
       "1044  tuber sclerosi tsc autosom domin disord caus i...  \n",
       "\n",
       "[664 rows x 4 columns]"
      ]
     },
     "execution_count": 50,
     "metadata": {},
     "output_type": "execute_result"
    }
   ],
   "source": [
    "x_test"
   ]
  },
  {
   "cell_type": "code",
   "execution_count": 51,
   "metadata": {},
   "outputs": [],
   "source": [
    "from sklearn.feature_extraction.text import CountVectorizer"
   ]
  },
  {
   "cell_type": "code",
   "execution_count": 52,
   "metadata": {},
   "outputs": [],
   "source": [
    "def vectorizer(train,test):\n",
    "    vectorizer=CountVectorizer()\n",
    "    new_train=vectorizer.fit_transform(train)\n",
    "    new_test=vectorizer.transform(test)\n",
    "    return new_train,new_test"
   ]
  },
  {
   "cell_type": "code",
   "execution_count": 53,
   "metadata": {},
   "outputs": [],
   "source": [
    "#vectorization\n",
    "gene_train,gene_test=vectorizer(x_train.Gene,x_test.Gene)\n",
    "variation_train,variation_test=vectorizer(x_train.Variation,x_test.Variation)\n",
    "cleaned_text_train,cleaned_text_test=vectorizer(x_train.cleaned_text,x_test.cleaned_text)"
   ]
  },
  {
   "cell_type": "code",
   "execution_count": 50,
   "metadata": {},
   "outputs": [],
   "source": [
    "pickle_out2 = open('gene_train', 'wb')\n",
    "pickle.dump(gene_train, pickle_out2)\n",
    "pickle_out2.close()"
   ]
  },
  {
   "cell_type": "code",
   "execution_count": 54,
   "metadata": {},
   "outputs": [],
   "source": [
    "import gensim"
   ]
  },
  {
   "cell_type": "code",
   "execution_count": 55,
   "metadata": {},
   "outputs": [],
   "source": [
    "# Word2Vec related libraries\n",
    "from gensim.models import KeyedVectors"
   ]
  },
  {
   "cell_type": "code",
   "execution_count": 56,
   "metadata": {},
   "outputs": [],
   "source": [
    "model = KeyedVectors.load_word2vec_format ('GoogleNews-vectors-negative300.bin', binary=True)"
   ]
  },
  {
   "cell_type": "code",
   "execution_count": 57,
   "metadata": {},
   "outputs": [
    {
     "data": {
      "text/plain": [
       "[('mutations', 0.8541922569274902),\n",
       " ('genetic_mutation', 0.824504554271698),\n",
       " ('mutated_gene', 0.7879970669746399),\n",
       " ('gene_mutation', 0.7823827862739563),\n",
       " ('genetic_mutations', 0.7393667101860046),\n",
       " ('gene', 0.7343353033065796),\n",
       " ('gene_mutations', 0.72752445936203),\n",
       " ('genetic_variant', 0.7182294130325317),\n",
       " ('alleles', 0.7164379954338074),\n",
       " ('mutant_gene', 0.7144375443458557)]"
      ]
     },
     "execution_count": 57,
     "metadata": {},
     "output_type": "execute_result"
    }
   ],
   "source": [
    "model.similar_by_word('mutation')"
   ]
  },
  {
   "cell_type": "code",
   "execution_count": 58,
   "metadata": {},
   "outputs": [],
   "source": [
    "def get_average_vector(text):\n",
    "    tokens = [w.lower() for w in word_tokenize(text) if w.lower() not in sw_set]\n",
    "    return np.mean(np.array([model[w] for w in tokens if w in model]), axis=0)\n",
    "\n"
   ]
  },
  {
   "cell_type": "code",
   "execution_count": 59,
   "metadata": {},
   "outputs": [],
   "source": [
    "from nltk.tokenize import word_tokenize\n",
    "from nltk.corpus import stopwords"
   ]
  },
  {
   "cell_type": "code",
   "execution_count": 85,
   "metadata": {},
   "outputs": [
    {
     "data": {
      "text/plain": [
       "[('0_&&', 0.7663634419441223),\n",
       " ('i_####.##_subds', 0.7424254417419434),\n",
       " ('=_strlen', 0.7416331768035889),\n",
       " ('host_=_document.location.host', 0.7358684539794922),\n",
       " ('love_veronica_Mars', 0.7275804877281189),\n",
       " ('P._###a', 0.7251785397529602),\n",
       " ('By_Yoo_Cheong', 0.7224189043045044),\n",
       " ('DIRECTORS_OF_CAPITAL_CORP.', 0.7167680859565735),\n",
       " ('pY_@_q', 0.7151070237159729),\n",
       " ('CNA_fa', 0.7144803404808044)]"
      ]
     },
     "execution_count": 85,
     "metadata": {},
     "output_type": "execute_result"
    }
   ],
   "source": [
    "model.similar_by_vector(get_average_vector(x_train.loc[3,'cleaned_text']))"
   ]
  },
  {
   "cell_type": "code",
   "execution_count": 70,
   "metadata": {},
   "outputs": [
    {
     "data": {
      "text/plain": [
       "[('mutations', 0.8183542490005493),\n",
       " ('mutation', 0.7133288979530334),\n",
       " ('genetic_mutations', 0.6473133563995361),\n",
       " ('mutant_alleles', 0.6360776424407959),\n",
       " ('truncating', 0.6239595413208008),\n",
       " ('gene_mutations', 0.6219684481620789),\n",
       " ('deleterious_mutations', 0.6211935877799988),\n",
       " ('missense_mutations', 0.6196743249893188),\n",
       " ('alleles', 0.6160933375358582),\n",
       " ('mutational', 0.6154875755310059)]"
      ]
     },
     "execution_count": 70,
     "metadata": {},
     "output_type": "execute_result"
    }
   ],
   "source": [
    "model.similar_by_vector(get_average_vector(x_train.loc[0,'Variation']))"
   ]
  },
  {
   "cell_type": "code",
   "execution_count": 86,
   "metadata": {},
   "outputs": [],
   "source": [
    "# Naive Bayes Classifier\n",
    "from sklearn.naive_bayes import MultinomialNB\n",
    "from sklearn.metrics import mean_squared_error, accuracy_score, f1_score,make_scorer\n",
    "from sklearn.metrics import confusion_matrix\n",
    "from sklearn.model_selection import GridSearchCV\n",
    "f1 = make_scorer(f1_score , average='weighted')\n",
    "\n",
    "def NB_GridSearch(X_train, y_train):\n",
    "    grid_params = {'alpha':[0.1,0.2,0.3,0.4,0.5],\n",
    "                     'fit_prior': [True, False],  }\n",
    "    \n",
    "    gs = GridSearchCV( MultinomialNB(), grid_params,scoring=f1, cv=10)\n",
    "    gs.fit(X_train, y_train)\n",
    "    print(\"Best Score: \", gs.best_score_)\n",
    "    print(\"Best Alpha: \", gs.best_params_)\n",
    "\n",
    "    return gs.best_params_.values()"
   ]
  },
  {
   "cell_type": "code",
   "execution_count": 87,
   "metadata": {},
   "outputs": [],
   "source": [
    "def NaiveBayes(X_train,y_train,X_test,y_test,alpha,fit_prior):    \n",
    "    # fit the training dataset on the NB classifier\n",
    "    Naive = MultinomialNB(alpha=0.1, fit_prior= True)\n",
    "    Naive.fit(X_train,y_train)\n",
    "    #prediction\n",
    "    nb_train_pre=Naive.predict(X_train)\n",
    "    nb_test_pre=Naive.predict(X_test)\n",
    "    # Use accuracy_score function to get the accuracy\n",
    "    print(\"Naive Bayes Train Accuracy Score :\",accuracy_score(nb_train_pre, y_train))\n",
    "    print(\"Naive Bayes Test Accuracy Score :\",accuracy_score(nb_test_pre, y_test))\n",
    "    # calculate f1 scores for test data and train data \n",
    "    nb_f1_score_test=f1_score(y_test,nb_test_pre,average='weighted')\n",
    "    nb_f1_score_train=f1_score(y_train,nb_train_pre,average='weighted')\n",
    "    print(\"Train data f1 score:{}\".format(nb_f1_score_train))\n",
    "    print(\"Test data f1 score:{}\".format(nb_f1_score_test ))\n",
    "    print(\"confusion_matrix:{}\".format(confusion_matrix(y_test, nb_test_pre)))\n",
    "    print('==================================================================')\n",
    "    return nb_train_pre,nb_test_pre"
   ]
  },
  {
   "cell_type": "code",
   "execution_count": 88,
   "metadata": {},
   "outputs": [
    {
     "name": "stdout",
     "output_type": "stream",
     "text": [
      "Best Score:  0.5257189690239124\n",
      "Best Alpha:  {'alpha': 0.1, 'fit_prior': True}\n",
      "Best Score:  0.2436653537728664\n",
      "Best Alpha:  {'alpha': 0.1, 'fit_prior': True}\n",
      "Best Score:  0.5972082893090115\n",
      "Best Alpha:  {'alpha': 0.2, 'fit_prior': False}\n"
     ]
    }
   ],
   "source": [
    "# to get best score and best alpha\n",
    "alpha1,fit_prior1=NB_GridSearch(gene_train, y_train)\n",
    "alpha2,fit_prior2=NB_GridSearch(variation_train, y_train)\n",
    "alpha3,fit_prior3=NB_GridSearch(cleaned_text_train, y_train)"
   ]
  },
  {
   "cell_type": "code",
   "execution_count": 89,
   "metadata": {},
   "outputs": [
    {
     "name": "stdout",
     "output_type": "stream",
     "text": [
      "Naive Bayes Train Accuracy Score : 0.6202865761689291\n",
      "Naive Bayes Test Accuracy Score : 0.5557228915662651\n",
      "Train data f1 score:0.5938716716513411\n",
      "Test data f1 score:0.5209114787901074\n",
      "confusion_matrix:[[ 48   1   0  22  12   6  11   0   0]\n",
      " [  1  19   0   5   0   1  71   0   0]\n",
      " [  2   0   0   6   3   0  14   0   0]\n",
      " [ 30   0   0  95  15   5  10   0   0]\n",
      " [  5   0   0   4  24   6  12   0   0]\n",
      " [  4   1   0   2  11  15  16   0   0]\n",
      " [  1   8   0   4   0   0 162   0   1]\n",
      " [  0   1   0   0   1   0   0   2   1]\n",
      " [  0   0   0   0   1   0   1   0   4]]\n",
      "==================================================================\n",
      "Naive Bayes Train Accuracy Score : 0.9739819004524887\n",
      "Naive Bayes Test Accuracy Score : 0.3313253012048193\n",
      "Train data f1 score:0.9726511929998076\n",
      "Test data f1 score:0.22919963137169627\n",
      "confusion_matrix:[[ 28   0   0   0   0   0  72   0   0]\n",
      " [  1  18   0   0   0   0  78   0   0]\n",
      " [  0   0   0   0   0   0  25   0   0]\n",
      " [  5   0   0   2   0   0 148   0   0]\n",
      " [  0   0   0   1   0   0  50   0   0]\n",
      " [  2   0   0   0   0   0  47   0   0]\n",
      " [  1   3   0   0   0   0 172   0   0]\n",
      " [  0   0   0   1   0   0   4   0   0]\n",
      " [  0   0   0   0   0   0   6   0   0]]\n",
      "==================================================================\n",
      "Naive Bayes Train Accuracy Score : 0.7620663650075414\n",
      "Naive Bayes Test Accuracy Score : 0.5978915662650602\n",
      "Train data f1 score:0.7685551220002538\n",
      "Test data f1 score:0.6047243101358636\n",
      "confusion_matrix:[[ 63   3   1   8  14   6   4   0   1]\n",
      " [  1  55   0   1   2   2  34   2   0]\n",
      " [  3   0  15   1   2   1   3   0   0]\n",
      " [ 40   1   6  84  15   3   4   0   2]\n",
      " [  7   1   3   5  24   3   7   0   1]\n",
      " [  4   5   1   0   6  30   3   0   0]\n",
      " [  5  37  10   1   2   0 119   2   0]\n",
      " [  1   0   0   0   0   0   0   2   2]\n",
      " [  0   0   0   0   0   0   0   1   5]]\n",
      "==================================================================\n"
     ]
    }
   ],
   "source": [
    "# results\n",
    "nb_train_pre1,nb_test_pre1=NaiveBayes(gene_train,y_train,gene_test,y_test,alpha1,fit_prior1)\n",
    "nb_train_pre2,nb_test_pre2=NaiveBayes(variation_train,y_train,variation_test,y_test,alpha1,fit_prior1)\n",
    "nb_train_pre3,nb_test_pre3=NaiveBayes(cleaned_text_train,y_train,cleaned_text_test,y_test,alpha1,fit_prior1)"
   ]
  },
  {
   "cell_type": "code",
   "execution_count": 90,
   "metadata": {},
   "outputs": [],
   "source": [
    "#import Logistic Regression\n",
    "from sklearn.linear_model import LogisticRegression\n",
    "\n",
    "def Logistic_Regression(X_train, y_train,X_test, y_test):\n",
    "    log_re = LogisticRegression(max_iter=1000)\n",
    "    log_re.fit(X_train, y_train)\n",
    "    #calculate scores for test data and train data \n",
    "    test_data_score = log_re.score(X_test, y_test)\n",
    "    train_data_score = log_re.score(X_train, y_train)\n",
    "    print(\"Train data score:{}\".format(train_data_score ))\n",
    "    print(\"Test data score:{}\".format(test_data_score ))\n",
    "    # predict values for test data and train data\n",
    "    log_y_test_pre=log_re.predict(X_test)\n",
    "    log_y_train_pre=log_re.predict(X_train)\n",
    "    # calculate f1 scores for test data and train data \n",
    "    log_f1_score_test=f1_score(y_test,log_y_test_pre,average=\"weighted\")\n",
    "    log_f1_score_train=f1_score(y_train,log_y_train_pre,average=\"weighted\")\n",
    "\n",
    "    print(\"Train data f1 score:{}\".format(log_f1_score_train))\n",
    "    print(\"Test data f1 score:{}\".format(log_f1_score_test ))\n",
    "    print('=================================================================')\n",
    "    return log_y_train_pre,log_y_test_pre"
   ]
  },
  {
   "cell_type": "code",
   "execution_count": 91,
   "metadata": {},
   "outputs": [
    {
     "name": "stdout",
     "output_type": "stream",
     "text": [
      "Train data score:0.6142533936651584\n",
      "Test data score:0.552710843373494\n",
      "Train data f1 score:0.5850726064226811\n",
      "Test data f1 score:0.5151485394061638\n",
      "=================================================================\n",
      "Train data score:0.7861990950226244\n",
      "Test data score:0.3313253012048193\n",
      "Train data f1 score:0.7142818221087148\n",
      "Test data f1 score:0.22813058302122258\n",
      "=================================================================\n",
      "Train data score:0.8842383107088989\n",
      "Test data score:0.6475903614457831\n",
      "Train data f1 score:0.8838999627199686\n",
      "Test data f1 score:0.6460049568248708\n",
      "=================================================================\n"
     ]
    }
   ],
   "source": [
    "log_y_train_pre1,log_y_test_pre1=Logistic_Regression(gene_train, y_train,gene_test, y_test)\n",
    "log_y_train_pre2,log_y_test_pr2=Logistic_Regression(variation_train, y_train,variation_test, y_test)\n",
    "log_y_train_pre3,log_y_test_pre3=Logistic_Regression(cleaned_text_train, y_train,cleaned_text_test, y_test)"
   ]
  },
  {
   "cell_type": "code",
   "execution_count": null,
   "metadata": {},
   "outputs": [],
   "source": []
  }
 ],
 "metadata": {
  "kernelspec": {
   "display_name": "Python 3",
   "language": "python",
   "name": "python3"
  },
  "language_info": {
   "codemirror_mode": {
    "name": "ipython",
    "version": 3
   },
   "file_extension": ".py",
   "mimetype": "text/x-python",
   "name": "python",
   "nbconvert_exporter": "python",
   "pygments_lexer": "ipython3",
   "version": "3.7.8"
  }
 },
 "nbformat": 4,
 "nbformat_minor": 4
}
